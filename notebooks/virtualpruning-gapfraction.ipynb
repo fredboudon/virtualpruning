{
 "cells": [
  {
   "cell_type": "markdown",
   "metadata": {},
   "source": [
    "# Virtual Pruning"
   ]
  },
  {
   "cell_type": "markdown",
   "metadata": {},
   "source": [
    "## Importing the digitized structure"
   ]
  },
  {
   "cell_type": "code",
   "execution_count": 1,
   "metadata": {
    "ExecuteTime": {
     "end_time": "2022-06-02T12:33:31.068700Z",
     "start_time": "2022-06-02T12:33:30.095597Z"
    }
   },
   "outputs": [],
   "source": [
    "import numpy as np\n",
    "\n",
    "from importlib import reload\n",
    "\n",
    "import mangoG3; reload(mangoG3)\n",
    "from mangoG3 import *\n",
    "\n",
    "g = get_G3_mtg()"
   ]
  },
  {
   "cell_type": "code",
   "execution_count": 2,
   "metadata": {
    "ExecuteTime": {
     "end_time": "2022-06-02T12:33:32.072995Z",
     "start_time": "2022-06-02T12:33:31.476644Z"
    }
   },
   "outputs": [
    {
     "data": {
      "text/plain": [
       "<module 'mtgplot' from '/Users/fboudon/Develop/oagit/virtualpruning/notebooks/mtgplot.py'>"
      ]
     },
     "execution_count": 2,
     "metadata": {},
     "output_type": "execute_result"
    }
   ],
   "source": [
    "from matplotlib.pyplot import *\n",
    "import mtgplot as mp"
   ]
  },
  {
   "cell_type": "markdown",
   "metadata": {},
   "source": [
    "## Pruning procedure\n",
    "\n",
    "To select a pruning point, we start from terminal points, trace back into the structure up to 3 layers. We check if the pruning point is valid by looking the depth of what it carries. If it is in average close to what is intended we select it. Else we select another one.\n",
    "\n",
    "Point d'amélioration : tailler en fait au milieu de la n4."
   ]
  },
  {
   "cell_type": "code",
   "execution_count": 8,
   "metadata": {
    "ExecuteTime": {
     "end_time": "2022-06-02T12:34:03.191018Z",
     "start_time": "2022-06-02T12:34:03.184706Z"
    }
   },
   "outputs": [],
   "source": [
    "import pruning ; reload(pruning)\n",
    "from pruning import *"
   ]
  },
  {
   "cell_type": "markdown",
   "metadata": {},
   "source": [
    "## Estimation of gap fraction "
   ]
  },
  {
   "cell_type": "code",
   "execution_count": 22,
   "metadata": {
    "ExecuteTime": {
     "end_time": "2022-06-02T12:35:40.675732Z",
     "start_time": "2022-06-02T12:35:40.669082Z"
    }
   },
   "outputs": [],
   "source": [
    "import gapfraction; reload(gapfraction)\n",
    "from gapfraction import *"
   ]
  },
  {
   "cell_type": "code",
   "execution_count": null,
   "metadata": {
    "ExecuteTime": {
     "end_time": "2022-06-02T12:16:03.785788Z",
     "start_time": "2022-06-02T12:15:56.163997Z"
    }
   },
   "outputs": [],
   "source": [
    "img = generate(g, camheight=150, debug=True)\n",
    "imshow(img)"
   ]
  },
  {
   "cell_type": "code",
   "execution_count": null,
   "metadata": {
    "ExecuteTime": {
     "end_time": "2022-06-02T12:16:10.843063Z",
     "start_time": "2022-06-02T12:16:03.787325Z"
    }
   },
   "outputs": [],
   "source": [
    "gf = gap_fraction(g, camheight=120)\n",
    "print(gf)"
   ]
  },
  {
   "cell_type": "code",
   "execution_count": null,
   "metadata": {
    "ExecuteTime": {
     "end_time": "2022-06-02T12:16:11.387679Z",
     "start_time": "2022-06-02T12:16:10.844450Z"
    }
   },
   "outputs": [],
   "source": [
    "t3 = prune(g, 120)"
   ]
  },
  {
   "cell_type": "code",
   "execution_count": null,
   "metadata": {
    "ExecuteTime": {
     "end_time": "2022-06-02T12:16:18.676119Z",
     "start_time": "2022-06-02T12:16:12.919961Z"
    }
   },
   "outputs": [],
   "source": [
    "img = generate(t3, size = 400, camheight=150, debug=True)\n",
    "imshow(img)"
   ]
  },
  {
   "cell_type": "code",
   "execution_count": null,
   "metadata": {
    "ExecuteTime": {
     "end_time": "2022-06-02T12:16:24.308660Z",
     "start_time": "2022-06-02T12:16:18.685478Z"
    }
   },
   "outputs": [],
   "source": [
    "print(gap_fraction(t3, size = 400, camheight=150, debug=False))"
   ]
  },
  {
   "cell_type": "code",
   "execution_count": 23,
   "metadata": {
    "ExecuteTime": {
     "end_time": "2022-06-02T12:52:31.220829Z",
     "start_time": "2022-06-02T12:35:47.372356Z"
    }
   },
   "outputs": [],
   "source": [
    "def info(mtg):\n",
    "    return (continuous_intensity_from_pruned(mtg), gap_fraction(mtg))\n",
    "nbcuts = list(range(1,401, 2))\n",
    "gfs = [info(prune(g,nc)) for nc in nbcuts]"
   ]
  },
  {
   "cell_type": "code",
   "execution_count": 24,
   "metadata": {
    "ExecuteTime": {
     "end_time": "2022-06-02T12:52:31.357641Z",
     "start_time": "2022-06-02T12:52:31.223002Z"
    }
   },
   "outputs": [
    {
     "data": {
      "image/png": "[encoded data removed]",
      "text/plain": [
       "<Figure size 432x288 with 1 Axes>"
      ]
     },
     "metadata": {
      "needs_background": "light"
     },
     "output_type": "display_data"
    }
   ],
   "source": [
    "#ylim(0,1)\n",
    "scatter([a[0] for a in gfs],[a[1] for a in gfs])\n",
    "xlabel('Intensity')\n",
    "ylabel('Gap fraction')\n",
    "show()"
   ]
  },
  {
   "cell_type": "code",
   "execution_count": 27,
   "metadata": {
    "ExecuteTime": {
     "end_time": "2022-06-02T13:30:25.471665Z",
     "start_time": "2022-06-02T13:30:25.359126Z"
    }
   },
   "outputs": [
    {
     "data": {
      "image/png": "[encoded data removed]",
      "text/plain": [
       "<Figure size 432x288 with 1 Axes>"
      ]
     },
     "metadata": {
      "needs_background": "light"
     },
     "output_type": "display_data"
    }
   ],
   "source": [
    "scatter([a*3 for a in nbcuts],[a[0] for a in gfs])\n",
    "xlabel('Nb Tot Cuts')\n",
    "ylabel('Intensity')\n",
    "show()"
   ]
  }
 ],
 "metadata": {
  "kernelspec": {
   "display_name": "Python 3 (ipykernel)",
   "language": "python",
   "name": "python3"
  },
  "language_info": {
   "codemirror_mode": {
    "name": "ipython",
    "version": 3
   },
   "file_extension": ".py",
   "mimetype": "text/x-python",
   "name": "python",
   "nbconvert_exporter": "python",
   "pygments_lexer": "ipython3",
   "version": "3.9.12"
  }
 },
 "nbformat": 4,
 "nbformat_minor": 2
}
