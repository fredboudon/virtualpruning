{
 "cells": [
  {
   "cell_type": "markdown",
   "metadata": {},
   "source": [
    "# Virtual Pruning"
   ]
  },
  {
   "cell_type": "markdown",
   "metadata": {},
   "source": [
    "## Importing the digitized structure"
   ]
  },
  {
   "cell_type": "code",
   "execution_count": 20,
   "metadata": {
    "ExecuteTime": {
     "end_time": "2023-01-16T07:08:57.760817Z",
     "start_time": "2023-01-16T07:08:57.254339Z"
    }
   },
   "outputs": [],
   "source": [
    "from openalea.mtg import *\n",
    "import numpy as np\n",
    "from importlib import reload\n",
    "import mangoG3; reload(mangoG3)\n",
    "from mangoG3 import *\n",
    "\n",
    "g = get_G3_mtg()"
   ]
  },
  {
   "cell_type": "code",
   "execution_count": 21,
   "metadata": {
    "ExecuteTime": {
     "end_time": "2023-01-16T07:08:57.765116Z",
     "start_time": "2023-01-16T07:08:57.762646Z"
    }
   },
   "outputs": [],
   "source": [
    "from matplotlib.pyplot import *\n",
    "import mtgplot as mp"
   ]
  },
  {
   "cell_type": "code",
   "execution_count": 22,
   "metadata": {
    "ExecuteTime": {
     "end_time": "2023-01-16T07:08:57.769220Z",
     "start_time": "2023-01-16T07:08:57.767127Z"
    }
   },
   "outputs": [],
   "source": [
    "#sw = mp.plot_tree(g, leaves=True)\n",
    "#sw"
   ]
  },
  {
   "cell_type": "markdown",
   "metadata": {},
   "source": [
    "\n",
    "# Pruning"
   ]
  },
  {
   "cell_type": "code",
   "execution_count": 23,
   "metadata": {
    "ExecuteTime": {
     "end_time": "2023-01-16T07:08:57.774511Z",
     "start_time": "2023-01-16T07:08:57.771269Z"
    }
   },
   "outputs": [],
   "source": [
    "import pruning ; reload(pruning)\n",
    "from pruning import *"
   ]
  },
  {
   "cell_type": "code",
   "execution_count": 24,
   "metadata": {
    "ExecuteTime": {
     "end_time": "2023-01-16T07:08:58.267999Z",
     "start_time": "2023-01-16T07:08:57.776618Z"
    }
   },
   "outputs": [],
   "source": [
    "prunedmtg = prune(g, 180)"
   ]
  },
  {
   "cell_type": "code",
   "execution_count": 25,
   "metadata": {
    "ExecuteTime": {
     "end_time": "2023-01-16T07:08:58.273519Z",
     "start_time": "2023-01-16T07:08:58.270004Z"
    }
   },
   "outputs": [
    {
     "name": "stdout",
     "output_type": "stream",
     "text": [
      "0.5382768156206773 T3\n"
     ]
    }
   ],
   "source": [
    "intensity = continuous_intensity_from_pruned(prunedmtg)\n",
    "print(intensity, intensity_level(intensity))"
   ]
  },
  {
   "cell_type": "code",
   "execution_count": 26,
   "metadata": {
    "ExecuteTime": {
     "end_time": "2023-01-16T07:09:01.599460Z",
     "start_time": "2023-01-16T07:08:58.275452Z"
    }
   },
   "outputs": [],
   "source": [
    "prunedrepr = mp.representation(prunedmtg, wood = False, leaves=True)"
   ]
  },
  {
   "cell_type": "markdown",
   "metadata": {
    "ExecuteTime": {
     "end_time": "2023-01-10T08:16:03.362387Z",
     "start_time": "2023-01-10T08:16:03.359581Z"
    }
   },
   "source": [
    "# Light sensitivity"
   ]
  },
  {
   "cell_type": "code",
   "execution_count": 27,
   "metadata": {
    "ExecuteTime": {
     "end_time": "2023-01-16T07:09:01.605790Z",
     "start_time": "2023-01-16T07:09:01.601306Z"
    }
   },
   "outputs": [],
   "source": [
    "import lightestimation; reload(lightestimation)\n",
    "from lightestimation import *"
   ]
  },
  {
   "cell_type": "code",
   "execution_count": 28,
   "metadata": {
    "ExecuteTime": {
     "end_time": "2023-01-16T07:11:10.354901Z",
     "start_time": "2023-01-16T07:09:01.608561Z"
    }
   },
   "outputs": [],
   "source": [
    "TrPPFD_ref, Zeta_ref = daily_light_variables(prunedrepr)"
   ]
  },
  {
   "cell_type": "code",
   "execution_count": 29,
   "metadata": {
    "ExecuteTime": {
     "end_time": "2023-01-16T07:12:15.144239Z",
     "start_time": "2023-01-16T07:11:10.357382Z"
    }
   },
   "outputs": [],
   "source": [
    "TrPPFD, Zeta = daily_light_variables(prunedrepr, skydiscretization=16)"
   ]
  },
  {
   "cell_type": "code",
   "execution_count": 30,
   "metadata": {
    "ExecuteTime": {
     "end_time": "2023-01-16T07:12:15.164201Z",
     "start_time": "2023-01-16T07:12:15.146366Z"
    }
   },
   "outputs": [
    {
     "data": {
      "text/html": [
       "<div>\n",
       "<style scoped>\n",
       "    .dataframe tbody tr th:only-of-type {\n",
       "        vertical-align: middle;\n",
       "    }\n",
       "\n",
       "    .dataframe tbody tr th {\n",
       "        vertical-align: top;\n",
       "    }\n",
       "\n",
       "    .dataframe thead th {\n",
       "        text-align: right;\n",
       "    }\n",
       "</style>\n",
       "<table border=\"1\" class=\"dataframe\">\n",
       "  <thead>\n",
       "    <tr style=\"text-align: right;\">\n",
       "      <th></th>\n",
       "      <th>7H</th>\n",
       "      <th>8H</th>\n",
       "      <th>9H</th>\n",
       "      <th>10H</th>\n",
       "      <th>11H</th>\n",
       "      <th>12H</th>\n",
       "      <th>13H</th>\n",
       "      <th>14H</th>\n",
       "      <th>15H</th>\n",
       "      <th>16H</th>\n",
       "      <th>17H</th>\n",
       "      <th>18H</th>\n",
       "    </tr>\n",
       "  </thead>\n",
       "  <tbody>\n",
       "    <tr>\n",
       "      <th>27</th>\n",
       "      <td>0.925321</td>\n",
       "      <td>NaN</td>\n",
       "      <td>1.002526</td>\n",
       "      <td>0.838578</td>\n",
       "      <td>0.833216</td>\n",
       "      <td>1.051967</td>\n",
       "      <td>0.817345</td>\n",
       "      <td>1.043831</td>\n",
       "      <td>0.804728</td>\n",
       "      <td>1.099732</td>\n",
       "      <td>1.076453</td>\n",
       "      <td>0.966069</td>\n",
       "    </tr>\n",
       "    <tr>\n",
       "      <th>28</th>\n",
       "      <td>0.838999</td>\n",
       "      <td>NaN</td>\n",
       "      <td>0.884200</td>\n",
       "      <td>0.723130</td>\n",
       "      <td>NaN</td>\n",
       "      <td>1.068050</td>\n",
       "      <td>NaN</td>\n",
       "      <td>0.854548</td>\n",
       "      <td>0.807491</td>\n",
       "      <td>1.062886</td>\n",
       "      <td>0.960615</td>\n",
       "      <td>1.045112</td>\n",
       "    </tr>\n",
       "    <tr>\n",
       "      <th>31</th>\n",
       "      <td>1.104018</td>\n",
       "      <td>1.032501</td>\n",
       "      <td>1.103991</td>\n",
       "      <td>1.103970</td>\n",
       "      <td>NaN</td>\n",
       "      <td>1.009714</td>\n",
       "      <td>1.094634</td>\n",
       "      <td>1.091070</td>\n",
       "      <td>NaN</td>\n",
       "      <td>1.050467</td>\n",
       "      <td>1.005279</td>\n",
       "      <td>1.085597</td>\n",
       "    </tr>\n",
       "    <tr>\n",
       "      <th>32</th>\n",
       "      <td>1.104017</td>\n",
       "      <td>0.909318</td>\n",
       "      <td>1.094529</td>\n",
       "      <td>1.058636</td>\n",
       "      <td>0.838910</td>\n",
       "      <td>0.995544</td>\n",
       "      <td>0.925202</td>\n",
       "      <td>1.073861</td>\n",
       "      <td>1.040333</td>\n",
       "      <td>1.084268</td>\n",
       "      <td>1.025120</td>\n",
       "      <td>1.103958</td>\n",
       "    </tr>\n",
       "    <tr>\n",
       "      <th>35</th>\n",
       "      <td>1.104018</td>\n",
       "      <td>0.922175</td>\n",
       "      <td>1.017328</td>\n",
       "      <td>NaN</td>\n",
       "      <td>0.910756</td>\n",
       "      <td>1.101643</td>\n",
       "      <td>NaN</td>\n",
       "      <td>1.099607</td>\n",
       "      <td>1.097934</td>\n",
       "      <td>1.094977</td>\n",
       "      <td>1.094374</td>\n",
       "      <td>1.104000</td>\n",
       "    </tr>\n",
       "    <tr>\n",
       "      <th>...</th>\n",
       "      <td>...</td>\n",
       "      <td>...</td>\n",
       "      <td>...</td>\n",
       "      <td>...</td>\n",
       "      <td>...</td>\n",
       "      <td>...</td>\n",
       "      <td>...</td>\n",
       "      <td>...</td>\n",
       "      <td>...</td>\n",
       "      <td>...</td>\n",
       "      <td>...</td>\n",
       "      <td>...</td>\n",
       "    </tr>\n",
       "    <tr>\n",
       "      <th>16721</th>\n",
       "      <td>1.096451</td>\n",
       "      <td>1.029098</td>\n",
       "      <td>0.973288</td>\n",
       "      <td>0.884895</td>\n",
       "      <td>0.825679</td>\n",
       "      <td>0.834692</td>\n",
       "      <td>0.750297</td>\n",
       "      <td>NaN</td>\n",
       "      <td>0.533784</td>\n",
       "      <td>0.539511</td>\n",
       "      <td>0.518564</td>\n",
       "      <td>0.540220</td>\n",
       "    </tr>\n",
       "    <tr>\n",
       "      <th>16724</th>\n",
       "      <td>1.079906</td>\n",
       "      <td>1.087071</td>\n",
       "      <td>1.081475</td>\n",
       "      <td>1.061587</td>\n",
       "      <td>1.058966</td>\n",
       "      <td>1.064903</td>\n",
       "      <td>1.009633</td>\n",
       "      <td>0.705486</td>\n",
       "      <td>0.844323</td>\n",
       "      <td>0.957836</td>\n",
       "      <td>0.833228</td>\n",
       "      <td>0.786512</td>\n",
       "    </tr>\n",
       "    <tr>\n",
       "      <th>16727</th>\n",
       "      <td>1.099523</td>\n",
       "      <td>1.085729</td>\n",
       "      <td>1.087176</td>\n",
       "      <td>1.085288</td>\n",
       "      <td>1.077226</td>\n",
       "      <td>1.065171</td>\n",
       "      <td>1.050548</td>\n",
       "      <td>1.002937</td>\n",
       "      <td>NaN</td>\n",
       "      <td>0.950958</td>\n",
       "      <td>0.813520</td>\n",
       "      <td>NaN</td>\n",
       "    </tr>\n",
       "    <tr>\n",
       "      <th>16730</th>\n",
       "      <td>1.090777</td>\n",
       "      <td>1.029270</td>\n",
       "      <td>0.968772</td>\n",
       "      <td>0.972036</td>\n",
       "      <td>0.896523</td>\n",
       "      <td>0.780561</td>\n",
       "      <td>0.686235</td>\n",
       "      <td>0.524837</td>\n",
       "      <td>NaN</td>\n",
       "      <td>0.461118</td>\n",
       "      <td>0.600695</td>\n",
       "      <td>0.485478</td>\n",
       "    </tr>\n",
       "    <tr>\n",
       "      <th>16731</th>\n",
       "      <td>1.103533</td>\n",
       "      <td>1.097846</td>\n",
       "      <td>1.090475</td>\n",
       "      <td>1.086927</td>\n",
       "      <td>1.083551</td>\n",
       "      <td>1.079480</td>\n",
       "      <td>1.059079</td>\n",
       "      <td>0.831631</td>\n",
       "      <td>0.788372</td>\n",
       "      <td>0.936131</td>\n",
       "      <td>0.862349</td>\n",
       "      <td>0.771019</td>\n",
       "    </tr>\n",
       "  </tbody>\n",
       "</table>\n",
       "<p>3124 rows × 12 columns</p>\n",
       "</div>"
      ],
      "text/plain": [
       "             7H        8H        9H       10H       11H       12H       13H  \\\n",
       "27     0.925321       NaN  1.002526  0.838578  0.833216  1.051967  0.817345   \n",
       "28     0.838999       NaN  0.884200  0.723130       NaN  1.068050       NaN   \n",
       "31     1.104018  1.032501  1.103991  1.103970       NaN  1.009714  1.094634   \n",
       "32     1.104017  0.909318  1.094529  1.058636  0.838910  0.995544  0.925202   \n",
       "35     1.104018  0.922175  1.017328       NaN  0.910756  1.101643       NaN   \n",
       "...         ...       ...       ...       ...       ...       ...       ...   \n",
       "16721  1.096451  1.029098  0.973288  0.884895  0.825679  0.834692  0.750297   \n",
       "16724  1.079906  1.087071  1.081475  1.061587  1.058966  1.064903  1.009633   \n",
       "16727  1.099523  1.085729  1.087176  1.085288  1.077226  1.065171  1.050548   \n",
       "16730  1.090777  1.029270  0.968772  0.972036  0.896523  0.780561  0.686235   \n",
       "16731  1.103533  1.097846  1.090475  1.086927  1.083551  1.079480  1.059079   \n",
       "\n",
       "            14H       15H       16H       17H       18H  \n",
       "27     1.043831  0.804728  1.099732  1.076453  0.966069  \n",
       "28     0.854548  0.807491  1.062886  0.960615  1.045112  \n",
       "31     1.091070       NaN  1.050467  1.005279  1.085597  \n",
       "32     1.073861  1.040333  1.084268  1.025120  1.103958  \n",
       "35     1.099607  1.097934  1.094977  1.094374  1.104000  \n",
       "...         ...       ...       ...       ...       ...  \n",
       "16721       NaN  0.533784  0.539511  0.518564  0.540220  \n",
       "16724  0.705486  0.844323  0.957836  0.833228  0.786512  \n",
       "16727  1.002937       NaN  0.950958  0.813520       NaN  \n",
       "16730  0.524837       NaN  0.461118  0.600695  0.485478  \n",
       "16731  0.831631  0.788372  0.936131  0.862349  0.771019  \n",
       "\n",
       "[3124 rows x 12 columns]"
      ]
     },
     "execution_count": 30,
     "metadata": {},
     "output_type": "execute_result"
    }
   ],
   "source": [
    "Zeta"
   ]
  },
  {
   "cell_type": "code",
   "execution_count": 31,
   "metadata": {
    "ExecuteTime": {
     "end_time": "2023-01-16T07:12:15.170518Z",
     "start_time": "2023-01-16T07:12:15.166900Z"
    }
   },
   "outputs": [],
   "source": [
    "def indice(values):\n",
    "    return values.mean(axis=1)"
   ]
  },
  {
   "cell_type": "code",
   "execution_count": 32,
   "metadata": {
    "ExecuteTime": {
     "end_time": "2023-01-16T07:12:15.178684Z",
     "start_time": "2023-01-16T07:12:15.173743Z"
    }
   },
   "outputs": [],
   "source": [
    "meanzeta = indice(Zeta_ref)"
   ]
  },
  {
   "cell_type": "code",
   "execution_count": 33,
   "metadata": {
    "ExecuteTime": {
     "end_time": "2023-01-16T07:12:15.184865Z",
     "start_time": "2023-01-16T07:12:15.181242Z"
    }
   },
   "outputs": [],
   "source": [
    "def error(zetavalues, refvalue):\n",
    "    return sqrt((indice(zetavalues) - refvalue).pow(2).mean())"
   ]
  },
  {
   "cell_type": "code",
   "execution_count": null,
   "metadata": {},
   "outputs": [],
   "source": [
    "def relerror(zetavalues, refvalue):\n",
    "    return ((indice(zetavalues) - refvalue).abs()/refvalue).mean()"
   ]
  },
  {
   "cell_type": "code",
   "execution_count": 34,
   "metadata": {
    "ExecuteTime": {
     "end_time": "2023-01-16T07:12:20.071727Z",
     "start_time": "2023-01-16T07:12:15.187291Z"
    }
   },
   "outputs": [],
   "source": [
    "import itertools\n",
    "result = []\n",
    "for i in range(11):\n",
    "    idx = list(itertools.combinations(Zeta.columns,i))\n",
    "    for h in idx:\n",
    "        err = error(Zeta[list(h)], meanzeta)\n",
    "        result.append((err,list(h)))"
   ]
  },
  {
   "cell_type": "code",
   "execution_count": 35,
   "metadata": {
    "ExecuteTime": {
     "end_time": "2023-01-16T07:12:20.079582Z",
     "start_time": "2023-01-16T07:12:20.073978Z"
    }
   },
   "outputs": [],
   "source": [
    "result.sort()"
   ]
  },
  {
   "cell_type": "code",
   "execution_count": 36,
   "metadata": {
    "ExecuteTime": {
     "end_time": "2023-01-16T07:12:20.096966Z",
     "start_time": "2023-01-16T07:12:20.090245Z"
    }
   },
   "outputs": [],
   "source": [
    "resultbest = []\n",
    "for i in range(11,0,-1):\n",
    "    for e,r in result:\n",
    "        if len(r) == i:\n",
    "            resultbest.append((e,r))\n",
    "            break\n"
   ]
  },
  {
   "cell_type": "code",
   "execution_count": 37,
   "metadata": {
    "ExecuteTime": {
     "end_time": "2023-01-16T07:12:20.271369Z",
     "start_time": "2023-01-16T07:12:20.099054Z"
    }
   },
   "outputs": [
    {
     "data": {
      "image/png": "[encoded data removed]",
      "text/plain": [
       "<Figure size 640x480 with 1 Axes>"
      ]
     },
     "metadata": {},
     "output_type": "display_data"
    }
   ],
   "source": [
    "plot(['Ref','All']+['/'.join(h) for e,h in resultbest]+['/'.join(result[-1][1])],[0,error(Zeta,meanzeta)]+[e for e,h in resultbest]+[result[-1][0]])\n",
    "xticks(rotation=90)\n",
    "show()"
   ]
  },
  {
   "cell_type": "code",
   "execution_count": null,
   "metadata": {},
   "outputs": [],
   "source": [
    "plot(['Ref','All']+['/'.join(h) for e,h in resultbest]+['/'.join(result[-1][1])],[0,error(Zeta,meanzeta)]+[e for e,h in resultbest]+[result[-1][0]])\n",
    "xticks(rotation=90)\n",
    "show()"
   ]
  },
  {
   "cell_type": "code",
   "execution_count": 38,
   "metadata": {
    "ExecuteTime": {
     "end_time": "2023-01-16T07:12:20.281655Z",
     "start_time": "2023-01-16T07:12:20.274262Z"
    }
   },
   "outputs": [
    {
     "data": {
      "text/plain": [
       "0.007517109525077132"
      ]
     },
     "execution_count": 38,
     "metadata": {},
     "output_type": "execute_result"
    },
    {
     "name": "stderr",
     "output_type": "stream",
     "text": [
      "2023-01-16 11:12:20.285 python[5431:107041] IMKClient Stall detected, *please Report* your user scenario attaching a spindump (or sysdiagnose) that captures the problem - (imkxpc_bundleIdentifierWithReply:) block performed very slowly (388.24 secs).\n",
      "2023-01-16 11:12:20.285 python[5431:107041] IMKClient Stall detected, *please Report* your user scenario attaching a spindump (or sysdiagnose) that captures the problem - (imkxpc_bundleIdentifierWithReply:) block performed very slowly (388.24 secs).\n"
     ]
    }
   ],
   "source": [
    "error(Zeta,meanzeta)"
   ]
  }
 ],
 "metadata": {
  "kernelspec": {
   "display_name": "Python 3 (ipykernel)",
   "language": "python",
   "name": "python3"
  },
  "language_info": {
   "codemirror_mode": {
    "name": "ipython",
    "version": 3
   },
   "file_extension": ".py",
   "mimetype": "text/x-python",
   "name": "python",
   "nbconvert_exporter": "python",
   "pygments_lexer": "ipython3",
   "version": "3.10.5"
  }
 },
 "nbformat": 4,
 "nbformat_minor": 2
}
