{
 "cells": [
  {
   "cell_type": "markdown",
   "metadata": {},
   "source": [
    "# Virtual Pruning"
   ]
  },
  {
   "cell_type": "markdown",
   "metadata": {},
   "source": [
    "## Importing the digitized structure"
   ]
  },
  {
   "cell_type": "code",
   "execution_count": null,
   "metadata": {
    "ExecuteTime": {
     "end_time": "2022-05-16T08:31:48.466092Z",
     "start_time": "2022-05-16T08:31:47.357228Z"
    }
   },
   "outputs": [],
   "source": [
    "from openalea.mtg import *\n",
    "from numpy import *\n",
    "from importlib import reload\n",
    "import numpy as np\n",
    "import mangoG3; reload(mangoG3)\n",
    "from mangoG3 import *\n",
    "\n",
    "g = get_G3_mtg()\n"
   ]
  },
  {
   "cell_type": "code",
   "execution_count": null,
   "metadata": {
    "ExecuteTime": {
     "end_time": "2022-05-16T08:31:49.241267Z",
     "start_time": "2022-05-16T08:31:48.468167Z"
    }
   },
   "outputs": [],
   "source": [
    "from matplotlib.pyplot import *\n",
    "import mtgplot as mp\n",
    "reload(mp)\n",
    "\n",
    "#az,el,zoom = 31, 27,  341\n",
    "#cam = (320,300,340)\n",
    "#center = (43.0721,25.1311,200)       \n",
    "\n",
    "plot3D = True\n",
    "\n",
    "def pgl_display(scene):\n",
    "    from pgljupyter import SceneWidget\n",
    "    from openalea.plantgl.all import BoundingBox\n",
    "    bbx = BoundingBox(scene)\n",
    "    sw = norm(bbx.getSize())\n",
    "    return SceneWidget(scene, size_world=sw, size_display = (800,600))\n",
    "\n",
    "def plot_tree(mtg, **kwd):\n",
    "    if plot3D :\n",
    "        sc = mp.representation(mtg, **kwd)\n",
    "        return pgl_display(sc)\n",
    " \n",
    "\n",
    "def plot_terminal_diameter(mtg, leaves = True, minvalue = None, maxvalue = None):\n",
    "    if plot3D :\n",
    "        vids = [vid for vid in get_all_terminal_gus(mtg) if not was_previously_pruned(mtg,vid)]\n",
    "        colorizer=mp.PropertyGradientColoring(lambda v : get_gu_diameter(mtg,v), vids, minvalue = minvalue, maxvalue = maxvalue)\n",
    "        sc = mp.representation(mtg, colorizer=colorizer , gc = False, leaves=leaves )\n",
    "        # Viewer.display(sc)\n",
    "        return pgl_display(sc)"
   ]
  },
  {
   "cell_type": "code",
   "execution_count": null,
   "metadata": {
    "ExecuteTime": {
     "end_time": "2022-05-16T08:31:50.127170Z",
     "start_time": "2022-05-16T08:31:49.243304Z"
    }
   },
   "outputs": [],
   "source": [
    "sw = plot_tree(g)\n",
    "sw"
   ]
  },
  {
   "cell_type": "code",
   "execution_count": null,
   "metadata": {
    "ExecuteTime": {
     "end_time": "2022-05-16T08:31:52.563445Z",
     "start_time": "2022-05-16T08:31:50.129625Z"
    }
   },
   "outputs": [],
   "source": [
    "plot_terminal_diameter(g, True, maxvalue=10)"
   ]
  },
  {
   "cell_type": "code",
   "execution_count": null,
   "metadata": {
    "ExecuteTime": {
     "end_time": "2022-05-16T08:31:54.851842Z",
     "start_time": "2022-05-16T08:31:52.564945Z"
    }
   },
   "outputs": [],
   "source": [
    "plot_terminal_diameter(g, True, minvalue=10)"
   ]
  },
  {
   "cell_type": "code",
   "execution_count": null,
   "metadata": {
    "ExecuteTime": {
     "end_time": "2022-05-16T08:31:54.990447Z",
     "start_time": "2022-05-16T08:31:54.853500Z"
    }
   },
   "outputs": [],
   "source": [
    "def terminal_diameter_histo(mtg):\n",
    "    vids = [vid for vid in get_all_terminal_gus(mtg) if not was_previously_pruned(mtg,vid)]\n",
    "    diam = list(map(lambda v : get_gu_diameter(mtg,v), vids))\n",
    "    hist(diam, bins=range(int(max(diam)+1)))\n",
    "    show()\n",
    "    \n",
    "terminal_diameter_histo(g)"
   ]
  },
  {
   "cell_type": "code",
   "execution_count": null,
   "metadata": {
    "ExecuteTime": {
     "end_time": "2022-05-16T08:31:55.011222Z",
     "start_time": "2022-05-16T08:31:54.991914Z"
    }
   },
   "outputs": [],
   "source": [
    "thresholdradius = 10\n",
    "bigterminalradiusvids = [vid for vid in get_all_terminal_gus(g) if not was_previously_pruned(g,vid) if get_gu_diameter(g,vid) > thresholdradius]\n",
    "bigterminalradiusvids.sort(key = lambda vid : get_gu_diameter(g,vid))\n",
    "print('Terminals with radius bigger than',thresholdradius,':',len(bigterminalradiusvids),bigterminalradiusvids)\n",
    "print('Corresponding diameters :',list(map(lambda vid : get_gu_diameter(g,vid),bigterminalradiusvids)))\n",
    "    "
   ]
  },
  {
   "cell_type": "markdown",
   "metadata": {},
   "source": [
    "## Allometric relatrionships"
   ]
  },
  {
   "cell_type": "code",
   "execution_count": null,
   "metadata": {
    "ExecuteTime": {
     "end_time": "2022-05-16T08:31:55.024816Z",
     "start_time": "2022-05-16T08:31:55.017386Z"
    }
   },
   "outputs": [],
   "source": [
    "import numpy as np\n",
    "\n",
    "def bbox(mtg, selectionratio = 0.13):\n",
    "    \"\"\"\n",
    "    Compute the bounding box of the tree.\n",
    "    :return: the dimension in cm3\n",
    "    \"\"\"\n",
    "    def minmaxvalue(positions, coord, selectionratio):\n",
    "        cmax = max(positions[:,coord])\n",
    "        cmin = min(positions[:,coord])\n",
    "        clayer = (cmax-cmin) * selectionratio\n",
    "        downlayer = positions[positions[:,coord] < cmin+clayer,coord]\n",
    "        mmin = np.mean(downlayer)\n",
    "        toplayer = positions[positions[:,coord] > cmax-clayer,coord]\n",
    "        mmax = np.mean(toplayer)\n",
    "        return mmin, mmax\n",
    "    positions = np.array([pos for vid, pos in mtg.property('Position').items() if mtg.property('UnitType')[vid] != 'B'])\n",
    "    xmin, xmax = minmaxvalue(positions, 0, selectionratio)\n",
    "    ymin, ymax = minmaxvalue(positions, 1, selectionratio)\n",
    "    zmin, zmax = minmaxvalue(positions, 2, selectionratio)\n",
    "    return (xmin, xmax), (ymin, ymax), (zmin, zmax)\n",
    "\n",
    "def volume(mtg, selectionratio = 0.13):\n",
    "    \"\"\"\n",
    "    Compute the volume tree.\n",
    "    :return: the volume in m3\n",
    "    \"\"\"\n",
    "    (xmin, xmax), (ymin, ymax), (zmin, zmax) = bbox(mtg, selectionratio)\n",
    "    return (xmax-xmin)*(ymax-ymin)*(zmax-zmin)/ 1000000.\n"
   ]
  },
  {
   "cell_type": "code",
   "execution_count": null,
   "metadata": {
    "ExecuteTime": {
     "end_time": "2022-05-16T08:32:03.797012Z",
     "start_time": "2022-05-16T08:31:55.026112Z"
    }
   },
   "outputs": [],
   "source": [
    "print('Volume :',volume(g), 'm3')\n",
    "mbbx = bbox(g)\n",
    "print([v[1]-v[0] for v in mbbx])"
   ]
  },
  {
   "cell_type": "code",
   "execution_count": null,
   "metadata": {
    "ExecuteTime": {
     "end_time": "2022-05-16T08:32:03.805297Z",
     "start_time": "2022-05-16T08:32:03.801749Z"
    }
   },
   "outputs": [],
   "source": [
    "from math import *\n",
    "\n",
    "def gu_leaf_area(diameter):\n",
    "    \"\"\" Allometric relationship between diameter of a GU and the carried leaf area\n",
    "     :param diameter: diameter of the GU in mm2\n",
    "     :return: leaf area in dm2\n",
    "    \"\"\"\n",
    "    return exp(1.093*log(pi*(diameter**2)/4.)-2.146)\n",
    "\n",
    "def gu_biomass(diameter):\n",
    "    \"\"\" Allometric relationship between diameter of a GU and the carried biomass\n",
    "     :param diameter: diameter of the GU in mm2\n",
    "     :return: biomass in g\n",
    "    \"\"\"\n",
    "    return exp(1.2576*log(pi*(diameter**2)/4.)-0.9826)"
   ]
  },
  {
   "cell_type": "markdown",
   "metadata": {},
   "source": [
    "## Pruning procedure\n",
    "\n",
    "To select a pruning point, we start from terminal points, trace back into the structure up to 3 layers. We check if the pruning point is valid by looking the depth of what it carries. If it is in average close to what is intended we select it. Else we select another one.\n",
    "\n",
    "Point d'amélioration : tailler en fait au milieu de la n4."
   ]
  },
  {
   "cell_type": "code",
   "execution_count": null,
   "metadata": {
    "ExecuteTime": {
     "end_time": "2022-05-16T08:32:03.811868Z",
     "start_time": "2022-05-16T08:32:03.806918Z"
    }
   },
   "outputs": [],
   "source": [
    "from random import randint\n",
    "\n",
    "meandepth = lambda depths : int(round(np.mean(depths)))\n",
    "maxoccurence = lambda depths :max(depths,key=depths.count)\n",
    "hasdepth = lambda depths : [i for i in range(1,4) if i in depths] \n",
    "\n",
    "diameterrange = { 1 : (6.9, 1.6) , 2 : (9.5, 2.5), 3 : (13.1, 3.4)}\n",
    "\n",
    "def valid_diameter(mtg, vid, depth):\n",
    "    mean, std = diameterrange[depth]\n",
    "    return mean - std <= get_gu_diameter(mtg, vid) <= mean + std"
   ]
  },
  {
   "cell_type": "code",
   "execution_count": null,
   "metadata": {
    "ExecuteTime": {
     "end_time": "2022-05-16T08:32:05.518183Z",
     "start_time": "2022-05-16T08:32:03.813552Z"
    }
   },
   "outputs": [],
   "source": [
    "def determine_potential_cutpoints(mtg, depthfunc = hasdepth, diameterconstraints = False):\n",
    "    \"\"\" Determine the ids of the potential n1, n2, n3 cut points \n",
    "        from constraint of depth and also diameters observed  experimentally\n",
    "        :param mtg: the structure of the tree with characteristic\n",
    "        :return: 3 lists of ids representing n1, n2 and n3\n",
    "    \"\"\"\n",
    "    ids_ni = ([],[],[])\n",
    "    \n",
    "    for vid in get_all_gus(mtg):\n",
    "      if mtg.nb_children(vid) > 0 and not mtg.parent(vid) is None:\n",
    "            \n",
    "        depth = depthfunc([get_gu_depth(mtg,vid,terminal) for terminal in get_terminal_gus_from_ancestor(mtg,vid)])\n",
    "        if type(depth) == int:\n",
    "            depth = [depth]\n",
    "        for d in depth:\n",
    "            if d in [1,2,3] and (not diameterconstraints or valid_diameter(mtg, vid, d)):\n",
    "                ids_ni[d-1].append(vid)\n",
    "            \n",
    "    return ids_ni\n",
    "\n",
    "potential_cutpoints = determine_potential_cutpoints(g, diameterconstraints = True)\n",
    "\n",
    "def check_cutpoint_diameter_validity(mtg, potential_cutpoints = potential_cutpoints):\n",
    "    for o, nis in enumerate(potential_cutpoints, 1):\n",
    "        for ni in nis:\n",
    "            assert valid_diameter(g, ni, o)\n",
    "            \n",
    "\n",
    "check_cutpoint_diameter_validity(g,potential_cutpoints)"
   ]
  },
  {
   "cell_type": "markdown",
   "metadata": {},
   "source": [
    "# Characterize cut points\n"
   ]
  },
  {
   "cell_type": "code",
   "execution_count": null,
   "metadata": {
    "ExecuteTime": {
     "end_time": "2022-05-16T08:32:57.613442Z",
     "start_time": "2022-05-16T08:32:57.605413Z"
    }
   },
   "outputs": [],
   "source": [
    "def characterize_cut_points(mtg, listidpruned = potential_cutpoints):\n",
    "    \n",
    "    print('Diameters')\n",
    "    figure(figsize=(18,4))\n",
    "    for order, pruneds in enumerate(listidpruned,1):\n",
    "        subplot(130+order)\n",
    "        d = [get_gu_diameter(mtg, vid) for vid in pruneds]\n",
    "        md = int(5*ceil(max(d)/5))\n",
    "        print(md,max(d))\n",
    "        hist(d, bins=range(0,70,5)) #, bins=range(0,md,5))\n",
    "        print(order,':',len(d),(np.mean(d), np.std(d)),(np.min(d), np.max(d)),diameterrange[order])\n",
    "    show()\n",
    "    \n",
    "    print('Nb Descendants')\n",
    "    figure(figsize=(18,4))\n",
    "    for order, pruneds in enumerate(listidpruned,1):\n",
    "        subplot(130+order)\n",
    "        d = [len(get_descendants_gus_from_ancestor(mtg, vid))-1 for vid in pruneds]\n",
    "        hist(d)#,bins=arange(0.5,max(d)+0.51,1))\n",
    "        print(order,':',len(d),(np.mean(d), np.std(d)))\n",
    "    show()\n",
    "\n",
    "    print('Nb Leaves')\n",
    "    nbleaves = mtg.property('NbLeaf')\n",
    "    figure(figsize=(18,4))\n",
    "    for order, pruneds in enumerate(listidpruned,1):\n",
    "        subplot(130+order)\n",
    "        d = [sum([nbleaves.get(lvid,0) for lvid in get_descendants_gus_from_ancestor(mtg, vid) if lvid != vid]) for vid in pruneds]\n",
    "        hist(d) #,bins=arange(-0.5,max(d)+0.51,1))\n",
    "        print(order,':',len(d),(np.mean(d), np.std(d)))\n",
    "    show()"
   ]
  },
  {
   "cell_type": "code",
   "execution_count": null,
   "metadata": {
    "ExecuteTime": {
     "end_time": "2022-05-16T08:32:59.830071Z",
     "start_time": "2022-05-16T08:32:58.850841Z"
    }
   },
   "outputs": [],
   "source": [
    "characterize_cut_points(g)"
   ]
  },
  {
   "cell_type": "code",
   "execution_count": null,
   "metadata": {
    "ExecuteTime": {
     "end_time": "2022-05-16T08:34:39.463925Z",
     "start_time": "2022-05-16T08:34:39.454597Z"
    }
   },
   "outputs": [],
   "source": [
    "def tag_pruning(mtg, listidpruned, checkvalidity = True):\n",
    "    pruningproperty = {}\n",
    "    for order, pruneds in listidpruned.items():\n",
    "        for p in pruneds:\n",
    "            for vid in get_descendants_gus_from_ancestor(mtg, p):\n",
    "                if vid != p:\n",
    "                    if vid in pruningproperty:\n",
    "                        if checkvalidity:\n",
    "                            raise ValueError(vid, order, pruningproperty[vid])\n",
    "                    else:\n",
    "                        pruningproperty[vid] = order\n",
    "                    # We also set the parameter onto the bottom point\n",
    "                    #vid = get_gu_bottom_point(mtg,vid)\n",
    "                    #pruningproperty[vid] = order\n",
    "                    #print vid, order\n",
    "    return pruningproperty\n",
    "\n",
    "def tag_cuted_nodes(mtg, listidpruned):\n",
    "    pruningproperty = {}\n",
    "    for order, pruneds in listidpruned.items():\n",
    "        for vid in pruneds:\n",
    "            if vid in pruningproperty:\n",
    "                if checkvalidity:\n",
    "                    raise ValueError(vid, order, pruningproperty[vid])\n",
    "            else:\n",
    "                pruningproperty[vid] = order\n",
    "    return pruningproperty\n",
    "\n",
    "class PruningColoring: \n",
    "    def __init__(self):\n",
    "        pass\n",
    "    def set_mtg(self,mtg):\n",
    "        self.mtg = mtg            \n",
    "        self.colors = { None : 2, 1 : (0,0,255), 2: 6, 3: 3}\n",
    "    def __call__(self, turtle, vid):\n",
    "        color = self.colors[self.mtg.property('pruning').get(vid)]\n",
    "        if type(color) == int:\n",
    "            turtle.setColor(color)\n",
    "        else:\n",
    "            from openalea.plantgl.all import Material\n",
    "            turtle.setCustomAppearance(Material(color))\n",
    "            \n",
    "\n",
    "def plot_pruning(mtg, listidpruned, leaves = True, checkvalidity = True):\n",
    "    mtg.property('pruning').clear()\n",
    "    mtg.property('pruning').update(tag_pruning(mtg, listidpruned, checkvalidity))\n",
    "    if plot3D :\n",
    "        sc = mp.representation(mtg, colorizer=PruningColoring, gc = False, leaves=leaves)\n",
    "        return pgl_display(sc)"
   ]
  },
  {
   "cell_type": "code",
   "execution_count": null,
   "metadata": {
    "ExecuteTime": {
     "end_time": "2022-05-16T08:34:42.209090Z",
     "start_time": "2022-05-16T08:34:40.005757Z"
    }
   },
   "outputs": [],
   "source": [
    "plot_pruning(g, dict(enumerate(potential_cutpoints,1)), checkvalidity=False)"
   ]
  },
  {
   "cell_type": "markdown",
   "metadata": {},
   "source": [
    "# Define pruning action"
   ]
  },
  {
   "cell_type": "code",
   "execution_count": null,
   "metadata": {
    "ExecuteTime": {
     "end_time": "2022-05-16T08:36:14.681915Z",
     "start_time": "2022-05-16T08:36:14.676113Z"
    }
   },
   "outputs": [],
   "source": [
    "n1, n2, n3 = 1,2,3\n",
    "\n",
    "def define_pruning(mtg, nbcuts, potential_cutpoints = potential_cutpoints):\n",
    "    \"\"\" Determine at which point the pruning should occurs.\n",
    "        :params nbcuts: int or tuple. Nb of cuts. \n",
    "        If a single value is given, it applies this number of cut for n1, n2 et n3. \n",
    "        If a tuple of 3 value is given,  it is used for n1, n2 et n3 respectivelly.\n",
    "    \"\"\"\n",
    "   \n",
    "    if type(nbcuts) == int:\n",
    "        nbcuts = (nbcuts, nbcuts, nbcuts)\n",
    "    \n",
    "    assert len(nbcuts) == 3\n",
    "    \n",
    "    if potential_cutpoints is None:\n",
    "        allnis = determine_potential_cutpoints(mtg)\n",
    "    else:\n",
    "        import copy\n",
    "        allnis = copy.deepcopy(potential_cutpoints)\n",
    "    listidpruned = { n1 : [] , n2 : [], n3 : []}\n",
    "    \n",
    "    removedterminals = set()\n",
    "    for order,nis in reversed(list(enumerate(allnis,1))):\n",
    "        if nbcuts[order-1] > 0:\n",
    "            if len(nis) < nbcuts[order-1]:\n",
    "                raise ValueError('Cannot make so many cuts for n%i: %i. Maximum is %i.' %(order, nbcuts[order-1], len(nis)))\n",
    "            nblcuts = 0\n",
    "            np.random.shuffle(nis)\n",
    "            for ni in nis:\n",
    "                mterminals = set(get_terminal_gus_from_ancestor(mtg, get_ancestor(mtg, ni, 3-order) if order < 3 else ni))\n",
    "                if len(mterminals & removedterminals) == 0:\n",
    "                    listidpruned[order].append(ni)\n",
    "                    removedterminals |= mterminals\n",
    "                    nblcuts += 1\n",
    "                    if nblcuts == nbcuts[order-1] : break\n",
    "            if nblcuts != nbcuts[order-1]:\n",
    "                raise ValueError('Cannot make %i cuts for n%i. Achieved only %i.' %(nbcuts[order-1], order, nblcuts))\n",
    "    \n",
    "    return listidpruned\n"
   ]
  },
  {
   "cell_type": "code",
   "execution_count": null,
   "metadata": {
    "ExecuteTime": {
     "end_time": "2022-05-16T08:36:34.862476Z",
     "start_time": "2022-05-16T08:36:34.777453Z"
    }
   },
   "outputs": [],
   "source": [
    "def test(mtg, nbcuts = 20):\n",
    "    listidpruned = define_pruning(mtg, nbcuts)\n",
    "    mtg.property('pruning').clear()\n",
    "    mtg.property('pruning').update(tag_pruning(mtg, listidpruned))\n",
    "    print(sum([len(p) for p in listidpruned.values()]))\n",
    "\n",
    "    \n",
    "    print('Diameters')\n",
    "    figure(figsize=(18,4))\n",
    "    for order, pruneds in listidpruned.items():\n",
    "        if len(pruneds) > 0:\n",
    "            subplot(130+order)\n",
    "            d = [get_gu_diameter(mtg, vid) for vid in pruneds]\n",
    "            hist(d)\n",
    "            print ((np.mean(d), np.std(d)),(np.min(d), np.max(d)),diameterrange[order])\n",
    "    show()\n",
    "    \n",
    "    print('Nb Descendants')\n",
    "    figure(figsize=(18,4))\n",
    "    for order, pruneds in listidpruned.items():\n",
    "        if len(pruneds) > 0:\n",
    "            subplot(130+order)\n",
    "            d = [len(get_descendants_gus_from_ancestor(mtg, vid))-1 for vid in pruneds]\n",
    "            hist(d,bins=arange(0.5,max(d)+0.51,1))\n",
    "            print(np.mean(d), np.std(d))\n",
    "    show()\n",
    "\n",
    "    print('Nb Leaves')\n",
    "    nbleaves = mtg.property('NbLeaf')\n",
    "    figure(figsize=(18,4))\n",
    "    for order, pruneds in listidpruned.items():\n",
    "        if len(pruneds) > 0:\n",
    "            subplot(130+order)\n",
    "            d = [sum([nbleaves.get(lvid,0) for lvid in get_descendants_gus_from_ancestor(mtg, vid) if lvid != vid]) for vid in pruneds]\n",
    "            hist(d) #,bins=arange(-0.5,max(d)+0.51,1))\n",
    "            print(np.mean(d), np.std(d))\n",
    "    show()\n",
    "    return listidpruned\n"
   ]
  },
  {
   "cell_type": "code",
   "execution_count": null,
   "metadata": {
    "ExecuteTime": {
     "end_time": "2022-05-16T08:36:36.484509Z",
     "start_time": "2022-05-16T08:36:35.680862Z"
    }
   },
   "outputs": [],
   "source": [
    "listidprunedT1 = test(g,20)\n",
    "print(listidprunedT1)"
   ]
  },
  {
   "cell_type": "code",
   "execution_count": null,
   "metadata": {
    "ExecuteTime": {
     "end_time": "2022-05-16T08:36:44.156511Z",
     "start_time": "2022-05-16T08:36:43.166121Z"
    }
   },
   "outputs": [],
   "source": [
    "listidprunedT2 = test(g, 40)"
   ]
  },
  {
   "cell_type": "code",
   "execution_count": null,
   "metadata": {
    "ExecuteTime": {
     "end_time": "2022-05-16T08:36:48.565911Z",
     "start_time": "2022-05-16T08:36:47.745133Z"
    }
   },
   "outputs": [],
   "source": [
    "listidprunedT3 = test(g, 60)\n",
    "print(listidprunedT3)"
   ]
  },
  {
   "cell_type": "code",
   "execution_count": null,
   "metadata": {
    "ExecuteTime": {
     "end_time": "2022-05-16T08:36:52.555887Z",
     "start_time": "2022-05-16T08:36:52.208635Z"
    }
   },
   "outputs": [],
   "source": [
    "idprunedcustom = test(g,(0,0,120))"
   ]
  },
  {
   "cell_type": "markdown",
   "metadata": {},
   "source": [
    "### Preliminary analysis\n",
    "\n",
    "Diameters of n2 and n3 are very similars. Measured values range more at 7, 9.5, 13 for n1, n2 and n3 respectivelly.\n",
    "\n",
    "With rule of cut points for stricts n1, n2, n3, n1 are always composed of only 1 GU. It means that no configuration with several daughters at the same points with no children each exists in the digitized structure."
   ]
  },
  {
   "cell_type": "markdown",
   "metadata": {},
   "source": [
    "## Pruning Characterization"
   ]
  },
  {
   "cell_type": "markdown",
   "metadata": {},
   "source": [
    "### intensité de taille en variable continue\n",
    "attention, l'intensité de taille correspond à la biomasse/volume et non la surface foliaire/volume"
   ]
  },
  {
   "cell_type": "code",
   "execution_count": null,
   "metadata": {
    "ExecuteTime": {
     "end_time": "2022-05-16T08:38:06.745905Z",
     "start_time": "2022-05-16T08:38:06.740215Z"
    }
   },
   "outputs": [],
   "source": [
    "def pruned_biomass_analysis(mtg, listprunedgu): \n",
    "    diameters = [[get_gu_diameter(mtg,vid) for vid in nis] for nis in listprunedgu.values()]\n",
    "    biomasses = [sum(list(map(gu_biomass, diam)))/1000 for diam in diameters]\n",
    "    biomass = sum(biomasses)\n",
    "\n",
    "    print(\"biomasse totale retirée:\",round(biomass,2),\"kg\")\n",
    "    print(\"biomasse n1:\",round(biomasses[0],2),\"kg - diameters :\", np.mean(diameters[0]), '+-', np.std(diameters[0]), ' (6.9+-1.6)')\n",
    "    print(\"biomasse n2:\",round(biomasses[1],2),\"kg - diameters :\", np.mean(diameters[1]), '+-', np.std(diameters[1]), ' (9.5+-2.5)')\n",
    "    print(\"biomasse n3:\",round(biomasses[2],2),\"kg - diameters :\", np.mean(diameters[2]), '+-', np.std(diameters[2]), ' (13.1+-3.4)')\n"
   ]
  },
  {
   "cell_type": "code",
   "execution_count": null,
   "metadata": {
    "ExecuteTime": {
     "end_time": "2022-05-16T08:38:07.334522Z",
     "start_time": "2022-05-16T08:38:07.330641Z"
    }
   },
   "outputs": [],
   "source": [
    "def continuous_intensity(mtg, listprunedgu): \n",
    "    mvolume = volume(mtg)\n",
    "    diameters = [[get_gu_diameter(mtg,vid) for vid in nis] for nis in listprunedgu.values()]\n",
    "    biomasses = [sum(list(map(gu_biomass, diam)))/1000 for diam in diameters]\n",
    "    biomass = sum(biomasses)\n",
    "\n",
    "    return biomass / mvolume "
   ]
  },
  {
   "cell_type": "markdown",
   "metadata": {},
   "source": [
    "### intensité de taille catégorielle: T0, T1, T2 ou T3"
   ]
  },
  {
   "cell_type": "code",
   "execution_count": null,
   "metadata": {
    "ExecuteTime": {
     "end_time": "2022-05-16T08:38:09.660531Z",
     "start_time": "2022-05-16T08:38:09.656693Z"
    }
   },
   "outputs": [],
   "source": [
    "# Threshold are expressed in kg.m-3\n",
    "T1threshold= 0.20\n",
    "T2threshold=0.40\n",
    "T3threshold = 0.60\n",
    "\n",
    "T0, T1, T2, T3 = \"T0\", \"T1\", \"T2\", \"T3\"\n",
    "\n",
    "def intensity_level(continuous_intensity): \n",
    "    if continuous_intensity == 0: return T0\n",
    "    elif continuous_intensity <= T1threshold: return T1\n",
    "    elif continuous_intensity <= T2threshold: return T2\n",
    "    elif continuous_intensity <= T3threshold: return T3\n",
    "    raise ValueError(continuous_intensity)\n",
    "    "
   ]
  },
  {
   "cell_type": "code",
   "execution_count": null,
   "metadata": {
    "ExecuteTime": {
     "end_time": "2022-05-16T08:38:23.501386Z",
     "start_time": "2022-05-16T08:38:10.947379Z"
    }
   },
   "outputs": [],
   "source": [
    "cT1 = continuous_intensity(g,listidprunedT1)\n",
    "pruned_biomass_analysis(g,listidprunedT1)\n",
    "print(\"intensité de taille\",  cT1, intensity_level(cT1))\n",
    "print()\n",
    "\n",
    "cT2 = continuous_intensity(g,listidprunedT2)\n",
    "pruned_biomass_analysis(g,listidprunedT2)\n",
    "print(\"intensité de taille\", cT2, intensity_level(cT2))\n",
    "print()\n",
    "\n",
    "cT3 = continuous_intensity(g,listidprunedT3)\n",
    "pruned_biomass_analysis(g,listidprunedT3)\n",
    "print(\"intensité de taille\", cT3, intensity_level(cT3))"
   ]
  },
  {
   "cell_type": "markdown",
   "metadata": {},
   "source": [
    "## Caracterizing cut"
   ]
  },
  {
   "cell_type": "markdown",
   "metadata": {},
   "source": [
    "### We calculate the mean number of terminal GUs according to pruning severity"
   ]
  },
  {
   "cell_type": "code",
   "execution_count": null,
   "metadata": {
    "ExecuteTime": {
     "end_time": "2022-05-16T08:38:29.581860Z",
     "start_time": "2022-05-16T08:38:29.578576Z"
    }
   },
   "outputs": [],
   "source": [
    "def nbterminals(mtg, listcutids):\n",
    "    nb_term = [len(get_terminal_gus_from_ancestor(mtg, vid)) for vid in listcutids]\n",
    "    return (round(np.mean(nb_term),2), round(np.std(nb_term),2))"
   ]
  },
  {
   "cell_type": "code",
   "execution_count": null,
   "metadata": {
    "ExecuteTime": {
     "end_time": "2022-05-16T08:38:30.658072Z",
     "start_time": "2022-05-16T08:38:30.586662Z"
    },
    "scrolled": false
   },
   "outputs": [],
   "source": [
    "id_n1, id_n2, id_n3 = potential_cutpoints\n",
    "print(nbterminals(g,id_n1))\n",
    "print(nbterminals(g,id_n2))\n",
    "print(nbterminals(g,id_n3))"
   ]
  },
  {
   "cell_type": "markdown",
   "metadata": {},
   "source": [
    "### We calculate the number of leaves above the pruning point according to pruning severity"
   ]
  },
  {
   "cell_type": "code",
   "execution_count": null,
   "metadata": {
    "ExecuteTime": {
     "end_time": "2022-05-16T08:38:35.276697Z",
     "start_time": "2022-05-16T08:38:35.272910Z"
    }
   },
   "outputs": [],
   "source": [
    "def nbleaves_prunedGU(mtg, listcutids):\n",
    "    d = [sum([get_gu_nb_leaf(mtg, lvid) for lvid in get_descendants_gus_from_ancestor(mtg, vid) if lvid != vid]) for vid in listcutids]\n",
    "    return (round(np.mean(d)),round(np.std(d)))"
   ]
  },
  {
   "cell_type": "code",
   "execution_count": null,
   "metadata": {
    "ExecuteTime": {
     "end_time": "2022-05-16T08:38:36.230009Z",
     "start_time": "2022-05-16T08:38:36.139490Z"
    }
   },
   "outputs": [],
   "source": [
    "print(nbleaves_prunedGU(g,id_n1))\n",
    "print(nbleaves_prunedGU(g,id_n2))\n",
    "print(nbleaves_prunedGU(g,id_n3))"
   ]
  },
  {
   "cell_type": "markdown",
   "metadata": {},
   "source": [
    "### calculation of leaf area from diameter"
   ]
  },
  {
   "cell_type": "code",
   "execution_count": null,
   "metadata": {
    "ExecuteTime": {
     "end_time": "2022-05-16T08:38:38.332574Z",
     "start_time": "2022-05-16T08:38:38.329307Z"
    }
   },
   "outputs": [],
   "source": [
    "def leafarea(mtg,listcutids):\n",
    "    leaf_area = [gu_leaf_area(get_gu_diameter(mtg, vid)) for vid in listcutids]\n",
    "    #leaf_area = [gu_leaf_area(get_gu_section(mtg, vid)) for vid in listcutids]\n",
    "    return ((np.mean(leaf_area)),(np.std(leaf_area)))    "
   ]
  },
  {
   "cell_type": "code",
   "execution_count": null,
   "metadata": {
    "ExecuteTime": {
     "end_time": "2022-05-16T08:38:39.162975Z",
     "start_time": "2022-05-16T08:38:39.155293Z"
    },
    "scrolled": true
   },
   "outputs": [],
   "source": [
    "print(leafarea(g,id_n1))\n",
    "print(leafarea(g,id_n2))\n",
    "print(leafarea(g,id_n3))"
   ]
  },
  {
   "cell_type": "markdown",
   "metadata": {},
   "source": [
    "## Application of pruning"
   ]
  },
  {
   "cell_type": "code",
   "execution_count": null,
   "metadata": {
    "ExecuteTime": {
     "end_time": "2022-05-16T08:38:50.031846Z",
     "start_time": "2022-05-16T08:38:50.026679Z"
    }
   },
   "outputs": [],
   "source": [
    "def apply_pruning(mtg, listprunedids):\n",
    "    mtg.property('cuted').clear()\n",
    "    mtg.property('cuted').update(tag_cuted_nodes(mtg, listprunedids))\n",
    "    pnames = mtg.property_names()\n",
    "    for order, prunedids in listprunedids.items():\n",
    "        for pid in prunedids:\n",
    "            descendants = list(reversed(mtg.Descendants(pid)))\n",
    "            for d in descendants:\n",
    "                if d != pid:\n",
    "                    for pname in pnames:\n",
    "                        if d in mtg.property(pname):\n",
    "                            del mtg.property(pname)[d]\n",
    "                    mtg.remove_vertex(d)\n",
    "            if mtg.nb_children(pid) != 0 :\n",
    "                raise ValueError(pid, mtg.children(pid))"
   ]
  },
  {
   "cell_type": "code",
   "execution_count": null,
   "metadata": {
    "ExecuteTime": {
     "end_time": "2022-05-16T08:38:55.958182Z",
     "start_time": "2022-05-16T08:38:52.235796Z"
    }
   },
   "outputs": [],
   "source": [
    "from copy import deepcopy\n",
    "t3 = deepcopy(g)\n",
    "plot_pruning(t3, listidprunedT3, leaves = True)\n",
    "apply_pruning(t3, listidprunedT3)\n",
    "print(t3.property('pruning'))\n",
    "print(t3.property('cuted'))\n",
    "plot_tree(t3,leaves= True)\n",
    "print(len(g), len(t3))\n"
   ]
  },
  {
   "cell_type": "markdown",
   "metadata": {},
   "source": [
    "\n",
    "# Vegetative growth after pruning"
   ]
  },
  {
   "cell_type": "code",
   "execution_count": null,
   "metadata": {
    "ExecuteTime": {
     "end_time": "2022-05-16T08:41:15.261933Z",
     "start_time": "2022-05-16T08:41:15.254801Z"
    }
   },
   "outputs": [],
   "source": [
    "from numpy.random import binomial, poisson, uniform, normal\n",
    "import sys\n",
    "\n",
    "def binomial_proba(intercept, slope, factor):\n",
    "    linear = intercept +slope*factor\n",
    "    return exp(linear)/(1+exp(linear))\n",
    "\n",
    "def binomial_realization(proba):\n",
    "    return bool( binomial(1,proba) )\n",
    "\n",
    "def poisson_proba(intercept, slope, factor):\n",
    "    return exp(intercept+slope*factor)\n",
    "\n",
    "def poisson_realization(proba, maxval = sys.maxsize, minval = 0):\n",
    "    assert maxval > minval\n",
    "    val = int( poisson(proba, 1) )\n",
    "    count = 0\n",
    "    while (val < minval) or (val > maxval):\n",
    "        count += 1\n",
    "        if count >= 1000:\n",
    "            raise ValueError(proba, maxval, minval)\n",
    "        val = int( poisson(proba, 1) )\n",
    "    return val\n",
    "\n",
    "def normal_realization(mean, sd, maxval = sys.float_info.max, minval = sys.float_info.min):\n",
    "    assert maxval > minval\n",
    "    val = normal(mean, sd)\n",
    "    count = 0\n",
    "    while (val < minval) or (val > maxval):\n",
    "        count += 1\n",
    "        if count >= 1000:\n",
    "            raise ValueError(mean, sd, maxval, minval, val)\n",
    "        val = normal(mean, sd)\n",
    "    return val"
   ]
  },
  {
   "cell_type": "code",
   "execution_count": null,
   "metadata": {
    "ExecuteTime": {
     "end_time": "2022-05-16T08:41:16.273327Z",
     "start_time": "2022-05-16T08:41:16.269226Z"
    }
   },
   "outputs": [],
   "source": [
    " def lateral_directions(maindir, angle, nb):\n",
    "    from math import pi\n",
    "    from openalea.plantgl.all import direction, Matrix3\n",
    "    assert nb >= 1\n",
    "    rotdir = direction(maindir.anOrthogonalVector())\n",
    "    rotmat = Matrix3.axisRotation(rotdir, radians(angle))\n",
    "    v0 = rotmat * maindir\n",
    "    deltahangle = 2*pi/nb\n",
    "    result = [v0] + [Matrix3.axisRotation(maindir, i * deltahangle) *v0 for i in range(1,nb)]\n",
    "    return result\n"
   ]
  },
  {
   "cell_type": "code",
   "execution_count": null,
   "metadata": {
    "ExecuteTime": {
     "end_time": "2022-05-16T08:41:18.176922Z",
     "start_time": "2022-05-16T08:41:18.166937Z"
    }
   },
   "outputs": [],
   "source": [
    "def create_daughters(mtg, vid, apical, nblateral, burstdate, totalleafarea = None,  individualleafarea = None):\n",
    "    parentdirection = get_gu_normed_direction(mtg, vid)\n",
    "    topposition = get_gu_top_position(mtg, vid)\n",
    "    diam = get_gu_diameter(mtg, vid)\n",
    "    newgus = []\n",
    "    # newconnections = []\n",
    "    lengths = []\n",
    "    if not totalleafarea is None:\n",
    "        set_gu_property(mtg, vid, \"RegeneratedLeafArea\", totalleafarea)\n",
    "\n",
    "    if apical:\n",
    "        apicaldaughter = mtg.add_child(vid, edge_type = '<', UnitType = 'U', label = 'S'+str(int(mtg.label(vid)[1:])+1))        \n",
    "        l = gu_length(eApical, gu_position(mtg, vid) )\n",
    "        set_gu_top_position(mtg, apicaldaughter, topposition + parentdirection * l )\n",
    "        set_gu_diameter(mtg, apicaldaughter, diam)\n",
    "        newgus.append(apicaldaughter)\n",
    "        lengths.append(l)\n",
    "        set_gu_property(mtg, apicaldaughter, \"Regrowth\", True)\n",
    "        set_gu_property(mtg, apicaldaughter, \"BurstDate\", burstdate)\n",
    "        \n",
    "    branching_angle = 60\n",
    "    if nblateral > 0:\n",
    "        for latiter, latdirection in enumerate(lateral_directions(parentdirection, branching_angle, nblateral)):\n",
    "            lateralconnection = mtg.add_child(vid, edge_type = '+', label = 'S1', Position = topposition, UnitType = 'U')\n",
    "            lateraldaughter   = mtg.add_child(lateralconnection, edge_type = '<', label = 'S2', UnitType = 'U', Diameter=diam/10.)\n",
    "            l = gu_length(eLateral, gu_position(mtg, vid) )\n",
    "            set_gu_top_position(mtg, lateraldaughter, topposition + latdirection * l )\n",
    "            set_gu_diameter(mtg, lateraldaughter, diam)\n",
    "            # newconnections.append(lateralconnection)\n",
    "            newgus.append(lateraldaughter)\n",
    "            lengths.append(l)\n",
    "            set_gu_property(mtg, lateraldaughter, \"Regrowth\", True)\n",
    "            set_gu_property(mtg, lateraldaughter, \"BurstDate\", burstdate)\n",
    "            #print(get_gu_top_position(mtg, lateraldaughter),get_gu_bottom_position(mtg, lateraldaughter), get_gu_diameter(mtg, lateraldaughter))\n",
    "\n",
    "    totlength = sum(lengths)\n",
    "    if not totalleafarea is None and totalleafarea > 0:\n",
    "        unitla = totalleafarea / totlength\n",
    "        for vid, l in zip(newgus, lengths):\n",
    "            leafarea = unitla*l\n",
    "            set_gu_property(mtg, vid, \"LeafArea\", leafarea)\n",
    "            if not individualleafarea is None:\n",
    "                set_gu_property(mtg, vid, \"NbLeaf\", int(round(leafarea / individualleafarea)))\n",
    "    \n",
    "    return newgus\n",
    "        \n"
   ]
  },
  {
   "cell_type": "code",
   "execution_count": null,
   "metadata": {
    "ExecuteTime": {
     "end_time": "2022-05-16T08:41:55.804411Z",
     "start_time": "2022-05-16T08:41:55.767939Z"
    }
   },
   "outputs": [],
   "source": [
    "def gu_length(position, motherposition):\n",
    "    gu_length_distrib = { (eApical, eApical)   : ( 18.14 , 4.14 ) ,\n",
    "                          (eApical, eLateral)  : ( 13.79 , 4.03 ) ,\n",
    "                          (eLateral, eApical)  : ( 12.59 , 3.38 ) ,\n",
    "                          (eLateral, eLateral) : ( 12.59 , 3.38 ) }\n",
    "    mean, sd = gu_length_distrib[(position, motherposition)]\n",
    "    return normal_realization(mean, sd, 25, 5)\n",
    "\n",
    "def gu_nb_leaf(position):\n",
    "    leaf_nb_distrib = { eApical  : ( 0.59, 5.5), eLateral : ( 0.62, 0.36) }\n",
    "    return normal_realization(*leaf_nb_distrib[position])\n",
    "    \n",
    "def burst_pruned(intensity, diameter):\n",
    "    probas = { T1 : (-2.479643,0.29399), \n",
    "               T3 : (-1.284197,0.29399) }\n",
    "    intercept, slope = probas[intensity]\n",
    "    probavalue = binomial_proba(intercept,slope,diameter)\n",
    "    return binomial_realization( probavalue)\n",
    "\n",
    "def nb_daughter_pruned(intensity, diameter):\n",
    "    probas = (-0.1563453, 0.09122709)\n",
    "    intercept, slope = probas\n",
    "    probavalue = poisson_proba(intercept,slope,diameter)\n",
    "    try:\n",
    "        return poisson_realization( probavalue, 10)+1\n",
    "    except ValueError as ve:\n",
    "        print(diameter)\n",
    "        raise ve\n",
    "\n",
    "def total_leafarea_pruned(intensity, diameter):\n",
    "    \"\"\" Total leaf area generated from a pruned gu in dm2 \"\"\"\n",
    "    probas = (0,0.6351646,4.978825)\n",
    "    intercept, slope,sd = probas\n",
    "    probavalue = slope*diameter+intercept\n",
    "    minval=0.1 \n",
    "    maxval=28\n",
    "    return  normal_realization(probavalue, sd, maxval, minval)\n",
    "\n",
    "def individual_leafarea_pruned(intensity):\n",
    "    \"\"\" Individual leaf area of GU borned from a pruned GU in dm2 \"\"\"\n",
    "    probas = { T1 : (47.1,25.9), \n",
    "               T3 : (62.3,21.1) }\n",
    "    probavalue, sd = probas[intensity]\n",
    "    minval=6 \n",
    "    maxval=150\n",
    "    return  normal_realization(probavalue, sd, maxval, minval)/100.\n",
    "    \n",
    "\n",
    "def burst_unpruned(intensity, diameter, apical_bud):\n",
    "    if apical_bud==True:\n",
    "        probas = { T0 : (-2.769854, 0.5973448),\n",
    "                   T1 : (-2.425214  , 0.5973448), \n",
    "                   T3 : (-1.559723 , 0.5973448) }\n",
    "        intercept, slope = probas[intensity]\n",
    "        probavalue = binomial_proba(intercept,slope,diameter)\n",
    "    else:\n",
    "        probas = { T0 : (-4.143407, 0.5973448),\n",
    "                   T1 : (-3.798768  , 0.5973448), \n",
    "                   T3 : (-2.933276  , 0.5973448) }\n",
    "        intercept, slope = probas[intensity]\n",
    "        probavalue = binomial_proba(intercept,slope,diameter)\n",
    "    return binomial_realization( probavalue)\n",
    "\n",
    "def nb_daughter_unpruned(intensity, diameter, apical_bud):\n",
    "    if apical_bud :\n",
    "        probas = { T0 : (-5.563934, 0.4102305),\n",
    "                   T1 : (-4.807413, 0.4102305), \n",
    "                   T3 : (-4.821,    0.4102305) }\n",
    "    else:\n",
    "        probas = { T0 : (-2.775646, 0.4102305),\n",
    "                   T1 : (-2.019124, 0.4102305), \n",
    "                   T3 : (-2.032712, 0.4102305) }\n",
    "    intercept, slope = probas[intensity]\n",
    "    probavalue = poisson_proba(intercept,slope,diameter)\n",
    "    try:\n",
    "        return poisson_realization( probavalue, 10)+1\n",
    "    except ValueError as ve:\n",
    "        print(intensity, diameter, apical_bud)\n",
    "        raise ve\n",
    "\n",
    "def total_leafarea_unpruned(intensity, diameter, apical_bud):\n",
    "    \"\"\" Total leaf area generated from a pruned gu in dm2 \"\"\"\n",
    "    if apical_bud :\n",
    "        probas = { T0 : (-0.3099147, 0.6698266,2.205946),\n",
    "                   T1 : (0.863612 ,0.6698266,2.342514), \n",
    "                   T3 : (2.579996, 0.6698266,2.458084) }\n",
    "    else:\n",
    "        probas = { T0 : (-1.913821, 0.6698266,2.361798),\n",
    "                   T1 : (-0.740294 ,0.6698266,2.342514), \n",
    "                   T3 : (2.579996, 0.6698266,1.290018) }\n",
    "        \n",
    "    intercept, slope,sd = probas[intensity]\n",
    "    probavalue = slope*diameter+intercept\n",
    "    minval=0.1\n",
    "    maxval=20\n",
    "    return  normal_realization(probavalue, sd, maxval, minval)\n",
    "\n",
    "def individual_leafarea_unpruned(intensity):\n",
    "    \"\"\" Individual leaf area of GU borned from an unpruned GU in dm2 \"\"\"\n",
    "    probas = { T0 : (37.9,18.7), \n",
    "               T1 : (49.6,26.4), \n",
    "               T3 : (70.4,29.03) }\n",
    "    probavalue, sd = probas[intensity]\n",
    "    minval=6\n",
    "    maxval=150\n",
    "    return  normal_realization(probavalue, sd, maxval, minval)/100.\n",
    " \n",
    "\n",
    "def burstdelay_pruned(intensity,  severity):\n",
    "    minval = 10\n",
    "    \n",
    "    if intensity == T1 :\n",
    "        \n",
    "        flushproba = { 1  : 0.28, 2 : 0.69, 3 : 0.64}\n",
    "        firstflush = binomial_realization(flushproba[severity])\n",
    "        \n",
    "        if firstflush : # Correspond to first flush\n",
    "            probas = { 1 : (14.7, 1.5) ,\n",
    "                       2 : (19.4, 2.9), \n",
    "                       3 : (17.8, 2.1) }\n",
    "        else:\n",
    "            probas = { 1 : (28.2, 3.9),\n",
    "                       2 : (28.3, 0.7), \n",
    "                       3 : (28.3, 2.0) }\n",
    "        mean, sd = probas[severity]\n",
    "        maxval = 40\n",
    "        \n",
    "    if intensity== T3 :\n",
    "        mean, sd = 16.5, 2.6\n",
    "        maxval = 30\n",
    "    \n",
    "    return normal_realization(mean, sd, maxval, minval)\n",
    "    \n",
    "def flush_selection_unpruned(intensity):\n",
    "    if intensity == T0 :\n",
    "        firstflushproba = 0.85\n",
    "    elif intensity == T1 :\n",
    "        firstflushproba = 0.48        \n",
    "    return binomial_realization(firstflushproba)\n",
    "\n",
    "def burstdelay_unpruned(intensity):\n",
    "    minval = 10\n",
    "    maxval = 35\n",
    "    \n",
    "    if intensity == T0 :\n",
    "        firstflush = flush_selection_unpruned(intensity)\n",
    "        if firstflush :\n",
    "            mean, sd = 13.4, 3.0\n",
    "        else:\n",
    "            mean, sd = 27.5, 1.1\n",
    "    if intensity == T1:\n",
    "        firstflush = flush_selection_unpruned(intensity)\n",
    "        if firstflush :\n",
    "            mean, sd = 13.5, 2.0\n",
    "        else:\n",
    "            mean, sd = 27.5, 1.1\n",
    "        \n",
    "    if intensity == T3:\n",
    "        mean, sd = 16.5, 2.6\n",
    "        maxval = 25\n",
    "        \n",
    "    return  normal_realization(mean, sd, maxval, minval)\n"
   ]
  },
  {
   "cell_type": "code",
   "execution_count": null,
   "metadata": {
    "ExecuteTime": {
     "end_time": "2022-05-16T08:41:57.037629Z",
     "start_time": "2022-05-16T08:41:57.024116Z"
    }
   },
   "outputs": [],
   "source": [
    "from datetime import date, timedelta\n",
    "\n",
    "def growth_pruned_gu(mtg, vid, intensity, severity, pruningdate):\n",
    "    diameter = get_gu_diameter(mtg, vid)\n",
    "    veggrowth = burst_pruned(intensity, diameter)\n",
    "    if veggrowth:\n",
    "        nbdaughter = nb_daughter_pruned(intensity, diameter)+1\n",
    "        assert nbdaughter >= 1\n",
    "        totalleafarea = total_leafarea_pruned(intensity, diameter)\n",
    "        individualleafarea = individual_leafarea_pruned(intensity)\n",
    "        burstdate = pruningdate + timedelta(days = burstdelay_pruned(intensity,  severity))\n",
    "        return create_daughters(mtg, vid, 0, nbdaughter, burstdate, totalleafarea, individualleafarea)       \n",
    "\n",
    "\n",
    "def growth_unpruned_gu(mtg, vid, intensity, pruningdate):\n",
    "    diameter = get_gu_diameter(mtg, vid)\n",
    "    apical_bud = binomial_realization(0.52)\n",
    "    veggrowth = burst_unpruned(intensity, diameter, apical_bud)\n",
    "    if veggrowth:\n",
    "        nbdaughter = nb_daughter_unpruned(intensity, diameter, apical_bud)\n",
    "        assert nbdaughter >= 1\n",
    "        totalleafarea = total_leafarea_unpruned(intensity, diameter, apical_bud)\n",
    "        individualleafarea = individual_leafarea_unpruned(intensity)\n",
    "        burstdate = pruningdate + timedelta(days = burstdelay_unpruned(intensity))\n",
    "        return create_daughters(mtg, vid, int(apical_bud), nbdaughter-int(apical_bud), burstdate, totalleafarea, individualleafarea)\n",
    "\n",
    "import util ; reload(util)\n",
    "from util import *\n",
    "\n",
    "\n",
    "def growth(mtg, listidpruned, intensity, pruningdate = date(2017,2,1), maxdiamunpruned = 10):\n",
    "    newmtg = deepcopy(mtg)\n",
    "    listidpruned = dict([(ni, set(ids)) for ni,ids in listidpruned.items() ])\n",
    "    terminals = get_all_terminal_gus(mtg)\n",
    "    nbterminals = len(terminals)\n",
    "    newids = []\n",
    "    print(\"Should examine\", nbterminals, \"terminal GUs.\")\n",
    "    nbpruned, nbunpruned, nbignored = 0,0,0\n",
    "    for count, vid in enumerate(terminals):\n",
    "        pruned = False\n",
    "        lnewids = None\n",
    "        for severity, ids in listidpruned.items():\n",
    "            if vid in ids:\n",
    "                # we consider a pruned gu:\n",
    "                lnewids = growth_pruned_gu(newmtg, vid, intensity, severity, pruningdate)\n",
    "                nbpruned += 1\n",
    "                pruned = True\n",
    "                break\n",
    "        if not pruned and get_gu_diameter(mtg, vid) <= maxdiamunpruned and not 'A'in mtg.property('Taille').get(vid,''):\n",
    "            nbunpruned += 1\n",
    "            lnewids = growth_unpruned_gu(newmtg, vid, intensity, pruningdate)\n",
    "        elif not pruned:\n",
    "            nbignored += 1\n",
    "        if lnewids:\n",
    "            newids += lnewids\n",
    "    print(\"Processed\", nbpruned, \"pruned terminal GU and\", nbunpruned, \"unpruned terminal GU and \", nbignored, \"ignored.\")\n",
    "    return newmtg, newids\n",
    "    "
   ]
  },
  {
   "cell_type": "code",
   "execution_count": null,
   "metadata": {
    "ExecuteTime": {
     "end_time": "2022-05-16T08:42:04.081869Z",
     "start_time": "2022-05-16T08:42:04.076025Z"
    },
    "scrolled": true
   },
   "outputs": [],
   "source": [
    "class GrowthColoring: \n",
    "    def __init__(self, newids):\n",
    "        self.newids = set(newids)\n",
    "    def prepare_turtle(self, turtle):\n",
    "        from openalea.plantgl.all import Material\n",
    "        turtle.setMaterial(1,Material((45,65,15))) # ,transparency=0.8))\n",
    "        turtle.setMaterial(10,Material((200,200,0)))\n",
    "        turtle.setMaterial(11,Material((200,0,0)))\n",
    "    def set_mtg(self, mtg):\n",
    "        self.mtg = mtg            \n",
    "        self.colors = { False : 1, True : 2}\n",
    "        self.mindate = min(self.mtg.property('BurstDate').values()) #date(2017,2,1)\n",
    "        self.maxdate = max(self.mtg.property('BurstDate').values()) #date(2017,6,1)\n",
    "        print(self.mindate, self.maxdate)\n",
    "        self.deltadate = float((self.maxdate - self.mindate).days)\n",
    "    def __call__(self, turtle, vid):\n",
    "        if vid in self.newids:\n",
    "            d = (get_gu_property(self.mtg, vid, \"BurstDate\")-self.mindate).days\n",
    "            turtle.interpolateColors(10,11,d/self.deltadate)\n",
    "        else:\n",
    "            turtle.setColor(1)\n",
    "\n"
   ]
  },
  {
   "cell_type": "code",
   "execution_count": null,
   "metadata": {
    "ExecuteTime": {
     "end_time": "2022-05-16T08:42:33.643972Z",
     "start_time": "2022-05-16T08:42:30.668545Z"
    }
   },
   "outputs": [],
   "source": [
    "gt3, newids = growth(t3, listidprunedT3, T3)\n",
    "print('Created', len(newids), 'new GUs')\n",
    "plot_tree(gt3, colorizer = GrowthColoring(newids), leaves=True, gc = False)"
   ]
  },
  {
   "cell_type": "code",
   "execution_count": null,
   "metadata": {
    "ExecuteTime": {
     "end_time": "2022-05-16T08:43:13.062284Z",
     "start_time": "2022-05-16T08:43:13.057324Z"
    }
   },
   "outputs": [],
   "source": [
    "def date_histo(g):\n",
    "    from matplotlib.pyplot import hist, show\n",
    "    from collections import Counter\n",
    "    from datetime import timedelta\n",
    "    c = list(Counter(g.property('BurstDate').values()).items())\n",
    "    c.sort(key = lambda v : v[0])\n",
    "    mindate = c[0][0]\n",
    "    maxdate = c[-1][0]\n",
    "    c = dict(c)\n",
    "    r = range(0,(maxdate-mindate).days)\n",
    "    d = [mindate+timedelta(days=d) for d in r]\n",
    "    v = [ c.get(di,0) for di in d]\n",
    "    bar(r,v)\n",
    "    xticks(r,d, rotation=90)\n",
    "    show()"
   ]
  },
  {
   "cell_type": "code",
   "execution_count": null,
   "metadata": {
    "ExecuteTime": {
     "end_time": "2022-05-16T08:43:13.761963Z",
     "start_time": "2022-05-16T08:43:13.623459Z"
    }
   },
   "outputs": [],
   "source": [
    "date_histo(gt3)"
   ]
  },
  {
   "cell_type": "code",
   "execution_count": null,
   "metadata": {
    "ExecuteTime": {
     "end_time": "2022-05-16T08:43:52.768556Z",
     "start_time": "2022-05-16T08:43:52.761676Z"
    }
   },
   "outputs": [],
   "source": [
    "def nb_children_histo(g):\n",
    "    def severity(vid):\n",
    "        return g.property('cuted').get(vid,0)\n",
    "\n",
    "    ancestors = [get_parent(g,vid) if vid in g.property('BurstDate') else vid for vid in get_all_terminal_gus(g) ]\n",
    "    ancestors = set(ancestors)\n",
    "    \n",
    "    values = [[] for i in range(4)]\n",
    "    for vid in ancestors:\n",
    "        values[severity(vid)].append(g.nb_children(vid))\n",
    "    figure(figsize=(18,4))\n",
    "    for order, v in enumerate(values):\n",
    "        if len(v) > 0:\n",
    "            subplot(220+order+1)\n",
    "            hist(v, bins=arange(0,max(1,max(v)))-0.5)\n",
    "            print(len(v),(np.mean(v), np.std(v)),(np.mean([vi for vi in v if vi > 0]), np.std([vi for vi in v if vi > 0])),(np.min(v), np.max(v)))\n",
    "    show()\n",
    "    "
   ]
  },
  {
   "cell_type": "code",
   "execution_count": null,
   "metadata": {
    "ExecuteTime": {
     "end_time": "2022-05-16T08:43:53.905848Z",
     "start_time": "2022-05-16T08:43:53.601481Z"
    }
   },
   "outputs": [],
   "source": [
    "nb_children_histo(gt3)"
   ]
  },
  {
   "cell_type": "markdown",
   "metadata": {},
   "source": [
    "# problèmes/questions?"
   ]
  },
  {
   "cell_type": "code",
   "execution_count": null,
   "metadata": {
    "ExecuteTime": {
     "end_time": "2022-05-16T08:43:58.737307Z",
     "start_time": "2022-05-16T08:43:58.729703Z"
    }
   },
   "outputs": [],
   "source": [
    "print(leafarea(g,id_n1)) # résultats très élevés\n",
    "print(leafarea(g,id_n2))\n",
    "print(leafarea(g,id_n3))"
   ]
  },
  {
   "cell_type": "markdown",
   "metadata": {},
   "source": [
    "Les diamètres des ucs non taillées sont parfois très gros."
   ]
  },
  {
   "cell_type": "code",
   "execution_count": null,
   "metadata": {
    "ExecuteTime": {
     "end_time": "2022-05-16T08:44:00.990589Z",
     "start_time": "2022-05-16T08:44:00.825509Z"
    }
   },
   "outputs": [],
   "source": [
    "diam = [(vid,get_gu_diameter(t3,vid)) for vid in get_all_terminal_gus(t3) if sum([vid in l for l in listidprunedT3.values()]) == 0 and not 'A'in t3.property('Taille').get(vid,'')]\n",
    "hist([d for v,d in diam],range(20))\n",
    "show()\n",
    "print([(v,d) for v,d in diam if d > 10])\n",
    "print(len(diam))\n",
    "print(len([(v,d) for v,d in diam if d > 12]))"
   ]
  },
  {
   "cell_type": "markdown",
   "metadata": {},
   "source": [
    "Les **longueurs d'UCs générées** suivent la loi normale du modèle précédent. A corriger avec données 2017"
   ]
  },
  {
   "cell_type": "markdown",
   "metadata": {},
   "source": [
    "# leaf area produced at the tree scale vs. leaf area removed by pruning"
   ]
  },
  {
   "cell_type": "code",
   "execution_count": null,
   "metadata": {
    "ExecuteTime": {
     "end_time": "2022-05-16T08:44:09.372852Z",
     "start_time": "2022-05-16T08:44:09.368599Z"
    }
   },
   "outputs": [],
   "source": [
    "def leaf_area_produced(mtg,newids):\n",
    "    newids = growth(t3, listidprunedT3, T3)\n",
    "    totalleafarea = sum([individual_leafarea_unpruned() for vid in newids])\n",
    "    growth(t3, listidprunedT3, T3)\n",
    "    return totalleafarea"
   ]
  },
  {
   "cell_type": "markdown",
   "metadata": {},
   "source": [
    "# améliorations possibles du modèle"
   ]
  },
  {
   "cell_type": "code",
   "execution_count": null,
   "metadata": {
    "ExecuteTime": {
     "end_time": "2022-05-16T08:45:14.483061Z",
     "start_time": "2022-05-16T08:45:14.475230Z"
    }
   },
   "outputs": [],
   "source": [
    "def pipeline(mtg, nbcuts):\n",
    "    # characterize before pruning\n",
    "    # nb of terminal units\n",
    "    nbterminalunits = len(get_all_terminal_gus(mtg))\n",
    "\n",
    "    # determine pruning\n",
    "    listidpruned = define_pruning(mtg, nbcuts)\n",
    "    #pruningprop = tag_pruning(mtg, listidpruned)\n",
    "\n",
    "    # characterize pruning\n",
    "    # - intensity\n",
    "    intensity = intensity_level(continuous_intensity(g,listidpruned))\n",
    "    if intensity == T2:\n",
    "        raise ValueError('Intensity', intensity)\n",
    "        \n",
    "    #  - nb of terminal units\n",
    "    nbremovedGU = sum([sum([len(get_descendants_gus_from_ancestor(mtg, vid))-1 for vid in pruneds]) for order, pruneds in listidpruned.items()])\n",
    "    \n",
    "    # - surface foliaire retire \n",
    "    removed_leaf_area = sum([sum([gu_leaf_area(get_gu_diameter(mtg, vid)) for vid in pruneds]) for order, pruneds in listidpruned.items()])\n",
    "    \n",
    "    # apply pruning\n",
    "    prunedmtg = deepcopy(mtg)\n",
    "    apply_pruning(prunedmtg, listidpruned)\n",
    "\n",
    "    # characterize pruning\n",
    "    # nb of terminal units\n",
    "    \n",
    "    # apply growth    \n",
    "    growthmtg, newGUs = growth(prunedmtg, listidpruned, intensity)\n",
    "\n",
    "    allpruned = set(listidpruned[n1]) | set(listidpruned[n2]) | set(listidpruned[n3])\n",
    "\n",
    "    # characterize growth\n",
    "    nbgeneratedGU = len(newGUs)\n",
    "    generated_leaf_area_pruned = sum([la for vid,la in growthmtg.property('RegeneratedLeafArea').items() if vid in allpruned])\n",
    "    generated_leaf_area_unpruned = sum([la for vid,la in growthmtg.property('RegeneratedLeafArea').items() if not (vid in allpruned)])\n",
    "    \n",
    "    return (nbterminalunits, nbremovedGU, nbgeneratedGU), (removed_leaf_area, generated_leaf_area_pruned, generated_leaf_area_unpruned)\n",
    "    "
   ]
  },
  {
   "cell_type": "code",
   "execution_count": null,
   "metadata": {
    "ExecuteTime": {
     "end_time": "2022-05-16T08:45:20.307198Z",
     "start_time": "2022-05-16T08:45:15.347685Z"
    }
   },
   "outputs": [],
   "source": [
    "units0, la0 = pipeline(g, 0)\n",
    "print(units0, la0)"
   ]
  },
  {
   "cell_type": "code",
   "execution_count": null,
   "metadata": {
    "ExecuteTime": {
     "end_time": "2022-05-16T08:45:27.107107Z",
     "start_time": "2022-05-16T08:45:22.129369Z"
    }
   },
   "outputs": [],
   "source": [
    "units20, la20 = pipeline(g, 20)\n",
    "print(units20, la20)"
   ]
  },
  {
   "cell_type": "code",
   "execution_count": null,
   "metadata": {
    "ExecuteTime": {
     "end_time": "2022-05-16T08:45:32.450150Z",
     "start_time": "2022-05-16T08:45:27.108940Z"
    }
   },
   "outputs": [],
   "source": [
    "units60, la60 = pipeline(g, 60)\n",
    "print(units60, la60)"
   ]
  },
  {
   "cell_type": "code",
   "execution_count": null,
   "metadata": {
    "ExecuteTime": {
     "end_time": "2022-05-16T08:45:36.905966Z",
     "start_time": "2022-05-16T08:45:32.452127Z"
    }
   },
   "outputs": [],
   "source": [
    "#units0060, la0060 = pipeline(g, (0,30,76))\n",
    "print(units0060, la0060)"
   ]
  },
  {
   "cell_type": "code",
   "execution_count": null,
   "metadata": {
    "ExecuteTime": {
     "end_time": "2022-05-16T08:45:49.248000Z",
     "start_time": "2022-05-16T08:45:49.244516Z"
    }
   },
   "outputs": [],
   "source": [
    "print(la0[1]-la0[0])\n",
    "print(la20[1]-la20[0])\n",
    "print(la60[1]-la60[0])\n"
   ]
  },
  {
   "cell_type": "code",
   "execution_count": null,
   "metadata": {
    "ExecuteTime": {
     "end_time": "2022-05-16T08:46:03.682143Z",
     "start_time": "2022-05-16T08:46:03.676749Z"
    }
   },
   "outputs": [],
   "source": [
    "def process_range(mtg, cutrange = (0,20), cuttype = (1,1,1), nbtests = 1):\n",
    "    if type(cutrange) == int:\n",
    "        cutrange = (0, cutrange)\n",
    "    import numpy as np\n",
    "    gla = []\n",
    "    gunits = [] \n",
    "    cuts = []\n",
    "    for c in range(*cutrange):\n",
    "        for i in range(nbtests):\n",
    "            print('process',c,'-',i)\n",
    "            try:\n",
    "                units, la = pipeline(mtg, [c*i for i in cuttype])\n",
    "            except ValueError as e:\n",
    "                print(e)\n",
    "                continue\n",
    "            gla.append(la)\n",
    "            gunits.append(units)\n",
    "            cuts.append(c)\n",
    "    gla = np.array(gla)\n",
    "    gunits = np.array(gunits)\n",
    "    return cuts, gla, gunits\n",
    "    "
   ]
  },
  {
   "cell_type": "code",
   "execution_count": null,
   "metadata": {
    "ExecuteTime": {
     "end_time": "2022-05-16T08:53:37.278450Z",
     "start_time": "2022-05-16T08:47:29.472955Z"
    }
   },
   "outputs": [],
   "source": [
    "cuts76, las76, units76 = process_range(g,(0,76), nbtests = 1)\n"
   ]
  },
  {
   "cell_type": "code",
   "execution_count": null,
   "metadata": {
    "ExecuteTime": {
     "end_time": "2022-05-16T09:03:42.307412Z",
     "start_time": "2022-05-16T09:03:42.301165Z"
    }
   },
   "outputs": [],
   "source": [
    "def plot_cutrange(cuts, las, units):\n",
    "    figure(figsize=(12,6))\n",
    "    #subplot(121)\n",
    "    normalproduction = np.mean(las[where(np.isin(cuts,[0]))[0],2])\n",
    "    plot(cuts,las[:,0],'.',label='removed leaf area')\n",
    "    plot(cuts,las[:,1],'.',label='generated leaf area from pruned GU')\n",
    "    plot(cuts,las[:,2],'.',label='generated leaf area from unpruned GU')\n",
    "    plot(cuts,las[:,1]+las[:,2],'.',label='generated leaf area')\n",
    "    plot(cuts,(las[:,1]+las[:,2])-(las[:,0]+normalproduction),'.',label='increase of leaf area (compared to To)')\n",
    "    legend()\n",
    "    show()\n",
    "    figure(figsize=(12,6))\n",
    "    #subplot(122)\n",
    "    plot(cuts,units[:,0],'.',label='nb terminal units')\n",
    "    plot(cuts,units[:,1],'.',label='nb removed GU')\n",
    "    plot(cuts,units[:,2],'.',label='nb generated GU')\n",
    "    legend()\n",
    "    show()\n"
   ]
  },
  {
   "cell_type": "code",
   "execution_count": null,
   "metadata": {
    "ExecuteTime": {
     "end_time": "2022-05-16T09:03:43.082779Z",
     "start_time": "2022-05-16T09:03:42.836784Z"
    }
   },
   "outputs": [],
   "source": [
    "plot_cutrange(cuts76, las76, units76)\n"
   ]
  },
  {
   "cell_type": "code",
   "execution_count": null,
   "metadata": {
    "ExecuteTime": {
     "end_time": "2022-05-16T08:32:05.587940Z",
     "start_time": "2022-05-16T08:32:05.587923Z"
    }
   },
   "outputs": [],
   "source": [
    "\n",
    "cuts, las, units = process_range(g,(0,300,5), cuttype = (1,0,0), nbtests = 1)"
   ]
  },
  {
   "cell_type": "code",
   "execution_count": null,
   "metadata": {
    "ExecuteTime": {
     "end_time": "2022-05-16T08:32:05.588909Z",
     "start_time": "2022-05-16T08:32:05.588897Z"
    }
   },
   "outputs": [],
   "source": [
    "plot_cutrange(cuts, las, units)"
   ]
  },
  {
   "cell_type": "code",
   "execution_count": null,
   "metadata": {
    "ExecuteTime": {
     "end_time": "2022-05-16T08:32:05.590077Z",
     "start_time": "2022-05-16T08:32:05.590064Z"
    }
   },
   "outputs": [],
   "source": [
    "cuts, las, units = process_range(g,(0,300,5), cuttype = (0,1,0), nbtests = 1)"
   ]
  },
  {
   "cell_type": "code",
   "execution_count": null,
   "metadata": {
    "ExecuteTime": {
     "end_time": "2022-05-16T08:32:05.591305Z",
     "start_time": "2022-05-16T08:32:05.591292Z"
    }
   },
   "outputs": [],
   "source": [
    "plot_cutrange(cuts, las, units)"
   ]
  },
  {
   "cell_type": "code",
   "execution_count": null,
   "metadata": {
    "ExecuteTime": {
     "end_time": "2022-05-16T08:32:05.592369Z",
     "start_time": "2022-05-16T08:32:05.592356Z"
    }
   },
   "outputs": [],
   "source": [
    "cuts, las, units = process_range(g,(0,80,2), cuttype = (0,0,1), nbtests = 1)"
   ]
  },
  {
   "cell_type": "code",
   "execution_count": null,
   "metadata": {
    "ExecuteTime": {
     "end_time": "2022-05-16T08:32:05.593370Z",
     "start_time": "2022-05-16T08:32:05.593357Z"
    }
   },
   "outputs": [],
   "source": [
    "plot_cutrange(cuts, las, units)"
   ]
  },
  {
   "cell_type": "code",
   "execution_count": null,
   "metadata": {},
   "outputs": [],
   "source": []
  }
 ],
 "metadata": {
  "kernelspec": {
   "display_name": "Python 3 (ipykernel)",
   "language": "python",
   "name": "python3"
  },
  "language_info": {
   "codemirror_mode": {
    "name": "ipython",
    "version": 3
   },
   "file_extension": ".py",
   "mimetype": "text/x-python",
   "name": "python",
   "nbconvert_exporter": "python",
   "pygments_lexer": "ipython3",
   "version": "3.9.10"
  }
 },
 "nbformat": 4,
 "nbformat_minor": 2
}
