{
 "cells": [
  {
   "cell_type": "markdown",
   "metadata": {},
   "source": [
    "# Virtual Pruning"
   ]
  },
  {
   "cell_type": "markdown",
   "metadata": {},
   "source": [
    "## Importing the digitized structure"
   ]
  },
  {
   "cell_type": "code",
   "execution_count": 1,
   "metadata": {
    "ExecuteTime": {
     "end_time": "2022-05-31T12:45:56.018480Z",
     "start_time": "2022-05-31T12:45:54.720736Z"
    }
   },
   "outputs": [],
   "source": [
    "from openalea.mtg import *\n",
    "from numpy import *\n",
    "import numpy as np\n",
    "from importlib import reload\n",
    "import numpy as np\n",
    "import mangoG3; reload(mangoG3)\n",
    "from mangoG3 import *\n",
    "\n",
    "g = get_G3_mtg()\n"
   ]
  },
  {
   "cell_type": "code",
   "execution_count": 2,
   "metadata": {
    "ExecuteTime": {
     "end_time": "2022-05-31T12:45:56.919403Z",
     "start_time": "2022-05-31T12:45:56.021146Z"
    }
   },
   "outputs": [
    {
     "data": {
      "text/plain": [
       "<module 'mtgplot' from 'D:\\\\V_mango\\\\virtualpruning\\\\notebooks\\\\mtgplot.py'>"
      ]
     },
     "execution_count": 2,
     "metadata": {},
     "output_type": "execute_result"
    }
   ],
   "source": [
    "from matplotlib.pyplot import *\n",
    "import mtgplot as mp\n",
    "reload(mp)\n"
   ]
  },
  {
   "cell_type": "code",
   "execution_count": null,
   "metadata": {
    "ExecuteTime": {
     "end_time": "2022-05-31T12:45:57.768799Z",
     "start_time": "2022-05-31T12:45:56.921178Z"
    }
   },
   "outputs": [],
   "source": [
    "sw = mp.plot_tree(g)\n",
    "sw"
   ]
  },
  {
   "cell_type": "markdown",
   "metadata": {},
   "source": [
    "### Diameter characterization"
   ]
  },
  {
   "cell_type": "code",
   "execution_count": null,
   "metadata": {
    "ExecuteTime": {
     "end_time": "2022-05-31T12:45:59.904680Z",
     "start_time": "2022-05-31T12:45:57.772304Z"
    }
   },
   "outputs": [],
   "source": [
    "mp.plot_terminal_diameter(g, True, maxvalue=10)"
   ]
  },
  {
   "cell_type": "code",
   "execution_count": null,
   "metadata": {
    "ExecuteTime": {
     "end_time": "2022-05-31T12:46:00.595681Z",
     "start_time": "2022-05-31T12:45:59.906508Z"
    }
   },
   "outputs": [],
   "source": [
    "def terminal_diameter_histo(mtg):\n",
    "    vids = [vid for vid in get_all_terminal_gus(mtg) if not was_previously_pruned(mtg,vid)]\n",
    "    diam = list(map(lambda v : get_gu_diameter(mtg,v), vids))\n",
    "    hist(diam, bins=range(int(max(diam)+1)))\n",
    "    show()\n",
    "    \n",
    "terminal_diameter_histo(g)"
   ]
  },
  {
   "cell_type": "code",
   "execution_count": null,
   "metadata": {
    "ExecuteTime": {
     "end_time": "2022-05-31T12:46:01.218245Z",
     "start_time": "2022-05-31T12:46:00.597641Z"
    }
   },
   "outputs": [],
   "source": [
    "from openalea.mtg.dataframe import to_dataframe\n",
    "df = to_dataframe(g)"
   ]
  },
  {
   "cell_type": "code",
   "execution_count": null,
   "metadata": {
    "ExecuteTime": {
     "end_time": "2022-05-31T12:46:01.394136Z",
     "start_time": "2022-05-31T12:46:01.220109Z"
    }
   },
   "outputs": [],
   "source": [
    "df['Diameter'][df['Diameter'].notna()].hist(bins=range(int(max(df['Diameter'])+1)))"
   ]
  },
  {
   "cell_type": "code",
   "execution_count": null,
   "metadata": {
    "ExecuteTime": {
     "end_time": "2022-05-31T12:46:01.413536Z",
     "start_time": "2022-05-31T12:46:01.396204Z"
    }
   },
   "outputs": [],
   "source": [
    "print( max(map(lambda v : get_gu_diameter(g,v), get_all_gus(g))),0 )"
   ]
  },
  {
   "cell_type": "code",
   "execution_count": null,
   "metadata": {
    "ExecuteTime": {
     "end_time": "2022-05-31T12:46:01.445317Z",
     "start_time": "2022-05-31T12:46:01.415950Z"
    }
   },
   "outputs": [],
   "source": [
    "thresholdradius = 10\n",
    "bigterminalradiusvids = [vid for vid in get_all_terminal_gus(g) if not was_previously_pruned(g,vid) if get_gu_diameter(g,vid) > thresholdradius]\n",
    "bigterminalradiusvids.sort(key = lambda vid : get_gu_diameter(g,vid))\n",
    "print('Terminals with radius bigger than',thresholdradius,':',len(bigterminalradiusvids),bigterminalradiusvids)\n",
    "print('Corresponding diameters :',list(map(lambda vid : get_gu_diameter(g,vid),bigterminalradiusvids)))\n",
    "    "
   ]
  },
  {
   "cell_type": "markdown",
   "metadata": {},
   "source": [
    "## Allometric relatrionships"
   ]
  },
  {
   "cell_type": "code",
   "execution_count": null,
   "metadata": {
    "ExecuteTime": {
     "end_time": "2022-05-31T12:46:01.455510Z",
     "start_time": "2022-05-31T12:46:01.452145Z"
    }
   },
   "outputs": [],
   "source": [
    "from allometry import *"
   ]
  },
  {
   "cell_type": "code",
   "execution_count": null,
   "metadata": {
    "ExecuteTime": {
     "end_time": "2022-05-31T12:46:08.756643Z",
     "start_time": "2022-05-31T12:46:01.458175Z"
    }
   },
   "outputs": [],
   "source": [
    "print('Volume :',volume(g), 'm3')\n",
    "mbbx = bbox(g)\n",
    "print([v[1]-v[0] for v in mbbx])"
   ]
  },
  {
   "cell_type": "markdown",
   "metadata": {},
   "source": [
    "## Pruning procedure\n",
    "\n",
    "To select a pruning point, we start from terminal points, trace back into the structure up to 3 layers. We check if the pruning point is valid by looking the depth of what it carries. If it is in average close to what is intended we select it. Else we select another one.\n",
    "\n",
    "Point d'amélioration : tailler en fait au milieu de la n4."
   ]
  },
  {
   "cell_type": "code",
   "execution_count": null,
   "metadata": {
    "ExecuteTime": {
     "end_time": "2022-05-31T12:46:08.766125Z",
     "start_time": "2022-05-31T12:46:08.758548Z"
    }
   },
   "outputs": [],
   "source": [
    "import pruning ; reload(pruning)\n",
    "from pruning import *"
   ]
  },
  {
   "cell_type": "code",
   "execution_count": null,
   "metadata": {
    "ExecuteTime": {
     "end_time": "2022-05-31T12:46:08.860025Z",
     "start_time": "2022-05-31T12:46:08.768017Z"
    }
   },
   "outputs": [],
   "source": [
    "potential_cutpoints = determine_potential_cutpoints(g, diameterconstraints = True)\n",
    "#check_cutpoint_diameter_validity(g,potential_cutpoints)"
   ]
  },
  {
   "cell_type": "markdown",
   "metadata": {},
   "source": [
    "# Characterize cut points\n"
   ]
  },
  {
   "cell_type": "code",
   "execution_count": null,
   "metadata": {
    "ExecuteTime": {
     "end_time": "2022-05-31T12:46:09.582395Z",
     "start_time": "2022-05-31T12:46:08.863894Z"
    }
   },
   "outputs": [],
   "source": [
    "plot_pruning(g, potential_cutpoints, False, checkvalidity=False)"
   ]
  },
  {
   "cell_type": "code",
   "execution_count": null,
   "metadata": {
    "ExecuteTime": {
     "end_time": "2022-05-31T12:46:09.592326Z",
     "start_time": "2022-05-31T12:46:09.584721Z"
    }
   },
   "outputs": [],
   "source": [
    "def characterize_cut_points(mtg, listidpruned = potential_cutpoints):\n",
    "    \n",
    "    print('Diameters')\n",
    "    figure(figsize=(18,4))\n",
    "    for order, pruneds in listidpruned.items():\n",
    "        subplot(130+order)\n",
    "        d = [get_gu_diameter(mtg, vid) for vid in pruneds]\n",
    "        md = int(5*ceil(max(d)/5))\n",
    "        print(md,max(d))\n",
    "        hist(d, bins=range(0,70,5)) #, bins=range(0,md,5))\n",
    "        print(order,':',len(d),(np.mean(d), np.std(d)),(np.min(d), np.max(d)),diameterrange[order])\n",
    "    show()\n",
    "    \n",
    "    print('Nb Descendants')\n",
    "    figure(figsize=(18,4))\n",
    "    for order, pruneds in listidpruned.items():\n",
    "        subplot(130+order)\n",
    "        d = [len(get_descendants_gus_from_ancestor(mtg, vid))-1 for vid in pruneds]\n",
    "        hist(d,bins=arange(0.5,max(d)+0.51,1))\n",
    "        print(order,':',len(d),(np.mean(d), np.std(d)))\n",
    "    show()\n",
    "\n",
    "    print('Nb Leaves')\n",
    "    nbleaves = mtg.property('NbLeaf')\n",
    "    figure(figsize=(18,4))\n",
    "    for order, pruneds in listidpruned.items():\n",
    "        subplot(130+order)\n",
    "        d = [sum([nbleaves.get(lvid,0) for lvid in get_descendants_gus_from_ancestor(mtg, vid) if lvid != vid]) for vid in pruneds]\n",
    "        hist(d) #,bins=arange(-0.5,max(d)+0.51,1))\n",
    "        print(order,':',len(d),(np.mean(d), np.std(d)))\n",
    "    show()"
   ]
  },
  {
   "cell_type": "code",
   "execution_count": null,
   "metadata": {
    "ExecuteTime": {
     "end_time": "2022-05-31T12:46:10.770171Z",
     "start_time": "2022-05-31T12:46:09.594339Z"
    }
   },
   "outputs": [],
   "source": [
    "characterize_cut_points(g)"
   ]
  },
  {
   "cell_type": "markdown",
   "metadata": {},
   "source": [
    "# Define pruning action"
   ]
  },
  {
   "cell_type": "code",
   "execution_count": null,
   "metadata": {
    "ExecuteTime": {
     "end_time": "2022-05-31T12:46:10.779230Z",
     "start_time": "2022-05-31T12:46:10.772069Z"
    }
   },
   "outputs": [],
   "source": [
    "def test(mtg, nbcuts = 20):\n",
    "    listidpruned = define_pruning(mtg, nbcuts, potential_cutpoints)\n",
    "    assign_pruning(mtg, listidpruned)\n",
    "    print(sum([len(p) for p in listidpruned.values()]))\n",
    "\n",
    "    \n",
    "    print('Diameters')\n",
    "    figure(figsize=(18,4))\n",
    "    for order, pruneds in listidpruned.items():\n",
    "        if len(pruneds) > 0:\n",
    "            subplot(130+order)\n",
    "            d = [get_gu_diameter(mtg, vid) for vid in pruneds]\n",
    "            hist(d)\n",
    "            print ((np.mean(d), np.std(d)),(np.min(d), np.max(d)),diameterrange[order])\n",
    "    show()\n",
    "    \n",
    "    print('Nb Descendants')\n",
    "    figure(figsize=(18,4))\n",
    "    for order, pruneds in listidpruned.items():\n",
    "        if len(pruneds) > 0:\n",
    "            subplot(130+order)\n",
    "            d = [len(get_descendants_gus_from_ancestor(mtg, vid))-1 for vid in pruneds]\n",
    "            hist(d,bins=arange(0.5,max(d)+0.51,1))\n",
    "            print(np.mean(d), np.std(d))\n",
    "    show()\n",
    "\n",
    "    print('Nb Leaves')\n",
    "    nbleaves = mtg.property('NbLeaf')\n",
    "    figure(figsize=(18,4))\n",
    "    for order, pruneds in listidpruned.items():\n",
    "        if len(pruneds) > 0:\n",
    "            subplot(130+order)\n",
    "            d = [sum([nbleaves.get(lvid,0) for lvid in get_descendants_gus_from_ancestor(mtg, vid) if lvid != vid]) for vid in pruneds]\n",
    "            hist(d) #,bins=arange(-0.5,max(d)+0.51,1))\n",
    "            print(np.mean(d), np.std(d))\n",
    "    show()\n",
    "    return listidpruned\n"
   ]
  },
  {
   "cell_type": "code",
   "execution_count": null,
   "metadata": {
    "ExecuteTime": {
     "end_time": "2022-05-31T12:46:11.650377Z",
     "start_time": "2022-05-31T12:46:10.781006Z"
    }
   },
   "outputs": [],
   "source": [
    "listidprunedT1 = test(g,20)\n",
    "print(listidprunedT1)"
   ]
  },
  {
   "cell_type": "code",
   "execution_count": null,
   "metadata": {
    "ExecuteTime": {
     "end_time": "2022-05-31T12:46:12.506949Z",
     "start_time": "2022-05-31T12:46:11.651858Z"
    }
   },
   "outputs": [],
   "source": [
    "listidprunedT2 = test(g, 40)"
   ]
  },
  {
   "cell_type": "code",
   "execution_count": null,
   "metadata": {
    "ExecuteTime": {
     "end_time": "2022-05-31T12:46:13.571448Z",
     "start_time": "2022-05-31T12:46:12.509396Z"
    }
   },
   "outputs": [],
   "source": [
    "listidprunedT3 = test(g, 60)\n",
    "print(listidprunedT3)"
   ]
  },
  {
   "cell_type": "code",
   "execution_count": null,
   "metadata": {
    "ExecuteTime": {
     "end_time": "2022-05-31T12:46:13.973669Z",
     "start_time": "2022-05-31T12:46:13.573149Z"
    }
   },
   "outputs": [],
   "source": [
    "idprunedcustom = test(g,(0,0,120))"
   ]
  },
  {
   "cell_type": "markdown",
   "metadata": {},
   "source": [
    "### Preliminary analysis\n",
    "\n",
    "Diameters of n2 and n3 are very similars. Measured values range more at 7, 9.5, 13 for n1, n2 and n3 respectivelly.\n",
    "\n",
    "With rule of cut points for stricts n1, n2, n3, n1 are always composed of only 1 GU. It means that no configuration with several daughters at the same points with no children each exists in the digitized structure."
   ]
  },
  {
   "cell_type": "markdown",
   "metadata": {},
   "source": [
    "## Pruning Characterization"
   ]
  },
  {
   "cell_type": "markdown",
   "metadata": {},
   "source": [
    "### intensité de taille en variable continue\n",
    "attention, l'intensité de taille correspond à la biomasse/volume et non la surface foliaire/volume"
   ]
  },
  {
   "cell_type": "code",
   "execution_count": null,
   "metadata": {
    "ExecuteTime": {
     "end_time": "2022-05-31T12:46:13.982497Z",
     "start_time": "2022-05-31T12:46:13.976087Z"
    }
   },
   "outputs": [],
   "source": [
    "def pruned_biomass_analysis(mtg, listprunedgu): \n",
    "    diameters = [[get_gu_diameter(mtg,vid) for vid in nis] for nis in listprunedgu.values()]\n",
    "    biomasses = [sum(list(map(gu_biomass, diam)))/1000 for diam in diameters]\n",
    "    biomass = sum(biomasses)\n",
    "\n",
    "    print(\"biomasse totale retirée:\",round(biomass,2),\"kg\")\n",
    "    print(\"biomasse n1:\",round(biomasses[0],2),\"kg - diameters :\", np.mean(diameters[0]), '+-', np.std(diameters[0]), ' (6.9+-1.6)')\n",
    "    print(\"biomasse n2:\",round(biomasses[1],2),\"kg - diameters :\", np.mean(diameters[1]), '+-', np.std(diameters[1]), ' (9.5+-2.5)')\n",
    "    print(\"biomasse n3:\",round(biomasses[2],2),\"kg - diameters :\", np.mean(diameters[2]), '+-', np.std(diameters[2]), ' (13.1+-3.4)')\n"
   ]
  },
  {
   "cell_type": "markdown",
   "metadata": {},
   "source": [
    "### intensité de taille catégorielle: T0, T1, T2 ou T3"
   ]
  },
  {
   "cell_type": "code",
   "execution_count": null,
   "metadata": {
    "ExecuteTime": {
     "end_time": "2022-05-31T12:46:25.012635Z",
     "start_time": "2022-05-31T12:46:13.985067Z"
    }
   },
   "outputs": [],
   "source": [
    "cT1 = continuous_intensity(g,listidprunedT1)\n",
    "pruned_biomass_analysis(g,listidprunedT1)\n",
    "print(\"intensité de taille\",  cT1, intensity_level(cT1))\n",
    "print()\n",
    "\n",
    "cT2 = continuous_intensity(g,listidprunedT2)\n",
    "pruned_biomass_analysis(g,listidprunedT2)\n",
    "print(\"intensité de taille\", cT2, intensity_level(cT2))\n",
    "print()\n",
    "\n",
    "cT3 = continuous_intensity(g,listidprunedT3)\n",
    "pruned_biomass_analysis(g,listidprunedT3)\n",
    "print(\"intensité de taille\", cT3, intensity_level(cT3))"
   ]
  },
  {
   "cell_type": "markdown",
   "metadata": {},
   "source": [
    "## Caracterizing cut"
   ]
  },
  {
   "cell_type": "markdown",
   "metadata": {},
   "source": [
    "### We calculate the mean number of terminal GUs according to pruning severity"
   ]
  },
  {
   "cell_type": "code",
   "execution_count": null,
   "metadata": {
    "ExecuteTime": {
     "end_time": "2022-05-31T12:46:25.017533Z",
     "start_time": "2022-05-31T12:46:25.014517Z"
    }
   },
   "outputs": [],
   "source": [
    "def nbterminals(mtg, listcutids):\n",
    "    nb_term = [len(get_terminal_gus_from_ancestor(mtg, vid)) for vid in listcutids]\n",
    "    return (round(np.mean(nb_term),2), round(np.std(nb_term),2))"
   ]
  },
  {
   "cell_type": "code",
   "execution_count": null,
   "metadata": {
    "ExecuteTime": {
     "end_time": "2022-05-31T12:46:25.041855Z",
     "start_time": "2022-05-31T12:46:25.019389Z"
    },
    "scrolled": false
   },
   "outputs": [],
   "source": [
    "id_n1, id_n2, id_n3 = potential_cutpoints.values()\n",
    "print(nbterminals(g,id_n1))\n",
    "print(nbterminals(g,id_n2))\n",
    "print(nbterminals(g,id_n3))"
   ]
  },
  {
   "cell_type": "markdown",
   "metadata": {},
   "source": [
    "### We calculate the number of leaves above the pruning point according to pruning severity"
   ]
  },
  {
   "cell_type": "code",
   "execution_count": null,
   "metadata": {
    "ExecuteTime": {
     "end_time": "2022-05-31T12:46:25.048953Z",
     "start_time": "2022-05-31T12:46:25.044722Z"
    }
   },
   "outputs": [],
   "source": [
    "def nbleaves_prunedGU(mtg, listcutids):\n",
    "    d = [sum([get_gu_nb_leaf(mtg, lvid) for lvid in get_descendants_gus_from_ancestor(mtg, vid) if lvid != vid]) for vid in listcutids]\n",
    "    return (round(np.mean(d)),round(np.std(d)))"
   ]
  },
  {
   "cell_type": "code",
   "execution_count": null,
   "metadata": {
    "ExecuteTime": {
     "end_time": "2022-05-31T12:46:25.095777Z",
     "start_time": "2022-05-31T12:46:25.050991Z"
    }
   },
   "outputs": [],
   "source": [
    "print(nbleaves_prunedGU(g,id_n1))\n",
    "print(nbleaves_prunedGU(g,id_n2))\n",
    "print(nbleaves_prunedGU(g,id_n3))"
   ]
  },
  {
   "cell_type": "markdown",
   "metadata": {},
   "source": [
    "### calculation of leaf area from diameter"
   ]
  },
  {
   "cell_type": "code",
   "execution_count": null,
   "metadata": {
    "ExecuteTime": {
     "end_time": "2022-05-31T12:46:25.111338Z",
     "start_time": "2022-05-31T12:46:25.107901Z"
    }
   },
   "outputs": [],
   "source": [
    "def leafarea(mtg,listcutids):\n",
    "    leaf_area = [gu_leaf_area(get_gu_diameter(mtg, vid)) for vid in listcutids]\n",
    "    #leaf_area = [gu_leaf_area(get_gu_section(mtg, vid)) for vid in listcutids]\n",
    "    return ((np.mean(leaf_area)),(np.std(leaf_area)))    "
   ]
  },
  {
   "cell_type": "code",
   "execution_count": null,
   "metadata": {
    "ExecuteTime": {
     "end_time": "2022-05-31T12:46:25.121262Z",
     "start_time": "2022-05-31T12:46:25.113699Z"
    },
    "scrolled": true
   },
   "outputs": [],
   "source": [
    "print(leafarea(g,id_n1))\n",
    "print(leafarea(g,id_n2))\n",
    "print(leafarea(g,id_n3))"
   ]
  },
  {
   "cell_type": "markdown",
   "metadata": {},
   "source": [
    "## Estimation of light interception"
   ]
  },
  {
   "cell_type": "code",
   "execution_count": null,
   "metadata": {
    "ExecuteTime": {
     "end_time": "2022-05-31T12:46:25.128526Z",
     "start_time": "2022-05-31T12:46:25.123877Z"
    }
   },
   "outputs": [],
   "source": [
    "from openalea.plantgl.all import *\n",
    "\n",
    "def rotate_scene(axis, angle, sc):\n",
    "    return Scene([Shape(AxisRotated(axis,angle,sh.geometry),sh.appearance,sh.id,sh.parentId) for sh in sc])"
   ]
  },
  {
   "cell_type": "code",
   "execution_count": null,
   "metadata": {
    "ExecuteTime": {
     "end_time": "2022-05-31T12:46:27.261871Z",
     "start_time": "2022-05-31T12:46:25.131692Z"
    }
   },
   "outputs": [],
   "source": [
    "#t3 = apply_pruning(g, listidprunedT3)\n",
    "axis, north = (0,0,1), -(90-53)\n",
    "mango = mp.representation(g, gc = False, wood = False, leaves=True)\n",
    "#mango = Scene([Shape(Box(100,100,100),Material((0,100,0)),1)])\n",
    "mango = rotate_scene(axis, radians(-north), mango)\n"
   ]
  },
  {
   "cell_type": "code",
   "execution_count": null,
   "metadata": {
    "ExecuteTime": {
     "end_time": "2022-05-31T12:46:27.690799Z",
     "start_time": "2022-05-31T12:46:27.264336Z"
    }
   },
   "outputs": [],
   "source": [
    "mp.display(mango)"
   ]
  },
  {
   "cell_type": "code",
   "execution_count": null,
   "metadata": {
    "ExecuteTime": {
     "end_time": "2022-05-31T12:46:27.699537Z",
     "start_time": "2022-05-31T12:46:27.693894Z"
    }
   },
   "outputs": [],
   "source": [
    "\n",
    "localisation={'latitude':-21.32, 'longitude':55.5, 'timezone': 'Indian/Reunion'}\n",
    "\n",
    "#leaf_prop = { 'Rc' : (0.05, 0.007, 0.078, 0.007), \n",
    "#              'Rs' : (0.413, 0.36, 0.455, 0.353),\n",
    "#              'PAR' : (0.067, 0.025, 0.108, 0.023) }\n",
    "#wood_prop = { 'Rc' : (0.0001, 0.0001), 'Rs' : (0.0001, 0.0001), 'PAR' : (0.0001, 0.0001)}\n",
    "\n",
    "leaf_prop = { 'PAR' : (0.067, 0.025, 0.108, 0.023) }\n",
    "wood_prop = { 'PAR' : (0.0001, 0.0001)}\n",
    "\n",
    "idshift = 1000\n",
    "\n",
    "xcenter, ycenter = -21,   -40\n",
    "xsize,   ysize   = 250+7, 300\n",
    "xmin, xmax = -xcenter-xsize, -xcenter+xsize\n",
    "ymin, ymax = -ycenter-ysize,-ycenter+ysize\n",
    "pattern=(xmin,ymin,xmax,ymax)\n"
   ]
  },
  {
   "cell_type": "code",
   "execution_count": null,
   "metadata": {
    "ExecuteTime": {
     "end_time": "2022-05-31T12:46:28.797582Z",
     "start_time": "2022-05-31T12:46:27.729239Z"
    }
   },
   "outputs": [],
   "source": [
    "import pandas\n",
    "from alinea.astk.sun_and_sky import sky_sources, sun_sources\n",
    "\n",
    "diffuseratio = 0.3\n",
    "energy = 100000\n",
    "hour = 9\n",
    "def todate(hour = 12, date='2017-08-26'):\n",
    "    return pandas.Timestamp(date+' '+str(hour)+':00', tz=localisation['timezone'])\n",
    "hours = pandas.date_range(start=todate(9),end=todate(17), freq=\"1H\")\n",
    "suns = sun_sources(energy*(1-diffuseratio), dates=hours, **localisation)\n",
    "skys = sky_sources(sky_type='uoc', irradiance=energy*diffuseratio, **localisation)\n",
    "sun_el, sun_az, sun_hei = suns\n",
    "sky_el, sky_az , sky_hei = skys"
   ]
  },
  {
   "cell_type": "code",
   "execution_count": null,
   "metadata": {
    "ExecuteTime": {
     "end_time": "2022-05-31T12:46:28.805625Z",
     "start_time": "2022-05-31T12:46:28.800385Z"
    }
   },
   "outputs": [],
   "source": [
    "print(hours)\n",
    "print(sun_el)\n",
    "print(sky_el)"
   ]
  },
  {
   "cell_type": "code",
   "execution_count": null,
   "metadata": {
    "ExecuteTime": {
     "end_time": "2022-05-31T12:46:28.811838Z",
     "start_time": "2022-05-31T12:46:28.807872Z"
    }
   },
   "outputs": [],
   "source": [
    "print(sky_hei)\n",
    "print(sum(sky_hei))"
   ]
  },
  {
   "cell_type": "code",
   "execution_count": null,
   "metadata": {
    "ExecuteTime": {
     "end_time": "2022-05-31T12:46:28.822471Z",
     "start_time": "2022-05-31T12:46:28.813908Z"
    }
   },
   "outputs": [],
   "source": [
    "def toCaribuScene(mangoscene, leaf_prop=leaf_prop, wood_prop=wood_prop, idshift=idshift, pattern=pattern) :\n",
    "    from alinea.caribu.CaribuScene import CaribuScene\n",
    "    print ('Convert scene for caribu')\n",
    "    t = time.time()\n",
    "    geomdict = set([sh.id for sh in mangoscene])\n",
    "    wavelenghts = list(leaf_prop.keys())\n",
    "    opt = dict([(k,{}) for k in wavelenghts])\n",
    "    for vid in geomdict:\n",
    "        for rv in wavelenghts:\n",
    "            opt[rv][vid] = (wood_prop if (vid % idshift) == 0 else leaf_prop)[rv]\n",
    "    cs = CaribuScene(mangoscene, opt=opt, scene_unit='cm', pattern=pattern, debug = False)\n",
    "    print('done in', time.time() - t)\n",
    "    return cs\n",
    "\n",
    "\n",
    "def caribu(scene, sun = None, sky = None, view = False, debug = False):\n",
    "    from alinea.caribu.light import light_sources\n",
    "    print('start caribu...')\n",
    "    t = time.time()\n",
    "    print('Create light source', end=' ')\n",
    "    light = []\n",
    "    if not sun is None:\n",
    "        light += light_sources(*sun) #, orientation = north) \n",
    "    if not sky is None:\n",
    "        light += light_sources(*sky) #, orientation = north)\n",
    "    print('... ',len(light),' sources.')\n",
    "    scene.setLight(light)\n",
    "    print('Run caribu')\n",
    "    #raw, agg = scene.run(direct=False, infinite = True, split_face = True, d_sphere = D_SPHERE)\n",
    "    raw, agg = scene.run(direct=True, infinite = False, split_face = True)\n",
    "    print('made in', time.time() - t)\n",
    "    if view : \n",
    "        scene.plot(raw['Ei'])\n",
    "    return raw, agg"
   ]
  },
  {
   "cell_type": "code",
   "execution_count": null,
   "metadata": {
    "ExecuteTime": {
     "end_time": "2022-05-31T12:48:31.222569Z",
     "start_time": "2022-05-31T12:46:28.824734Z"
    }
   },
   "outputs": [],
   "source": [
    "caribumango = toCaribuScene(mango)"
   ]
  },
  {
   "cell_type": "code",
   "execution_count": null,
   "metadata": {
    "ExecuteTime": {
     "end_time": "2022-05-31T12:48:40.267098Z",
     "start_time": "2022-05-31T12:48:31.224495Z"
    }
   },
   "outputs": [],
   "source": [
    "raw, agg = caribu(caribumango, suns, (sky_el, sky_az,sky_hei))"
   ]
  },
  {
   "cell_type": "code",
   "execution_count": null,
   "metadata": {
    "ExecuteTime": {
     "end_time": "2022-05-31T12:48:40.275643Z",
     "start_time": "2022-05-31T12:48:40.270006Z"
    }
   },
   "outputs": [],
   "source": [
    "print(list(agg.keys())) #,list(agg['PAR'].keys()))"
   ]
  },
  {
   "cell_type": "code",
   "execution_count": null,
   "metadata": {
    "ExecuteTime": {
     "end_time": "2022-05-31T12:48:40.297543Z",
     "start_time": "2022-05-31T12:48:40.280486Z"
    }
   },
   "outputs": [],
   "source": [
    "import pandas as pd\n",
    "agg = pd.DataFrame(agg['PAR'])"
   ]
  },
  {
   "cell_type": "code",
   "execution_count": null,
   "metadata": {
    "ExecuteTime": {
     "end_time": "2022-05-31T12:48:46.672426Z",
     "start_time": "2022-05-31T12:48:40.300474Z"
    }
   },
   "outputs": [],
   "source": [
    "mp.plot_projection(mango, agg['Ei'])"
   ]
  },
  {
   "cell_type": "code",
   "execution_count": null,
   "metadata": {
    "ExecuteTime": {
     "end_time": "2022-05-31T12:48:46.679904Z",
     "start_time": "2022-05-31T12:48:46.674758Z"
    }
   },
   "outputs": [],
   "source": [
    "def plantgllight(scene, sun = None, sky = None):\n",
    "    from alinea.caribu.light import light_sources\n",
    "    import openalea.plantgl.light.light as pl ; reload(pl)\n",
    "    print(pl.__file__)\n",
    "    from openalea.plantgl.light.light import scene_irradiance\n",
    "    print('start plantgl light...')\n",
    "    t = time.time()\n",
    "    print('Create light source', end=' ')\n",
    "    lights = list(zip(*sun)) + list(zip(*sky))\n",
    "    #lights = list(zip(*sky))\n",
    "    print('... ',len(lights),' sources.')\n",
    "    print('Run plantGL')\n",
    "    agg = scene_irradiance(scene, lights, horizontal=True, screenresolution= 0.5, scene_unit = 'cm', verbose=False)\n",
    "    print('made in', time.time() - t)\n",
    "    return agg\n"
   ]
  },
  {
   "cell_type": "code",
   "execution_count": null,
   "metadata": {
    "ExecuteTime": {
     "end_time": "2022-05-31T12:49:05.290470Z",
     "start_time": "2022-05-31T12:48:46.681819Z"
    }
   },
   "outputs": [],
   "source": [
    "agg2 = plantgllight(mango, (sun_az, sun_el, sun_hei), (sky_az, sky_el,sky_hei))\n"
   ]
  },
  {
   "cell_type": "code",
   "execution_count": null,
   "metadata": {
    "ExecuteTime": {
     "end_time": "2022-05-31T12:49:11.699909Z",
     "start_time": "2022-05-31T12:49:05.292673Z"
    }
   },
   "outputs": [],
   "source": [
    "#print(agg2)\n",
    "mp.plot_projection(mango, agg2['irradiance'])"
   ]
  },
  {
   "cell_type": "code",
   "execution_count": null,
   "metadata": {
    "ExecuteTime": {
     "end_time": "2022-05-31T12:49:11.708633Z",
     "start_time": "2022-05-31T12:49:11.702305Z"
    }
   },
   "outputs": [],
   "source": [
    "print(min(agg['Ei']),max(agg['Ei']))\n",
    "print(min(agg2['irradiance']),max(agg2['irradiance']))\n"
   ]
  },
  {
   "cell_type": "code",
   "execution_count": null,
   "metadata": {
    "ExecuteTime": {
     "end_time": "2022-05-31T12:49:11.896864Z",
     "start_time": "2022-05-31T12:49:11.711034Z"
    }
   },
   "outputs": [],
   "source": [
    "print(sum(sky_hei))\n",
    "print(sum(sky_ei))\n"
   ]
  },
  {
   "cell_type": "code",
   "execution_count": null,
   "metadata": {
    "ExecuteTime": {
     "end_time": "2022-05-31T12:49:11.899372Z",
     "start_time": "2022-05-31T12:49:11.899358Z"
    }
   },
   "outputs": [],
   "source": [
    "weights = [0.026808309,0.026808309,0.026808309,0.026808309,0.026808309,0.026808309,0.026808309,0.026808309,0.026808309,0.026808309,0.029325083,0.029325083,0.029325083,0.029325083,0.029325083,0.031299545,0.031299545,0.031299545,0.031299545,0.031299545,0.038160959,0.038160959,0.038160959,0.038160959,0.038160959,0.038160959,0.038160959,0.038160959,0.038160959,0.038160959,0.045638829,0.045638829,0.045638829,0.045638829,0.045638829,0.050212264,0.050212264,0.050212264,0.050212264,0.050212264,0.052965108,0.052965108,0.052965108,0.052965108,0.052965108,0.0481]\n",
    "print(sum(weights))\n",
    "weights_uoc = [0.007, 0.007, 0.007, 0.007, 0.007, 0.007, 0.007, 0.007, 0.007, 0.007, 0.0086, 0.0086, 0.0086, 0.0086,\n",
    "               0.0086, 0.017, 0.017, 0.017, 0.017, 0.017, 0.0224, 0.0224, 0.0224, 0.0224, 0.0224, 0.0224, 0.0224,\n",
    "               0.0224, 0.0224, 0.0224, 0.0317, 0.0317, 0.0317, 0.0317, 0.0317, 0.036, 0.036, 0.036, 0.036, 0.036,\n",
    "               0.0405, 0.0405, 0.0405, 0.0405, 0.0405, 0.0377]\n",
    "print(sum(weights_uoc))"
   ]
  },
  {
   "cell_type": "code",
   "execution_count": null,
   "metadata": {
    "ExecuteTime": {
     "end_time": "2022-05-31T12:49:11.900921Z",
     "start_time": "2022-05-31T12:49:11.900906Z"
    }
   },
   "outputs": [],
   "source": [
    "agg['Ei'].hist()\n",
    "agg2['irradiance'].hist()\n"
   ]
  },
  {
   "cell_type": "code",
   "execution_count": null,
   "metadata": {
    "ExecuteTime": {
     "end_time": "2022-05-31T12:49:11.902499Z",
     "start_time": "2022-05-31T12:49:11.902487Z"
    }
   },
   "outputs": [],
   "source": [
    "print(min(agg['area']),max(agg['area']))\n",
    "print(min(agg2['area']),max(agg2['area']))\n"
   ]
  },
  {
   "cell_type": "markdown",
   "metadata": {},
   "source": [
    "## Estimation of gap fraction "
   ]
  },
  {
   "cell_type": "code",
   "execution_count": 3,
   "metadata": {
    "ExecuteTime": {
     "end_time": "2022-05-31T13:09:37.263063Z",
     "start_time": "2022-05-31T13:09:37.256694Z"
    }
   },
   "outputs": [],
   "source": [
    "import gapfraction; reload(gapfraction)\n",
    "from gapfraction import *"
   ]
  },
  {
   "cell_type": "code",
   "execution_count": 6,
   "metadata": {
    "ExecuteTime": {
     "end_time": "2022-05-31T13:09:46.934402Z",
     "start_time": "2022-05-31T13:09:39.313338Z"
    }
   },
   "outputs": [
    {
     "name": "stdout",
     "output_type": "stream",
     "text": [
      "D:\\V_mango\\virtualpruning\\notebooks\\povray\n",
      "D:\\MesProgrammes\\POV-Ray\\v3.7\\bin\\pvengine.exe /EXIT /RENDER gapfraction_view.pov -Ogapfraction_view.png +H800 +W800 +FN -GA -V \n",
      "Done in 4.1456992626190186 sec.\n"
     ]
    },
    {
     "data": {
      "text/plain": [
       "<matplotlib.image.AxesImage at 0x1f7835f3eb0>"
      ]
     },
     "execution_count": 6,
     "metadata": {},
     "output_type": "execute_result"
    },
    {
     "data": {
      "image/png": "[encoded data removed]",
      "text/plain": [
       "<Figure size 432x288 with 1 Axes>"
      ]
     },
     "metadata": {
      "needs_background": "light"
     },
     "output_type": "display_data"
    }
   ],
   "source": [
    "from matplotlib.pyplot import imshow\n",
    "img = generate(g, debug=True)\n",
    "imshow(img)"
   ]
  },
  {
   "cell_type": "code",
   "execution_count": 5,
   "metadata": {
    "ExecuteTime": {
     "end_time": "2022-05-31T13:12:49.066244Z",
     "start_time": "2022-05-31T13:12:40.422598Z"
    }
   },
   "outputs": [
    {
     "name": "stdout",
     "output_type": "stream",
     "text": [
      "0.07260888248728743\n"
     ]
    }
   ],
   "source": [
    "gf = gap_fraction(g)\n",
    "print(gf)"
   ]
  },
  {
   "cell_type": "markdown",
   "metadata": {},
   "source": [
    "## Application of pruning"
   ]
  },
  {
   "cell_type": "code",
   "execution_count": null,
   "metadata": {
    "ExecuteTime": {
     "end_time": "2022-05-31T13:12:51.161602Z",
     "start_time": "2022-05-31T13:12:49.068264Z"
    }
   },
   "outputs": [],
   "source": [
    "t3 = plot_pruning(g, listidprunedT3, leaves = True)\n",
    "apply_pruning(t3, listidprunedT3)\n",
    "print(t3.property('pruning'))\n",
    "print(t3.property('cuted'))\n",
    "plot_tree(t3,leaves= True)\n",
    "print(len(g), len(t3))\n"
   ]
  },
  {
   "cell_type": "markdown",
   "metadata": {},
   "source": [
    "\n",
    "# Vegetative growth after pruning"
   ]
  },
  {
   "cell_type": "code",
   "execution_count": null,
   "metadata": {
    "ExecuteTime": {
     "end_time": "2022-05-31T12:49:11.910273Z",
     "start_time": "2022-05-31T12:49:11.910261Z"
    }
   },
   "outputs": [],
   "source": [
    "from numpy.random import binomial, poisson, uniform, normal\n",
    "import sys\n",
    "\n",
    "def binomial_proba(intercept, slope, factor):\n",
    "    linear = intercept +slope*factor\n",
    "    return exp(linear)/(1+exp(linear))\n",
    "\n",
    "def binomial_realization(proba):\n",
    "    return bool( binomial(1,proba) )\n",
    "\n",
    "def poisson_proba(intercept, slope, factor):\n",
    "    return exp(intercept+slope*factor)\n",
    "\n",
    "def poisson_realization(proba, maxval = sys.maxsize, minval = 0):\n",
    "    assert maxval > minval\n",
    "    val = int( poisson(proba, 1) )\n",
    "    count = 0\n",
    "    while (val < minval) or (val > maxval):\n",
    "        count += 1\n",
    "        if count >= 1000:\n",
    "            raise ValueError(proba, maxval, minval)\n",
    "        val = int( poisson(proba, 1) )\n",
    "    return val\n",
    "\n",
    "def normal_realization(mean, sd, maxval = sys.float_info.max, minval = sys.float_info.min):\n",
    "    assert maxval > minval\n",
    "    val = normal(mean, sd)\n",
    "    count = 0\n",
    "    while (val < minval) or (val > maxval):\n",
    "        count += 1\n",
    "        if count >= 1000:\n",
    "            raise ValueError(mean, sd, maxval, minval, val)\n",
    "        val = normal(mean, sd)\n",
    "    return val"
   ]
  },
  {
   "cell_type": "code",
   "execution_count": null,
   "metadata": {
    "ExecuteTime": {
     "end_time": "2022-05-31T12:49:11.911478Z",
     "start_time": "2022-05-31T12:49:11.911466Z"
    }
   },
   "outputs": [],
   "source": [
    " def lateral_directions(maindir, angle, nb):\n",
    "    from math import pi\n",
    "    from openalea.plantgl.all import direction, Matrix3\n",
    "    assert nb >= 1\n",
    "    rotdir = direction(maindir.anOrthogonalVector())\n",
    "    rotmat = Matrix3.axisRotation(rotdir, radians(angle))\n",
    "    v0 = rotmat * maindir\n",
    "    deltahangle = 2*pi/nb\n",
    "    result = [v0] + [Matrix3.axisRotation(maindir, i * deltahangle) *v0 for i in range(1,nb)]\n",
    "    return result\n"
   ]
  },
  {
   "cell_type": "code",
   "execution_count": null,
   "metadata": {
    "ExecuteTime": {
     "end_time": "2022-05-31T12:49:11.912873Z",
     "start_time": "2022-05-31T12:49:11.912861Z"
    }
   },
   "outputs": [],
   "source": [
    "def create_daughters(mtg, vid, apical, nblateral, burstdate, totalleafarea = None,  individualleafarea = None):\n",
    "    parentdirection = get_gu_normed_direction(mtg, vid)\n",
    "    topposition = get_gu_top_position(mtg, vid)\n",
    "    diam = get_gu_diameter(mtg, vid)\n",
    "    newgus = []\n",
    "    # newconnections = []\n",
    "    lengths = []\n",
    "    if not totalleafarea is None:\n",
    "        set_gu_property(mtg, vid, \"RegeneratedLeafArea\", totalleafarea)\n",
    "\n",
    "    if apical:\n",
    "        apicaldaughter = mtg.add_child(vid, edge_type = '<', UnitType = 'U', label = 'S'+str(int(mtg.label(vid)[1:])+1))        \n",
    "        l = gu_length(eApical, gu_position(mtg, vid) )\n",
    "        set_gu_top_position(mtg, apicaldaughter, topposition + parentdirection * l )\n",
    "        set_gu_diameter(mtg, apicaldaughter, diam)\n",
    "        newgus.append(apicaldaughter)\n",
    "        lengths.append(l)\n",
    "        set_gu_property(mtg, apicaldaughter, \"Regrowth\", True)\n",
    "        set_gu_property(mtg, apicaldaughter, \"BurstDate\", burstdate)\n",
    "        \n",
    "    branching_angle = 60\n",
    "    if nblateral > 0:\n",
    "        for latiter, latdirection in enumerate(lateral_directions(parentdirection, branching_angle, nblateral)):\n",
    "            lateralconnection = mtg.add_child(vid, edge_type = '+', label = 'S1', Position = topposition, UnitType = 'U')\n",
    "            lateraldaughter   = mtg.add_child(lateralconnection, edge_type = '<', label = 'S2', UnitType = 'U', Diameter=diam/10.)\n",
    "            l = gu_length(eLateral, gu_position(mtg, vid) )\n",
    "            set_gu_top_position(mtg, lateraldaughter, topposition + latdirection * l )\n",
    "            set_gu_diameter(mtg, lateraldaughter, diam)\n",
    "            # newconnections.append(lateralconnection)\n",
    "            newgus.append(lateraldaughter)\n",
    "            lengths.append(l)\n",
    "            set_gu_property(mtg, lateraldaughter, \"Regrowth\", True)\n",
    "            set_gu_property(mtg, lateraldaughter, \"BurstDate\", burstdate)\n",
    "            #print(get_gu_top_position(mtg, lateraldaughter),get_gu_bottom_position(mtg, lateraldaughter), get_gu_diameter(mtg, lateraldaughter))\n",
    "\n",
    "    totlength = sum(lengths)\n",
    "    if not totalleafarea is None and totalleafarea > 0:\n",
    "        unitla = totalleafarea / totlength\n",
    "        for vid, l in zip(newgus, lengths):\n",
    "            leafarea = unitla*l\n",
    "            set_gu_property(mtg, vid, \"LeafArea\", leafarea)\n",
    "            if not individualleafarea is None:\n",
    "                set_gu_property(mtg, vid, \"NbLeaf\", int(round(leafarea / individualleafarea)))\n",
    "    \n",
    "    return newgus\n",
    "        \n"
   ]
  },
  {
   "cell_type": "code",
   "execution_count": null,
   "metadata": {
    "ExecuteTime": {
     "end_time": "2022-05-31T12:49:11.914635Z",
     "start_time": "2022-05-31T12:49:11.914622Z"
    }
   },
   "outputs": [],
   "source": [
    "def gu_length(position, motherposition):\n",
    "    gu_length_distrib = { (eApical, eApical)   : ( 18.14 , 4.14 ) ,\n",
    "                          (eApical, eLateral)  : ( 13.79 , 4.03 ) ,\n",
    "                          (eLateral, eApical)  : ( 12.59 , 3.38 ) ,\n",
    "                          (eLateral, eLateral) : ( 12.59 , 3.38 ) }\n",
    "    mean, sd = gu_length_distrib[(position, motherposition)]\n",
    "    return normal_realization(mean, sd, 25, 5)\n",
    "\n",
    "def gu_nb_leaf(position):\n",
    "    leaf_nb_distrib = { eApical  : ( 0.59, 5.5), eLateral : ( 0.62, 0.36) }\n",
    "    return normal_realization(*leaf_nb_distrib[position])\n",
    "    \n",
    "def burst_pruned(intensity, diameter):\n",
    "    probas = { T1 : (-2.479643,0.29399), \n",
    "               T3 : (-1.284197,0.29399) }\n",
    "    intercept, slope = probas[intensity]\n",
    "    probavalue = binomial_proba(intercept,slope,diameter)\n",
    "    return binomial_realization( probavalue)\n",
    "\n",
    "def nb_daughter_pruned(intensity, diameter):\n",
    "    probas = (-0.1563453, 0.09122709)\n",
    "    intercept, slope = probas\n",
    "    probavalue = poisson_proba(intercept,slope,diameter)\n",
    "    try:\n",
    "        return poisson_realization( probavalue, 10)+1\n",
    "    except ValueError as ve:\n",
    "        print(diameter)\n",
    "        raise ve\n",
    "\n",
    "def total_leafarea_pruned(intensity, diameter):\n",
    "    \"\"\" Total leaf area generated from a pruned gu in dm2 \"\"\"\n",
    "    probas = (0,0.6351646,4.978825)\n",
    "    intercept, slope,sd = probas\n",
    "    probavalue = slope*diameter+intercept\n",
    "    minval=0.1 \n",
    "    maxval=28\n",
    "    return  normal_realization(probavalue, sd, maxval, minval)\n",
    "\n",
    "def individual_leafarea_pruned(intensity):\n",
    "    \"\"\" Individual leaf area of GU borned from a pruned GU in dm2 \"\"\"\n",
    "    probas = { T1 : (47.1,25.9), \n",
    "               T3 : (62.3,21.1) }\n",
    "    probavalue, sd = probas[intensity]\n",
    "    minval=6 \n",
    "    maxval=150\n",
    "    return  normal_realization(probavalue, sd, maxval, minval)/100.\n",
    "    \n",
    "\n",
    "def burst_unpruned(intensity, diameter, apical_bud):\n",
    "    if apical_bud==True:\n",
    "        probas = { T0 : (-2.769854, 0.5973448),\n",
    "                   T1 : (-2.425214  , 0.5973448), \n",
    "                   T3 : (-1.559723 , 0.5973448) }\n",
    "        intercept, slope = probas[intensity]\n",
    "        probavalue = binomial_proba(intercept,slope,diameter)\n",
    "    else:\n",
    "        probas = { T0 : (-4.143407, 0.5973448),\n",
    "                   T1 : (-3.798768  , 0.5973448), \n",
    "                   T3 : (-2.933276  , 0.5973448) }\n",
    "        intercept, slope = probas[intensity]\n",
    "        probavalue = binomial_proba(intercept,slope,diameter)\n",
    "    return binomial_realization( probavalue)\n",
    "\n",
    "def nb_daughter_unpruned(intensity, diameter, apical_bud):\n",
    "    if apical_bud :\n",
    "        probas = { T0 : (-5.563934, 0.4102305),\n",
    "                   T1 : (-4.807413, 0.4102305), \n",
    "                   T3 : (-4.821,    0.4102305) }\n",
    "    else:\n",
    "        probas = { T0 : (-2.775646, 0.4102305),\n",
    "                   T1 : (-2.019124, 0.4102305), \n",
    "                   T3 : (-2.032712, 0.4102305) }\n",
    "    intercept, slope = probas[intensity]\n",
    "    probavalue = poisson_proba(intercept,slope,diameter)\n",
    "    try:\n",
    "        return poisson_realization( probavalue, 10)+1\n",
    "    except ValueError as ve:\n",
    "        print(intensity, diameter, apical_bud)\n",
    "        raise ve\n",
    "\n",
    "def total_leafarea_unpruned(intensity, diameter, apical_bud):\n",
    "    \"\"\" Total leaf area generated from a pruned gu in dm2 \"\"\"\n",
    "    if apical_bud :\n",
    "        probas = { T0 : (-0.3099147, 0.6698266,2.205946),\n",
    "                   T1 : (0.863612 ,0.6698266,2.342514), \n",
    "                   T3 : (2.579996, 0.6698266,2.458084) }\n",
    "    else:\n",
    "        probas = { T0 : (-1.913821, 0.6698266,2.361798),\n",
    "                   T1 : (-0.740294 ,0.6698266,2.342514), \n",
    "                   T3 : (2.579996, 0.6698266,1.290018) }\n",
    "        \n",
    "    intercept, slope,sd = probas[intensity]\n",
    "    probavalue = slope*diameter+intercept\n",
    "    minval=0.1\n",
    "    maxval=20\n",
    "    return  normal_realization(probavalue, sd, maxval, minval)\n",
    "\n",
    "def individual_leafarea_unpruned(intensity):\n",
    "    \"\"\" Individual leaf area of GU borned from an unpruned GU in dm2 \"\"\"\n",
    "    probas = { T0 : (37.9,18.7), \n",
    "               T1 : (49.6,26.4), \n",
    "               T3 : (70.4,29.03) }\n",
    "    probavalue, sd = probas[intensity]\n",
    "    minval=6\n",
    "    maxval=150\n",
    "    return  normal_realization(probavalue, sd, maxval, minval)/100.\n",
    " \n",
    "\n",
    "def burstdelay_pruned(intensity,  severity):\n",
    "    minval = 10\n",
    "    \n",
    "    if intensity == T1 :\n",
    "        \n",
    "        flushproba = { 1  : 0.28, 2 : 0.69, 3 : 0.64}\n",
    "        firstflush = binomial_realization(flushproba[severity])\n",
    "        \n",
    "        if firstflush : # Correspond to first flush\n",
    "            probas = { 1 : (14.7, 1.5) ,\n",
    "                       2 : (19.4, 2.9), \n",
    "                       3 : (17.8, 2.1) }\n",
    "        else:\n",
    "            probas = { 1 : (28.2, 3.9),\n",
    "                       2 : (28.3, 0.7), \n",
    "                       3 : (28.3, 2.0) }\n",
    "        mean, sd = probas[severity]\n",
    "        maxval = 40\n",
    "        \n",
    "    if intensity== T3 :\n",
    "        mean, sd = 16.5, 2.6\n",
    "        maxval = 30\n",
    "    \n",
    "    return normal_realization(mean, sd, maxval, minval)\n",
    "    \n",
    "def flush_selection_unpruned(intensity):\n",
    "    if intensity == T0 :\n",
    "        firstflushproba = 0.85\n",
    "    elif intensity == T1 :\n",
    "        firstflushproba = 0.48        \n",
    "    return binomial_realization(firstflushproba)\n",
    "\n",
    "def burstdelay_unpruned(intensity):\n",
    "    minval = 10\n",
    "    maxval = 35\n",
    "    \n",
    "    if intensity == T0 :\n",
    "        firstflush = flush_selection_unpruned(intensity)\n",
    "        if firstflush :\n",
    "            mean, sd = 13.4, 3.0\n",
    "        else:\n",
    "            mean, sd = 27.5, 1.1\n",
    "    if intensity == T1:\n",
    "        firstflush = flush_selection_unpruned(intensity)\n",
    "        if firstflush :\n",
    "            mean, sd = 13.5, 2.0\n",
    "        else:\n",
    "            mean, sd = 27.5, 1.1\n",
    "        \n",
    "    if intensity == T3:\n",
    "        mean, sd = 16.5, 2.6\n",
    "        maxval = 25\n",
    "        \n",
    "    return  normal_realization(mean, sd, maxval, minval)\n"
   ]
  },
  {
   "cell_type": "code",
   "execution_count": null,
   "metadata": {
    "ExecuteTime": {
     "end_time": "2022-05-31T12:49:11.915975Z",
     "start_time": "2022-05-31T12:49:11.915962Z"
    }
   },
   "outputs": [],
   "source": [
    "from datetime import date, timedelta\n",
    "\n",
    "def growth_pruned_gu(mtg, vid, intensity, severity, pruningdate):\n",
    "    diameter = get_gu_diameter(mtg, vid)\n",
    "    veggrowth = burst_pruned(intensity, diameter)\n",
    "    if veggrowth:\n",
    "        nbdaughter = nb_daughter_pruned(intensity, diameter)+1\n",
    "        assert nbdaughter >= 1\n",
    "        totalleafarea = total_leafarea_pruned(intensity, diameter)\n",
    "        individualleafarea = individual_leafarea_pruned(intensity)\n",
    "        burstdate = pruningdate + timedelta(days = burstdelay_pruned(intensity,  severity))\n",
    "        return create_daughters(mtg, vid, 0, nbdaughter, burstdate, totalleafarea, individualleafarea)       \n",
    "\n",
    "\n",
    "def growth_unpruned_gu(mtg, vid, intensity, pruningdate):\n",
    "    diameter = get_gu_diameter(mtg, vid)\n",
    "    apical_bud = binomial_realization(0.52)\n",
    "    veggrowth = burst_unpruned(intensity, diameter, apical_bud)\n",
    "    if veggrowth:\n",
    "        nbdaughter = nb_daughter_unpruned(intensity, diameter, apical_bud)\n",
    "        assert nbdaughter >= 1\n",
    "        totalleafarea = total_leafarea_unpruned(intensity, diameter, apical_bud)\n",
    "        individualleafarea = individual_leafarea_unpruned(intensity)\n",
    "        burstdate = pruningdate + timedelta(days = burstdelay_unpruned(intensity))\n",
    "        return create_daughters(mtg, vid, int(apical_bud), nbdaughter-int(apical_bud), burstdate, totalleafarea, individualleafarea)\n",
    "\n",
    "import util ; reload(util)\n",
    "from util import *\n",
    "\n",
    "\n",
    "def growth(mtg, listidpruned, intensity, pruningdate = date(2017,2,1), maxdiamunpruned = 10):\n",
    "    newmtg = deepcopy(mtg)\n",
    "    listidpruned = dict([(ni, set(ids)) for ni,ids in listidpruned.items() ])\n",
    "    terminals = get_all_terminal_gus(mtg)\n",
    "    nbterminals = len(terminals)\n",
    "    newids = []\n",
    "    print(\"Should examine\", nbterminals, \"terminal GUs.\")\n",
    "    nbpruned, nbunpruned, nbignored = 0,0,0\n",
    "    for count, vid in enumerate(terminals):\n",
    "        pruned = False\n",
    "        lnewids = None\n",
    "        for severity, ids in listidpruned.items():\n",
    "            if vid in ids:\n",
    "                # we consider a pruned gu:\n",
    "                lnewids = growth_pruned_gu(newmtg, vid, intensity, severity, pruningdate)\n",
    "                nbpruned += 1\n",
    "                pruned = True\n",
    "                break\n",
    "        if not pruned and get_gu_diameter(mtg, vid) <= maxdiamunpruned and not 'A'in mtg.property('Taille').get(vid,''):\n",
    "            nbunpruned += 1\n",
    "            lnewids = growth_unpruned_gu(newmtg, vid, intensity, pruningdate)\n",
    "        elif not pruned:\n",
    "            nbignored += 1\n",
    "        if lnewids:\n",
    "            newids += lnewids\n",
    "    print(\"Processed\", nbpruned, \"pruned terminal GU and\", nbunpruned, \"unpruned terminal GU and \", nbignored, \"ignored.\")\n",
    "    return newmtg, newids\n",
    "    "
   ]
  },
  {
   "cell_type": "code",
   "execution_count": null,
   "metadata": {
    "ExecuteTime": {
     "end_time": "2022-05-31T12:49:11.917215Z",
     "start_time": "2022-05-31T12:49:11.917203Z"
    },
    "scrolled": true
   },
   "outputs": [],
   "source": [
    "class GrowthColoring: \n",
    "    def __init__(self, newids):\n",
    "        self.newids = set(newids)\n",
    "    def prepare_turtle(self, turtle):\n",
    "        from openalea.plantgl.all import Material\n",
    "        turtle.setMaterial(1,Material((45,65,15))) # ,transparency=0.8))\n",
    "        turtle.setMaterial(10,Material((200,200,0)))\n",
    "        turtle.setMaterial(11,Material((200,0,0)))\n",
    "    def set_mtg(self, mtg):\n",
    "        self.mtg = mtg            \n",
    "        self.colors = { False : 1, True : 2}\n",
    "        self.mindate = min(self.mtg.property('BurstDate').values()) #date(2017,2,1)\n",
    "        self.maxdate = max(self.mtg.property('BurstDate').values()) #date(2017,6,1)\n",
    "        print(self.mindate, self.maxdate)\n",
    "        self.deltadate = float((self.maxdate - self.mindate).days)\n",
    "    def __call__(self, turtle, vid):\n",
    "        if vid in self.newids:\n",
    "            d = (get_gu_property(self.mtg, vid, \"BurstDate\")-self.mindate).days\n",
    "            turtle.interpolateColors(10,11,d/self.deltadate)\n",
    "        else:\n",
    "            turtle.setColor(1)\n",
    "\n"
   ]
  },
  {
   "cell_type": "code",
   "execution_count": null,
   "metadata": {
    "ExecuteTime": {
     "end_time": "2022-05-31T12:49:11.918420Z",
     "start_time": "2022-05-31T12:49:11.918409Z"
    }
   },
   "outputs": [],
   "source": [
    "gt3, newids = growth(t3, listidprunedT3, T3)\n",
    "print('Created', len(newids), 'new GUs')\n",
    "plot_tree(gt3, colorizer = GrowthColoring(newids), leaves=True, gc = False)"
   ]
  },
  {
   "cell_type": "code",
   "execution_count": null,
   "metadata": {
    "ExecuteTime": {
     "end_time": "2022-05-31T12:49:11.919469Z",
     "start_time": "2022-05-31T12:49:11.919458Z"
    }
   },
   "outputs": [],
   "source": [
    "def date_histo(g):\n",
    "    from matplotlib.pyplot import hist, show\n",
    "    from collections import Counter\n",
    "    from datetime import timedelta\n",
    "    c = list(Counter(g.property('BurstDate').values()).items())\n",
    "    c.sort(key = lambda v : v[0])\n",
    "    mindate = c[0][0]\n",
    "    maxdate = c[-1][0]\n",
    "    c = dict(c)\n",
    "    r = range(0,(maxdate-mindate).days)\n",
    "    d = [mindate+timedelta(days=d) for d in r]\n",
    "    v = [ c.get(di,0) for di in d]\n",
    "    bar(r,v)\n",
    "    xticks(r,d, rotation=90)\n",
    "    show()"
   ]
  },
  {
   "cell_type": "code",
   "execution_count": null,
   "metadata": {
    "ExecuteTime": {
     "end_time": "2022-05-31T12:49:11.920730Z",
     "start_time": "2022-05-31T12:49:11.920719Z"
    }
   },
   "outputs": [],
   "source": [
    "date_histo(gt3)"
   ]
  },
  {
   "cell_type": "code",
   "execution_count": null,
   "metadata": {
    "ExecuteTime": {
     "end_time": "2022-05-31T12:49:11.922031Z",
     "start_time": "2022-05-31T12:49:11.922019Z"
    }
   },
   "outputs": [],
   "source": [
    "def nb_children_histo(g):\n",
    "    def severity(vid):\n",
    "        return g.property('cuted').get(vid,0)\n",
    "\n",
    "    ancestors = [get_parent(g,vid) if vid in g.property('BurstDate') else vid for vid in get_all_terminal_gus(g) ]\n",
    "    ancestors = set(ancestors)\n",
    "    \n",
    "    values = [[] for i in range(4)]\n",
    "    for vid in ancestors:\n",
    "        values[severity(vid)].append(g.nb_children(vid))\n",
    "    figure(figsize=(18,4))\n",
    "    for order, v in enumerate(values):\n",
    "        if len(v) > 0:\n",
    "            subplot(220+order+1)\n",
    "            hist(v, bins=arange(0,max(1,max(v)))-0.5)\n",
    "            print(len(v),(np.mean(v), np.std(v)),(np.mean([vi for vi in v if vi > 0]), np.std([vi for vi in v if vi > 0])),(np.min(v), np.max(v)))\n",
    "    show()\n",
    "    "
   ]
  },
  {
   "cell_type": "code",
   "execution_count": null,
   "metadata": {
    "ExecuteTime": {
     "end_time": "2022-05-31T12:49:11.923156Z",
     "start_time": "2022-05-31T12:49:11.923145Z"
    }
   },
   "outputs": [],
   "source": [
    "nb_children_histo(gt3)"
   ]
  },
  {
   "cell_type": "markdown",
   "metadata": {},
   "source": [
    "# problèmes/questions?"
   ]
  },
  {
   "cell_type": "code",
   "execution_count": null,
   "metadata": {
    "ExecuteTime": {
     "end_time": "2022-05-31T12:49:11.924365Z",
     "start_time": "2022-05-31T12:49:11.924351Z"
    }
   },
   "outputs": [],
   "source": [
    "print(leafarea(g,id_n1)) # résultats très élevés\n",
    "print(leafarea(g,id_n2))\n",
    "print(leafarea(g,id_n3))"
   ]
  },
  {
   "cell_type": "markdown",
   "metadata": {},
   "source": [
    "Les diamètres des ucs non taillées sont parfois très gros."
   ]
  },
  {
   "cell_type": "code",
   "execution_count": null,
   "metadata": {
    "ExecuteTime": {
     "end_time": "2022-05-31T12:49:11.925781Z",
     "start_time": "2022-05-31T12:49:11.925770Z"
    }
   },
   "outputs": [],
   "source": [
    "diam = [(vid,get_gu_diameter(t3,vid)) for vid in get_all_terminal_gus(t3) if sum([vid in l for l in listidprunedT3.values()]) == 0 and not 'A'in t3.property('Taille').get(vid,'')]\n",
    "hist([d for v,d in diam],range(20))\n",
    "show()\n",
    "print([(v,d) for v,d in diam if d > 10])\n",
    "print(len(diam))\n",
    "print(len([(v,d) for v,d in diam if d > 12]))"
   ]
  },
  {
   "cell_type": "markdown",
   "metadata": {},
   "source": [
    "Les **longueurs d'UCs générées** suivent la loi normale du modèle précédent. A corriger avec données 2017"
   ]
  },
  {
   "cell_type": "markdown",
   "metadata": {},
   "source": [
    "# leaf area produced at the tree scale vs. leaf area removed by pruning"
   ]
  },
  {
   "cell_type": "code",
   "execution_count": null,
   "metadata": {
    "ExecuteTime": {
     "end_time": "2022-05-31T12:49:11.926966Z",
     "start_time": "2022-05-31T12:49:11.926953Z"
    }
   },
   "outputs": [],
   "source": [
    "def leaf_area_produced(mtg,newids):\n",
    "    newids = growth(t3, listidprunedT3, T3)\n",
    "    totalleafarea = sum([individual_leafarea_unpruned() for vid in newids])\n",
    "    growth(t3, listidprunedT3, T3)\n",
    "    return totalleafarea"
   ]
  },
  {
   "cell_type": "markdown",
   "metadata": {},
   "source": [
    "# améliorations possibles du modèle"
   ]
  },
  {
   "cell_type": "code",
   "execution_count": null,
   "metadata": {
    "ExecuteTime": {
     "end_time": "2022-05-31T12:49:11.927971Z",
     "start_time": "2022-05-31T12:49:11.927960Z"
    }
   },
   "outputs": [],
   "source": [
    "def pipeline(mtg, nbcuts):\n",
    "    # characterize before pruning\n",
    "    # nb of terminal units\n",
    "    nbterminalunits = len(get_all_terminal_gus(mtg))\n",
    "\n",
    "    # determine pruning\n",
    "    listidpruned = define_pruning(mtg, nbcuts)\n",
    "    #pruningprop = tag_pruning(mtg, listidpruned)\n",
    "\n",
    "    # characterize pruning\n",
    "    # - intensity\n",
    "    intensity = intensity_level(continuous_intensity(g,listidpruned))\n",
    "    if intensity == T2:\n",
    "        raise ValueError('Intensity', intensity)\n",
    "        \n",
    "    #  - nb of terminal units\n",
    "    nbremovedGU = sum([sum([len(get_descendants_gus_from_ancestor(mtg, vid))-1 for vid in pruneds]) for order, pruneds in listidpruned.items()])\n",
    "    \n",
    "    # - surface foliaire retire \n",
    "    removed_leaf_area = sum([sum([gu_leaf_area(get_gu_diameter(mtg, vid)) for vid in pruneds]) for order, pruneds in listidpruned.items()])\n",
    "    \n",
    "    # apply pruning\n",
    "    prunedmtg = deepcopy(mtg)\n",
    "    apply_pruning(prunedmtg, listidpruned)\n",
    "\n",
    "    # characterize pruning\n",
    "    # nb of terminal units\n",
    "    \n",
    "    # apply growth    \n",
    "    growthmtg, newGUs = growth(prunedmtg, listidpruned, intensity)\n",
    "\n",
    "    allpruned = set(listidpruned[n1]) | set(listidpruned[n2]) | set(listidpruned[n3])\n",
    "\n",
    "    # characterize growth\n",
    "    nbgeneratedGU = len(newGUs)\n",
    "    generated_leaf_area_pruned = sum([la for vid,la in growthmtg.property('RegeneratedLeafArea').items() if vid in allpruned])\n",
    "    generated_leaf_area_unpruned = sum([la for vid,la in growthmtg.property('RegeneratedLeafArea').items() if not (vid in allpruned)])\n",
    "    \n",
    "    return (nbterminalunits, nbremovedGU, nbgeneratedGU), (removed_leaf_area, generated_leaf_area_pruned, generated_leaf_area_unpruned)\n",
    "    "
   ]
  },
  {
   "cell_type": "code",
   "execution_count": null,
   "metadata": {
    "ExecuteTime": {
     "end_time": "2022-05-31T12:49:11.929261Z",
     "start_time": "2022-05-31T12:49:11.929249Z"
    }
   },
   "outputs": [],
   "source": [
    "units0, la0 = pipeline(g, 0)\n",
    "print(units0, la0)"
   ]
  },
  {
   "cell_type": "code",
   "execution_count": null,
   "metadata": {
    "ExecuteTime": {
     "end_time": "2022-05-31T12:49:11.930462Z",
     "start_time": "2022-05-31T12:49:11.930451Z"
    }
   },
   "outputs": [],
   "source": [
    "units20, la20 = pipeline(g, 20)\n",
    "print(units20, la20)"
   ]
  },
  {
   "cell_type": "code",
   "execution_count": null,
   "metadata": {
    "ExecuteTime": {
     "end_time": "2022-05-31T12:49:11.931618Z",
     "start_time": "2022-05-31T12:49:11.931606Z"
    }
   },
   "outputs": [],
   "source": [
    "units60, la60 = pipeline(g, 60)\n",
    "print(units60, la60)"
   ]
  },
  {
   "cell_type": "code",
   "execution_count": null,
   "metadata": {
    "ExecuteTime": {
     "end_time": "2022-05-31T12:49:11.932825Z",
     "start_time": "2022-05-31T12:49:11.932813Z"
    }
   },
   "outputs": [],
   "source": [
    "#units0060, la0060 = pipeline(g, (0,30,76))\n",
    "#print(units0060, la0060)"
   ]
  },
  {
   "cell_type": "code",
   "execution_count": null,
   "metadata": {
    "ExecuteTime": {
     "end_time": "2022-05-31T12:49:11.934092Z",
     "start_time": "2022-05-31T12:49:11.934081Z"
    }
   },
   "outputs": [],
   "source": [
    "print(la0[1]-la0[0])\n",
    "print(la20[1]-la20[0])\n",
    "print(la60[1]-la60[0])\n"
   ]
  },
  {
   "cell_type": "code",
   "execution_count": null,
   "metadata": {
    "ExecuteTime": {
     "end_time": "2022-05-31T12:49:11.935119Z",
     "start_time": "2022-05-31T12:49:11.935107Z"
    }
   },
   "outputs": [],
   "source": [
    "def process_range(mtg, cutrange = (0,20), cuttype = (1,1,1), nbtests = 1):\n",
    "    if type(cutrange) == int:\n",
    "        cutrange = (0, cutrange)\n",
    "    import numpy as np\n",
    "    gla = []\n",
    "    gunits = [] \n",
    "    cuts = []\n",
    "    for c in range(*cutrange):\n",
    "        for i in range(nbtests):\n",
    "            print('process',c,'-',i)\n",
    "            try:\n",
    "                units, la = pipeline(mtg, [c*i for i in cuttype])\n",
    "            except ValueError as e:\n",
    "                print(e)\n",
    "                continue\n",
    "            gla.append(la)\n",
    "            gunits.append(units)\n",
    "            cuts.append(c)\n",
    "    gla = np.array(gla)\n",
    "    gunits = np.array(gunits)\n",
    "    return cuts, gla, gunits\n",
    "    "
   ]
  },
  {
   "cell_type": "code",
   "execution_count": null,
   "metadata": {
    "ExecuteTime": {
     "end_time": "2022-05-31T12:49:11.936439Z",
     "start_time": "2022-05-31T12:49:11.936427Z"
    }
   },
   "outputs": [],
   "source": [
    "cuts76, las76, units76 = process_range(g,(0,76), nbtests = 1)\n"
   ]
  },
  {
   "cell_type": "code",
   "execution_count": null,
   "metadata": {
    "ExecuteTime": {
     "end_time": "2022-05-31T12:49:11.937558Z",
     "start_time": "2022-05-31T12:49:11.937546Z"
    }
   },
   "outputs": [],
   "source": [
    "def plot_cutrange(cuts, las, units):\n",
    "    figure(figsize=(12,6))\n",
    "    #subplot(121)\n",
    "    normalproduction = np.mean(las[where(np.isin(cuts,[0]))[0],2])\n",
    "    plot(cuts,las[:,0],'.',label='removed leaf area')\n",
    "    plot(cuts,las[:,1],'.',label='generated leaf area from pruned GU')\n",
    "    plot(cuts,las[:,2],'.',label='generated leaf area from unpruned GU')\n",
    "    plot(cuts,las[:,1]+las[:,2],'.',label='generated leaf area')\n",
    "    plot(cuts,(las[:,1]+las[:,2])-(las[:,0]+normalproduction),'.',label='increase of leaf area (compared to To)')\n",
    "    legend()\n",
    "    show()\n",
    "    figure(figsize=(12,6))\n",
    "    #subplot(122)\n",
    "    plot(cuts,units[:,0],'.',label='nb terminal units')\n",
    "    plot(cuts,units[:,1],'.',label='nb removed GU')\n",
    "    plot(cuts,units[:,2],'.',label='nb generated GU')\n",
    "    legend()\n",
    "    show()\n"
   ]
  },
  {
   "cell_type": "code",
   "execution_count": null,
   "metadata": {
    "ExecuteTime": {
     "end_time": "2022-05-31T12:49:11.938914Z",
     "start_time": "2022-05-31T12:49:11.938903Z"
    }
   },
   "outputs": [],
   "source": [
    "plot_cutrange(cuts76, las76, units76)\n"
   ]
  },
  {
   "cell_type": "code",
   "execution_count": null,
   "metadata": {
    "ExecuteTime": {
     "end_time": "2022-05-31T12:49:11.940034Z",
     "start_time": "2022-05-31T12:49:11.940023Z"
    }
   },
   "outputs": [],
   "source": [
    "\n",
    "cuts, las, units = process_range(g,(0,300,5), cuttype = (1,0,0), nbtests = 1)"
   ]
  },
  {
   "cell_type": "code",
   "execution_count": null,
   "metadata": {
    "ExecuteTime": {
     "end_time": "2022-05-31T12:49:11.941322Z",
     "start_time": "2022-05-31T12:49:11.941308Z"
    }
   },
   "outputs": [],
   "source": [
    "plot_cutrange(cuts, las, units)"
   ]
  },
  {
   "cell_type": "code",
   "execution_count": null,
   "metadata": {
    "ExecuteTime": {
     "end_time": "2022-05-31T12:49:11.942286Z",
     "start_time": "2022-05-31T12:49:11.942275Z"
    }
   },
   "outputs": [],
   "source": [
    "cuts, las, units = process_range(g,(0,300,5), cuttype = (0,1,0), nbtests = 1)"
   ]
  },
  {
   "cell_type": "code",
   "execution_count": null,
   "metadata": {
    "ExecuteTime": {
     "end_time": "2022-05-31T12:49:11.943474Z",
     "start_time": "2022-05-31T12:49:11.943463Z"
    }
   },
   "outputs": [],
   "source": [
    "plot_cutrange(cuts, las, units)"
   ]
  },
  {
   "cell_type": "code",
   "execution_count": null,
   "metadata": {
    "ExecuteTime": {
     "end_time": "2022-05-31T12:49:11.944762Z",
     "start_time": "2022-05-31T12:49:11.944748Z"
    }
   },
   "outputs": [],
   "source": [
    "cuts, las, units = process_range(g,(0,80,2), cuttype = (0,0,1), nbtests = 1)"
   ]
  },
  {
   "cell_type": "code",
   "execution_count": null,
   "metadata": {
    "ExecuteTime": {
     "end_time": "2022-05-31T12:49:11.945882Z",
     "start_time": "2022-05-31T12:49:11.945870Z"
    }
   },
   "outputs": [],
   "source": [
    "plot_cutrange(cuts, las, units)"
   ]
  },
  {
   "cell_type": "code",
   "execution_count": null,
   "metadata": {},
   "outputs": [],
   "source": []
  }
 ],
 "metadata": {
  "kernelspec": {
   "display_name": "Python 3 (ipykernel)",
   "language": "python",
   "name": "python3"
  },
  "language_info": {
   "codemirror_mode": {
    "name": "ipython",
    "version": 3
   },
   "file_extension": ".py",
   "mimetype": "text/x-python",
   "name": "python",
   "nbconvert_exporter": "python",
   "pygments_lexer": "ipython3",
   "version": "3.9.12"
  }
 },
 "nbformat": 4,
 "nbformat_minor": 2
}
