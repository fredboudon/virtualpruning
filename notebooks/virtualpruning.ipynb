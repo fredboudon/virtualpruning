{
 "cells": [
  {
   "cell_type": "markdown",
   "metadata": {},
   "source": [
    "# Virtual Pruning"
   ]
  },
  {
   "cell_type": "markdown",
   "metadata": {},
   "source": [
    "## Importing the digitized structure"
   ]
  },
  {
   "cell_type": "code",
   "execution_count": 1,
   "metadata": {
    "ExecuteTime": {
     "end_time": "2022-06-02T12:33:31.068700Z",
     "start_time": "2022-06-02T12:33:30.095597Z"
    }
   },
   "outputs": [],
   "source": [
    "from openalea.mtg import *\n",
    "from numpy import *\n",
    "import numpy as np\n",
    "from importlib import reload\n",
    "import numpy as np\n",
    "import mangoG3; reload(mangoG3)\n",
    "from mangoG3 import *\n",
    "\n",
    "g = get_G3_mtg()\n"
   ]
  },
  {
   "cell_type": "code",
   "execution_count": 2,
   "metadata": {
    "ExecuteTime": {
     "end_time": "2022-06-02T12:33:32.072995Z",
     "start_time": "2022-06-02T12:33:31.476644Z"
    }
   },
   "outputs": [
    {
     "data": {
      "text/plain": [
       "<module 'mtgplot' from '/Users/fboudon/Develop/oagit/virtualpruning/notebooks/mtgplot.py'>"
      ]
     },
     "execution_count": 2,
     "metadata": {},
     "output_type": "execute_result"
    }
   ],
   "source": [
    "from matplotlib.pyplot import *\n",
    "import mtgplot as mp\n",
    "reload(mp)\n"
   ]
  },
  {
   "cell_type": "code",
   "execution_count": 3,
   "metadata": {
    "ExecuteTime": {
     "end_time": "2022-06-02T12:33:32.892343Z",
     "start_time": "2022-06-02T12:33:32.074691Z"
    }
   },
   "outputs": [
    {
     "data": {
      "application/vnd.jupyter.widget-view+json": {
       "model_id": "8ce8ac3580f04049aa483babefc4b430",
       "version_major": 2,
       "version_minor": 0
      },
      "text/plain": [
       "SceneWidget(scenes=[{'id': 'qeTwapoB5TV4ZacVdM6kXJsPq', 'data': b'x\\xda\\x9c\\x9d\\t|\\x14E\\xd6\\xc0\\x87#\\x04\\x87K`…"
      ]
     },
     "metadata": {},
     "output_type": "display_data"
    }
   ],
   "source": [
    "sw = mp.plot_tree(g)\n",
    "sw"
   ]
  },
  {
   "cell_type": "markdown",
   "metadata": {},
   "source": [
    "### Diameter characterization"
   ]
  },
  {
   "cell_type": "code",
   "execution_count": 4,
   "metadata": {
    "ExecuteTime": {
     "end_time": "2022-06-02T12:33:49.503591Z",
     "start_time": "2022-06-02T12:33:47.486494Z"
    }
   },
   "outputs": [
    {
     "data": {
      "application/vnd.jupyter.widget-view+json": {
       "model_id": "f296a5dcc21c4616a7194833cf80cca6",
       "version_major": 2,
       "version_minor": 0
      },
      "text/plain": [
       "SceneWidget(scenes=[{'id': 'TNoFO8R73PNDKgTUVmPXDL3Sx', 'data': b'x\\xda\\x94\\x9d\\x07X\\x14G\\x1b\\x80\\x11\\x1bb\\xef…"
      ]
     },
     "metadata": {},
     "output_type": "display_data"
    }
   ],
   "source": [
    "mp.plot_terminal_diameter(g, True, maxvalue=10)"
   ]
  },
  {
   "cell_type": "code",
   "execution_count": 5,
   "metadata": {
    "ExecuteTime": {
     "end_time": "2022-06-02T12:33:54.370515Z",
     "start_time": "2022-06-02T12:33:53.941256Z"
    }
   },
   "outputs": [
    {
     "data": {
      "image/png": "[encoded data removed]",
      "text/plain": [
       "<Figure size 432x288 with 1 Axes>"
      ]
     },
     "metadata": {
      "needs_background": "light"
     },
     "output_type": "display_data"
    }
   ],
   "source": [
    "def terminal_diameter_histo(mtg):\n",
    "    vids = [vid for vid in get_all_terminal_gus(mtg) if not was_previously_pruned(mtg,vid)]\n",
    "    diam = list(map(lambda v : get_gu_diameter(mtg,v), vids))\n",
    "    hist(diam, bins=range(int(max(diam)+1)))\n",
    "    show()\n",
    "    \n",
    "terminal_diameter_histo(g)"
   ]
  },
  {
   "cell_type": "markdown",
   "metadata": {},
   "source": [
    "## Allometric relatrionships"
   ]
  },
  {
   "cell_type": "code",
   "execution_count": 6,
   "metadata": {
    "ExecuteTime": {
     "end_time": "2022-06-02T12:33:54.374412Z",
     "start_time": "2022-06-02T12:33:54.371778Z"
    }
   },
   "outputs": [],
   "source": [
    "from allometry import *"
   ]
  },
  {
   "cell_type": "code",
   "execution_count": 7,
   "metadata": {
    "ExecuteTime": {
     "end_time": "2022-06-02T12:34:03.180610Z",
     "start_time": "2022-06-02T12:33:54.557362Z"
    }
   },
   "outputs": [
    {
     "name": "stdout",
     "output_type": "stream",
     "text": [
      "Volume : 67.26898110368 m3\n",
      "[502.44, 490.4916666666667, 272.96]\n"
     ]
    }
   ],
   "source": [
    "print('Volume :',volume(g,0.01), 'm3')\n",
    "mbbx = bbox(g,0.01)\n",
    "print([v[1]-v[0] for v in mbbx])"
   ]
  },
  {
   "cell_type": "markdown",
   "metadata": {},
   "source": [
    "## Pruning procedure\n",
    "\n",
    "To select a pruning point, we start from terminal points, trace back into the structure up to 3 layers. We check if the pruning point is valid by looking the depth of what it carries. If it is in average close to what is intended we select it. Else we select another one.\n",
    "\n",
    "Point d'amélioration : tailler en fait au milieu de la n4."
   ]
  },
  {
   "cell_type": "code",
   "execution_count": 8,
   "metadata": {
    "ExecuteTime": {
     "end_time": "2022-06-02T12:34:03.191018Z",
     "start_time": "2022-06-02T12:34:03.184706Z"
    }
   },
   "outputs": [],
   "source": [
    "import pruning ; reload(pruning)\n",
    "from pruning import *"
   ]
  },
  {
   "cell_type": "code",
   "execution_count": 9,
   "metadata": {
    "ExecuteTime": {
     "end_time": "2022-06-02T12:34:03.741913Z",
     "start_time": "2022-06-02T12:34:03.193937Z"
    }
   },
   "outputs": [
    {
     "name": "stdout",
     "output_type": "stream",
     "text": [
      "600\n"
     ]
    }
   ],
   "source": [
    "t3 = prune(g, 200)\n",
    "print(len(t3.property('pruned')))\n"
   ]
  },
  {
   "cell_type": "code",
   "execution_count": 10,
   "metadata": {
    "ExecuteTime": {
     "end_time": "2022-06-02T12:34:03.822698Z",
     "start_time": "2022-06-02T12:34:03.744219Z"
    }
   },
   "outputs": [],
   "source": [
    "potential_cutpoints = determine_potential_cutpoints(g, diameterconstraints = True)\n",
    "#check_cutpoint_diameter_validity(g,potential_cutpoints)"
   ]
  },
  {
   "cell_type": "markdown",
   "metadata": {},
   "source": [
    "# Characterize cut points\n"
   ]
  },
  {
   "cell_type": "code",
   "execution_count": 11,
   "metadata": {
    "ExecuteTime": {
     "end_time": "2022-06-02T12:34:04.576917Z",
     "start_time": "2022-06-02T12:34:03.824561Z"
    }
   },
   "outputs": [
    {
     "data": {
      "application/vnd.jupyter.widget-view+json": {
       "model_id": "03c51bd9839b425ebf299e0b9e2dd09f",
       "version_major": 2,
       "version_minor": 0
      },
      "text/plain": [
       "SceneWidget(scenes=[{'id': 'U3PYvNNuOz0l6bQy6ahMJobmm', 'data': b'x\\xda|\\x9d\\x07\\\\\\x14\\xd7\\xf6\\xc7\\xb1 \\x8a]\\x…"
      ]
     },
     "metadata": {},
     "output_type": "display_data"
    }
   ],
   "source": [
    "plot_pruning(g, potential_cutpoints, False, checkvalidity=False)"
   ]
  },
  {
   "cell_type": "code",
   "execution_count": 12,
   "metadata": {
    "ExecuteTime": {
     "end_time": "2022-06-02T12:34:32.927543Z",
     "start_time": "2022-06-02T12:34:32.918577Z"
    }
   },
   "outputs": [],
   "source": [
    "def characterize_cut_points(mtg, listidpruned = potential_cutpoints):\n",
    "    \n",
    "    print('Diameters')\n",
    "    figure(figsize=(18,4))\n",
    "    for order, pruneds in listidpruned.items():\n",
    "        subplot(130+order)\n",
    "        d = [get_gu_diameter(mtg, vid) for vid in pruneds]\n",
    "        md = int(5*ceil(max(d)/5))\n",
    "        print(md,max(d))\n",
    "        hist(d, bins=range(0,70,5)) #, bins=range(0,md,5))\n",
    "        print(order,':',len(d),(np.mean(d), np.std(d)),(np.min(d), np.max(d)),diameterrange[order])\n",
    "    show()\n",
    "    \n",
    "    print('Nb Descendants')\n",
    "    figure(figsize=(18,4))\n",
    "    for order, pruneds in listidpruned.items():\n",
    "        subplot(130+order)\n",
    "        d = [len(get_descendants_gus_from_ancestor(mtg, vid))-1 for vid in pruneds]\n",
    "        hist(d,bins=arange(0.5,max(d)+0.51,1))\n",
    "        print(order,':',len(d),(np.mean(d), np.std(d)))\n",
    "    show()\n",
    "\n",
    "    print('Nb Leaves')\n",
    "    nbleaves = mtg.property('NbLeaf')\n",
    "    figure(figsize=(18,4))\n",
    "    for order, pruneds in listidpruned.items():\n",
    "        subplot(130+order)\n",
    "        d = [sum([nbleaves.get(lvid,0) for lvid in get_descendants_gus_from_ancestor(mtg, vid) if lvid != vid]) for vid in pruneds]\n",
    "        hist(d) #,bins=arange(-0.5,max(d)+0.51,1))\n",
    "        print(order,':',len(d),(np.mean(d), np.std(d)))\n",
    "    show()"
   ]
  },
  {
   "cell_type": "code",
   "execution_count": 13,
   "metadata": {
    "ExecuteTime": {
     "end_time": "2022-06-02T12:34:35.086414Z",
     "start_time": "2022-06-02T12:34:34.075507Z"
    }
   },
   "outputs": [
    {
     "name": "stdout",
     "output_type": "stream",
     "text": [
      "Diameters\n",
      "20 17.0\n",
      "1 : 1611 (6.22284295468653, 2.2522296531371366) (3.2, 17.0) (3.15, 17.2)\n",
      "20 18.9\n",
      "2 : 887 (7.920518602029312, 2.736666262785878) (4.4, 18.9) (4.32, 19.2)\n",
      "25 21.400000000000002\n",
      "3 : 519 (9.994605009633911, 3.400256392357886) (5.5, 21.400000000000002) (5.5, 22.09)\n"
     ]
    },
    {
     "data": {
      "image/png": "[encoded data removed]",
      "text/plain": [
       "<Figure size 1296x288 with 3 Axes>"
      ]
     },
     "metadata": {
      "needs_background": "light"
     },
     "output_type": "display_data"
    },
    {
     "name": "stdout",
     "output_type": "stream",
     "text": [
      "Nb Descendants\n",
      "1 : 1611 (1.4245810055865922, 0.8898303258493854)\n",
      "2 : 887 (3.419391206313416, 1.910626095241806)\n",
      "3 : 519 (6.730250481695569, 3.7195093289628374)\n"
     ]
    },
    {
     "data": {
      "image/png": "[encoded data removed]",
      "text/plain": [
       "<Figure size 1296x288 with 3 Axes>"
      ]
     },
     "metadata": {
      "needs_background": "light"
     },
     "output_type": "display_data"
    },
    {
     "name": "stdout",
     "output_type": "stream",
     "text": [
      "Nb Leaves\n",
      "1 : 1611 (9.309124767225326, 7.512623593826679)\n",
      "2 : 887 (20.482525366403607, 15.259553687473991)\n",
      "3 : 519 (35.31791907514451, 27.17603157921005)\n"
     ]
    },
    {
     "data": {
      "image/png": "[encoded data removed]",
      "text/plain": [
       "<Figure size 1296x288 with 3 Axes>"
      ]
     },
     "metadata": {
      "needs_background": "light"
     },
     "output_type": "display_data"
    }
   ],
   "source": [
    "characterize_cut_points(g)"
   ]
  },
  {
   "cell_type": "markdown",
   "metadata": {},
   "source": [
    "# Define pruning action"
   ]
  },
  {
   "cell_type": "code",
   "execution_count": 14,
   "metadata": {
    "ExecuteTime": {
     "end_time": "2022-06-02T12:34:47.256999Z",
     "start_time": "2022-06-02T12:34:47.247413Z"
    }
   },
   "outputs": [],
   "source": [
    "def test(mtg, nbcuts = 20):\n",
    "    listidpruned = define_pruning(mtg, nbcuts, potential_cutpoints)\n",
    "    assign_pruning(mtg, listidpruned)\n",
    "    print(sum([len(p) for p in listidpruned.values()]))\n",
    "\n",
    "    \n",
    "    print('Diameters')\n",
    "    figure(figsize=(18,4))\n",
    "    for order, pruneds in listidpruned.items():\n",
    "        if len(pruneds) > 0:\n",
    "            subplot(130+order)\n",
    "            d = [get_gu_diameter(mtg, vid) for vid in pruneds]\n",
    "            hist(d)\n",
    "            print ((np.mean(d), np.std(d)),(np.min(d), np.max(d)),diameterrange[order])\n",
    "    show()\n",
    "    \n",
    "    print('Nb Descendants')\n",
    "    figure(figsize=(18,4))\n",
    "    for order, pruneds in listidpruned.items():\n",
    "        if len(pruneds) > 0:\n",
    "            subplot(130+order)\n",
    "            d = [len(get_descendants_gus_from_ancestor(mtg, vid))-1 for vid in pruneds]\n",
    "            hist(d,bins=arange(0.5,max(d)+0.51,1))\n",
    "            print(np.mean(d), np.std(d))\n",
    "    show()\n",
    "\n",
    "    print('Nb Leaves')\n",
    "    nbleaves = mtg.property('NbLeaf')\n",
    "    figure(figsize=(18,4))\n",
    "    for order, pruneds in listidpruned.items():\n",
    "        if len(pruneds) > 0:\n",
    "            subplot(130+order)\n",
    "            d = [sum([nbleaves.get(lvid,0) for lvid in get_descendants_gus_from_ancestor(mtg, vid) if lvid != vid]) for vid in pruneds]\n",
    "            hist(d) #,bins=arange(-0.5,max(d)+0.51,1))\n",
    "            print(np.mean(d), np.std(d))\n",
    "    show()\n",
    "    return listidpruned\n"
   ]
  },
  {
   "cell_type": "code",
   "execution_count": 15,
   "metadata": {
    "ExecuteTime": {
     "end_time": "2022-06-02T12:34:50.228756Z",
     "start_time": "2022-06-02T12:34:49.410916Z"
    }
   },
   "outputs": [
    {
     "name": "stdout",
     "output_type": "stream",
     "text": [
      "60\n",
      "Diameters\n",
      "(5.604999999999999, 1.4763045078844674) (3.2, 10.2) (3.15, 17.2)\n",
      "(8.745, 2.15278308243074) (4.5, 12.1) (4.32, 19.2)\n",
      "(10.025000000000002, 2.5099551788826826) (6.5, 15.5) (5.5, 22.09)\n"
     ]
    },
    {
     "data": {
      "image/png": "[encoded data removed]",
      "text/plain": [
       "<Figure size 1296x288 with 3 Axes>"
      ]
     },
     "metadata": {
      "needs_background": "light"
     },
     "output_type": "display_data"
    },
    {
     "name": "stdout",
     "output_type": "stream",
     "text": [
      "Nb Descendants\n",
      "1.4 0.8\n",
      "3.7 1.5524174696260025\n",
      "6.25 2.2332711434127295\n"
     ]
    },
    {
     "data": {
      "image/png": "[encoded data removed]",
      "text/plain": [
       "<Figure size 1296x288 with 3 Axes>"
      ]
     },
     "metadata": {
      "needs_background": "light"
     },
     "output_type": "display_data"
    },
    {
     "name": "stdout",
     "output_type": "stream",
     "text": [
      "Nb Leaves\n",
      "9.4 4.59782557302906\n",
      "24.0 11.229425630903835\n",
      "33.85 22.161396616639482\n"
     ]
    },
    {
     "data": {
      "image/png": "[encoded data removed]",
      "text/plain": [
       "<Figure size 1296x288 with 3 Axes>"
      ]
     },
     "metadata": {
      "needs_background": "light"
     },
     "output_type": "display_data"
    },
    {
     "name": "stdout",
     "output_type": "stream",
     "text": [
      "{1: [546, 14953, 2428, 1685, 15702, 1690, 14964, 10340, 6581, 7752, 5965, 4929, 1310, 10644, 1369, 1856, 15418, 11411, 12979, 10200], 2: [16492, 12009, 1798, 8983, 3031, 10648, 4042, 2849, 8707, 8003, 14430, 7454, 2713, 9818, 15946, 735, 6539, 3210, 14233, 290], 3: [14557, 4306, 4025, 15924, 2514, 13149, 4214, 13817, 11156, 6992, 1200, 15313, 2687, 9450, 11300, 11369, 1020, 9686, 9366, 3911]}\n"
     ]
    }
   ],
   "source": [
    "listidprunedT1 = test(g,20)\n",
    "print(listidprunedT1)"
   ]
  },
  {
   "cell_type": "code",
   "execution_count": 16,
   "metadata": {
    "ExecuteTime": {
     "end_time": "2022-06-02T12:34:51.313916Z",
     "start_time": "2022-06-02T12:34:50.390174Z"
    }
   },
   "outputs": [
    {
     "name": "stdout",
     "output_type": "stream",
     "text": [
      "120\n",
      "Diameters\n",
      "(6.285, 1.9423632512998181) (3.5, 10.5) (3.15, 17.2)\n",
      "(8.49, 2.9624989451474915) (4.6000000000000005, 18.0) (4.32, 19.2)\n",
      "(10.845000000000002, 3.9317267199031014) (5.5, 20.7) (5.5, 22.09)\n"
     ]
    },
    {
     "data": {
      "image/png": "[encoded data removed]",
      "text/plain": [
       "<Figure size 1296x288 with 3 Axes>"
      ]
     },
     "metadata": {
      "needs_background": "light"
     },
     "output_type": "display_data"
    },
    {
     "name": "stdout",
     "output_type": "stream",
     "text": [
      "Nb Descendants\n",
      "1.575 0.9717895862788405\n",
      "3.525 1.3962002005443201\n",
      "8.2 4.313930922024599\n"
     ]
    },
    {
     "data": {
      "image/png": "[encoded data removed]",
      "text/plain": [
       "<Figure size 1296x288 with 3 Axes>"
      ]
     },
     "metadata": {
      "needs_background": "light"
     },
     "output_type": "display_data"
    },
    {
     "name": "stdout",
     "output_type": "stream",
     "text": [
      "Nb Leaves\n",
      "10.2 8.349251463454674\n",
      "24.0 14.64581851587681\n",
      "47.475 36.83407898943586\n"
     ]
    },
    {
     "data": {
      "image/png": "[encoded data removed]",
      "text/plain": [
       "<Figure size 1296x288 with 3 Axes>"
      ]
     },
     "metadata": {
      "needs_background": "light"
     },
     "output_type": "display_data"
    }
   ],
   "source": [
    "listidprunedT2 = test(g, 40)"
   ]
  },
  {
   "cell_type": "code",
   "execution_count": 17,
   "metadata": {
    "ExecuteTime": {
     "end_time": "2022-06-02T12:34:52.261411Z",
     "start_time": "2022-06-02T12:34:51.315360Z"
    }
   },
   "outputs": [
    {
     "name": "stdout",
     "output_type": "stream",
     "text": [
      "180\n",
      "Diameters\n",
      "(6.031666666666667, 1.9944499380920935) (3.3000000000000003, 11.7) (3.15, 17.2)\n",
      "(8.598333333333333, 2.6015054402317817) (4.699999999999999, 16.0) (4.32, 19.2)\n",
      "(10.435, 3.4946065586843966) (5.5, 18.5) (5.5, 22.09)\n"
     ]
    },
    {
     "data": {
      "image/png": "[encoded data removed]",
      "text/plain": [
       "<Figure size 1296x288 with 3 Axes>"
      ]
     },
     "metadata": {
      "needs_background": "light"
     },
     "output_type": "display_data"
    },
    {
     "name": "stdout",
     "output_type": "stream",
     "text": [
      "Nb Descendants\n",
      "1.2666666666666666 0.6289320754704403\n",
      "3.683333333333333 2.194627277896839\n",
      "7.283333333333333 4.837670467854911\n"
     ]
    },
    {
     "data": {
      "image/png": "[encoded data removed]",
      "text/plain": [
       "<Figure size 1296x288 with 3 Axes>"
      ]
     },
     "metadata": {
      "needs_background": "light"
     },
     "output_type": "display_data"
    },
    {
     "name": "stdout",
     "output_type": "stream",
     "text": [
      "Nb Leaves\n",
      "8.533333333333333 5.771962885843563\n",
      "22.583333333333332 17.493133573554573\n",
      "38.36666666666667 35.144447957283695\n"
     ]
    },
    {
     "data": {
      "image/png": "[encoded data removed]",
      "text/plain": [
       "<Figure size 1296x288 with 3 Axes>"
      ]
     },
     "metadata": {
      "needs_background": "light"
     },
     "output_type": "display_data"
    },
    {
     "name": "stdout",
     "output_type": "stream",
     "text": [
      "{1: [2647, 3432, 9603, 8666, 4313, 457, 13751, 12832, 5744, 4554, 7461, 15972, 14588, 13907, 4264, 11472, 5668, 15933, 748, 9327, 4869, 5252, 5298, 13583, 10316, 4807, 8953, 5283, 12849, 7182, 2038, 14283, 14848, 8474, 12806, 12748, 7054, 9140, 4348, 15025, 2741, 1112, 10300, 7979, 14013, 11959, 6035, 494, 10040, 6489, 12699, 5034, 11662, 9661, 14485, 16578, 15472, 13786, 6082, 14124], 2: [13085, 8548, 13997, 5055, 10836, 8196, 13860, 15426, 592, 8521, 3773, 5995, 987, 10992, 906, 482, 16186, 14377, 14961, 14680, 9807, 3044, 4007, 15536, 1759, 584, 8274, 8821, 13791, 4603, 2936, 8461, 16227, 192, 13200, 4173, 11205, 2497, 11341, 6844, 13765, 6659, 3369, 5558, 8957, 12219, 6708, 11808, 2290, 15182, 14978, 1623, 9335, 2473, 290, 703, 5310, 14774, 14792, 1798], 3: [8830, 16410, 335, 5952, 5446, 4502, 2086, 9522, 12344, 11436, 7822, 8279, 2514, 14423, 2222, 14557, 13912, 3863, 1975, 2893, 711, 2987, 7600, 5326, 11118, 11140, 4452, 8995, 14155, 11049, 4277, 1335, 14196, 11769, 15605, 6598, 11524, 12701, 9272, 14592, 3446, 2796, 13932, 11321, 7494, 3651, 5479, 9864, 3572, 5761, 6141, 15370, 12649, 1674, 2836, 1223, 13418, 5211, 6881, 6943]}\n"
     ]
    }
   ],
   "source": [
    "listidprunedT3 = test(g, 60)\n",
    "print(listidprunedT3)"
   ]
  },
  {
   "cell_type": "code",
   "execution_count": 18,
   "metadata": {
    "ExecuteTime": {
     "end_time": "2022-06-02T12:34:59.104796Z",
     "start_time": "2022-06-02T12:34:58.771310Z"
    }
   },
   "outputs": [
    {
     "name": "stdout",
     "output_type": "stream",
     "text": [
      "120\n",
      "Diameters\n",
      "(10.088333333333333, 3.6881156736499228) (5.5, 20.7) (5.5, 22.09)\n"
     ]
    },
    {
     "data": {
      "image/png": "[encoded data removed]",
      "text/plain": [
       "<Figure size 1296x288 with 1 Axes>"
      ]
     },
     "metadata": {
      "needs_background": "light"
     },
     "output_type": "display_data"
    },
    {
     "name": "stdout",
     "output_type": "stream",
     "text": [
      "Nb Descendants\n",
      "6.641666666666667 3.698639013955749\n"
     ]
    },
    {
     "data": {
      "image/png": "[encoded data removed]",
      "text/plain": [
       "<Figure size 1296x288 with 1 Axes>"
      ]
     },
     "metadata": {
      "needs_background": "light"
     },
     "output_type": "display_data"
    },
    {
     "name": "stdout",
     "output_type": "stream",
     "text": [
      "Nb Leaves\n",
      "33.108333333333334 21.94113178231444\n"
     ]
    },
    {
     "data": {
      "image/png": "[encoded data removed]",
      "text/plain": [
       "<Figure size 1296x288 with 1 Axes>"
      ]
     },
     "metadata": {
      "needs_background": "light"
     },
     "output_type": "display_data"
    }
   ],
   "source": [
    "idprunedcustom = test(g,(0,0,120))"
   ]
  },
  {
   "cell_type": "markdown",
   "metadata": {},
   "source": [
    "### Preliminary analysis\n",
    "\n",
    "Diameters of n2 and n3 are very similars. Measured values range more at 7, 9.5, 13 for n1, n2 and n3 respectivelly.\n",
    "\n",
    "With rule of cut points for stricts n1, n2, n3, n1 are always composed of only 1 GU. It means that no configuration with several daughters at the same points with no children each exists in the digitized structure."
   ]
  },
  {
   "cell_type": "markdown",
   "metadata": {},
   "source": [
    "## Pruning Characterization"
   ]
  },
  {
   "cell_type": "markdown",
   "metadata": {},
   "source": [
    "### intensité de taille en variable continue\n",
    "attention, l'intensité de taille correspond à la biomasse/volume et non la surface foliaire/volume"
   ]
  },
  {
   "cell_type": "code",
   "execution_count": 19,
   "metadata": {
    "ExecuteTime": {
     "end_time": "2022-06-02T12:34:59.110798Z",
     "start_time": "2022-06-02T12:34:59.106289Z"
    }
   },
   "outputs": [],
   "source": [
    "def pruned_biomass_analysis(mtg, listprunedgu): \n",
    "    diameters = [[get_gu_diameter(mtg,vid) for vid in nis] for nis in listprunedgu.values()]\n",
    "    biomasses = [sum(list(map(gu_biomass, diam)))/1000 for diam in diameters]\n",
    "    biomass = sum(biomasses)\n",
    "\n",
    "    print(\"biomasse totale retirée:\",round(biomass,2),\"kg\")\n",
    "    print(\"biomasse n1:\",round(biomasses[0],2),\"kg - diameters :\", np.mean(diameters[0]), '+-', np.std(diameters[0]), ' (6.9+-1.6)')\n",
    "    print(\"biomasse n2:\",round(biomasses[1],2),\"kg - diameters :\", np.mean(diameters[1]), '+-', np.std(diameters[1]), ' (9.5+-2.5)')\n",
    "    print(\"biomasse n3:\",round(biomasses[2],2),\"kg - diameters :\", np.mean(diameters[2]), '+-', np.std(diameters[2]), ' (13.1+-3.4)')\n"
   ]
  },
  {
   "cell_type": "markdown",
   "metadata": {},
   "source": [
    "### intensité de taille catégorielle: T0, T1, T2 ou T3"
   ]
  },
  {
   "cell_type": "code",
   "execution_count": 20,
   "metadata": {
    "ExecuteTime": {
     "end_time": "2022-06-02T12:35:17.868137Z",
     "start_time": "2022-06-02T12:35:05.292472Z"
    }
   },
   "outputs": [
    {
     "name": "stdout",
     "output_type": "stream",
     "text": [
      "biomasse totale retirée: 3.96 kg\n",
      "biomasse n1: 0.48 kg - diameters : 5.604999999999999 +- 1.4763045078844674  (6.9+-1.6)\n",
      "biomasse n2: 1.44 kg - diameters : 8.745 +- 2.15278308243074  (9.5+-2.5)\n",
      "biomasse n3: 2.04 kg - diameters : 10.025000000000002 +- 2.5099551788826826  (13.1+-3.4)\n",
      "intensité de taille 0.10517073135366614 T1\n",
      "\n",
      "biomasse totale retirée: 9.94 kg\n",
      "biomasse n1: 1.34 kg - diameters : 6.285 +- 1.9423632512998181  (6.9+-1.6)\n",
      "biomasse n2: 3.0 kg - diameters : 8.49 +- 2.9624989451474915  (9.5+-2.5)\n",
      "biomasse n3: 5.6 kg - diameters : 10.845000000000002 +- 3.9317267199031014  (13.1+-3.4)\n",
      "intensité de taille 0.2639184874081363 T2\n",
      "\n",
      "biomasse totale retirée: 13.61 kg\n",
      "biomasse n1: 1.85 kg - diameters : 6.031666666666667 +- 1.9944499380920935  (6.9+-1.6)\n",
      "biomasse n2: 4.38 kg - diameters : 8.598333333333333 +- 2.6015054402317817  (9.5+-2.5)\n",
      "biomasse n3: 7.37 kg - diameters : 10.435 +- 3.4946065586843966  (13.1+-3.4)\n",
      "intensité de taille 0.3612808712981274 T2\n"
     ]
    }
   ],
   "source": [
    "cT1 = continuous_intensity(g,listidprunedT1)\n",
    "pruned_biomass_analysis(g,listidprunedT1)\n",
    "print(\"intensité de taille\",  cT1, intensity_level(cT1))\n",
    "print()\n",
    "\n",
    "cT2 = continuous_intensity(g,listidprunedT2)\n",
    "pruned_biomass_analysis(g,listidprunedT2)\n",
    "print(\"intensité de taille\", cT2, intensity_level(cT2))\n",
    "print()\n",
    "\n",
    "cT3 = continuous_intensity(g,listidprunedT3)\n",
    "pruned_biomass_analysis(g,listidprunedT3)\n",
    "print(\"intensité de taille\", cT3, intensity_level(cT3))"
   ]
  },
  {
   "cell_type": "markdown",
   "metadata": {},
   "source": [
    "## Caracterizing cut"
   ]
  },
  {
   "cell_type": "markdown",
   "metadata": {},
   "source": [
    "### We calculate the mean number of terminal GUs according to pruning severity"
   ]
  },
  {
   "cell_type": "code",
   "execution_count": 21,
   "metadata": {
    "ExecuteTime": {
     "end_time": "2022-06-02T12:35:40.667356Z",
     "start_time": "2022-06-02T12:35:40.663786Z"
    }
   },
   "outputs": [],
   "source": [
    "def nbterminals(mtg, listcutids):\n",
    "    nb_term = [len(get_terminal_gus_from_ancestor(mtg, vid)) for vid in listcutids]\n",
    "    return (round(np.mean(nb_term),2), round(np.std(nb_term),2))"
   ]
  },
  {
   "cell_type": "code",
   "execution_count": null,
   "metadata": {
    "ExecuteTime": {
     "end_time": "2022-06-02T12:15:56.023595Z",
     "start_time": "2022-06-02T12:15:55.962484Z"
    },
    "scrolled": false
   },
   "outputs": [],
   "source": [
    "id_n1, id_n2, id_n3 = potential_cutpoints.values()\n",
    "print(nbterminals(g,id_n1))\n",
    "print(nbterminals(g,id_n2))\n",
    "print(nbterminals(g,id_n3))"
   ]
  },
  {
   "cell_type": "markdown",
   "metadata": {},
   "source": [
    "### We calculate the number of leaves above the pruning point according to pruning severity"
   ]
  },
  {
   "cell_type": "code",
   "execution_count": null,
   "metadata": {
    "ExecuteTime": {
     "end_time": "2022-06-02T12:15:56.031262Z",
     "start_time": "2022-06-02T12:15:56.026479Z"
    }
   },
   "outputs": [],
   "source": [
    "def nbleaves_prunedGU(mtg, listcutids):\n",
    "    d = [sum([get_gu_nb_leaf(mtg, lvid) for lvid in get_descendants_gus_from_ancestor(mtg, vid) if lvid != vid]) for vid in listcutids]\n",
    "    return (round(np.mean(d)),round(np.std(d)))"
   ]
  },
  {
   "cell_type": "code",
   "execution_count": null,
   "metadata": {
    "ExecuteTime": {
     "end_time": "2022-06-02T12:15:56.125850Z",
     "start_time": "2022-06-02T12:15:56.034130Z"
    }
   },
   "outputs": [],
   "source": [
    "print(nbleaves_prunedGU(g,id_n1))\n",
    "print(nbleaves_prunedGU(g,id_n2))\n",
    "print(nbleaves_prunedGU(g,id_n3))"
   ]
  },
  {
   "cell_type": "markdown",
   "metadata": {},
   "source": [
    "### calculation of leaf area from diameter"
   ]
  },
  {
   "cell_type": "code",
   "execution_count": null,
   "metadata": {
    "ExecuteTime": {
     "end_time": "2022-06-02T12:15:56.131046Z",
     "start_time": "2022-06-02T12:15:56.127971Z"
    }
   },
   "outputs": [],
   "source": [
    "def leafarea(mtg,listcutids):\n",
    "    leaf_area = [gu_leaf_area(get_gu_diameter(mtg, vid)) for vid in listcutids]\n",
    "    #leaf_area = [gu_leaf_area(get_gu_section(mtg, vid)) for vid in listcutids]\n",
    "    return ((np.mean(leaf_area)),(np.std(leaf_area)))    "
   ]
  },
  {
   "cell_type": "code",
   "execution_count": null,
   "metadata": {
    "ExecuteTime": {
     "end_time": "2022-06-02T12:15:56.141439Z",
     "start_time": "2022-06-02T12:15:56.132836Z"
    },
    "scrolled": true
   },
   "outputs": [],
   "source": [
    "print(leafarea(g,id_n1))\n",
    "print(leafarea(g,id_n2))\n",
    "print(leafarea(g,id_n3))"
   ]
  },
  {
   "cell_type": "markdown",
   "metadata": {},
   "source": [
    "## Estimation of gap fraction "
   ]
  },
  {
   "cell_type": "code",
   "execution_count": 22,
   "metadata": {
    "ExecuteTime": {
     "end_time": "2022-06-02T12:35:40.675732Z",
     "start_time": "2022-06-02T12:35:40.669082Z"
    }
   },
   "outputs": [],
   "source": [
    "import gapfraction; reload(gapfraction)\n",
    "from gapfraction import *"
   ]
  },
  {
   "cell_type": "code",
   "execution_count": null,
   "metadata": {
    "ExecuteTime": {
     "end_time": "2022-06-02T12:16:03.785788Z",
     "start_time": "2022-06-02T12:15:56.163997Z"
    }
   },
   "outputs": [],
   "source": [
    "from matplotlib.pyplot import imshow\n",
    "img = generate(g, camheight=150, debug=True)\n",
    "imshow(img)"
   ]
  },
  {
   "cell_type": "code",
   "execution_count": null,
   "metadata": {
    "ExecuteTime": {
     "end_time": "2022-06-02T12:16:10.843063Z",
     "start_time": "2022-06-02T12:16:03.787325Z"
    }
   },
   "outputs": [],
   "source": [
    "gf = gap_fraction(g, camheight=120)\n",
    "print(gf)"
   ]
  },
  {
   "cell_type": "code",
   "execution_count": null,
   "metadata": {
    "ExecuteTime": {
     "end_time": "2022-06-02T12:16:11.387679Z",
     "start_time": "2022-06-02T12:16:10.844450Z"
    }
   },
   "outputs": [],
   "source": [
    "t3 = prune(g, 120)\n"
   ]
  },
  {
   "cell_type": "code",
   "execution_count": null,
   "metadata": {
    "ExecuteTime": {
     "end_time": "2022-06-02T12:16:11.391969Z",
     "start_time": "2022-06-02T12:16:11.389024Z"
    }
   },
   "outputs": [],
   "source": [
    "print(len(t3.property('pruned')))"
   ]
  },
  {
   "cell_type": "code",
   "execution_count": null,
   "metadata": {
    "ExecuteTime": {
     "end_time": "2022-06-02T12:16:12.918840Z",
     "start_time": "2022-06-02T12:16:11.393756Z"
    }
   },
   "outputs": [],
   "source": [
    "plot_pruning(t3, leaves=True)"
   ]
  },
  {
   "cell_type": "code",
   "execution_count": null,
   "metadata": {
    "ExecuteTime": {
     "end_time": "2022-06-02T12:16:18.676119Z",
     "start_time": "2022-06-02T12:16:12.919961Z"
    }
   },
   "outputs": [],
   "source": [
    "img = generate(t3, size = 400, camheight=150, debug=True)\n",
    "imshow(img)"
   ]
  },
  {
   "cell_type": "code",
   "execution_count": null,
   "metadata": {
    "ExecuteTime": {
     "end_time": "2022-06-02T12:16:18.684164Z",
     "start_time": "2022-06-02T12:16:18.677936Z"
    }
   },
   "outputs": [],
   "source": [
    "a = img[np.where(img>0)].sum()\n",
    "b= 96142140\n",
    "print(a,b,a/b)"
   ]
  },
  {
   "cell_type": "code",
   "execution_count": null,
   "metadata": {
    "ExecuteTime": {
     "end_time": "2022-06-02T12:16:24.308660Z",
     "start_time": "2022-06-02T12:16:18.685478Z"
    }
   },
   "outputs": [],
   "source": [
    "print(gap_fraction(t3, size = 400, camheight=150, debug=False))"
   ]
  },
  {
   "cell_type": "code",
   "execution_count": 23,
   "metadata": {
    "ExecuteTime": {
     "end_time": "2022-06-02T12:52:31.220829Z",
     "start_time": "2022-06-02T12:35:47.372356Z"
    }
   },
   "outputs": [],
   "source": [
    "def info(mtg):\n",
    "    return (continuous_intensity_from_pruned(mtg), gap_fraction(mtg))\n",
    "nbcuts = list(range(1,401, 2))\n",
    "gfs = [info(prune(g,nc)) for nc in nbcuts]"
   ]
  },
  {
   "cell_type": "code",
   "execution_count": 24,
   "metadata": {
    "ExecuteTime": {
     "end_time": "2022-06-02T12:52:31.357641Z",
     "start_time": "2022-06-02T12:52:31.223002Z"
    }
   },
   "outputs": [
    {
     "data": {
      "image/png": "[encoded data removed]",
      "text/plain": [
       "<Figure size 432x288 with 1 Axes>"
      ]
     },
     "metadata": {
      "needs_background": "light"
     },
     "output_type": "display_data"
    }
   ],
   "source": [
    "#ylim(0,1)\n",
    "scatter([a[0] for a in gfs],[a[1] for a in gfs])\n",
    "xlabel('Intensity')\n",
    "ylabel('Gap fraction')\n",
    "show()"
   ]
  },
  {
   "cell_type": "code",
   "execution_count": 27,
   "metadata": {
    "ExecuteTime": {
     "end_time": "2022-06-02T13:30:25.471665Z",
     "start_time": "2022-06-02T13:30:25.359126Z"
    }
   },
   "outputs": [
    {
     "data": {
      "image/png": "[encoded data removed]",
      "text/plain": [
       "<Figure size 432x288 with 1 Axes>"
      ]
     },
     "metadata": {
      "needs_background": "light"
     },
     "output_type": "display_data"
    }
   ],
   "source": [
    "scatter([a*3 for a in nbcuts],[a[0] for a in gfs])\n",
    "xlabel('Nb Tot Cuts')\n",
    "ylabel('Intensity')\n",
    "show()"
   ]
  },
  {
   "cell_type": "markdown",
   "metadata": {},
   "source": [
    "## Application of pruning"
   ]
  },
  {
   "cell_type": "code",
   "execution_count": null,
   "metadata": {
    "ExecuteTime": {
     "start_time": "2022-06-02T12:15:23.487Z"
    }
   },
   "outputs": [],
   "source": [
    "t3 = apply_pruning(g, listidprunedT3)\n",
    "print(t3.property('pruning'))\n",
    "print(t3.property('cuted'))\n",
    "mp.plot_tree(t3,leaves= True)\n",
    "print(len(g), len(t3))\n"
   ]
  },
  {
   "cell_type": "markdown",
   "metadata": {},
   "source": [
    "\n",
    "# Vegetative growth after pruning"
   ]
  },
  {
   "cell_type": "code",
   "execution_count": null,
   "metadata": {
    "ExecuteTime": {
     "start_time": "2022-06-02T12:15:23.491Z"
    }
   },
   "outputs": [],
   "source": [
    "from numpy.random import binomial, poisson, uniform, normal\n",
    "import sys\n",
    "\n",
    "def binomial_proba(intercept, slope, factor):\n",
    "    linear = intercept +slope*factor\n",
    "    return exp(linear)/(1+exp(linear))\n",
    "\n",
    "def binomial_realization(proba):\n",
    "    return bool( binomial(1,proba) )\n",
    "\n",
    "def poisson_proba(intercept, slope, factor):\n",
    "    return exp(intercept+slope*factor)\n",
    "\n",
    "def poisson_realization(proba, maxval = sys.maxsize, minval = 0):\n",
    "    assert maxval > minval\n",
    "    val = int( poisson(proba, 1) )\n",
    "    count = 0\n",
    "    while (val < minval) or (val > maxval):\n",
    "        count += 1\n",
    "        if count >= 1000:\n",
    "            raise ValueError(proba, maxval, minval)\n",
    "        val = int( poisson(proba, 1) )\n",
    "    return val\n",
    "\n",
    "def normal_realization(mean, sd, maxval = sys.float_info.max, minval = sys.float_info.min):\n",
    "    assert maxval > minval\n",
    "    val = normal(mean, sd)\n",
    "    count = 0\n",
    "    while (val < minval) or (val > maxval):\n",
    "        count += 1\n",
    "        if count >= 1000:\n",
    "            raise ValueError(mean, sd, maxval, minval, val)\n",
    "        val = normal(mean, sd)\n",
    "    return val"
   ]
  },
  {
   "cell_type": "code",
   "execution_count": null,
   "metadata": {
    "ExecuteTime": {
     "start_time": "2022-06-02T12:15:23.493Z"
    }
   },
   "outputs": [],
   "source": [
    " def lateral_directions(maindir, angle, nb):\n",
    "    from math import pi\n",
    "    from openalea.plantgl.all import direction, Matrix3\n",
    "    assert nb >= 1\n",
    "    rotdir = direction(maindir.anOrthogonalVector())\n",
    "    rotmat = Matrix3.axisRotation(rotdir, radians(angle))\n",
    "    v0 = rotmat * maindir\n",
    "    deltahangle = 2*pi/nb\n",
    "    result = [v0] + [Matrix3.axisRotation(maindir, i * deltahangle) *v0 for i in range(1,nb)]\n",
    "    return result\n"
   ]
  },
  {
   "cell_type": "code",
   "execution_count": null,
   "metadata": {
    "ExecuteTime": {
     "start_time": "2022-06-02T12:15:23.495Z"
    }
   },
   "outputs": [],
   "source": [
    "def create_daughters(mtg, vid, apical, nblateral, burstdate, totalleafarea = None,  individualleafarea = None):\n",
    "    parentdirection = get_gu_normed_direction(mtg, vid)\n",
    "    topposition = get_gu_top_position(mtg, vid)\n",
    "    diam = get_gu_diameter(mtg, vid)\n",
    "    newgus = []\n",
    "    # newconnections = []\n",
    "    lengths = []\n",
    "    if not totalleafarea is None:\n",
    "        set_gu_property(mtg, vid, \"RegeneratedLeafArea\", totalleafarea)\n",
    "\n",
    "    if apical:\n",
    "        apicaldaughter = mtg.add_child(vid, edge_type = '<', UnitType = 'U', label = 'S'+str(int(mtg.label(vid)[1:])+1))        \n",
    "        l = gu_length(eApical, gu_position(mtg, vid) )\n",
    "        set_gu_top_position(mtg, apicaldaughter, topposition + parentdirection * l )\n",
    "        set_gu_diameter(mtg, apicaldaughter, diam)\n",
    "        newgus.append(apicaldaughter)\n",
    "        lengths.append(l)\n",
    "        set_gu_property(mtg, apicaldaughter, \"Regrowth\", True)\n",
    "        set_gu_property(mtg, apicaldaughter, \"BurstDate\", burstdate)\n",
    "        \n",
    "    branching_angle = 60\n",
    "    if nblateral > 0:\n",
    "        for latiter, latdirection in enumerate(lateral_directions(parentdirection, branching_angle, nblateral)):\n",
    "            lateralconnection = mtg.add_child(vid, edge_type = '+', label = 'S1', Position = topposition, UnitType = 'U')\n",
    "            lateraldaughter   = mtg.add_child(lateralconnection, edge_type = '<', label = 'S2', UnitType = 'U', Diameter=diam/10.)\n",
    "            l = gu_length(eLateral, gu_position(mtg, vid) )\n",
    "            set_gu_top_position(mtg, lateraldaughter, topposition + latdirection * l )\n",
    "            set_gu_diameter(mtg, lateraldaughter, diam)\n",
    "            # newconnections.append(lateralconnection)\n",
    "            newgus.append(lateraldaughter)\n",
    "            lengths.append(l)\n",
    "            set_gu_property(mtg, lateraldaughter, \"Regrowth\", True)\n",
    "            set_gu_property(mtg, lateraldaughter, \"BurstDate\", burstdate)\n",
    "            #print(get_gu_top_position(mtg, lateraldaughter),get_gu_bottom_position(mtg, lateraldaughter), get_gu_diameter(mtg, lateraldaughter))\n",
    "\n",
    "    totlength = sum(lengths)\n",
    "    if not totalleafarea is None and totalleafarea > 0:\n",
    "        unitla = totalleafarea / totlength\n",
    "        for vid, l in zip(newgus, lengths):\n",
    "            leafarea = unitla*l\n",
    "            set_gu_property(mtg, vid, \"LeafArea\", leafarea)\n",
    "            if not individualleafarea is None:\n",
    "                set_gu_property(mtg, vid, \"NbLeaf\", int(round(leafarea / individualleafarea)))\n",
    "    \n",
    "    return newgus\n",
    "        \n"
   ]
  },
  {
   "cell_type": "code",
   "execution_count": null,
   "metadata": {
    "ExecuteTime": {
     "start_time": "2022-06-02T12:15:23.499Z"
    }
   },
   "outputs": [],
   "source": [
    "def gu_length(position, motherposition):\n",
    "    gu_length_distrib = { (eApical, eApical)   : ( 18.14 , 4.14 ) ,\n",
    "                          (eApical, eLateral)  : ( 13.79 , 4.03 ) ,\n",
    "                          (eLateral, eApical)  : ( 12.59 , 3.38 ) ,\n",
    "                          (eLateral, eLateral) : ( 12.59 , 3.38 ) }\n",
    "    mean, sd = gu_length_distrib[(position, motherposition)]\n",
    "    return normal_realization(mean, sd, 25, 5)\n",
    "\n",
    "def gu_nb_leaf(position):\n",
    "    leaf_nb_distrib = { eApical  : ( 0.59, 5.5), eLateral : ( 0.62, 0.36) }\n",
    "    return normal_realization(*leaf_nb_distrib[position])\n",
    "    \n",
    "def burst_pruned(intensity, diameter):\n",
    "    probas = { T1 : (-2.479643,0.29399), \n",
    "               T3 : (-1.284197,0.29399) }\n",
    "    intercept, slope = probas[intensity]\n",
    "    probavalue = binomial_proba(intercept,slope,diameter)\n",
    "    return binomial_realization( probavalue)\n",
    "\n",
    "def nb_daughter_pruned(intensity, diameter):\n",
    "    probas = (-0.1563453, 0.09122709)\n",
    "    intercept, slope = probas\n",
    "    probavalue = poisson_proba(intercept,slope,diameter)\n",
    "    try:\n",
    "        return poisson_realization( probavalue, 10)+1\n",
    "    except ValueError as ve:\n",
    "        print(diameter)\n",
    "        raise ve\n",
    "\n",
    "def total_leafarea_pruned(intensity, diameter):\n",
    "    \"\"\" Total leaf area generated from a pruned gu in dm2 \"\"\"\n",
    "    probas = (0,0.6351646,4.978825)\n",
    "    intercept, slope,sd = probas\n",
    "    probavalue = slope*diameter+intercept\n",
    "    minval=0.1 \n",
    "    maxval=28\n",
    "    return  normal_realization(probavalue, sd, maxval, minval)\n",
    "\n",
    "def individual_leafarea_pruned(intensity):\n",
    "    \"\"\" Individual leaf area of GU borned from a pruned GU in dm2 \"\"\"\n",
    "    probas = { T1 : (47.1,25.9), \n",
    "               T3 : (62.3,21.1) }\n",
    "    probavalue, sd = probas[intensity]\n",
    "    minval=6 \n",
    "    maxval=150\n",
    "    return  normal_realization(probavalue, sd, maxval, minval)/100.\n",
    "    \n",
    "\n",
    "def burst_unpruned(intensity, diameter, apical_bud):\n",
    "    if apical_bud==True:\n",
    "        probas = { T0 : (-2.769854, 0.5973448),\n",
    "                   T1 : (-2.425214  , 0.5973448), \n",
    "                   T3 : (-1.559723 , 0.5973448) }\n",
    "        intercept, slope = probas[intensity]\n",
    "        probavalue = binomial_proba(intercept,slope,diameter)\n",
    "    else:\n",
    "        probas = { T0 : (-4.143407, 0.5973448),\n",
    "                   T1 : (-3.798768  , 0.5973448), \n",
    "                   T3 : (-2.933276  , 0.5973448) }\n",
    "        intercept, slope = probas[intensity]\n",
    "        probavalue = binomial_proba(intercept,slope,diameter)\n",
    "    return binomial_realization( probavalue)\n",
    "\n",
    "def nb_daughter_unpruned(intensity, diameter, apical_bud):\n",
    "    if apical_bud :\n",
    "        probas = { T0 : (-5.563934, 0.4102305),\n",
    "                   T1 : (-4.807413, 0.4102305), \n",
    "                   T3 : (-4.821,    0.4102305) }\n",
    "    else:\n",
    "        probas = { T0 : (-2.775646, 0.4102305),\n",
    "                   T1 : (-2.019124, 0.4102305), \n",
    "                   T3 : (-2.032712, 0.4102305) }\n",
    "    intercept, slope = probas[intensity]\n",
    "    probavalue = poisson_proba(intercept,slope,diameter)\n",
    "    try:\n",
    "        return poisson_realization( probavalue, 10)+1\n",
    "    except ValueError as ve:\n",
    "        print(intensity, diameter, apical_bud)\n",
    "        raise ve\n",
    "\n",
    "def total_leafarea_unpruned(intensity, diameter, apical_bud):\n",
    "    \"\"\" Total leaf area generated from a pruned gu in dm2 \"\"\"\n",
    "    if apical_bud :\n",
    "        probas = { T0 : (-0.3099147, 0.6698266,2.205946),\n",
    "                   T1 : (0.863612 ,0.6698266,2.342514), \n",
    "                   T3 : (2.579996, 0.6698266,2.458084) }\n",
    "    else:\n",
    "        probas = { T0 : (-1.913821, 0.6698266,2.361798),\n",
    "                   T1 : (-0.740294 ,0.6698266,2.342514), \n",
    "                   T3 : (2.579996, 0.6698266,1.290018) }\n",
    "        \n",
    "    intercept, slope,sd = probas[intensity]\n",
    "    probavalue = slope*diameter+intercept\n",
    "    minval=0.1\n",
    "    maxval=20\n",
    "    return  normal_realization(probavalue, sd, maxval, minval)\n",
    "\n",
    "def individual_leafarea_unpruned(intensity):\n",
    "    \"\"\" Individual leaf area of GU borned from an unpruned GU in dm2 \"\"\"\n",
    "    probas = { T0 : (37.9,18.7), \n",
    "               T1 : (49.6,26.4), \n",
    "               T3 : (70.4,29.03) }\n",
    "    probavalue, sd = probas[intensity]\n",
    "    minval=6\n",
    "    maxval=150\n",
    "    return  normal_realization(probavalue, sd, maxval, minval)/100.\n",
    " \n",
    "\n",
    "def burstdelay_pruned(intensity,  severity):\n",
    "    minval = 10\n",
    "    \n",
    "    if intensity == T1 :\n",
    "        \n",
    "        flushproba = { 1  : 0.28, 2 : 0.69, 3 : 0.64}\n",
    "        firstflush = binomial_realization(flushproba[severity])\n",
    "        \n",
    "        if firstflush : # Correspond to first flush\n",
    "            probas = { 1 : (14.7, 1.5) ,\n",
    "                       2 : (19.4, 2.9), \n",
    "                       3 : (17.8, 2.1) }\n",
    "        else:\n",
    "            probas = { 1 : (28.2, 3.9),\n",
    "                       2 : (28.3, 0.7), \n",
    "                       3 : (28.3, 2.0) }\n",
    "        mean, sd = probas[severity]\n",
    "        maxval = 40\n",
    "        \n",
    "    if intensity== T3 :\n",
    "        mean, sd = 16.5, 2.6\n",
    "        maxval = 30\n",
    "    \n",
    "    return normal_realization(mean, sd, maxval, minval)\n",
    "    \n",
    "def flush_selection_unpruned(intensity):\n",
    "    if intensity == T0 :\n",
    "        firstflushproba = 0.85\n",
    "    elif intensity == T1 :\n",
    "        firstflushproba = 0.48        \n",
    "    return binomial_realization(firstflushproba)\n",
    "\n",
    "def burstdelay_unpruned(intensity):\n",
    "    minval = 10\n",
    "    maxval = 35\n",
    "    \n",
    "    if intensity == T0 :\n",
    "        firstflush = flush_selection_unpruned(intensity)\n",
    "        if firstflush :\n",
    "            mean, sd = 13.4, 3.0\n",
    "        else:\n",
    "            mean, sd = 27.5, 1.1\n",
    "    if intensity == T1:\n",
    "        firstflush = flush_selection_unpruned(intensity)\n",
    "        if firstflush :\n",
    "            mean, sd = 13.5, 2.0\n",
    "        else:\n",
    "            mean, sd = 27.5, 1.1\n",
    "        \n",
    "    if intensity == T3:\n",
    "        mean, sd = 16.5, 2.6\n",
    "        maxval = 25\n",
    "        \n",
    "    return  normal_realization(mean, sd, maxval, minval)\n"
   ]
  },
  {
   "cell_type": "code",
   "execution_count": null,
   "metadata": {
    "ExecuteTime": {
     "start_time": "2022-06-02T12:15:23.502Z"
    }
   },
   "outputs": [],
   "source": [
    "from datetime import date, timedelta\n",
    "\n",
    "def growth_pruned_gu(mtg, vid, intensity, severity, pruningdate):\n",
    "    diameter = get_gu_diameter(mtg, vid)\n",
    "    veggrowth = burst_pruned(intensity, diameter)\n",
    "    if veggrowth:\n",
    "        nbdaughter = nb_daughter_pruned(intensity, diameter)+1\n",
    "        assert nbdaughter >= 1\n",
    "        totalleafarea = total_leafarea_pruned(intensity, diameter)\n",
    "        individualleafarea = individual_leafarea_pruned(intensity)\n",
    "        burstdate = pruningdate + timedelta(days = burstdelay_pruned(intensity,  severity))\n",
    "        return create_daughters(mtg, vid, 0, nbdaughter, burstdate, totalleafarea, individualleafarea)       \n",
    "\n",
    "\n",
    "def growth_unpruned_gu(mtg, vid, intensity, pruningdate):\n",
    "    diameter = get_gu_diameter(mtg, vid)\n",
    "    apical_bud = binomial_realization(0.52)\n",
    "    veggrowth = burst_unpruned(intensity, diameter, apical_bud)\n",
    "    if veggrowth:\n",
    "        nbdaughter = nb_daughter_unpruned(intensity, diameter, apical_bud)\n",
    "        assert nbdaughter >= 1\n",
    "        totalleafarea = total_leafarea_unpruned(intensity, diameter, apical_bud)\n",
    "        individualleafarea = individual_leafarea_unpruned(intensity)\n",
    "        burstdate = pruningdate + timedelta(days = burstdelay_unpruned(intensity))\n",
    "        return create_daughters(mtg, vid, int(apical_bud), nbdaughter-int(apical_bud), burstdate, totalleafarea, individualleafarea)\n",
    "\n",
    "import util ; reload(util)\n",
    "from util import *\n",
    "\n",
    "\n",
    "def growth(mtg, listidpruned, intensity, pruningdate = date(2017,2,1), maxdiamunpruned = 10):\n",
    "    newmtg = deepcopy(mtg)\n",
    "    listidpruned = dict([(ni, set(ids)) for ni,ids in listidpruned.items() ])\n",
    "    terminals = get_all_terminal_gus(mtg)\n",
    "    nbterminals = len(terminals)\n",
    "    newids = []\n",
    "    print(\"Should examine\", nbterminals, \"terminal GUs.\")\n",
    "    nbpruned, nbunpruned, nbignored = 0,0,0\n",
    "    for count, vid in enumerate(terminals):\n",
    "        pruned = False\n",
    "        lnewids = None\n",
    "        for severity, ids in listidpruned.items():\n",
    "            if vid in ids:\n",
    "                # we consider a pruned gu:\n",
    "                lnewids = growth_pruned_gu(newmtg, vid, intensity, severity, pruningdate)\n",
    "                nbpruned += 1\n",
    "                pruned = True\n",
    "                break\n",
    "        if not pruned and get_gu_diameter(mtg, vid) <= maxdiamunpruned and not 'A'in mtg.property('Taille').get(vid,''):\n",
    "            nbunpruned += 1\n",
    "            lnewids = growth_unpruned_gu(newmtg, vid, intensity, pruningdate)\n",
    "        elif not pruned:\n",
    "            nbignored += 1\n",
    "        if lnewids:\n",
    "            newids += lnewids\n",
    "    print(\"Processed\", nbpruned, \"pruned terminal GU and\", nbunpruned, \"unpruned terminal GU and \", nbignored, \"ignored.\")\n",
    "    return newmtg, newids\n",
    "    "
   ]
  },
  {
   "cell_type": "code",
   "execution_count": null,
   "metadata": {
    "ExecuteTime": {
     "start_time": "2022-06-02T12:15:23.505Z"
    },
    "scrolled": true
   },
   "outputs": [],
   "source": [
    "class GrowthColoring: \n",
    "    def __init__(self, newids):\n",
    "        self.newids = set(newids)\n",
    "    def prepare_turtle(self, turtle):\n",
    "        from openalea.plantgl.all import Material\n",
    "        turtle.setMaterial(1,Material((45,65,15))) # ,transparency=0.8))\n",
    "        turtle.setMaterial(10,Material((200,200,0)))\n",
    "        turtle.setMaterial(11,Material((200,0,0)))\n",
    "    def set_mtg(self, mtg):\n",
    "        self.mtg = mtg            \n",
    "        self.colors = { False : 1, True : 2}\n",
    "        self.mindate = min(self.mtg.property('BurstDate').values()) #date(2017,2,1)\n",
    "        self.maxdate = max(self.mtg.property('BurstDate').values()) #date(2017,6,1)\n",
    "        print(self.mindate, self.maxdate)\n",
    "        self.deltadate = float((self.maxdate - self.mindate).days)\n",
    "    def __call__(self, turtle, vid):\n",
    "        if vid in self.newids:\n",
    "            d = (get_gu_property(self.mtg, vid, \"BurstDate\")-self.mindate).days\n",
    "            turtle.interpolateColors(10,11,d/self.deltadate)\n",
    "        else:\n",
    "            turtle.setColor(1)\n",
    "\n"
   ]
  },
  {
   "cell_type": "code",
   "execution_count": null,
   "metadata": {
    "ExecuteTime": {
     "start_time": "2022-06-02T12:15:23.508Z"
    }
   },
   "outputs": [],
   "source": [
    "gt3, newids = growth(t3, listidprunedT3, T3)\n",
    "print('Created', len(newids), 'new GUs')\n",
    "plot_tree(gt3, colorizer = GrowthColoring(newids), leaves=True, gc = False)"
   ]
  },
  {
   "cell_type": "code",
   "execution_count": null,
   "metadata": {
    "ExecuteTime": {
     "start_time": "2022-06-02T12:15:23.510Z"
    }
   },
   "outputs": [],
   "source": [
    "def date_histo(g):\n",
    "    from matplotlib.pyplot import hist, show\n",
    "    from collections import Counter\n",
    "    from datetime import timedelta\n",
    "    c = list(Counter(g.property('BurstDate').values()).items())\n",
    "    c.sort(key = lambda v : v[0])\n",
    "    mindate = c[0][0]\n",
    "    maxdate = c[-1][0]\n",
    "    c = dict(c)\n",
    "    r = range(0,(maxdate-mindate).days)\n",
    "    d = [mindate+timedelta(days=d) for d in r]\n",
    "    v = [ c.get(di,0) for di in d]\n",
    "    bar(r,v)\n",
    "    xticks(r,d, rotation=90)\n",
    "    show()"
   ]
  },
  {
   "cell_type": "code",
   "execution_count": null,
   "metadata": {
    "ExecuteTime": {
     "start_time": "2022-06-02T12:15:23.512Z"
    }
   },
   "outputs": [],
   "source": [
    "date_histo(gt3)"
   ]
  },
  {
   "cell_type": "code",
   "execution_count": null,
   "metadata": {
    "ExecuteTime": {
     "start_time": "2022-06-02T12:15:23.515Z"
    }
   },
   "outputs": [],
   "source": [
    "def nb_children_histo(g):\n",
    "    def severity(vid):\n",
    "        return g.property('cuted').get(vid,0)\n",
    "\n",
    "    ancestors = [get_parent(g,vid) if vid in g.property('BurstDate') else vid for vid in get_all_terminal_gus(g) ]\n",
    "    ancestors = set(ancestors)\n",
    "    \n",
    "    values = [[] for i in range(4)]\n",
    "    for vid in ancestors:\n",
    "        values[severity(vid)].append(g.nb_children(vid))\n",
    "    figure(figsize=(18,4))\n",
    "    for order, v in enumerate(values):\n",
    "        if len(v) > 0:\n",
    "            subplot(220+order+1)\n",
    "            hist(v, bins=arange(0,max(1,max(v)))-0.5)\n",
    "            print(len(v),(np.mean(v), np.std(v)),(np.mean([vi for vi in v if vi > 0]), np.std([vi for vi in v if vi > 0])),(np.min(v), np.max(v)))\n",
    "    show()\n",
    "    "
   ]
  },
  {
   "cell_type": "code",
   "execution_count": null,
   "metadata": {
    "ExecuteTime": {
     "start_time": "2022-06-02T12:15:23.517Z"
    }
   },
   "outputs": [],
   "source": [
    "nb_children_histo(gt3)"
   ]
  },
  {
   "cell_type": "markdown",
   "metadata": {},
   "source": [
    "# problèmes/questions?"
   ]
  },
  {
   "cell_type": "code",
   "execution_count": null,
   "metadata": {
    "ExecuteTime": {
     "start_time": "2022-06-02T12:15:23.521Z"
    }
   },
   "outputs": [],
   "source": [
    "print(leafarea(g,id_n1)) # résultats très élevés\n",
    "print(leafarea(g,id_n2))\n",
    "print(leafarea(g,id_n3))"
   ]
  },
  {
   "cell_type": "markdown",
   "metadata": {},
   "source": [
    "Les diamètres des ucs non taillées sont parfois très gros."
   ]
  },
  {
   "cell_type": "code",
   "execution_count": null,
   "metadata": {
    "ExecuteTime": {
     "start_time": "2022-06-02T12:15:23.523Z"
    }
   },
   "outputs": [],
   "source": [
    "diam = [(vid,get_gu_diameter(t3,vid)) for vid in get_all_terminal_gus(t3) if sum([vid in l for l in listidprunedT3.values()]) == 0 and not 'A'in t3.property('Taille').get(vid,'')]\n",
    "hist([d for v,d in diam],range(20))\n",
    "show()\n",
    "print([(v,d) for v,d in diam if d > 10])\n",
    "print(len(diam))\n",
    "print(len([(v,d) for v,d in diam if d > 12]))"
   ]
  },
  {
   "cell_type": "markdown",
   "metadata": {},
   "source": [
    "Les **longueurs d'UCs générées** suivent la loi normale du modèle précédent. A corriger avec données 2017"
   ]
  },
  {
   "cell_type": "markdown",
   "metadata": {},
   "source": [
    "# leaf area produced at the tree scale vs. leaf area removed by pruning"
   ]
  },
  {
   "cell_type": "code",
   "execution_count": null,
   "metadata": {
    "ExecuteTime": {
     "start_time": "2022-06-02T12:15:23.527Z"
    }
   },
   "outputs": [],
   "source": [
    "def leaf_area_produced(mtg,newids):\n",
    "    newids = growth(t3, listidprunedT3, T3)\n",
    "    totalleafarea = sum([individual_leafarea_unpruned() for vid in newids])\n",
    "    growth(t3, listidprunedT3, T3)\n",
    "    return totalleafarea"
   ]
  },
  {
   "cell_type": "markdown",
   "metadata": {},
   "source": [
    "# améliorations possibles du modèle"
   ]
  },
  {
   "cell_type": "code",
   "execution_count": null,
   "metadata": {
    "ExecuteTime": {
     "start_time": "2022-06-02T12:15:23.529Z"
    }
   },
   "outputs": [],
   "source": [
    "def pipeline(mtg, nbcuts):\n",
    "    # characterize before pruning\n",
    "    # nb of terminal units\n",
    "    nbterminalunits = len(get_all_terminal_gus(mtg))\n",
    "\n",
    "    # determine pruning\n",
    "    listidpruned = define_pruning(mtg, nbcuts)\n",
    "    #pruningprop = tag_pruning(mtg, listidpruned)\n",
    "\n",
    "    # characterize pruning\n",
    "    # - intensity\n",
    "    intensity = intensity_level(continuous_intensity(g,listidpruned))\n",
    "    if intensity == T2:\n",
    "        raise ValueError('Intensity', intensity)\n",
    "        \n",
    "    #  - nb of terminal units\n",
    "    nbremovedGU = sum([sum([len(get_descendants_gus_from_ancestor(mtg, vid))-1 for vid in pruneds]) for order, pruneds in listidpruned.items()])\n",
    "    \n",
    "    # - surface foliaire retire \n",
    "    removed_leaf_area = sum([sum([gu_leaf_area(get_gu_diameter(mtg, vid)) for vid in pruneds]) for order, pruneds in listidpruned.items()])\n",
    "    \n",
    "    # apply pruning\n",
    "    prunedmtg = deepcopy(mtg)\n",
    "    apply_pruning(prunedmtg, listidpruned)\n",
    "\n",
    "    # characterize pruning\n",
    "    # nb of terminal units\n",
    "    \n",
    "    # apply growth    \n",
    "    growthmtg, newGUs = growth(prunedmtg, listidpruned, intensity)\n",
    "\n",
    "    allpruned = set(listidpruned[n1]) | set(listidpruned[n2]) | set(listidpruned[n3])\n",
    "\n",
    "    # characterize growth\n",
    "    nbgeneratedGU = len(newGUs)\n",
    "    generated_leaf_area_pruned = sum([la for vid,la in growthmtg.property('RegeneratedLeafArea').items() if vid in allpruned])\n",
    "    generated_leaf_area_unpruned = sum([la for vid,la in growthmtg.property('RegeneratedLeafArea').items() if not (vid in allpruned)])\n",
    "    \n",
    "    return (nbterminalunits, nbremovedGU, nbgeneratedGU), (removed_leaf_area, generated_leaf_area_pruned, generated_leaf_area_unpruned)\n",
    "    "
   ]
  },
  {
   "cell_type": "code",
   "execution_count": null,
   "metadata": {
    "ExecuteTime": {
     "start_time": "2022-06-02T12:15:23.531Z"
    }
   },
   "outputs": [],
   "source": [
    "units0, la0 = pipeline(g, 0)\n",
    "print(units0, la0)"
   ]
  },
  {
   "cell_type": "code",
   "execution_count": null,
   "metadata": {
    "ExecuteTime": {
     "start_time": "2022-06-02T12:15:23.533Z"
    }
   },
   "outputs": [],
   "source": [
    "units20, la20 = pipeline(g, 20)\n",
    "print(units20, la20)"
   ]
  },
  {
   "cell_type": "code",
   "execution_count": null,
   "metadata": {
    "ExecuteTime": {
     "start_time": "2022-06-02T12:15:23.535Z"
    }
   },
   "outputs": [],
   "source": [
    "units60, la60 = pipeline(g, 60)\n",
    "print(units60, la60)"
   ]
  },
  {
   "cell_type": "code",
   "execution_count": null,
   "metadata": {
    "ExecuteTime": {
     "start_time": "2022-06-02T12:15:23.538Z"
    }
   },
   "outputs": [],
   "source": [
    "#units0060, la0060 = pipeline(g, (0,30,76))\n",
    "#print(units0060, la0060)"
   ]
  },
  {
   "cell_type": "code",
   "execution_count": null,
   "metadata": {
    "ExecuteTime": {
     "start_time": "2022-06-02T12:15:23.540Z"
    }
   },
   "outputs": [],
   "source": [
    "print(la0[1]-la0[0])\n",
    "print(la20[1]-la20[0])\n",
    "print(la60[1]-la60[0])\n"
   ]
  },
  {
   "cell_type": "code",
   "execution_count": null,
   "metadata": {
    "ExecuteTime": {
     "start_time": "2022-06-02T12:15:23.542Z"
    }
   },
   "outputs": [],
   "source": [
    "def process_range(mtg, cutrange = (0,20), cuttype = (1,1,1), nbtests = 1):\n",
    "    if type(cutrange) == int:\n",
    "        cutrange = (0, cutrange)\n",
    "    import numpy as np\n",
    "    gla = []\n",
    "    gunits = [] \n",
    "    cuts = []\n",
    "    for c in range(*cutrange):\n",
    "        for i in range(nbtests):\n",
    "            print('process',c,'-',i)\n",
    "            try:\n",
    "                units, la = pipeline(mtg, [c*i for i in cuttype])\n",
    "            except ValueError as e:\n",
    "                print(e)\n",
    "                continue\n",
    "            gla.append(la)\n",
    "            gunits.append(units)\n",
    "            cuts.append(c)\n",
    "    gla = np.array(gla)\n",
    "    gunits = np.array(gunits)\n",
    "    return cuts, gla, gunits\n",
    "    "
   ]
  },
  {
   "cell_type": "code",
   "execution_count": null,
   "metadata": {
    "ExecuteTime": {
     "start_time": "2022-06-02T12:15:23.544Z"
    }
   },
   "outputs": [],
   "source": [
    "cuts76, las76, units76 = process_range(g,(0,76), nbtests = 1)\n"
   ]
  },
  {
   "cell_type": "code",
   "execution_count": null,
   "metadata": {
    "ExecuteTime": {
     "start_time": "2022-06-02T12:15:23.545Z"
    }
   },
   "outputs": [],
   "source": [
    "def plot_cutrange(cuts, las, units):\n",
    "    figure(figsize=(12,6))\n",
    "    #subplot(121)\n",
    "    normalproduction = np.mean(las[where(np.isin(cuts,[0]))[0],2])\n",
    "    plot(cuts,las[:,0],'.',label='removed leaf area')\n",
    "    plot(cuts,las[:,1],'.',label='generated leaf area from pruned GU')\n",
    "    plot(cuts,las[:,2],'.',label='generated leaf area from unpruned GU')\n",
    "    plot(cuts,las[:,1]+las[:,2],'.',label='generated leaf area')\n",
    "    plot(cuts,(las[:,1]+las[:,2])-(las[:,0]+normalproduction),'.',label='increase of leaf area (compared to To)')\n",
    "    legend()\n",
    "    show()\n",
    "    figure(figsize=(12,6))\n",
    "    #subplot(122)\n",
    "    plot(cuts,units[:,0],'.',label='nb terminal units')\n",
    "    plot(cuts,units[:,1],'.',label='nb removed GU')\n",
    "    plot(cuts,units[:,2],'.',label='nb generated GU')\n",
    "    legend()\n",
    "    show()\n"
   ]
  },
  {
   "cell_type": "code",
   "execution_count": null,
   "metadata": {
    "ExecuteTime": {
     "start_time": "2022-06-02T12:15:23.547Z"
    }
   },
   "outputs": [],
   "source": [
    "plot_cutrange(cuts76, las76, units76)\n"
   ]
  },
  {
   "cell_type": "code",
   "execution_count": null,
   "metadata": {
    "ExecuteTime": {
     "start_time": "2022-06-02T12:15:23.549Z"
    }
   },
   "outputs": [],
   "source": [
    "\n",
    "cuts, las, units = process_range(g,(0,300,5), cuttype = (1,0,0), nbtests = 1)"
   ]
  },
  {
   "cell_type": "code",
   "execution_count": null,
   "metadata": {
    "ExecuteTime": {
     "start_time": "2022-06-02T12:15:23.551Z"
    }
   },
   "outputs": [],
   "source": [
    "plot_cutrange(cuts, las, units)"
   ]
  },
  {
   "cell_type": "code",
   "execution_count": null,
   "metadata": {
    "ExecuteTime": {
     "start_time": "2022-06-02T12:15:23.554Z"
    }
   },
   "outputs": [],
   "source": [
    "cuts, las, units = process_range(g,(0,300,5), cuttype = (0,1,0), nbtests = 1)"
   ]
  },
  {
   "cell_type": "code",
   "execution_count": null,
   "metadata": {
    "ExecuteTime": {
     "start_time": "2022-06-02T12:15:23.555Z"
    }
   },
   "outputs": [],
   "source": [
    "plot_cutrange(cuts, las, units)"
   ]
  },
  {
   "cell_type": "code",
   "execution_count": null,
   "metadata": {
    "ExecuteTime": {
     "start_time": "2022-06-02T12:15:23.557Z"
    }
   },
   "outputs": [],
   "source": [
    "cuts, las, units = process_range(g,(0,80,2), cuttype = (0,0,1), nbtests = 1)"
   ]
  },
  {
   "cell_type": "code",
   "execution_count": null,
   "metadata": {
    "ExecuteTime": {
     "start_time": "2022-06-02T12:15:23.559Z"
    }
   },
   "outputs": [],
   "source": [
    "plot_cutrange(cuts, las, units)"
   ]
  },
  {
   "cell_type": "code",
   "execution_count": null,
   "metadata": {},
   "outputs": [],
   "source": []
  }
 ],
 "metadata": {
  "kernelspec": {
   "display_name": "Python 3 (ipykernel)",
   "language": "python",
   "name": "python3"
  },
  "language_info": {
   "codemirror_mode": {
    "name": "ipython",
    "version": 3
   },
   "file_extension": ".py",
   "mimetype": "text/x-python",
   "name": "python",
   "nbconvert_exporter": "python",
   "pygments_lexer": "ipython3",
   "version": "3.9.12"
  }
 },
 "nbformat": 4,
 "nbformat_minor": 2
}
