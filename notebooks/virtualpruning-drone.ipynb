{
 "cells": [
  {
   "cell_type": "markdown",
   "metadata": {},
   "source": [
    "# Virtual Pruning"
   ]
  },
  {
   "cell_type": "markdown",
   "metadata": {},
   "source": [
    "## Importing the digitized structure"
   ]
  },
  {
   "cell_type": "code",
   "execution_count": 1,
   "metadata": {
    "ExecuteTime": {
     "end_time": "2023-01-16T12:48:31.695015Z",
     "start_time": "2023-01-16T12:48:22.795233Z"
    }
   },
   "outputs": [],
   "source": [
    "from openalea.mtg import *\n",
    "import numpy as np\n",
    "from importlib import reload\n",
    "import mangoG3; reload(mangoG3)\n",
    "from mangoG3 import *\n",
    "\n",
    "g = get_G3_mtg()"
   ]
  },
  {
   "cell_type": "code",
   "execution_count": 2,
   "metadata": {
    "ExecuteTime": {
     "end_time": "2023-01-16T12:48:33.519764Z",
     "start_time": "2023-01-16T12:48:31.700500Z"
    }
   },
   "outputs": [
    {
     "data": {
      "text/plain": [
       "<module 'mtgplot' from '/Users/fboudon/Develop/oagit/virtualpruning/notebooks/mtgplot.py'>"
      ]
     },
     "execution_count": 2,
     "metadata": {},
     "output_type": "execute_result"
    }
   ],
   "source": [
    "from matplotlib.pyplot import *\n",
    "import mtgplot as mp\n",
    "reload(mp)"
   ]
  },
  {
   "cell_type": "code",
   "execution_count": 3,
   "metadata": {
    "ExecuteTime": {
     "end_time": "2023-01-16T12:48:33.528524Z",
     "start_time": "2023-01-16T12:48:33.524371Z"
    }
   },
   "outputs": [],
   "source": [
    "#sw = mp.plot_tree(g, leaves=True)\n",
    "#sw"
   ]
  },
  {
   "cell_type": "markdown",
   "metadata": {},
   "source": [
    "\n",
    "# Pruning"
   ]
  },
  {
   "cell_type": "code",
   "execution_count": 4,
   "metadata": {
    "ExecuteTime": {
     "end_time": "2023-01-16T12:48:33.541434Z",
     "start_time": "2023-01-16T12:48:33.533999Z"
    }
   },
   "outputs": [],
   "source": [
    "import pruning ; reload(pruning)\n",
    "from pruning import *"
   ]
  },
  {
   "cell_type": "code",
   "execution_count": 5,
   "metadata": {
    "ExecuteTime": {
     "end_time": "2023-01-16T12:48:33.561503Z",
     "start_time": "2023-01-16T12:48:33.555702Z"
    }
   },
   "outputs": [],
   "source": [
    "prunedmtg = g # prune(g, 180)"
   ]
  },
  {
   "cell_type": "code",
   "execution_count": 6,
   "metadata": {
    "ExecuteTime": {
     "end_time": "2023-01-16T12:48:33.576867Z",
     "start_time": "2023-01-16T12:48:33.568961Z"
    }
   },
   "outputs": [
    {
     "name": "stdout",
     "output_type": "stream",
     "text": [
      "0.0 T0\n"
     ]
    }
   ],
   "source": [
    "intensity = continuous_intensity_from_pruned(prunedmtg)\n",
    "print(intensity, intensity_level(intensity))"
   ]
  },
  {
   "cell_type": "code",
   "execution_count": 27,
   "metadata": {
    "ExecuteTime": {
     "end_time": "2023-01-16T19:29:12.714143Z",
     "start_time": "2023-01-16T19:28:55.554302Z"
    }
   },
   "outputs": [
    {
     "name": "stdout",
     "output_type": "stream",
     "text": [
      "34737\n",
      "7925\n"
     ]
    }
   ],
   "source": [
    "prunedrepr = mp.representation(prunedmtg, wood = True, leaves=True, sensors=False)\n",
    "print(len(prunedrepr))\n",
    "print(len(prunedrepr.todict()))"
   ]
  },
  {
   "cell_type": "code",
   "execution_count": 8,
   "metadata": {
    "ExecuteTime": {
     "end_time": "2023-01-16T12:48:50.799024Z",
     "start_time": "2023-01-16T12:48:47.191676Z"
    }
   },
   "outputs": [
    {
     "data": {
      "application/vnd.jupyter.widget-view+json": {
       "model_id": "fd5dcd59b92e41eead09774d95ee5f06",
       "version_major": 2,
       "version_minor": 0
      },
      "text/plain": [
       "SceneWidget(scenes=[{'id': '2NmTm2atmRrtKp9VDftxlvEq2', 'data': b'x\\xda\\x8c\\x9d\\x07x\\x13G\\xb7\\x86M\\xef\\xa6\\xf7…"
      ]
     },
     "execution_count": 8,
     "metadata": {},
     "output_type": "execute_result"
    }
   ],
   "source": [
    "#mp.display(prunedrepr)"
   ]
  },
  {
   "cell_type": "markdown",
   "metadata": {},
   "source": [
    "# Drone simulation"
   ]
  },
  {
   "cell_type": "code",
   "execution_count": 28,
   "metadata": {
    "ExecuteTime": {
     "end_time": "2023-01-16T19:29:21.046286Z",
     "start_time": "2023-01-16T19:29:21.033535Z"
    }
   },
   "outputs": [],
   "source": [
    "from openalea.plantgl.all import *\n",
    "\n",
    "def drone(scene, height = 600, resolution = 2):\n",
    "    bbx = BoundingBox(scene)\n",
    "    worldWidth = bbx.getXRange()\n",
    "    worldheight = bbx.getYRange()\n",
    "    up = (0,1,0)\n",
    "    w, h = max(2,int(ceil(worldWidth/resolution))+1), max(2,int(ceil(worldheight/resolution))+1)\n",
    "    print(w,h)\n",
    "    z = ZBufferEngine(w,h,eColorBased)\n",
    "    z.multithread = False\n",
    "    minh = height-bbx.upperRightCorner.z\n",
    "    maxh = height-bbx.lowerLeftCorner.z+minh\n",
    "    print(worldWidth,worldheight, minh, maxh)\n",
    "    z.setOrthographicCamera(-worldWidth/2., worldWidth/2., -worldheight/2., worldheight/2., minh , maxh)\n",
    "    eyepos = bbx.getCenter()\n",
    "    eyepos.z = height\n",
    "    z.lookAt(eyepos, bbx.getCenter(), up) \n",
    "    z.process(scene)\n",
    "    return z.grabZBufferPoints()\n",
    "    "
   ]
  },
  {
   "cell_type": "code",
   "execution_count": 29,
   "metadata": {
    "ExecuteTime": {
     "end_time": "2023-01-16T19:29:26.546692Z",
     "start_time": "2023-01-16T19:29:21.050088Z"
    }
   },
   "outputs": [
    {
     "name": "stdout",
     "output_type": "stream",
     "text": [
      "272 238\n",
      "541.7516291377862 473.06886742523574 245.66585683123907 849.8495798387289\n",
      "39652\n"
     ]
    }
   ],
   "source": [
    "points,colors,ids = drone(prunedrepr)\n",
    "print(len(points))"
   ]
  },
  {
   "cell_type": "code",
   "execution_count": null,
   "metadata": {},
   "outputs": [],
   "source": []
  },
  {
   "cell_type": "code",
   "execution_count": 30,
   "metadata": {
    "ExecuteTime": {
     "end_time": "2023-01-16T19:29:59.596239Z",
     "start_time": "2023-01-16T19:29:42.285666Z"
    }
   },
   "outputs": [
    {
     "data": {
      "application/vnd.jupyter.widget-view+json": {
       "model_id": "57a7e449a2e04c1485bd948d43d91392",
       "version_major": 2,
       "version_minor": 0
      },
      "text/plain": [
       "SceneWidget(scenes=[{'id': '1skOj2pyAUChSSk6eEravNnUZ', 'data': b'x\\xda\\x84\\x9d\\x07\\x9c%U\\xb1\\xffG\\xc9AY@X`\\xd…"
      ]
     },
     "execution_count": 30,
     "metadata": {},
     "output_type": "execute_result"
    }
   ],
   "source": [
    "mp.display(Scene([Shape(Translated(p,Sphere(1)),Material(c)) for p,c in zip(points,colors)]))"
   ]
  },
  {
   "cell_type": "code",
   "execution_count": null,
   "metadata": {},
   "outputs": [],
   "source": []
  },
  {
   "cell_type": "code",
   "execution_count": null,
   "metadata": {},
   "outputs": [],
   "source": []
  }
 ],
 "metadata": {
  "kernelspec": {
   "display_name": "Python 3 (ipykernel)",
   "language": "python",
   "name": "python3"
  },
  "language_info": {
   "codemirror_mode": {
    "name": "ipython",
    "version": 3
   },
   "file_extension": ".py",
   "mimetype": "text/x-python",
   "name": "python",
   "nbconvert_exporter": "python",
   "pygments_lexer": "ipython3",
   "version": "3.10.5"
  }
 },
 "nbformat": 4,
 "nbformat_minor": 2
}
