{
 "cells": [
  {
   "cell_type": "markdown",
   "metadata": {},
   "source": [
    "# Virtual Pruning"
   ]
  },
  {
   "cell_type": "markdown",
   "metadata": {},
   "source": [
    "## Importing the digitized structure"
   ]
  },
  {
   "cell_type": "code",
   "execution_count": 1,
   "metadata": {
    "ExecuteTime": {
     "end_time": "2022-06-24T09:16:59.573702Z",
     "start_time": "2022-06-24T09:16:58.573364Z"
    }
   },
   "outputs": [],
   "source": [
    "from openalea.mtg import *\n",
    "from numpy import *\n",
    "import numpy as np\n",
    "from importlib import reload\n",
    "import numpy as np\n",
    "import mangoG3; reload(mangoG3)\n",
    "from mangoG3 import *\n",
    "\n",
    "g = get_G3_mtg()\n"
   ]
  },
  {
   "cell_type": "code",
   "execution_count": null,
   "metadata": {
    "ExecuteTime": {
     "end_time": "2022-06-02T13:52:47.304565Z",
     "start_time": "2022-06-02T13:52:46.587137Z"
    }
   },
   "outputs": [],
   "source": [
    "from matplotlib.pyplot import *\n",
    "import mtgplot as mp\n",
    "reload(mp)\n"
   ]
  },
  {
   "cell_type": "code",
   "execution_count": null,
   "metadata": {
    "ExecuteTime": {
     "end_time": "2022-06-02T13:52:48.197824Z",
     "start_time": "2022-06-02T13:52:47.306852Z"
    }
   },
   "outputs": [],
   "source": [
    "sw = mp.plot_tree(g)\n",
    "sw"
   ]
  },
  {
   "cell_type": "markdown",
   "metadata": {},
   "source": [
    "## Pruning procedure\n",
    "\n",
    "To select a pruning point, we start from terminal points, trace back into the structure up to 3 layers. We check if the pruning point is valid by looking the depth of what it carries. If it is in average close to what is intended we select it. Else we select another one.\n",
    "\n",
    "Point d'amélioration : tailler en fait au milieu de la n4."
   ]
  },
  {
   "cell_type": "code",
   "execution_count": null,
   "metadata": {
    "ExecuteTime": {
     "end_time": "2022-06-02T13:52:48.206519Z",
     "start_time": "2022-06-02T13:52:48.201588Z"
    }
   },
   "outputs": [],
   "source": [
    "import pruning ; reload(pruning)\n",
    "from pruning import *"
   ]
  },
  {
   "cell_type": "markdown",
   "metadata": {},
   "source": [
    "## Estimation of light interception"
   ]
  },
  {
   "cell_type": "code",
   "execution_count": 3,
   "metadata": {
    "ExecuteTime": {
     "end_time": "2022-06-24T09:17:40.100290Z",
     "start_time": "2022-06-24T09:17:34.223893Z"
    }
   },
   "outputs": [],
   "source": [
    "import lightestimation as le ; reload(le)\n",
    "from lightestimation import *"
   ]
  },
  {
   "cell_type": "code",
   "execution_count": 4,
   "metadata": {
    "ExecuteTime": {
     "end_time": "2022-06-24T09:17:50.435163Z",
     "start_time": "2022-06-24T09:17:50.302178Z"
    }
   },
   "outputs": [],
   "source": [
    "sun, sky = get_light_sources()"
   ]
  },
  {
   "cell_type": "code",
   "execution_count": 8,
   "metadata": {
    "ExecuteTime": {
     "end_time": "2022-06-24T10:02:22.695778Z",
     "start_time": "2022-06-24T10:02:22.692855Z"
    }
   },
   "outputs": [
    {
     "name": "stdout",
     "output_type": "stream",
     "text": [
      "70000.0\n"
     ]
    }
   ],
   "source": [
    "print(sum(sun[2]))"
   ]
  },
  {
   "cell_type": "code",
   "execution_count": 5,
   "metadata": {
    "ExecuteTime": {
     "end_time": "2022-06-24T09:17:50.680541Z",
     "start_time": "2022-06-24T09:17:50.437091Z"
    }
   },
   "outputs": [
    {
     "ename": "NameError",
     "evalue": "name 'mp' is not defined",
     "output_type": "error",
     "traceback": [
      "\u001b[0;31m---------------------------------------------------------------------------\u001b[0m",
      "\u001b[0;31mNameError\u001b[0m                                 Traceback (most recent call last)",
      "\u001b[0;32m/var/folders/vj/hq9w20m528qb4cymzh0dr08h0000gn/T/ipykernel_6851/2341938142.py\u001b[0m in \u001b[0;36m<cell line: 1>\u001b[0;34m()\u001b[0m\n\u001b[0;32m----> 1\u001b[0;31m \u001b[0mscene\u001b[0m \u001b[0;34m=\u001b[0m \u001b[0mmp\u001b[0m\u001b[0;34m.\u001b[0m\u001b[0mrepresentation\u001b[0m\u001b[0;34m(\u001b[0m\u001b[0mg\u001b[0m\u001b[0;34m,\u001b[0m \u001b[0mwood\u001b[0m \u001b[0;34m=\u001b[0m \u001b[0;32mFalse\u001b[0m\u001b[0;34m,\u001b[0m \u001b[0mleaves\u001b[0m\u001b[0;34m=\u001b[0m\u001b[0;32mTrue\u001b[0m\u001b[0;34m)\u001b[0m\u001b[0;34m\u001b[0m\u001b[0;34m\u001b[0m\u001b[0m\n\u001b[0m",
      "\u001b[0;31mNameError\u001b[0m: name 'mp' is not defined"
     ]
    }
   ],
   "source": [
    "scene = mp.representation(g, wood = False, leaves=True)"
   ]
  },
  {
   "cell_type": "code",
   "execution_count": null,
   "metadata": {
    "ExecuteTime": {
     "end_time": "2022-06-02T13:54:47.544329Z",
     "start_time": "2022-06-02T13:52:51.097977Z"
    }
   },
   "outputs": [],
   "source": [
    "caribumango = toCaribuScene(scene)"
   ]
  },
  {
   "cell_type": "code",
   "execution_count": null,
   "metadata": {
    "ExecuteTime": {
     "end_time": "2022-06-02T13:54:55.850171Z",
     "start_time": "2022-06-02T13:54:47.545966Z"
    }
   },
   "outputs": [],
   "source": [
    "agg = caribu(caribumango, sun, sky)"
   ]
  },
  {
   "cell_type": "code",
   "execution_count": null,
   "metadata": {
    "ExecuteTime": {
     "end_time": "2022-06-02T13:55:01.924314Z",
     "start_time": "2022-06-02T13:54:55.852686Z"
    }
   },
   "outputs": [],
   "source": [
    "mp.plot_projection(scene, agg['irradiance'])"
   ]
  },
  {
   "cell_type": "code",
   "execution_count": null,
   "metadata": {
    "ExecuteTime": {
     "end_time": "2022-06-02T13:55:24.471195Z",
     "start_time": "2022-06-02T13:55:01.934403Z"
    }
   },
   "outputs": [],
   "source": [
    "agg2 = plantgllight(scene, sun, sky)\n"
   ]
  },
  {
   "cell_type": "code",
   "execution_count": null,
   "metadata": {
    "ExecuteTime": {
     "end_time": "2022-06-02T13:55:30.459812Z",
     "start_time": "2022-06-02T13:55:24.473155Z"
    }
   },
   "outputs": [],
   "source": [
    "#print(agg2)\n",
    "mp.plot_projection(scene, agg2['irradiance'])"
   ]
  },
  {
   "cell_type": "code",
   "execution_count": null,
   "metadata": {
    "ExecuteTime": {
     "end_time": "2022-06-02T13:55:50.243345Z",
     "start_time": "2022-06-02T13:55:50.237230Z"
    }
   },
   "outputs": [],
   "source": [
    "print(min(agg['irradiance']),max(agg['irradiance']),np.mean(agg['irradiance']))\n",
    "print(min(agg2['irradiance']),max(agg2['irradiance']),np.mean(agg2['irradiance']))\n"
   ]
  },
  {
   "cell_type": "code",
   "execution_count": null,
   "metadata": {
    "ExecuteTime": {
     "end_time": "2022-06-02T13:55:53.160908Z",
     "start_time": "2022-06-02T13:55:52.990640Z"
    }
   },
   "outputs": [],
   "source": [
    "agg2['irradiance'].hist()\n",
    "agg['irradiance'].hist()\n"
   ]
  },
  {
   "cell_type": "code",
   "execution_count": null,
   "metadata": {
    "ExecuteTime": {
     "end_time": "2022-06-02T13:57:55.203905Z",
     "start_time": "2022-06-02T13:57:55.094611Z"
    }
   },
   "outputs": [],
   "source": [
    "scatter(agg['irradiance'],agg2['irradiance'])\n",
    "print(np.polyfit(agg['irradiance'],agg2['irradiance'],1))"
   ]
  },
  {
   "cell_type": "code",
   "execution_count": null,
   "metadata": {
    "ExecuteTime": {
     "end_time": "2022-06-02T13:55:30.714393Z",
     "start_time": "2022-06-02T13:55:30.714372Z"
    }
   },
   "outputs": [],
   "source": [
    "set_light_to_mtg(g, agg)"
   ]
  },
  {
   "cell_type": "code",
   "execution_count": null,
   "metadata": {
    "ExecuteTime": {
     "end_time": "2022-06-02T13:55:30.716369Z",
     "start_time": "2022-06-02T13:55:30.716350Z"
    }
   },
   "outputs": [],
   "source": [
    "set_light_to_mtg(g, agg2)"
   ]
  },
  {
   "cell_type": "code",
   "execution_count": null,
   "metadata": {
    "ExecuteTime": {
     "end_time": "2022-06-02T13:58:51.138569Z",
     "start_time": "2022-06-02T13:58:48.658006Z"
    }
   },
   "outputs": [],
   "source": [
    "scene2 = mp.representation(g, wood = True, leaves=True)"
   ]
  },
  {
   "cell_type": "code",
   "execution_count": null,
   "metadata": {
    "ExecuteTime": {
     "end_time": "2022-06-02T13:59:40.429193Z",
     "start_time": "2022-06-02T13:59:12.130793Z"
    }
   },
   "outputs": [],
   "source": [
    "agg3 = plantgllight(scene2, sun, sky)"
   ]
  },
  {
   "cell_type": "code",
   "execution_count": null,
   "metadata": {
    "ExecuteTime": {
     "end_time": "2022-06-02T14:03:35.539477Z",
     "start_time": "2022-06-02T14:03:21.644284Z"
    }
   },
   "outputs": [],
   "source": [
    "mp.plot_projection(scene2, agg3['irradiance'])"
   ]
  }
 ],
 "metadata": {
  "kernelspec": {
   "display_name": "Python 3 (ipykernel)",
   "language": "python",
   "name": "python3"
  },
  "language_info": {
   "codemirror_mode": {
    "name": "ipython",
    "version": 3
   },
   "file_extension": ".py",
   "mimetype": "text/x-python",
   "name": "python",
   "nbconvert_exporter": "python",
   "pygments_lexer": "ipython3",
   "version": "3.9.12"
  }
 },
 "nbformat": 4,
 "nbformat_minor": 2
}
