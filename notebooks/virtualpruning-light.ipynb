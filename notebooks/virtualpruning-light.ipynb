{
 "cells": [
  {
   "cell_type": "markdown",
   "metadata": {},
   "source": [
    "# Virtual Pruning"
   ]
  },
  {
   "cell_type": "markdown",
   "metadata": {},
   "source": [
    "## Importing the digitized structure"
   ]
  },
  {
   "cell_type": "code",
   "execution_count": 1,
   "metadata": {
    "ExecuteTime": {
     "end_time": "2022-09-15T11:01:45.703557Z",
     "start_time": "2022-09-15T11:01:44.713696Z"
    }
   },
   "outputs": [],
   "source": [
    "from openalea.mtg import *\n",
    "from numpy import *\n",
    "import numpy as np\n",
    "from importlib import reload\n",
    "import numpy as np\n",
    "import mangoG3; reload(mangoG3)\n",
    "from mangoG3 import *\n",
    "\n",
    "g = get_G3_mtg()\n"
   ]
  },
  {
   "cell_type": "code",
   "execution_count": 2,
   "metadata": {
    "ExecuteTime": {
     "end_time": "2022-09-15T11:01:46.425915Z",
     "start_time": "2022-09-15T11:01:45.706055Z"
    }
   },
   "outputs": [
    {
     "data": {
      "text/plain": [
       "<module 'mtgplot' from '/Users/fboudon/Develop/oagit/virtualpruning-emma/notebooks/mtgplot.py'>"
      ]
     },
     "execution_count": 2,
     "metadata": {},
     "output_type": "execute_result"
    }
   ],
   "source": [
    "from matplotlib.pyplot import *\n",
    "import mtgplot as mp\n",
    "reload(mp)\n"
   ]
  },
  {
   "cell_type": "code",
   "execution_count": 3,
   "metadata": {
    "ExecuteTime": {
     "end_time": "2022-09-15T11:01:47.362393Z",
     "start_time": "2022-09-15T11:01:46.427805Z"
    }
   },
   "outputs": [
    {
     "data": {
      "application/vnd.jupyter.widget-view+json": {
       "model_id": "6043166f9b654f9eaa628c792385c245",
       "version_major": 2,
       "version_minor": 0
      },
      "text/plain": [
       "SceneWidget(scenes=[{'id': 'GtGQDLAq9ms98NX1CzOiPcZRQ', 'data': b'x\\xda\\xac\\x9d\\t|S\\xc5\\xda\\xff\\xd3\\x1dC\\xa1\\x…"
      ]
     },
     "metadata": {},
     "output_type": "display_data"
    }
   ],
   "source": [
    "sw = mp.plot_tree(g)\n",
    "sw"
   ]
  },
  {
   "cell_type": "markdown",
   "metadata": {},
   "source": [
    "## Pruning procedure\n",
    "\n",
    "To select a pruning point, we start from terminal points, trace back into the structure up to 3 layers. We check if the pruning point is valid by looking the depth of what it carries. If it is in average close to what is intended we select it. Else we select another one.\n",
    "\n",
    "Point d'amélioration : tailler en fait au milieu de la n4."
   ]
  },
  {
   "cell_type": "code",
   "execution_count": 4,
   "metadata": {
    "ExecuteTime": {
     "end_time": "2022-09-15T11:01:47.372189Z",
     "start_time": "2022-09-15T11:01:47.365007Z"
    }
   },
   "outputs": [],
   "source": [
    "import pruning ; reload(pruning)\n",
    "from pruning import *"
   ]
  },
  {
   "cell_type": "markdown",
   "metadata": {},
   "source": [
    "## Estimation of light interception"
   ]
  },
  {
   "cell_type": "code",
   "execution_count": 5,
   "metadata": {
    "ExecuteTime": {
     "end_time": "2022-09-15T11:01:48.430071Z",
     "start_time": "2022-09-15T11:01:47.380252Z"
    }
   },
   "outputs": [],
   "source": [
    "import lightestimation as le ; reload(le)\n",
    "from lightestimation import *"
   ]
  },
  {
   "cell_type": "code",
   "execution_count": 6,
   "metadata": {
    "ExecuteTime": {
     "end_time": "2022-09-15T11:01:48.567389Z",
     "start_time": "2022-09-15T11:01:48.432302Z"
    }
   },
   "outputs": [],
   "source": [
    "sun, sky = get_light_sources()"
   ]
  },
  {
   "cell_type": "code",
   "execution_count": 7,
   "metadata": {
    "ExecuteTime": {
     "end_time": "2022-09-15T11:01:48.576510Z",
     "start_time": "2022-09-15T11:01:48.570420Z"
    }
   },
   "outputs": [
    {
     "name": "stdout",
     "output_type": "stream",
     "text": [
      "535266.3208069891\n"
     ]
    }
   ],
   "source": [
    "print(sum(sun[2]))"
   ]
  },
  {
   "cell_type": "code",
   "execution_count": 8,
   "metadata": {
    "ExecuteTime": {
     "end_time": "2022-09-15T11:01:51.654394Z",
     "start_time": "2022-09-15T11:01:48.579540Z"
    }
   },
   "outputs": [],
   "source": [
    "scene = mp.representation(g, wood = False, leaves=True)"
   ]
  },
  {
   "cell_type": "code",
   "execution_count": null,
   "metadata": {
    "ExecuteTime": {
     "start_time": "2022-09-15T11:01:44.403Z"
    }
   },
   "outputs": [],
   "source": [
    "agg = caribu(scene, sun, sky)"
   ]
  },
  {
   "cell_type": "code",
   "execution_count": null,
   "metadata": {
    "ExecuteTime": {
     "start_time": "2022-09-15T11:01:44.405Z"
    }
   },
   "outputs": [],
   "source": [
    "mp.plot_projection(scene, agg['irradiance'])"
   ]
  },
  {
   "cell_type": "code",
   "execution_count": null,
   "metadata": {
    "ExecuteTime": {
     "start_time": "2022-09-15T11:01:44.406Z"
    }
   },
   "outputs": [],
   "source": [
    "agg2 = plantgllight(scene, sun, sky)\n"
   ]
  },
  {
   "cell_type": "code",
   "execution_count": null,
   "metadata": {
    "ExecuteTime": {
     "start_time": "2022-09-15T11:01:44.408Z"
    }
   },
   "outputs": [],
   "source": [
    "#print(agg2)\n",
    "mp.plot_projection(scene, agg2['irradiance'])"
   ]
  },
  {
   "cell_type": "code",
   "execution_count": null,
   "metadata": {
    "ExecuteTime": {
     "start_time": "2022-09-15T11:01:44.409Z"
    }
   },
   "outputs": [],
   "source": [
    "#print(min(agg['irradiance']),max(agg['irradiance']),np.mean(agg['irradiance']))\n",
    "print(min(agg2['irradiance']),max(agg2['irradiance']),np.mean(agg2['irradiance']))\n"
   ]
  },
  {
   "cell_type": "code",
   "execution_count": null,
   "metadata": {
    "ExecuteTime": {
     "start_time": "2022-09-15T11:01:44.410Z"
    }
   },
   "outputs": [],
   "source": [
    "(agg2['irradiance']).hist()\n",
    "#agg['irradiance'].hist()\n"
   ]
  },
  {
   "cell_type": "code",
   "execution_count": null,
   "metadata": {
    "ExecuteTime": {
     "start_time": "2022-09-15T11:01:44.411Z"
    }
   },
   "outputs": [],
   "source": [
    "scatter(agg['irradiance'],agg2['irradiance'])\n",
    "print(np.polyfit(agg['irradiance'],agg2['irradiance'],1))"
   ]
  },
  {
   "cell_type": "code",
   "execution_count": null,
   "metadata": {
    "ExecuteTime": {
     "start_time": "2022-09-15T11:01:44.413Z"
    }
   },
   "outputs": [],
   "source": [
    "extend_mtg_with_light(g, agg)"
   ]
  },
  {
   "cell_type": "code",
   "execution_count": null,
   "metadata": {
    "ExecuteTime": {
     "start_time": "2022-09-15T11:01:44.414Z"
    }
   },
   "outputs": [],
   "source": [
    "extend_mtg_with_light(g, agg2)"
   ]
  },
  {
   "cell_type": "code",
   "execution_count": null,
   "metadata": {
    "ExecuteTime": {
     "start_time": "2022-09-15T11:01:44.415Z"
    }
   },
   "outputs": [],
   "source": [
    "scene2 = mp.representation(g, wood = True, leaves=True)"
   ]
  },
  {
   "cell_type": "code",
   "execution_count": null,
   "metadata": {
    "ExecuteTime": {
     "start_time": "2022-09-15T11:01:44.416Z"
    }
   },
   "outputs": [],
   "source": [
    "agg3 = plantgllight(scene2, sun, sky)"
   ]
  },
  {
   "cell_type": "code",
   "execution_count": null,
   "metadata": {
    "ExecuteTime": {
     "start_time": "2022-09-15T11:01:44.417Z"
    }
   },
   "outputs": [],
   "source": [
    "mp.plot_projection(scene2, agg3['irradiance'])"
   ]
  }
 ],
 "metadata": {
  "kernelspec": {
   "display_name": "Python 3 (ipykernel)",
   "language": "python",
   "name": "python3"
  },
  "language_info": {
   "codemirror_mode": {
    "name": "ipython",
    "version": 3
   },
   "file_extension": ".py",
   "mimetype": "text/x-python",
   "name": "python",
   "nbconvert_exporter": "python",
   "pygments_lexer": "ipython3",
   "version": "3.9.12"
  }
 },
 "nbformat": 4,
 "nbformat_minor": 2
}
