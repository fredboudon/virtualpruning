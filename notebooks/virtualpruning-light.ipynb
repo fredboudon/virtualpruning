{
 "cells": [
  {
   "cell_type": "markdown",
   "metadata": {},
   "source": [
    "# Virtual Pruning"
   ]
  },
  {
   "cell_type": "markdown",
   "metadata": {},
   "source": [
    "## Importing the digitized structure"
   ]
  },
  {
   "cell_type": "code",
   "execution_count": 1,
   "metadata": {
    "ExecuteTime": {
     "end_time": "2022-06-02T13:52:46.569437Z",
     "start_time": "2022-06-02T13:52:45.554703Z"
    }
   },
   "outputs": [],
   "source": [
    "from openalea.mtg import *\n",
    "from numpy import *\n",
    "import numpy as np\n",
    "from importlib import reload\n",
    "import numpy as np\n",
    "import mangoG3; reload(mangoG3)\n",
    "from mangoG3 import *\n",
    "\n",
    "g = get_G3_mtg()\n"
   ]
  },
  {
   "cell_type": "code",
   "execution_count": 2,
   "metadata": {
    "ExecuteTime": {
     "end_time": "2022-06-02T13:52:47.304565Z",
     "start_time": "2022-06-02T13:52:46.587137Z"
    }
   },
   "outputs": [
    {
     "data": {
      "text/plain": [
       "<module 'mtgplot' from 'D:\\\\V_mango\\\\virtualpruning\\\\notebooks\\\\mtgplot.py'>"
      ]
     },
     "execution_count": 2,
     "metadata": {},
     "output_type": "execute_result"
    }
   ],
   "source": [
    "from matplotlib.pyplot import *\n",
    "import mtgplot as mp\n",
    "reload(mp)\n"
   ]
  },
  {
   "cell_type": "code",
   "execution_count": 3,
   "metadata": {
    "ExecuteTime": {
     "end_time": "2022-06-02T13:52:48.197824Z",
     "start_time": "2022-06-02T13:52:47.306852Z"
    }
   },
   "outputs": [
    {
     "data": {
      "application/vnd.jupyter.widget-view+json": {
       "model_id": "026e6ee8916a4da3a2d4e3109fea36af",
       "version_major": 2,
       "version_minor": 0
      },
      "text/plain": [
       "SceneWidget(scenes=[{'id': 'buDZBswy1S6ioDpJIb7ULxK41', 'data': b'x\\xda\\x9c}\\t|\\x15\\xd5\\xf5\\xffc\\xc7\\'\\x8b@\\xd…"
      ]
     },
     "metadata": {},
     "output_type": "display_data"
    }
   ],
   "source": [
    "sw = mp.plot_tree(g)\n",
    "sw"
   ]
  },
  {
   "cell_type": "markdown",
   "metadata": {},
   "source": [
    "## Pruning procedure\n",
    "\n",
    "To select a pruning point, we start from terminal points, trace back into the structure up to 3 layers. We check if the pruning point is valid by looking the depth of what it carries. If it is in average close to what is intended we select it. Else we select another one.\n",
    "\n",
    "Point d'amélioration : tailler en fait au milieu de la n4."
   ]
  },
  {
   "cell_type": "code",
   "execution_count": 4,
   "metadata": {
    "ExecuteTime": {
     "end_time": "2022-06-02T13:52:48.206519Z",
     "start_time": "2022-06-02T13:52:48.201588Z"
    }
   },
   "outputs": [],
   "source": [
    "import pruning ; reload(pruning)\n",
    "from pruning import *"
   ]
  },
  {
   "cell_type": "markdown",
   "metadata": {},
   "source": [
    "## Estimation of light interception"
   ]
  },
  {
   "cell_type": "code",
   "execution_count": 5,
   "metadata": {
    "ExecuteTime": {
     "end_time": "2022-06-02T13:52:49.028627Z",
     "start_time": "2022-06-02T13:52:48.208698Z"
    }
   },
   "outputs": [],
   "source": [
    "import lightestimation as le ; reload(le)\n",
    "from lightestimation import *"
   ]
  },
  {
   "cell_type": "code",
   "execution_count": 6,
   "metadata": {
    "ExecuteTime": {
     "end_time": "2022-06-02T13:52:49.105592Z",
     "start_time": "2022-06-02T13:52:49.030905Z"
    }
   },
   "outputs": [],
   "source": [
    "sun, sky = get_light_sources()"
   ]
  },
  {
   "cell_type": "code",
   "execution_count": 7,
   "metadata": {
    "ExecuteTime": {
     "end_time": "2022-06-02T13:52:51.095962Z",
     "start_time": "2022-06-02T13:52:49.107618Z"
    }
   },
   "outputs": [],
   "source": [
    "scene = mp.representation(g, wood = False, leaves=True)"
   ]
  },
  {
   "cell_type": "code",
   "execution_count": 8,
   "metadata": {
    "ExecuteTime": {
     "end_time": "2022-06-02T13:54:47.544329Z",
     "start_time": "2022-06-02T13:52:51.097977Z"
    }
   },
   "outputs": [
    {
     "name": "stdout",
     "output_type": "stream",
     "text": [
      "Convert scene for caribu\n",
      "done in 4.599311113357544\n"
     ]
    }
   ],
   "source": [
    "caribumango = toCaribuScene(scene)"
   ]
  },
  {
   "cell_type": "code",
   "execution_count": 9,
   "metadata": {
    "ExecuteTime": {
     "end_time": "2022-06-02T13:54:55.850171Z",
     "start_time": "2022-06-02T13:54:47.545966Z"
    }
   },
   "outputs": [
    {
     "name": "stdout",
     "output_type": "stream",
     "text": [
      "start caribu...\n",
      "Create light source ...  55  sources.\n",
      "Run caribu\n",
      "made in 10.037626504898071\n"
     ]
    }
   ],
   "source": [
    "agg = caribu(caribumango, sun, sky)"
   ]
  },
  {
   "cell_type": "code",
   "execution_count": 10,
   "metadata": {
    "ExecuteTime": {
     "end_time": "2022-06-02T13:55:01.924314Z",
     "start_time": "2022-06-02T13:54:55.852686Z"
    }
   },
   "outputs": [
    {
     "data": {
      "application/vnd.jupyter.widget-view+json": {
       "model_id": "0486b064be9a47718e673cedc5d82fc7",
       "version_major": 2,
       "version_minor": 0
      },
      "text/plain": [
       "SceneWidget(scenes=[{'id': 'LjI2q3AMIVYC3i4pqCnz8qrRg', 'data': b'x\\xda\\x8c\\x9d\\x07X\\x14\\xd7\\x16\\xc7\\xb1wE\\xc5…"
      ]
     },
     "metadata": {},
     "output_type": "display_data"
    }
   ],
   "source": [
    "mp.plot_projection(scene, agg['irradiance'])"
   ]
  },
  {
   "cell_type": "code",
   "execution_count": 11,
   "metadata": {
    "ExecuteTime": {
     "end_time": "2022-06-02T13:55:24.471195Z",
     "start_time": "2022-06-02T13:55:01.934403Z"
    }
   },
   "outputs": [
    {
     "name": "stdout",
     "output_type": "stream",
     "text": [
      "start plantgl light...\n",
      "Create light source ...  55  sources.\n",
      "Run plantGL\n",
      "made in 27.349929571151733\n"
     ]
    }
   ],
   "source": [
    "agg2 = plantgllight(scene, sun, sky)\n"
   ]
  },
  {
   "cell_type": "code",
   "execution_count": 12,
   "metadata": {
    "ExecuteTime": {
     "end_time": "2022-06-02T13:55:30.459812Z",
     "start_time": "2022-06-02T13:55:24.473155Z"
    }
   },
   "outputs": [
    {
     "data": {
      "application/vnd.jupyter.widget-view+json": {
       "model_id": "b6689ccb8b544e4d9c623e65780c6bb2",
       "version_major": 2,
       "version_minor": 0
      },
      "text/plain": [
       "SceneWidget(scenes=[{'id': 'Xet7BOJ2rm91z4NqtyxS47yT8', 'data': b'x\\xda\\x8c\\x9d\\x07X\\x14\\xd7\\x16\\xc7\\xb1wE\\xc5…"
      ]
     },
     "metadata": {},
     "output_type": "display_data"
    }
   ],
   "source": [
    "#print(agg2)\n",
    "mp.plot_projection(scene, agg2['irradiance'])"
   ]
  },
  {
   "cell_type": "code",
   "execution_count": 17,
   "metadata": {
    "ExecuteTime": {
     "end_time": "2022-06-02T13:55:50.243345Z",
     "start_time": "2022-06-02T13:55:50.237230Z"
    }
   },
   "outputs": [
    {
     "name": "stdout",
     "output_type": "stream",
     "text": [
      "139.478508947439 102134.53387127486 15401.064943081525\n",
      "145.70946060628765 106243.82043762569 15758.903197011485\n"
     ]
    }
   ],
   "source": [
    "print(min(agg['irradiance']),max(agg['irradiance']),np.mean(agg['irradiance']))\n",
    "print(min(agg2['irradiance']),max(agg2['irradiance']),np.mean(agg2['irradiance']))\n"
   ]
  },
  {
   "cell_type": "code",
   "execution_count": 18,
   "metadata": {
    "ExecuteTime": {
     "end_time": "2022-06-02T13:55:53.160908Z",
     "start_time": "2022-06-02T13:55:52.990640Z"
    }
   },
   "outputs": [
    {
     "data": {
      "text/plain": [
       "<AxesSubplot:>"
      ]
     },
     "execution_count": 18,
     "metadata": {},
     "output_type": "execute_result"
    },
    {
     "data": {
      "image/png": "[encoded data removed]",
      "text/plain": [
       "<Figure size 432x288 with 1 Axes>"
      ]
     },
     "metadata": {
      "needs_background": "light"
     },
     "output_type": "display_data"
    }
   ],
   "source": [
    "agg2['irradiance'].hist()\n",
    "agg['irradiance'].hist()\n"
   ]
  },
  {
   "cell_type": "code",
   "execution_count": 19,
   "metadata": {
    "ExecuteTime": {
     "end_time": "2022-06-02T13:57:55.203905Z",
     "start_time": "2022-06-02T13:57:55.094611Z"
    }
   },
   "outputs": [
    {
     "name": "stdout",
     "output_type": "stream",
     "text": [
      "[   1.03892146 -241.59360931]\n"
     ]
    },
    {
     "data": {
      "image/png": "[encoded data removed]",
      "text/plain": [
       "<Figure size 432x288 with 1 Axes>"
      ]
     },
     "metadata": {
      "needs_background": "light"
     },
     "output_type": "display_data"
    }
   ],
   "source": [
    "scatter(agg['irradiance'],agg2['irradiance'])\n",
    "print(np.polyfit(agg['irradiance'],agg2['irradiance'],1))"
   ]
  },
  {
   "cell_type": "code",
   "execution_count": 20,
   "metadata": {
    "ExecuteTime": {
     "end_time": "2022-06-02T13:55:30.714393Z",
     "start_time": "2022-06-02T13:55:30.714372Z"
    }
   },
   "outputs": [],
   "source": [
    "set_light_to_mtg(g, agg)"
   ]
  },
  {
   "cell_type": "code",
   "execution_count": 21,
   "metadata": {
    "ExecuteTime": {
     "end_time": "2022-06-02T13:55:30.716369Z",
     "start_time": "2022-06-02T13:55:30.716350Z"
    }
   },
   "outputs": [],
   "source": [
    "set_light_to_mtg(g, agg2)"
   ]
  },
  {
   "cell_type": "code",
   "execution_count": 22,
   "metadata": {
    "ExecuteTime": {
     "end_time": "2022-06-02T13:58:51.138569Z",
     "start_time": "2022-06-02T13:58:48.658006Z"
    }
   },
   "outputs": [],
   "source": [
    "scene2 = mp.representation(g, wood = True, leaves=True)"
   ]
  },
  {
   "cell_type": "code",
   "execution_count": 23,
   "metadata": {
    "ExecuteTime": {
     "end_time": "2022-06-02T13:59:40.429193Z",
     "start_time": "2022-06-02T13:59:12.130793Z"
    }
   },
   "outputs": [
    {
     "name": "stdout",
     "output_type": "stream",
     "text": [
      "start plantgl light...\n",
      "Create light source ...  55  sources.\n",
      "Run plantGL\n",
      "made in 64.9553370475769\n"
     ]
    }
   ],
   "source": [
    "agg3 = plantgllight(scene2, sun, sky)"
   ]
  },
  {
   "cell_type": "code",
   "execution_count": 24,
   "metadata": {
    "ExecuteTime": {
     "end_time": "2022-06-02T14:03:35.539477Z",
     "start_time": "2022-06-02T14:03:21.644284Z"
    }
   },
   "outputs": [
    {
     "data": {
      "application/vnd.jupyter.widget-view+json": {
       "model_id": "f55bddeec18241169b5ba2e9262889d1",
       "version_major": 2,
       "version_minor": 0
      },
      "text/plain": [
       "SceneWidget(scenes=[{'id': 'SZKioASxvFQi6vu36lNYvJSRE', 'data': b'x\\xda\\xcc\\xbd\\x05|\\x14W\\xf8\\xef\\x1d\\x82\\x07\\…"
      ]
     },
     "metadata": {},
     "output_type": "display_data"
    }
   ],
   "source": [
    "mp.plot_projection(scene2, agg3['irradiance'])"
   ]
  },
  {
   "cell_type": "code",
   "execution_count": null,
   "metadata": {},
   "outputs": [],
   "source": []
  }
 ],
 "metadata": {
  "kernelspec": {
   "display_name": "Python 3 (ipykernel)",
   "language": "python",
   "name": "python3"
  },
  "language_info": {
   "codemirror_mode": {
    "name": "ipython",
    "version": 3
   },
   "file_extension": ".py",
   "mimetype": "text/x-python",
   "name": "python",
   "nbconvert_exporter": "python",
   "pygments_lexer": "ipython3",
   "version": "3.9.12"
  }
 },
 "nbformat": 4,
 "nbformat_minor": 2
}
