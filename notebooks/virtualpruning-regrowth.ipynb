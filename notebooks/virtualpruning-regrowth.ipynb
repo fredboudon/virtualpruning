{
 "cells": [
  {
   "cell_type": "markdown",
   "metadata": {},
   "source": [
    "# Virtual Pruning"
   ]
  },
  {
   "cell_type": "markdown",
   "metadata": {},
   "source": [
    "## Importing the digitized structure"
   ]
  },
  {
   "cell_type": "code",
   "execution_count": 1,
   "metadata": {
    "ExecuteTime": {
     "end_time": "2022-07-11T07:25:05.876705Z",
     "start_time": "2022-07-11T07:24:58.750391Z"
    }
   },
   "outputs": [],
   "source": [
    "from openalea.mtg import *\n",
    "import numpy as np\n",
    "from importlib import reload\n",
    "import mangoG3; reload(mangoG3)\n",
    "from mangoG3 import *\n",
    "\n",
    "g = get_G3_mtg()\n"
   ]
  },
  {
   "cell_type": "code",
   "execution_count": 2,
   "metadata": {
    "ExecuteTime": {
     "end_time": "2022-07-11T07:25:07.171978Z",
     "start_time": "2022-07-11T07:25:05.883882Z"
    }
   },
   "outputs": [],
   "source": [
    "from matplotlib.pyplot import *\n",
    "import mtgplot as mp"
   ]
  },
  {
   "cell_type": "code",
   "execution_count": 3,
   "metadata": {
    "ExecuteTime": {
     "end_time": "2022-07-04T07:51:25.777865Z",
     "start_time": "2022-07-04T07:51:22.971289Z"
    }
   },
   "outputs": [
    {
     "data": {
      "application/vnd.jupyter.widget-view+json": {
       "model_id": "718565c64f794edfa784236b9d493312",
       "version_major": 2,
       "version_minor": 0
      },
      "text/plain": [
       "SceneWidget(scenes=[{'id': '37kcfxQ0SLkomwX2W2vDneB0r', 'data': b'x\\xda\\xac\\x9d\\tx\\x13\\xd5\\xda\\xf8\\xd3%-\\x86BY…"
      ]
     },
     "metadata": {},
     "output_type": "display_data"
    }
   ],
   "source": [
    "sw = mp.plot_tree(g)\n",
    "sw"
   ]
  },
  {
   "cell_type": "markdown",
   "metadata": {},
   "source": [
    "## Pruning procedure\n",
    "\n",
    "To select a pruning point, we start from terminal points, trace back into the structure up to 3 layers. We check if the pruning point is valid by looking the depth of what it carries. If it is in average close to what is intended we select it. Else we select another one.\n",
    "\n",
    "Point d'amélioration : tailler en fait au milieu de la n4."
   ]
  },
  {
   "cell_type": "code",
   "execution_count": 3,
   "metadata": {
    "ExecuteTime": {
     "end_time": "2022-07-11T07:25:07.188028Z",
     "start_time": "2022-07-11T07:25:07.174000Z"
    }
   },
   "outputs": [],
   "source": [
    "import pruning ; reload(pruning)\n",
    "from pruning import *"
   ]
  },
  {
   "cell_type": "markdown",
   "metadata": {},
   "source": [
    "## Caracterizing cut"
   ]
  },
  {
   "cell_type": "markdown",
   "metadata": {},
   "source": [
    "### We calculate the mean number of terminal GUs according to pruning severity"
   ]
  },
  {
   "cell_type": "code",
   "execution_count": 4,
   "metadata": {
    "ExecuteTime": {
     "end_time": "2022-07-11T07:25:16.166047Z",
     "start_time": "2022-07-11T07:25:16.161954Z"
    }
   },
   "outputs": [],
   "source": [
    "def nbterminals(mtg, listcutids):\n",
    "    nb_term = [len(get_terminal_gus_from_ancestor(mtg, vid)) for vid in listcutids]\n",
    "    return (round(np.mean(nb_term),2), round(np.std(nb_term),2))"
   ]
  },
  {
   "cell_type": "markdown",
   "metadata": {},
   "source": [
    "### We calculate the number of leaves above the pruning point according to pruning severity"
   ]
  },
  {
   "cell_type": "code",
   "execution_count": 5,
   "metadata": {
    "ExecuteTime": {
     "end_time": "2022-07-11T07:25:16.624327Z",
     "start_time": "2022-07-11T07:25:16.619617Z"
    }
   },
   "outputs": [],
   "source": [
    "def nbleaves_prunedGU(mtg, listcutids):\n",
    "    d = [sum([get_gu_nb_leaf(mtg, lvid) for lvid in get_descendants_gus_from_ancestor(mtg, vid) if lvid != vid]) for vid in listcutids]\n",
    "    return (round(np.mean(d)),round(np.std(d)))"
   ]
  },
  {
   "cell_type": "markdown",
   "metadata": {},
   "source": [
    "### calculation of leaf area from diameter"
   ]
  },
  {
   "cell_type": "code",
   "execution_count": 6,
   "metadata": {
    "ExecuteTime": {
     "end_time": "2022-07-11T07:25:17.542419Z",
     "start_time": "2022-07-11T07:25:17.538704Z"
    }
   },
   "outputs": [],
   "source": [
    "def leafarea(mtg,listcutids):\n",
    "    leaf_area = [gu_leaf_area(get_gu_diameter(mtg, vid)) for vid in listcutids]\n",
    "    #leaf_area = [gu_leaf_area(get_gu_section(mtg, vid)) for vid in listcutids]\n",
    "    return ((np.mean(leaf_area)),(np.std(leaf_area)))    "
   ]
  },
  {
   "cell_type": "markdown",
   "metadata": {},
   "source": [
    "\n",
    "# Vegetative growth after pruning"
   ]
  },
  {
   "cell_type": "code",
   "execution_count": 10,
   "metadata": {
    "ExecuteTime": {
     "end_time": "2022-07-11T07:25:51.405386Z",
     "start_time": "2022-07-11T07:25:50.875307Z"
    }
   },
   "outputs": [],
   "source": [
    "pruned = prune(g, 60)"
   ]
  },
  {
   "cell_type": "code",
   "execution_count": 11,
   "metadata": {
    "ExecuteTime": {
     "end_time": "2022-07-11T07:25:51.533119Z",
     "start_time": "2022-07-11T07:25:51.527387Z"
    }
   },
   "outputs": [
    {
     "name": "stdout",
     "output_type": "stream",
     "text": [
      "0.1583723645732292 T1\n"
     ]
    }
   ],
   "source": [
    "intensity = continuous_intensity_from_pruned(pruned)\n",
    "print(intensity, intensity_level(intensity))"
   ]
  },
  {
   "cell_type": "code",
   "execution_count": 12,
   "metadata": {
    "ExecuteTime": {
     "end_time": "2022-07-11T07:25:54.073266Z",
     "start_time": "2022-07-11T07:25:51.535427Z"
    }
   },
   "outputs": [],
   "source": [
    "prunedrepr = mp.representation(pruned, wood = False, leaves=True)"
   ]
  },
  {
   "cell_type": "code",
   "execution_count": 13,
   "metadata": {
    "ExecuteTime": {
     "end_time": "2022-07-11T07:25:56.304372Z",
     "start_time": "2022-07-11T07:25:54.076029Z"
    }
   },
   "outputs": [],
   "source": [
    "import lightestimation; reload(lightestimation)\n",
    "from lightestimation import *"
   ]
  },
  {
   "cell_type": "code",
   "execution_count": 14,
   "metadata": {
    "ExecuteTime": {
     "end_time": "2022-07-11T07:26:24.453360Z",
     "start_time": "2022-07-11T07:25:56.306914Z"
    }
   },
   "outputs": [],
   "source": [
    "TrPPFD_min, Zeta_min, Zeta_12H = light_variables(prunedrepr)"
   ]
  },
  {
   "cell_type": "code",
   "execution_count": 15,
   "metadata": {
    "ExecuteTime": {
     "end_time": "2022-07-11T07:26:24.500710Z",
     "start_time": "2022-07-11T07:26:24.456143Z"
    }
   },
   "outputs": [
    {
     "data": {
      "text/plain": [
       "(27       0.049382\n",
       " 28       0.036883\n",
       " 31       0.082002\n",
       " 32       0.047476\n",
       " 35       0.057354\n",
       "            ...   \n",
       " 16721    0.018951\n",
       " 16724    0.015494\n",
       " 16727    0.049307\n",
       " 16730    0.024309\n",
       " 16731    0.054868\n",
       " Length: 4373, dtype: float64,\n",
       " 27       0.627387\n",
       " 28       0.542869\n",
       " 31       0.783639\n",
       " 32       0.615640\n",
       " 35       0.672813\n",
       "            ...   \n",
       " 16721    0.378398\n",
       " 16724    0.337249\n",
       " 16727    0.626931\n",
       " 16730    0.434829\n",
       " 16731    0.659250\n",
       " Length: 4373, dtype: float64,\n",
       " 27       0.643904\n",
       " 28       0.544073\n",
       " 31            NaN\n",
       " 32       0.678306\n",
       " 35            NaN\n",
       "            ...   \n",
       " 16721    0.406395\n",
       " 16724    0.373216\n",
       " 16727    0.738741\n",
       " 16730    0.470146\n",
       " 16731    0.762690\n",
       " Name: 12H, Length: 4373, dtype: float64)"
      ]
     },
     "execution_count": 15,
     "metadata": {},
     "output_type": "execute_result"
    }
   ],
   "source": [
    "TrPPFD_min, Zeta_min, Zeta_12H"
   ]
  },
  {
   "cell_type": "code",
   "execution_count": 16,
   "metadata": {
    "ExecuteTime": {
     "end_time": "2022-07-11T07:26:24.518769Z",
     "start_time": "2022-07-11T07:26:24.510855Z"
    }
   },
   "outputs": [
    {
     "data": {
      "text/plain": [
       "0"
      ]
     },
     "execution_count": 16,
     "metadata": {},
     "output_type": "execute_result"
    }
   ],
   "source": [
    "sum(Zeta_min == np.nan)"
   ]
  },
  {
   "cell_type": "code",
   "execution_count": 17,
   "metadata": {
    "ExecuteTime": {
     "end_time": "2022-07-11T07:26:24.922033Z",
     "start_time": "2022-07-11T07:26:24.528340Z"
    }
   },
   "outputs": [
    {
     "data": {
      "text/plain": [
       "<AxesSubplot:>"
      ]
     },
     "execution_count": 17,
     "metadata": {},
     "output_type": "execute_result"
    },
    {
     "data": {
      "image/png": "[encoded data removed]",
      "text/plain": [
       "<Figure size 432x288 with 1 Axes>"
      ]
     },
     "metadata": {
      "needs_background": "light"
     },
     "output_type": "display_data"
    }
   ],
   "source": [
    "TrPPFD_min.hist()"
   ]
  },
  {
   "cell_type": "code",
   "execution_count": 18,
   "metadata": {
    "ExecuteTime": {
     "end_time": "2022-07-11T07:26:25.093398Z",
     "start_time": "2022-07-11T07:26:24.924185Z"
    }
   },
   "outputs": [
    {
     "data": {
      "text/plain": [
       "<AxesSubplot:>"
      ]
     },
     "execution_count": 18,
     "metadata": {},
     "output_type": "execute_result"
    },
    {
     "data": {
      "image/png": "[encoded data removed]",
      "text/plain": [
       "<Figure size 432x288 with 1 Axes>"
      ]
     },
     "metadata": {
      "needs_background": "light"
     },
     "output_type": "display_data"
    }
   ],
   "source": [
    "Zeta_min.hist()"
   ]
  },
  {
   "cell_type": "code",
   "execution_count": 19,
   "metadata": {
    "ExecuteTime": {
     "end_time": "2022-07-11T07:26:25.257811Z",
     "start_time": "2022-07-11T07:26:25.096044Z"
    }
   },
   "outputs": [
    {
     "data": {
      "text/plain": [
       "<AxesSubplot:>"
      ]
     },
     "execution_count": 19,
     "metadata": {},
     "output_type": "execute_result"
    },
    {
     "data": {
      "image/png": "[encoded data removed]",
      "text/plain": [
       "<Figure size 432x288 with 1 Axes>"
      ]
     },
     "metadata": {
      "needs_background": "light"
     },
     "output_type": "display_data"
    }
   ],
   "source": [
    "Zeta_12H.hist()"
   ]
  },
  {
   "cell_type": "code",
   "execution_count": 20,
   "metadata": {
    "ExecuteTime": {
     "end_time": "2022-07-11T07:26:33.815113Z",
     "start_time": "2022-07-11T07:26:25.260310Z"
    }
   },
   "outputs": [
    {
     "data": {
      "application/vnd.jupyter.widget-view+json": {
       "model_id": "225bcfbb0c35427db6ae956f5340533e",
       "version_major": 2,
       "version_minor": 0
      },
      "text/plain": [
       "SceneWidget(scenes=[{'id': 'GL5wTqK5KkQ2fYGcK0Q2LsLAs', 'data': b'x\\xda\\x94\\xdd\\x07\\\\\\xd4\\xc8\\x1e\\x07p\\xec\\xd8…"
      ]
     },
     "metadata": {},
     "output_type": "display_data"
    }
   ],
   "source": [
    "mp.plot_projection(prunedrepr, Zeta_12H)"
   ]
  },
  {
   "cell_type": "code",
   "execution_count": 7,
   "metadata": {
    "ExecuteTime": {
     "end_time": "2022-07-11T07:25:23.795517Z",
     "start_time": "2022-07-11T07:25:23.786918Z"
    }
   },
   "outputs": [],
   "source": [
    "import regrowth_base; reload(regrowth_base)\n",
    "from regrowth_base import plot_growth\n",
    "import regrowth_emma; reload(regrowth_emma)\n",
    "from regrowth_emma import *"
   ]
  },
  {
   "cell_type": "code",
   "execution_count": 8,
   "metadata": {
    "ExecuteTime": {
     "end_time": "2022-07-11T07:25:26.515243Z",
     "start_time": "2022-07-11T07:25:26.348710Z"
    }
   },
   "outputs": [
    {
     "ename": "NameError",
     "evalue": "name 'pruned' is not defined",
     "output_type": "error",
     "traceback": [
      "\u001b[0;31m---------------------------------------------------------------------------\u001b[0m",
      "\u001b[0;31mNameError\u001b[0m                                 Traceback (most recent call last)",
      "\u001b[0;32m/var/folders/vj/hq9w20m528qb4cymzh0dr08h0000gn/T/ipykernel_2672/1118597522.py\u001b[0m in \u001b[0;36m<cell line: 1>\u001b[0;34m()\u001b[0m\n\u001b[0;32m----> 1\u001b[0;31m \u001b[0mregrowth\u001b[0m\u001b[0;34m,\u001b[0m \u001b[0mnewids\u001b[0m \u001b[0;34m=\u001b[0m \u001b[0mgrowth\u001b[0m\u001b[0;34m(\u001b[0m\u001b[0mpruned\u001b[0m\u001b[0;34m,\u001b[0m \u001b[0mTrPPFD_min\u001b[0m\u001b[0;34m,\u001b[0m \u001b[0mZeta_min\u001b[0m\u001b[0;34m,\u001b[0m \u001b[0mZeta_12H\u001b[0m\u001b[0;34m)\u001b[0m\u001b[0;34m\u001b[0m\u001b[0;34m\u001b[0m\u001b[0m\n\u001b[0m\u001b[1;32m      2\u001b[0m \u001b[0;34m\u001b[0m\u001b[0m\n\u001b[1;32m      3\u001b[0m \u001b[0mprint\u001b[0m\u001b[0;34m(\u001b[0m\u001b[0;34m'Created'\u001b[0m\u001b[0;34m,\u001b[0m \u001b[0mlen\u001b[0m\u001b[0;34m(\u001b[0m\u001b[0mnewids\u001b[0m\u001b[0;34m)\u001b[0m\u001b[0;34m,\u001b[0m \u001b[0;34m'new GUs'\u001b[0m\u001b[0;34m)\u001b[0m\u001b[0;34m\u001b[0m\u001b[0;34m\u001b[0m\u001b[0m\n\u001b[1;32m      4\u001b[0m \u001b[0mplot_growth\u001b[0m\u001b[0;34m(\u001b[0m\u001b[0mregrowth\u001b[0m\u001b[0;34m,\u001b[0m \u001b[0mnewids\u001b[0m\u001b[0;34m,\u001b[0m \u001b[0mleaves\u001b[0m\u001b[0;34m=\u001b[0m\u001b[0;32mTrue\u001b[0m\u001b[0;34m,\u001b[0m \u001b[0mgc\u001b[0m\u001b[0;34m=\u001b[0m\u001b[0;32mTrue\u001b[0m\u001b[0;34m)\u001b[0m\u001b[0;34m\u001b[0m\u001b[0;34m\u001b[0m\u001b[0m\n",
      "\u001b[0;31mNameError\u001b[0m: name 'pruned' is not defined"
     ]
    }
   ],
   "source": [
    "\n",
    "regrowth, newids = growth(pruned, TrPPFD_min, Zeta_min, Zeta_12H)\n",
    "\n",
    "print('Created', len(newids), 'new GUs')\n",
    "plot_growth(regrowth, newids, leaves=True, gc=True)"
   ]
  },
  {
   "cell_type": "code",
   "execution_count": 79,
   "metadata": {
    "ExecuteTime": {
     "end_time": "2022-07-07T09:36:39.922493Z",
     "start_time": "2022-07-07T09:36:39.917197Z"
    }
   },
   "outputs": [],
   "source": [
    "def date_histo(g):\n",
    "    from matplotlib.pyplot import hist, show\n",
    "    from collections import Counter\n",
    "    from datetime import timedelta\n",
    "    c = list(Counter(g.property('BurstDate').values()).items())\n",
    "    c.sort(key = lambda v : v[0])\n",
    "    mindate = c[0][0]\n",
    "    maxdate = c[-1][0]\n",
    "    c = dict(c)\n",
    "    r = range(0,(maxdate-mindate).days)\n",
    "    d = [mindate+timedelta(days=d) for d in r]\n",
    "    v = [ c.get(di,0) for di in d]\n",
    "    bar(r,v)\n",
    "    xticks(r,d, rotation=90)\n",
    "    show()"
   ]
  },
  {
   "cell_type": "code",
   "execution_count": 81,
   "metadata": {
    "ExecuteTime": {
     "end_time": "2022-07-07T09:37:28.794169Z",
     "start_time": "2022-07-07T09:37:28.625803Z"
    }
   },
   "outputs": [
    {
     "name": "stdout",
     "output_type": "stream",
     "text": [
      "[(datetime.date(2021, 2, 16), 1), (datetime.date(2021, 2, 17), 8), (datetime.date(2021, 2, 18), 14), (datetime.date(2021, 2, 19), 37), (datetime.date(2021, 2, 20), 65), (datetime.date(2021, 2, 21), 133), (datetime.date(2021, 2, 22), 157), (datetime.date(2021, 2, 23), 201), (datetime.date(2021, 2, 24), 193), (datetime.date(2021, 2, 25), 217), (datetime.date(2021, 2, 26), 198), (datetime.date(2021, 2, 27), 225), (datetime.date(2021, 2, 28), 155), (datetime.date(2021, 3, 1), 101), (datetime.date(2021, 3, 2), 54), (datetime.date(2021, 3, 3), 32), (datetime.date(2021, 3, 4), 13), (datetime.date(2021, 3, 5), 3), (datetime.date(2021, 3, 6), 3), (datetime.date(2021, 3, 11), 10), (datetime.date(2021, 3, 12), 50), (datetime.date(2021, 3, 13), 64)]\n"
     ]
    },
    {
     "data": {
      "image/png": "[encoded data removed]",
      "text/plain": [
       "<Figure size 432x288 with 1 Axes>"
      ]
     },
     "metadata": {
      "needs_background": "light"
     },
     "output_type": "display_data"
    }
   ],
   "source": [
    "date_histo(regrowth)"
   ]
  },
  {
   "cell_type": "code",
   "execution_count": 84,
   "metadata": {
    "ExecuteTime": {
     "end_time": "2022-07-07T09:38:00.563661Z",
     "start_time": "2022-07-07T09:38:00.557183Z"
    }
   },
   "outputs": [],
   "source": [
    "def nb_children_histo(g):\n",
    "    def severity(vid):\n",
    "        return g.property('cuted').get(vid,0)\n",
    "\n",
    "    ancestors = [get_parent(g,vid) if vid in g.property('BurstDate') else vid for vid in get_all_terminal_gus(g) ]\n",
    "    ancestors = set(ancestors)\n",
    "    \n",
    "    values = [[] for i in range(4)]\n",
    "    for vid in ancestors:\n",
    "        values[severity(vid)].append(g.nb_children(vid))\n",
    "    figure(figsize=(18,4))\n",
    "    for order, v in enumerate(values):\n",
    "        if len(v) > 0:\n",
    "            subplot(220+order+1)\n",
    "            hist(v, bins=np.arange(0,max(1,max(v)))-0.5)\n",
    "            print(len(v),(np.mean(v), np.std(v)),(np.mean([vi for vi in v if vi > 0]), np.std([vi for vi in v if vi > 0])),(np.min(v), np.max(v)))\n",
    "    show()\n",
    "    "
   ]
  },
  {
   "cell_type": "code",
   "execution_count": 85,
   "metadata": {
    "ExecuteTime": {
     "end_time": "2022-07-07T09:38:01.904578Z",
     "start_time": "2022-07-07T09:38:01.780738Z"
    }
   },
   "outputs": [
    {
     "name": "stdout",
     "output_type": "stream",
     "text": [
      "2950 (0.655593220338983, 1.2782512832009532) (2.254079254079254, 1.4194005114486217) (0, 9)\n"
     ]
    },
    {
     "data": {
      "image/png": "[encoded data removed]",
      "text/plain": [
       "<Figure size 1296x288 with 1 Axes>"
      ]
     },
     "metadata": {
      "needs_background": "light"
     },
     "output_type": "display_data"
    }
   ],
   "source": [
    "nb_children_histo(regrowth)"
   ]
  },
  {
   "cell_type": "markdown",
   "metadata": {},
   "source": [
    "Les **longueurs d'UCs générées** suivent la loi normale du modèle précédent. A corriger avec données 2017"
   ]
  },
  {
   "cell_type": "markdown",
   "metadata": {},
   "source": [
    "# leaf area produced at the tree scale vs. leaf area removed by pruning"
   ]
  },
  {
   "cell_type": "code",
   "execution_count": null,
   "metadata": {
    "ExecuteTime": {
     "end_time": "2022-07-11T07:25:41.266900Z",
     "start_time": "2022-07-11T07:25:41.266884Z"
    }
   },
   "outputs": [],
   "source": [
    "def leaf_area_produced(mtg,newids):\n",
    "    newids = growth(t3, listidprunedT3, T3)\n",
    "    totalleafarea = sum([individual_leafarea_unpruned() for vid in newids])\n",
    "    growth(t3, listidprunedT3, T3)\n",
    "    return totalleafarea"
   ]
  },
  {
   "cell_type": "markdown",
   "metadata": {},
   "source": [
    "# améliorations possibles du modèle"
   ]
  },
  {
   "cell_type": "code",
   "execution_count": 9,
   "metadata": {
    "ExecuteTime": {
     "end_time": "2022-07-11T07:25:42.730672Z",
     "start_time": "2022-07-11T07:25:42.721903Z"
    }
   },
   "outputs": [],
   "source": [
    "def simulation(mtg, nbcuts):\n",
    "    from allometry import gu_leaf_area\n",
    "    # characterize before pruning\n",
    "    # nb of terminal units\n",
    "    nbterminalunits = len(get_all_terminal_gus(mtg))\n",
    "\n",
    "    # determine pruning\n",
    "    listidpruned = define_pruning(mtg, nbcuts, None)\n",
    "    #pruningprop = tag_pruning(mtg, listidpruned)\n",
    "\n",
    "    # characterize pruning\n",
    "    # - intensity\n",
    "    intensity = intensity_level(continuous_intensity(g,listidpruned))\n",
    "    if intensity == T2:\n",
    "        raise ValueError('Intensity', intensity)\n",
    "        \n",
    "    #  - nb of terminal units\n",
    "    nbremovedGU = sum([sum([len(get_descendants_gus_from_ancestor(mtg, vid))-1 for vid in pruneds]) for order, pruneds in listidpruned.items()])\n",
    "    \n",
    "    # - surface foliaire retire \n",
    "    removed_leaf_area = sum([sum([gu_leaf_area(get_gu_diameter(mtg, vid)) for vid in pruneds]) for order, pruneds in listidpruned.items()])\n",
    "    \n",
    "    # apply pruning\n",
    "    prunedmtg = apply_pruning(mtg, listidpruned)\n",
    "    \n",
    "    prunedrepr = mp.representation(pruned, wood = False, leaves=True)\n",
    "    TrPPFD_min, Zeta_min, Zeta_12H = light_variables(prunedrepr)\n",
    "\n",
    "    # characterize pruning\n",
    "    # nb of terminal units\n",
    "    \n",
    "    # apply growth    \n",
    "    growthmtg, newGUs = growth(prunedmtg, TrPPFD_min, Zeta_min, Zeta_12H)\n",
    "\n",
    "    allpruned = pruned\n",
    "\n",
    "    # characterize growth\n",
    "    nbgeneratedGU = len(newGUs)\n",
    "    generated_leaf_area_pruned = sum([la for vid,la in growthmtg.property('RegeneratedLeafArea').items() if vid in allpruned])\n",
    "    generated_leaf_area_unpruned = sum([la for vid,la in growthmtg.property('RegeneratedLeafArea').items() if not (vid in allpruned)])\n",
    "    \n",
    "    return (nbterminalunits, nbremovedGU, nbgeneratedGU), (removed_leaf_area, generated_leaf_area_pruned, generated_leaf_area_unpruned)\n",
    "    "
   ]
  },
  {
   "cell_type": "code",
   "execution_count": 98,
   "metadata": {
    "ExecuteTime": {
     "end_time": "2022-07-07T11:41:48.950176Z",
     "start_time": "2022-07-07T11:41:19.635869Z"
    }
   },
   "outputs": [
    {
     "name": "stdout",
     "output_type": "stream",
     "text": [
      "Should examine 3228 terminal GUs.\n",
      "Processed 0 pruned terminal GU and 3187 unpruned terminal GU and  41 ignored.\n",
      "(3228, 0, 952) (0, 1395.6421663341366, 5.800077125903842)\n"
     ]
    }
   ],
   "source": [
    "units0, la0 = simulation(g, 0)\n",
    "print(units0, la0)"
   ]
  },
  {
   "cell_type": "code",
   "execution_count": 99,
   "metadata": {
    "ExecuteTime": {
     "end_time": "2022-07-07T11:48:36.360477Z",
     "start_time": "2022-07-07T11:48:07.548279Z"
    }
   },
   "outputs": [
    {
     "name": "stdout",
     "output_type": "stream",
     "text": [
      "Should examine 3146 terminal GUs.\n",
      "Processed 60 pruned terminal GU and 3046 unpruned terminal GU and  40 ignored.\n",
      "(3228, 227, 1261) (648.9834329171969, 2295.132617194506, 34.913519845552386)\n"
     ]
    }
   ],
   "source": [
    "units20, la20 = simulation(g, 20)\n",
    "print(units20, la20)"
   ]
  },
  {
   "cell_type": "code",
   "execution_count": null,
   "metadata": {
    "ExecuteTime": {
     "start_time": "2022-06-02T12:15:23.535Z"
    }
   },
   "outputs": [],
   "source": [
    "units60, la60 = simulation(g, 60)\n",
    "print(units60, la60)"
   ]
  },
  {
   "cell_type": "code",
   "execution_count": null,
   "metadata": {
    "ExecuteTime": {
     "start_time": "2022-06-02T12:15:23.538Z"
    }
   },
   "outputs": [],
   "source": [
    "#units0060, la0060 = pipeline(g, (0,30,76))\n",
    "#print(units0060, la0060)"
   ]
  },
  {
   "cell_type": "code",
   "execution_count": null,
   "metadata": {
    "ExecuteTime": {
     "start_time": "2022-06-02T12:15:23.540Z"
    }
   },
   "outputs": [],
   "source": [
    "print(la0[1]-la0[0])\n",
    "print(la20[1]-la20[0])\n",
    "print(la60[1]-la60[0])\n"
   ]
  },
  {
   "cell_type": "code",
   "execution_count": 100,
   "metadata": {
    "ExecuteTime": {
     "end_time": "2022-07-07T11:48:36.372196Z",
     "start_time": "2022-07-07T11:48:36.363463Z"
    }
   },
   "outputs": [],
   "source": [
    "def process_range(mtg, cutrange = (0,20), cuttype = (1,1,1), nbtests = 1):\n",
    "    if type(cutrange) == int:\n",
    "        cutrange = (0, cutrange)\n",
    "    import numpy as np\n",
    "    gla = []\n",
    "    gunits = [] \n",
    "    cuts = []\n",
    "    for c in range(*cutrange):\n",
    "        for i in range(nbtests):\n",
    "            print('process',c,'-',i)\n",
    "            try:\n",
    "                units, la = simulation(mtg, [c*i for i in cuttype])\n",
    "            except ValueError as e:\n",
    "                print(e)\n",
    "                continue\n",
    "            gla.append(la)\n",
    "            gunits.append(units)\n",
    "            cuts.append(c)\n",
    "    gla = np.array(gla)\n",
    "    gunits = np.array(gunits)\n",
    "    return cuts, gla, gunits\n",
    "    "
   ]
  },
  {
   "cell_type": "code",
   "execution_count": 101,
   "metadata": {
    "ExecuteTime": {
     "end_time": "2022-07-07T12:01:56.290468Z",
     "start_time": "2022-07-07T11:48:45.840437Z"
    }
   },
   "outputs": [
    {
     "name": "stdout",
     "output_type": "stream",
     "text": [
      "process 0 - 0\n",
      "Should examine 3228 terminal GUs.\n",
      "Processed 0 pruned terminal GU and 3187 unpruned terminal GU and  41 ignored.\n",
      "process 5 - 0\n",
      "Should examine 3209 terminal GUs.\n",
      "Processed 15 pruned terminal GU and 3154 unpruned terminal GU and  40 ignored.\n",
      "process 10 - 0\n",
      "Should examine 3201 terminal GUs.\n",
      "Processed 30 pruned terminal GU and 3130 unpruned terminal GU and  41 ignored.\n",
      "process 15 - 0\n",
      "Should examine 3171 terminal GUs.\n",
      "Processed 45 pruned terminal GU and 3085 unpruned terminal GU and  41 ignored.\n",
      "process 20 - 0\n",
      "Should examine 3139 terminal GUs.\n",
      "Processed 60 pruned terminal GU and 3041 unpruned terminal GU and  38 ignored.\n",
      "process 25 - 0\n",
      "Should examine 3118 terminal GUs.\n",
      "Processed 75 pruned terminal GU and 3003 unpruned terminal GU and  40 ignored.\n",
      "process 30 - 0\n",
      "Should examine 3077 terminal GUs.\n",
      "Processed 90 pruned terminal GU and 2949 unpruned terminal GU and  38 ignored.\n",
      "process 35 - 0\n",
      "Should examine 3080 terminal GUs.\n",
      "Processed 105 pruned terminal GU and 2938 unpruned terminal GU and  37 ignored.\n",
      "process 40 - 0\n",
      "Should examine 3058 terminal GUs.\n",
      "Processed 120 pruned terminal GU and 2899 unpruned terminal GU and  39 ignored.\n",
      "process 45 - 0\n",
      "Should examine 2998 terminal GUs.\n",
      "p < 0, p > 1 or p is NaN\n",
      "process 50 - 0\n",
      "Should examine 3001 terminal GUs.\n",
      "Processed 150 pruned terminal GU and 2814 unpruned terminal GU and  37 ignored.\n",
      "process 55 - 0\n",
      "Should examine 2984 terminal GUs.\n",
      "Processed 165 pruned terminal GU and 2782 unpruned terminal GU and  37 ignored.\n",
      "process 60 - 0\n",
      "Should examine 2982 terminal GUs.\n",
      "Processed 180 pruned terminal GU and 2762 unpruned terminal GU and  40 ignored.\n",
      "process 65 - 0\n",
      "Should examine 2977 terminal GUs.\n",
      "Processed 195 pruned terminal GU and 2741 unpruned terminal GU and  41 ignored.\n",
      "process 70 - 0\n",
      "('Intensity', 'T2')\n",
      "process 75 - 0\n",
      "('Intensity', 'T2')\n",
      "process 80 - 0\n",
      "('Intensity', 'T2')\n",
      "process 85 - 0\n",
      "('Intensity', 'T2')\n",
      "process 90 - 0\n",
      "('Intensity', 'T2')\n",
      "process 95 - 0\n",
      "('Intensity', 'T2')\n",
      "process 100 - 0\n",
      "('Intensity', 'T2')\n",
      "process 105 - 0\n",
      "('Intensity', 'T2')\n",
      "process 110 - 0\n",
      "('Intensity', 'T2')\n",
      "process 115 - 0\n",
      "('Intensity', 'T2')\n",
      "process 120 - 0\n",
      "('Intensity', 'T2')\n",
      "process 125 - 0\n",
      "('Intensity', 'T2')\n",
      "process 130 - 0\n",
      "Should examine 2635 terminal GUs.\n",
      "Processed 390 pruned terminal GU and 2209 unpruned terminal GU and  36 ignored.\n",
      "process 135 - 0\n",
      "Should examine 2569 terminal GUs.\n",
      "Processed 405 pruned terminal GU and 2133 unpruned terminal GU and  31 ignored.\n",
      "process 140 - 0\n",
      "Should examine 2622 terminal GUs.\n",
      "Processed 420 pruned terminal GU and 2169 unpruned terminal GU and  33 ignored.\n",
      "process 145 - 0\n",
      "('Intensity', 'T2')\n",
      "process 150 - 0\n",
      "Should examine 2548 terminal GUs.\n",
      "p < 0, p > 1 or p is NaN\n",
      "process 155 - 0\n",
      "Should examine 2567 terminal GUs.\n",
      "Processed 465 pruned terminal GU and 2066 unpruned terminal GU and  36 ignored.\n",
      "process 160 - 0\n",
      "Should examine 2544 terminal GUs.\n",
      "Processed 480 pruned terminal GU and 2026 unpruned terminal GU and  38 ignored.\n",
      "process 165 - 0\n",
      "Should examine 2549 terminal GUs.\n",
      "p < 0, p > 1 or p is NaN\n",
      "process 170 - 0\n",
      "Should examine 2472 terminal GUs.\n",
      "p < 0, p > 1 or p is NaN\n",
      "process 175 - 0\n",
      "Should examine 2492 terminal GUs.\n",
      "p < 0, p > 1 or p is NaN\n"
     ]
    }
   ],
   "source": [
    "cuts76, las76, units76 = process_range(g,(0,180,5), nbtests = 1)\n"
   ]
  },
  {
   "cell_type": "code",
   "execution_count": 104,
   "metadata": {
    "ExecuteTime": {
     "end_time": "2022-07-07T12:13:32.867535Z",
     "start_time": "2022-07-07T12:13:32.860367Z"
    }
   },
   "outputs": [],
   "source": [
    "def plot_cutrange(cuts, las, units):\n",
    "    figure(figsize=(12,6))\n",
    "    #subplot(121)\n",
    "    normalproduction = np.mean(las[np.where(np.isin(cuts,[0]))[0],2])\n",
    "    plot(cuts,las[:,0],'.',label='removed leaf area')\n",
    "    plot(cuts,las[:,1],'.',label='generated leaf area from pruned GU')\n",
    "    plot(cuts,las[:,2],'.',label='generated leaf area from unpruned GU')\n",
    "    plot(cuts,las[:,1]+las[:,2],'.',label='generated leaf area')\n",
    "    plot(cuts,(las[:,1]+las[:,2])-(las[:,0]+normalproduction),'.',label='increase of leaf area (compared to To)')\n",
    "    legend()\n",
    "    show()\n",
    "    figure(figsize=(12,6))\n",
    "    #subplot(122)\n",
    "    plot(cuts,units[:,0],'.',label='nb terminal units')\n",
    "    plot(cuts,units[:,1],'.',label='nb removed GU')\n",
    "    plot(cuts,units[:,2],'.',label='nb generated GU')\n",
    "    legend()\n",
    "    show()\n"
   ]
  },
  {
   "cell_type": "code",
   "execution_count": 105,
   "metadata": {
    "ExecuteTime": {
     "end_time": "2022-07-07T12:13:33.920539Z",
     "start_time": "2022-07-07T12:13:33.612504Z"
    }
   },
   "outputs": [
    {
     "data": {
      "image/png": "[encoded data removed]",
      "text/plain": [
       "<Figure size 864x432 with 1 Axes>"
      ]
     },
     "metadata": {
      "needs_background": "light"
     },
     "output_type": "display_data"
    },
    {
     "data": {
      "image/png": "[encoded data removed]",
      "text/plain": [
       "<Figure size 864x432 with 1 Axes>"
      ]
     },
     "metadata": {
      "needs_background": "light"
     },
     "output_type": "display_data"
    }
   ],
   "source": [
    "plot_cutrange(cuts76, las76, units76)\n"
   ]
  },
  {
   "cell_type": "code",
   "execution_count": null,
   "metadata": {
    "ExecuteTime": {
     "start_time": "2022-06-02T12:15:23.549Z"
    }
   },
   "outputs": [],
   "source": [
    "\n",
    "cuts, las, units = process_range(g,(0,300,5), cuttype = (1,0,0), nbtests = 1)"
   ]
  },
  {
   "cell_type": "code",
   "execution_count": null,
   "metadata": {
    "ExecuteTime": {
     "start_time": "2022-06-02T12:15:23.551Z"
    }
   },
   "outputs": [],
   "source": [
    "plot_cutrange(cuts, las, units)"
   ]
  },
  {
   "cell_type": "code",
   "execution_count": null,
   "metadata": {
    "ExecuteTime": {
     "start_time": "2022-06-02T12:15:23.554Z"
    }
   },
   "outputs": [],
   "source": [
    "cuts, las, units = process_range(g,(0,300,5), cuttype = (0,1,0), nbtests = 1)"
   ]
  },
  {
   "cell_type": "code",
   "execution_count": null,
   "metadata": {
    "ExecuteTime": {
     "start_time": "2022-06-02T12:15:23.555Z"
    }
   },
   "outputs": [],
   "source": [
    "plot_cutrange(cuts, las, units)"
   ]
  },
  {
   "cell_type": "code",
   "execution_count": null,
   "metadata": {
    "ExecuteTime": {
     "start_time": "2022-06-02T12:15:23.557Z"
    }
   },
   "outputs": [],
   "source": [
    "cuts, las, units = process_range(g,(0,80,2), cuttype = (0,0,1), nbtests = 1)"
   ]
  },
  {
   "cell_type": "code",
   "execution_count": null,
   "metadata": {
    "ExecuteTime": {
     "start_time": "2022-06-02T12:15:23.559Z"
    }
   },
   "outputs": [],
   "source": [
    "plot_cutrange(cuts, las, units)"
   ]
  },
  {
   "cell_type": "code",
   "execution_count": null,
   "metadata": {},
   "outputs": [],
   "source": []
  }
 ],
 "metadata": {
  "kernelspec": {
   "display_name": "Python 3 (ipykernel)",
   "language": "python",
   "name": "python3"
  },
  "language_info": {
   "codemirror_mode": {
    "name": "ipython",
    "version": 3
   },
   "file_extension": ".py",
   "mimetype": "text/x-python",
   "name": "python",
   "nbconvert_exporter": "python",
   "pygments_lexer": "ipython3",
   "version": "3.9.12"
  }
 },
 "nbformat": 4,
 "nbformat_minor": 2
}
