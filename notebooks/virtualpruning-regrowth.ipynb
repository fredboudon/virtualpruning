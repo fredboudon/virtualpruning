{
 "cells": [
  {
   "cell_type": "markdown",
   "metadata": {},
   "source": [
    "# Virtual Pruning"
   ]
  },
  {
   "cell_type": "markdown",
   "metadata": {},
   "source": [
    "## Importing the digitized structure"
   ]
  },
  {
   "cell_type": "code",
   "execution_count": null,
   "metadata": {
    "ExecuteTime": {
     "end_time": "2023-01-10T12:53:29.121957Z",
     "start_time": "2023-01-10T12:53:28.541604Z"
    }
   },
   "outputs": [],
   "source": [
    "from openalea.mtg import *\n",
    "import numpy as np\n",
    "from importlib import reload\n",
    "import mangoG3; reload(mangoG3)\n",
    "from mangoG3 import *\n",
    "\n",
    "g = get_G3_mtg()\n",
    "#g = extend_mtg_with_organs(g)"
   ]
  },
  {
   "cell_type": "code",
   "execution_count": null,
   "metadata": {
    "ExecuteTime": {
     "end_time": "2023-01-10T12:53:34.688280Z",
     "start_time": "2023-01-10T12:53:34.684966Z"
    }
   },
   "outputs": [],
   "source": [
    "simplification = False\n",
    "\n",
    "if simplification:\n",
    "    import simplif ; reload(simplif)\n",
    "    from simplif import simplify_mtg\n",
    "    sg = simplify_mtg(g,11083)\n",
    "    g = sg"
   ]
  },
  {
   "cell_type": "code",
   "execution_count": null,
   "metadata": {
    "ExecuteTime": {
     "end_time": "2023-01-10T12:53:34.693424Z",
     "start_time": "2023-01-10T12:53:34.690514Z"
    }
   },
   "outputs": [],
   "source": [
    "from matplotlib.pyplot import *\n",
    "import mtgplot as mp"
   ]
  },
  {
   "cell_type": "code",
   "execution_count": null,
   "metadata": {
    "ExecuteTime": {
     "end_time": "2023-01-10T12:36:31.525852Z",
     "start_time": "2023-01-10T12:36:30.717161Z"
    }
   },
   "outputs": [],
   "source": [
    "#initrepr = mp.representation(g, wood = True, leaves=True, gc=False)\n",
    "#initrepr.save('initialtree.bgeom')\n",
    "sw = mp.plot_tree(g, leaves=True)\n",
    "sw"
   ]
  },
  {
   "cell_type": "markdown",
   "metadata": {},
   "source": [
    "\n",
    "# Pruning"
   ]
  },
  {
   "cell_type": "code",
   "execution_count": null,
   "metadata": {
    "ExecuteTime": {
     "end_time": "2023-01-10T12:37:32.472576Z",
     "start_time": "2023-01-10T12:37:32.468168Z"
    }
   },
   "outputs": [],
   "source": [
    "import pruning ; reload(pruning)\n",
    "from pruning import *"
   ]
  },
  {
   "cell_type": "code",
   "execution_count": null,
   "metadata": {
    "ExecuteTime": {
     "end_time": "2023-01-10T12:37:48.944868Z",
     "start_time": "2023-01-10T12:37:48.861032Z"
    }
   },
   "outputs": [],
   "source": [
    "prunedmtg = prune(g, 10)"
   ]
  },
  {
   "cell_type": "code",
   "execution_count": null,
   "metadata": {
    "ExecuteTime": {
     "end_time": "2023-01-10T12:37:49.656861Z",
     "start_time": "2023-01-10T12:37:49.653559Z"
    }
   },
   "outputs": [],
   "source": [
    "intensity = continuous_intensity_from_pruned(prunedmtg)\n",
    "print(intensity, intensity_level(intensity))"
   ]
  },
  {
   "cell_type": "code",
   "execution_count": null,
   "metadata": {
    "ExecuteTime": {
     "end_time": "2023-01-10T12:38:01.064746Z",
     "start_time": "2023-01-10T12:38:00.740875Z"
    }
   },
   "outputs": [],
   "source": [
    "prunedrepr = mp.representation(prunedmtg, wood = False, leaves=True)"
   ]
  },
  {
   "cell_type": "markdown",
   "metadata": {
    "ExecuteTime": {
     "end_time": "2023-01-10T08:16:03.362387Z",
     "start_time": "2023-01-10T08:16:03.359581Z"
    }
   },
   "source": [
    "# Mortality post pruning"
   ]
  },
  {
   "cell_type": "code",
   "execution_count": null,
   "metadata": {
    "ExecuteTime": {
     "end_time": "2023-01-10T12:38:03.976494Z",
     "start_time": "2023-01-10T12:38:03.972189Z"
    }
   },
   "outputs": [],
   "source": [
    "import lightestimation; reload(lightestimation)\n",
    "from lightestimation import *"
   ]
  },
  {
   "cell_type": "code",
   "execution_count": null,
   "metadata": {
    "ExecuteTime": {
     "end_time": "2023-01-10T12:38:14.919610Z",
     "start_time": "2023-01-10T12:38:05.397085Z"
    }
   },
   "outputs": [],
   "source": [
    "Zeta_min = light_variables_mortality(prunedrepr)"
   ]
  },
  {
   "cell_type": "code",
   "execution_count": null,
   "metadata": {
    "ExecuteTime": {
     "end_time": "2023-01-10T12:38:18.428051Z",
     "start_time": "2023-01-10T12:38:18.268463Z"
    }
   },
   "outputs": [],
   "source": [
    "Zeta_min.hist()"
   ]
  },
  {
   "cell_type": "code",
   "execution_count": null,
   "metadata": {
    "ExecuteTime": {
     "end_time": "2023-01-10T11:24:29.531760Z",
     "start_time": "2023-01-10T11:24:29.528702Z"
    }
   },
   "outputs": [],
   "source": [
    "#mp.plot_projection(prunedrepr, Zeta_min)"
   ]
  },
  {
   "cell_type": "code",
   "execution_count": null,
   "metadata": {
    "ExecuteTime": {
     "end_time": "2023-01-10T12:38:23.105094Z",
     "start_time": "2023-01-10T12:38:23.100636Z"
    }
   },
   "outputs": [],
   "source": [
    "import mortality ; reload(mortality)\n",
    "from mortality import gu_mortalities_post_pruning"
   ]
  },
  {
   "cell_type": "code",
   "execution_count": null,
   "metadata": {
    "ExecuteTime": {
     "end_time": "2023-01-10T12:38:23.953457Z",
     "start_time": "2023-01-10T12:38:23.877299Z"
    }
   },
   "outputs": [],
   "source": [
    "postpruningmtg, removed = gu_mortalities_post_pruning(prunedmtg, Zeta_min, intensity)"
   ]
  },
  {
   "cell_type": "markdown",
   "metadata": {},
   "source": [
    "# Regrowth"
   ]
  },
  {
   "cell_type": "code",
   "execution_count": null,
   "metadata": {
    "ExecuteTime": {
     "end_time": "2023-01-10T12:38:25.723407Z",
     "start_time": "2023-01-10T12:38:25.404300Z"
    }
   },
   "outputs": [],
   "source": [
    "postpruningrepr = mp.representation(postpruningmtg, wood = False, leaves=True)"
   ]
  },
  {
   "cell_type": "code",
   "execution_count": null,
   "metadata": {
    "ExecuteTime": {
     "end_time": "2023-01-10T12:38:35.932525Z",
     "start_time": "2023-01-10T12:38:26.308593Z"
    }
   },
   "outputs": [],
   "source": [
    "TrPPFD_mean, TrPPFD_min, Zeta_mean, Zeta_8H = light_variables_regrowth(postpruningrepr)"
   ]
  },
  {
   "cell_type": "code",
   "execution_count": null,
   "metadata": {
    "ExecuteTime": {
     "end_time": "2023-01-10T12:38:38.180499Z",
     "start_time": "2023-01-10T12:38:38.172542Z"
    }
   },
   "outputs": [],
   "source": [
    "import regrowth_base; reload(regrowth_base)\n",
    "from regrowth_base import plot_growth\n",
    "import regrowth_MAJ; reload(regrowth_MAJ)\n",
    "from regrowth_MAJ import *"
   ]
  },
  {
   "cell_type": "code",
   "execution_count": null,
   "metadata": {
    "ExecuteTime": {
     "end_time": "2023-01-10T12:38:38.274194Z",
     "start_time": "2023-01-10T12:38:38.182800Z"
    }
   },
   "outputs": [],
   "source": [
    "regrowth, newids = growth(postpruningmtg, TrPPFD_mean, TrPPFD_min, Zeta_mean, Zeta_8H, intensity)\n",
    "print('Created', len(newids), 'new GUs')\n"
   ]
  },
  {
   "cell_type": "code",
   "execution_count": null,
   "metadata": {
    "ExecuteTime": {
     "end_time": "2023-01-10T12:38:44.191519Z",
     "start_time": "2023-01-10T12:38:44.189178Z"
    }
   },
   "outputs": [],
   "source": [
    "#plot_growth(regrowth, leaves=True, gc=True)"
   ]
  },
  {
   "cell_type": "code",
   "execution_count": null,
   "metadata": {
    "ExecuteTime": {
     "end_time": "2023-01-10T12:38:44.769238Z",
     "start_time": "2023-01-10T12:38:44.764440Z"
    }
   },
   "outputs": [],
   "source": [
    "def date_histo(g):\n",
    "    from matplotlib.pyplot import hist, show\n",
    "    from collections import Counter\n",
    "    from datetime import timedelta\n",
    "    c = list(Counter(g.property('BurstDate').values()).items())\n",
    "    c.sort(key = lambda v : v[0])\n",
    "    mindate = c[0][0]\n",
    "    maxdate = c[-1][0]\n",
    "    c = dict(c)\n",
    "    r = range(0,(maxdate-mindate).days)\n",
    "    d = [mindate+timedelta(days=d) for d in r]\n",
    "    v = [ c.get(di,0) for di in d]\n",
    "    bar(r,v)\n",
    "    xticks(r,d, rotation=90)\n",
    "    show()"
   ]
  },
  {
   "cell_type": "code",
   "execution_count": null,
   "metadata": {
    "ExecuteTime": {
     "end_time": "2023-01-10T12:38:45.657357Z",
     "start_time": "2023-01-10T12:38:45.509118Z"
    }
   },
   "outputs": [],
   "source": [
    "date_histo(regrowth)"
   ]
  },
  {
   "cell_type": "code",
   "execution_count": null,
   "metadata": {
    "ExecuteTime": {
     "end_time": "2023-01-10T12:38:46.540420Z",
     "start_time": "2023-01-10T12:38:46.537634Z"
    }
   },
   "outputs": [],
   "source": [
    "#plot_growth_dynamic(regrowth)"
   ]
  },
  {
   "cell_type": "code",
   "execution_count": null,
   "metadata": {
    "ExecuteTime": {
     "end_time": "2023-01-10T12:38:47.554703Z",
     "start_time": "2023-01-10T12:38:47.548885Z"
    }
   },
   "outputs": [],
   "source": [
    "def nb_children_histo(g):\n",
    "    def severity(vid):\n",
    "        return g.property('pruned').get(vid,0)\n",
    "\n",
    "    ancestors = [get_parent(g,vid) if vid in g.property('BurstDate') else vid for vid in get_all_terminal_gus(g) ]\n",
    "    ancestors = set(ancestors)\n",
    "    \n",
    "    values = [[] for i in range(4)]\n",
    "    for vid in ancestors:\n",
    "        values[severity(vid)].append(g.nb_children(vid))\n",
    "    figure(figsize=(18,4))\n",
    "    for order, v in enumerate(values):\n",
    "        if len(v) > 0:\n",
    "            subplot(220+order+1)\n",
    "            hist(v, bins=np.arange(0,max(1,max(v)))-0.5)\n",
    "            print(len(v),(np.mean(v), np.std(v)),(np.mean([vi for vi in v if vi > 0]), np.std([vi for vi in v if vi > 0])),(np.min(v), np.max(v)))\n",
    "    show()\n",
    "    "
   ]
  },
  {
   "cell_type": "code",
   "execution_count": null,
   "metadata": {
    "ExecuteTime": {
     "end_time": "2023-01-10T12:38:48.959936Z",
     "start_time": "2023-01-10T12:38:48.629968Z"
    }
   },
   "outputs": [],
   "source": [
    "nb_children_histo(regrowth)"
   ]
  },
  {
   "cell_type": "markdown",
   "metadata": {},
   "source": [
    "Les **longueurs d'UCs générées** suivent la loi normale du modèle précédent. A corriger avec données 2017"
   ]
  },
  {
   "cell_type": "markdown",
   "metadata": {},
   "source": [
    "## Gap fraction"
   ]
  },
  {
   "cell_type": "code",
   "execution_count": null,
   "metadata": {
    "ExecuteTime": {
     "end_time": "2023-01-10T12:38:51.698861Z",
     "start_time": "2023-01-10T12:38:51.692914Z"
    }
   },
   "outputs": [],
   "source": [
    "import gapfraction ; reload(gapfraction)\n",
    "from gapfraction import gapfraction_dynamic, gap_fraction"
   ]
  },
  {
   "cell_type": "code",
   "execution_count": null,
   "metadata": {
    "ExecuteTime": {
     "end_time": "2023-01-10T12:39:11.629554Z",
     "start_time": "2023-01-10T12:38:52.396594Z"
    }
   },
   "outputs": [],
   "source": [
    "gft = gapfraction_dynamic(regrowth)"
   ]
  },
  {
   "cell_type": "code",
   "execution_count": null,
   "metadata": {
    "ExecuteTime": {
     "end_time": "2023-01-10T12:39:13.763454Z",
     "start_time": "2023-01-10T12:39:11.632510Z"
    }
   },
   "outputs": [],
   "source": [
    "pruningdate = date(2021,2,1)\n",
    "gf0 = gap_fraction(g)"
   ]
  },
  {
   "cell_type": "code",
   "execution_count": null,
   "metadata": {
    "ExecuteTime": {
     "end_time": "2023-01-10T12:39:13.913195Z",
     "start_time": "2023-01-10T12:39:13.766036Z"
    }
   },
   "outputs": [],
   "source": [
    "from matplotlib.pyplot import *\n",
    "plot([pruningdate,pruningdate]+[d for d,g in gft],[gf0,gft[0][1]]+[g for d,g in gft])\n",
    "hlines(gf0,pruningdate,gft[-1][0],color='r')\n",
    "ylim(0,0.25)\n",
    "xticks(rotation = 80)\n",
    "show()"
   ]
  },
  {
   "cell_type": "markdown",
   "metadata": {},
   "source": [
    "# leaf area produced at the tree scale vs. leaf area removed by pruning"
   ]
  },
  {
   "cell_type": "code",
   "execution_count": null,
   "metadata": {
    "ExecuteTime": {
     "end_time": "2023-01-10T12:39:13.922583Z",
     "start_time": "2023-01-10T12:39:13.918418Z"
    }
   },
   "outputs": [],
   "source": [
    "def leaf_area_produced(mtg,newids):\n",
    "    newids = growth(t3, listidprunedT3, T3)\n",
    "    totalleafarea = sum([individual_leafarea_unpruned() for vid in newids])\n",
    "    growth(t3, listidprunedT3, T3)\n",
    "    return totalleafarea"
   ]
  },
  {
   "cell_type": "markdown",
   "metadata": {},
   "source": [
    "# améliorations possibles du modèle"
   ]
  },
  {
   "cell_type": "code",
   "execution_count": null,
   "metadata": {
    "ExecuteTime": {
     "end_time": "2023-01-10T12:42:29.445306Z",
     "start_time": "2023-01-10T12:42:29.437657Z"
    }
   },
   "outputs": [],
   "source": [
    "def simulation(mtg, nbcuts, gumortality = True):\n",
    "    from allometry import gu_leaf_area\n",
    "    # characterize before pruning\n",
    "    # nb of terminal units\n",
    "    nbterminalunits = len(get_all_terminal_gus(mtg))\n",
    "\n",
    "    # determine pruning\n",
    "    listidpruned = define_pruning(mtg, nbcuts, None)\n",
    "    #pruningprop = tag_pruning(mtg, listidpruned)\n",
    "\n",
    "    # characterize pruning\n",
    "    # - intensity\n",
    "    intensity = continuous_intensity(g,listidpruned)\n",
    "    ilevel = intensity_level(intensity)\n",
    "    if intensity == T2:\n",
    "        raise ValueError('Intensity', ilevel, intensity)\n",
    "        \n",
    "    #  - nb of terminal units\n",
    "    nbremovedGU = sum([sum([len(get_descendants_gus_from_ancestor(mtg, vid))-1 for vid in pruneds]) for order, pruneds in listidpruned.items()])\n",
    "    \n",
    "    # - surface foliaire retire \n",
    "    removed_leaf_area = sum([sum([gu_leaf_area(get_gu_diameter(mtg, vid)) for vid in pruneds]) for order, pruneds in listidpruned.items()])\n",
    "    \n",
    "    # apply pruning\n",
    "    prunedmtg = apply_pruning(mtg, listidpruned)\n",
    "    \n",
    "    if gumortality:\n",
    "        prunedrepr = mp.representation(prunedmtg, wood = False, leaves=True)\n",
    "        Zeta_min = light_variables_mortality(prunedrepr)\n",
    "    \n",
    "        postpruningmtg, removed = gu_mortalities_post_pruning(prunedmtg, Zeta_min, intensity)\n",
    "        postpruningrepr = mp.representation(postpruningmtg, wood = False, leaves=True)\n",
    "    else:\n",
    "        postpruningmtg = prunedmtg\n",
    "        postpruningrepr = mp.representation(postpruningmtg, wood = False, leaves=True)\n",
    "        \n",
    "    \n",
    "    TrPPFD_mean, TrPPFD_min, Zeta_mean, Zeta_8H = light_variables_regrowth(postpruningrepr)\n",
    "\n",
    "    \n",
    "    # apply growth    \n",
    "    growthmtg, newGUs = growth(postpruningmtg, TrPPFD_mean, TrPPFD_min, Zeta_mean, Zeta_8H, intensity, mortalityenabled=gumortality)\n",
    "\n",
    "\n",
    "    # characterize pruning\n",
    "    # nb of terminal units\n",
    "\n",
    "    allpruned = set(listidpruned.keys())\n",
    "\n",
    "    # characterize growth\n",
    "    nbgeneratedGU = len(newGUs)\n",
    "    generated_leaf_area_pruned = sum([la for vid,la in growthmtg.property('RegeneratedLeafArea').items() if vid in allpruned])\n",
    "    generated_leaf_area_unpruned = sum([la for vid,la in growthmtg.property('RegeneratedLeafArea').items() if not (vid in allpruned)])\n",
    "    \n",
    "    return (nbterminalunits, nbremovedGU, nbgeneratedGU), (removed_leaf_area, generated_leaf_area_pruned, generated_leaf_area_unpruned)\n",
    "    "
   ]
  },
  {
   "cell_type": "code",
   "execution_count": null,
   "metadata": {
    "ExecuteTime": {
     "end_time": "2023-01-10T12:42:59.433847Z",
     "start_time": "2023-01-10T12:42:32.940250Z"
    }
   },
   "outputs": [],
   "source": [
    "units0, la0 = simulation(g, 0)\n",
    "print(units0, la0)"
   ]
  },
  {
   "cell_type": "code",
   "execution_count": null,
   "metadata": {
    "ExecuteTime": {
     "end_time": "2023-01-10T12:52:25.458836Z",
     "start_time": "2023-01-10T12:52:09.148185Z"
    }
   },
   "outputs": [],
   "source": [
    "units20, la20 = simulation(g, 15)\n",
    "print(units20, la20)"
   ]
  },
  {
   "cell_type": "code",
   "execution_count": null,
   "metadata": {
    "ExecuteTime": {
     "end_time": "2023-01-10T10:24:15.525562Z",
     "start_time": "2023-01-10T10:24:15.525540Z"
    }
   },
   "outputs": [],
   "source": [
    "units60, la60 = simulation(g, 60)\n",
    "print(units60, la60)"
   ]
  },
  {
   "cell_type": "code",
   "execution_count": null,
   "metadata": {
    "ExecuteTime": {
     "end_time": "2023-01-10T10:24:15.527731Z",
     "start_time": "2023-01-10T10:24:15.527709Z"
    }
   },
   "outputs": [],
   "source": [
    "#units0060, la0060 = pipeline(g, (0,30,76))\n",
    "#print(units0060, la0060)"
   ]
  },
  {
   "cell_type": "code",
   "execution_count": null,
   "metadata": {
    "ExecuteTime": {
     "end_time": "2023-01-10T10:24:15.530167Z",
     "start_time": "2023-01-10T10:24:15.530149Z"
    }
   },
   "outputs": [],
   "source": [
    "print(la0[1]-la0[0])\n",
    "print(la20[1]-la20[0])\n",
    "print(la60[1]-la60[0])\n"
   ]
  },
  {
   "cell_type": "code",
   "execution_count": null,
   "metadata": {
    "ExecuteTime": {
     "end_time": "2023-01-10T10:24:15.533541Z",
     "start_time": "2023-01-10T10:24:15.533520Z"
    }
   },
   "outputs": [],
   "source": [
    "def process_range(mtg, cutrange = (0,20), cuttype = (1,1,1), nbtests = 1):\n",
    "    if type(cutrange) == int:\n",
    "        cutrange = (0, cutrange)\n",
    "    import numpy as np\n",
    "    gla = []\n",
    "    gunits = [] \n",
    "    cuts = []\n",
    "    for c in range(*cutrange):\n",
    "        for i in range(nbtests):\n",
    "            print('process',c,'-',i)\n",
    "            try:\n",
    "                units, la = simulation(mtg, [c*i for i in cuttype])\n",
    "            except ValueError as e:\n",
    "                print(e)\n",
    "                continue\n",
    "            gla.append(la)\n",
    "            gunits.append(units)\n",
    "            cuts.append(c)\n",
    "    gla = np.array(gla)\n",
    "    gunits = np.array(gunits)\n",
    "    return cuts, gla, gunits\n",
    "    "
   ]
  },
  {
   "cell_type": "code",
   "execution_count": null,
   "metadata": {
    "ExecuteTime": {
     "end_time": "2023-01-10T10:24:15.535467Z",
     "start_time": "2023-01-10T10:24:15.535450Z"
    }
   },
   "outputs": [],
   "source": [
    "cuts76, las76, units76 = process_range(g,(0,180,5), nbtests = 1)\n"
   ]
  },
  {
   "cell_type": "code",
   "execution_count": null,
   "metadata": {
    "ExecuteTime": {
     "end_time": "2023-01-10T10:24:15.537427Z",
     "start_time": "2023-01-10T10:24:15.537378Z"
    }
   },
   "outputs": [],
   "source": [
    "def plot_cutrange(cuts, las, units):\n",
    "    figure(figsize=(12,6))\n",
    "    #subplot(121)\n",
    "    normalproduction = np.mean(las[np.where(np.isin(cuts,[0]))[0],2])\n",
    "    plot(cuts,las[:,0],'.',label='removed leaf area')\n",
    "    plot(cuts,las[:,1],'.',label='generated leaf area from pruned GU')\n",
    "    plot(cuts,las[:,2],'.',label='generated leaf area from unpruned GU')\n",
    "    plot(cuts,las[:,1]+las[:,2],'.',label='generated leaf area')\n",
    "    plot(cuts,(las[:,1]+las[:,2])-(las[:,0]+normalproduction),'.',label='increase of leaf area (compared to To)')\n",
    "    legend()\n",
    "    show()\n",
    "    figure(figsize=(12,6))\n",
    "    #subplot(122)\n",
    "    plot(cuts,units[:,0],'.',label='nb terminal units')\n",
    "    plot(cuts,units[:,1],'.',label='nb removed GU')\n",
    "    plot(cuts,units[:,2],'.',label='nb generated GU')\n",
    "    legend()\n",
    "    show()\n"
   ]
  },
  {
   "cell_type": "code",
   "execution_count": null,
   "metadata": {
    "ExecuteTime": {
     "end_time": "2023-01-10T10:24:15.539811Z",
     "start_time": "2023-01-10T10:24:15.539790Z"
    }
   },
   "outputs": [],
   "source": [
    "plot_cutrange(cuts76, las76, units76)\n"
   ]
  },
  {
   "cell_type": "code",
   "execution_count": null,
   "metadata": {
    "ExecuteTime": {
     "end_time": "2023-01-10T10:24:15.542042Z",
     "start_time": "2023-01-10T10:24:15.542025Z"
    }
   },
   "outputs": [],
   "source": [
    "\n",
    "cuts, las, units = process_range(g,(0,300,5), cuttype = (1,0,0), nbtests = 1)"
   ]
  },
  {
   "cell_type": "code",
   "execution_count": null,
   "metadata": {
    "ExecuteTime": {
     "end_time": "2023-01-10T10:24:15.543807Z",
     "start_time": "2023-01-10T10:24:15.543791Z"
    }
   },
   "outputs": [],
   "source": [
    "plot_cutrange(cuts, las, units)"
   ]
  },
  {
   "cell_type": "code",
   "execution_count": null,
   "metadata": {
    "ExecuteTime": {
     "end_time": "2023-01-10T10:24:15.545347Z",
     "start_time": "2023-01-10T10:24:15.545331Z"
    }
   },
   "outputs": [],
   "source": [
    "cuts, las, units = process_range(g,(0,300,5), cuttype = (0,1,0), nbtests = 1)"
   ]
  },
  {
   "cell_type": "code",
   "execution_count": null,
   "metadata": {
    "ExecuteTime": {
     "end_time": "2023-01-10T10:24:15.546941Z",
     "start_time": "2023-01-10T10:24:15.546923Z"
    }
   },
   "outputs": [],
   "source": [
    "plot_cutrange(cuts, las, units)"
   ]
  },
  {
   "cell_type": "code",
   "execution_count": null,
   "metadata": {
    "ExecuteTime": {
     "end_time": "2023-01-10T10:24:15.548568Z",
     "start_time": "2023-01-10T10:24:15.548549Z"
    }
   },
   "outputs": [],
   "source": [
    "cuts, las, units = process_range(g,(0,80,2), cuttype = (0,0,1), nbtests = 1)"
   ]
  },
  {
   "cell_type": "code",
   "execution_count": null,
   "metadata": {
    "ExecuteTime": {
     "end_time": "2023-01-10T10:24:15.550702Z",
     "start_time": "2023-01-10T10:24:15.550685Z"
    }
   },
   "outputs": [],
   "source": [
    "plot_cutrange(cuts, las, units)"
   ]
  },
  {
   "cell_type": "code",
   "execution_count": null,
   "metadata": {},
   "outputs": [],
   "source": []
  }
 ],
 "metadata": {
  "kernelspec": {
   "display_name": "Python 3 (ipykernel)",
   "language": "python",
   "name": "python3"
  },
  "language_info": {
   "codemirror_mode": {
    "name": "ipython",
    "version": 3
   },
   "file_extension": ".py",
   "mimetype": "text/x-python",
   "name": "python",
   "nbconvert_exporter": "python",
   "pygments_lexer": "ipython3",
   "version": "3.10.5"
  }
 },
 "nbformat": 4,
 "nbformat_minor": 2
}
