{
 "cells": [
  {
   "cell_type": "markdown",
   "metadata": {},
   "source": [
    "# Virtual Pruning"
   ]
  },
  {
   "cell_type": "markdown",
   "metadata": {},
   "source": [
    "## Importing the digitized structure"
   ]
  },
  {
   "cell_type": "code",
   "execution_count": 1,
   "metadata": {
    "ExecuteTime": {
     "end_time": "2023-01-13T09:47:28.763357Z",
     "start_time": "2023-01-13T09:47:25.896284Z"
    }
   },
   "outputs": [],
   "source": [
    "from openalea.mtg import *\n",
    "import numpy as np\n",
    "from importlib import reload\n",
    "import mangoG3; reload(mangoG3)\n",
    "from mangoG3 import *\n",
    "\n",
    "g = get_G3_mtg()\n",
    "#g = extend_mtg_with_organs(g)"
   ]
  },
  {
   "cell_type": "code",
   "execution_count": 2,
   "metadata": {
    "ExecuteTime": {
     "end_time": "2023-01-11T05:12:43.355811Z",
     "start_time": "2023-01-11T05:12:43.351507Z"
    }
   },
   "outputs": [],
   "source": [
    "simplification = False\n",
    "\n",
    "if simplification:\n",
    "    import simplif ; reload(simplif)\n",
    "    from simplif import simplify_mtg\n",
    "    sg = simplify_mtg(g,11083)\n",
    "    g = sg"
   ]
  },
  {
   "cell_type": "code",
   "execution_count": 2,
   "metadata": {
    "ExecuteTime": {
     "end_time": "2023-01-13T09:47:31.557800Z",
     "start_time": "2023-01-13T09:47:30.768552Z"
    }
   },
   "outputs": [],
   "source": [
    "from matplotlib.pyplot import *\n",
    "import mtgplot as mp"
   ]
  },
  {
   "cell_type": "code",
   "execution_count": 4,
   "metadata": {
    "ExecuteTime": {
     "end_time": "2023-01-11T05:12:51.515002Z",
     "start_time": "2023-01-11T05:12:44.256213Z"
    }
   },
   "outputs": [
    {
     "data": {
      "application/vnd.jupyter.widget-view+json": {
       "model_id": "e46e8bfd4b6c4a279262dcf720666959",
       "version_major": 2,
       "version_minor": 0
      },
      "text/plain": [
       "SceneWidget(scenes=[{'id': 'ynoUVwovtb4DPqo64Cao1VMed', 'data': b'x\\xda\\xcc\\xbd\\x07X\\x14I\\xbb\\xf7\\x8d(\\x06\\xcc…"
      ]
     },
     "execution_count": 4,
     "metadata": {},
     "output_type": "execute_result"
    }
   ],
   "source": [
    "#initrepr = mp.representation(g, wood = True, leaves=True, gc=False)\n",
    "#initrepr.save('initialtree.bgeom')\n",
    "sw = mp.plot_tree(g, leaves=True)\n",
    "sw"
   ]
  },
  {
   "cell_type": "markdown",
   "metadata": {},
   "source": [
    "\n",
    "# Pruning"
   ]
  },
  {
   "cell_type": "code",
   "execution_count": 3,
   "metadata": {
    "ExecuteTime": {
     "end_time": "2023-01-13T09:47:36.413976Z",
     "start_time": "2023-01-13T09:47:36.409081Z"
    }
   },
   "outputs": [],
   "source": [
    "import pruning ; reload(pruning)\n",
    "from pruning import *"
   ]
  },
  {
   "cell_type": "code",
   "execution_count": 4,
   "metadata": {
    "ExecuteTime": {
     "end_time": "2023-01-13T09:47:38.111560Z",
     "start_time": "2023-01-13T09:47:37.664822Z"
    }
   },
   "outputs": [],
   "source": [
    "prunedmtg = prune(g, 180)"
   ]
  },
  {
   "cell_type": "code",
   "execution_count": 5,
   "metadata": {
    "ExecuteTime": {
     "end_time": "2023-01-13T09:47:38.581194Z",
     "start_time": "2023-01-13T09:47:38.575782Z"
    }
   },
   "outputs": [
    {
     "name": "stdout",
     "output_type": "stream",
     "text": [
      "0.575409156063304 T3\n"
     ]
    }
   ],
   "source": [
    "intensity = continuous_intensity_from_pruned(prunedmtg)\n",
    "print(intensity, intensity_level(intensity))"
   ]
  },
  {
   "cell_type": "code",
   "execution_count": 6,
   "metadata": {
    "ExecuteTime": {
     "end_time": "2023-01-13T09:47:43.336461Z",
     "start_time": "2023-01-13T09:47:40.244585Z"
    }
   },
   "outputs": [],
   "source": [
    "prunedrepr = mp.representation(prunedmtg, wood = False, leaves=True)"
   ]
  },
  {
   "cell_type": "markdown",
   "metadata": {
    "ExecuteTime": {
     "end_time": "2023-01-10T08:16:03.362387Z",
     "start_time": "2023-01-10T08:16:03.359581Z"
    }
   },
   "source": [
    "# Mortality post pruning"
   ]
  },
  {
   "cell_type": "code",
   "execution_count": 10,
   "metadata": {
    "ExecuteTime": {
     "end_time": "2023-01-13T09:49:40.786800Z",
     "start_time": "2023-01-13T09:49:40.779240Z"
    }
   },
   "outputs": [],
   "source": [
    "import lightestimation; reload(lightestimation)\n",
    "from lightestimation import *"
   ]
  },
  {
   "cell_type": "code",
   "execution_count": 14,
   "metadata": {
    "ExecuteTime": {
     "end_time": "2023-01-13T05:49:46.795171Z",
     "start_time": "2023-01-13T05:47:44.186222Z"
    }
   },
   "outputs": [],
   "source": [
    "Zeta_min = light_variables_mortality(prunedrepr)"
   ]
  },
  {
   "cell_type": "code",
   "execution_count": 41,
   "metadata": {
    "ExecuteTime": {
     "end_time": "2023-01-11T05:31:47.326119Z",
     "start_time": "2023-01-11T05:31:47.107059Z"
    }
   },
   "outputs": [
    {
     "data": {
      "text/plain": [
       "<AxesSubplot:>"
      ]
     },
     "execution_count": 41,
     "metadata": {},
     "output_type": "execute_result"
    },
    {
     "data": {
      "image/png": "[encoded data removed]",
      "text/plain": [
       "<Figure size 640x480 with 1 Axes>"
      ]
     },
     "metadata": {},
     "output_type": "display_data"
    }
   ],
   "source": [
    "Zeta_min.hist()"
   ]
  },
  {
   "cell_type": "code",
   "execution_count": 42,
   "metadata": {
    "ExecuteTime": {
     "end_time": "2023-01-11T05:31:47.334225Z",
     "start_time": "2023-01-11T05:31:47.330118Z"
    }
   },
   "outputs": [],
   "source": [
    "#mp.plot_projection(prunedrepr, Zeta_min)"
   ]
  },
  {
   "cell_type": "code",
   "execution_count": 15,
   "metadata": {
    "ExecuteTime": {
     "end_time": "2023-01-13T05:49:46.810796Z",
     "start_time": "2023-01-13T05:49:46.798157Z"
    }
   },
   "outputs": [],
   "source": [
    "import mortality ; reload(mortality)\n",
    "from mortality import gu_mortalities_post_pruning"
   ]
  },
  {
   "cell_type": "code",
   "execution_count": 16,
   "metadata": {
    "ExecuteTime": {
     "end_time": "2023-01-13T05:49:47.250026Z",
     "start_time": "2023-01-13T05:49:46.813764Z"
    }
   },
   "outputs": [
    {
     "name": "stdout",
     "output_type": "stream",
     "text": [
      "Should examine 2456  GUs.\n"
     ]
    }
   ],
   "source": [
    "postpruningmtg, removed = gu_mortalities_post_pruning(prunedmtg, Zeta_min, intensity)"
   ]
  },
  {
   "cell_type": "markdown",
   "metadata": {},
   "source": [
    "# Regrowth"
   ]
  },
  {
   "cell_type": "code",
   "execution_count": 17,
   "metadata": {
    "ExecuteTime": {
     "end_time": "2023-01-13T05:49:51.039701Z",
     "start_time": "2023-01-13T05:49:47.253819Z"
    }
   },
   "outputs": [],
   "source": [
    "postpruningrepr = mp.representation(postpruningmtg, wood = False, leaves=True)"
   ]
  },
  {
   "cell_type": "code",
   "execution_count": 18,
   "metadata": {
    "ExecuteTime": {
     "end_time": "2023-01-13T05:52:04.594927Z",
     "start_time": "2023-01-13T05:49:51.043735Z"
    }
   },
   "outputs": [],
   "source": [
    "TrPPFD_mean, TrPPFD_min, Zeta_mean, Zeta_8H = light_variables_regrowth(postpruningrepr)"
   ]
  },
  {
   "cell_type": "code",
   "execution_count": 19,
   "metadata": {
    "ExecuteTime": {
     "end_time": "2023-01-13T05:52:04.609959Z",
     "start_time": "2023-01-13T05:52:04.597209Z"
    }
   },
   "outputs": [],
   "source": [
    "import regrowth_base; reload(regrowth_base)\n",
    "from regrowth_base import plot_growth\n",
    "import regrowth; reload(regrowth)\n",
    "from regrowth import *"
   ]
  },
  {
   "cell_type": "code",
   "execution_count": 20,
   "metadata": {
    "ExecuteTime": {
     "end_time": "2023-01-13T05:52:05.417451Z",
     "start_time": "2023-01-13T05:52:04.613773Z"
    }
   },
   "outputs": [
    {
     "name": "stdout",
     "output_type": "stream",
     "text": [
      "Should examine 2269 terminal GUs.\n",
      "Processed 318 pruned terminal GU and 1907 unpruned terminal GU and  44 ignored.\n",
      "Created 3876 new GUs\n"
     ]
    }
   ],
   "source": [
    "regrowth, newids = growth(postpruningmtg, TrPPFD_mean, TrPPFD_min, Zeta_mean, Zeta_8H, intensity)\n",
    "print('Created', len(newids), 'new GUs')\n"
   ]
  },
  {
   "cell_type": "code",
   "execution_count": 49,
   "metadata": {
    "ExecuteTime": {
     "end_time": "2023-01-11T05:33:57.322077Z",
     "start_time": "2023-01-11T05:33:57.319501Z"
    }
   },
   "outputs": [],
   "source": [
    "#plot_growth(regrowth, leaves=True, gc=True)"
   ]
  },
  {
   "cell_type": "code",
   "execution_count": 21,
   "metadata": {
    "ExecuteTime": {
     "end_time": "2023-01-13T05:52:05.424838Z",
     "start_time": "2023-01-13T05:52:05.419681Z"
    }
   },
   "outputs": [],
   "source": [
    "def date_histo(g):\n",
    "    from matplotlib.pyplot import hist, show\n",
    "    from collections import Counter\n",
    "    from datetime import timedelta\n",
    "    c = list(Counter(g.property('BurstDate').values()).items())\n",
    "    c.sort(key = lambda v : v[0])\n",
    "    mindate = c[0][0]\n",
    "    maxdate = c[-1][0]\n",
    "    c = dict(c)\n",
    "    r = range(0,(maxdate-mindate).days)\n",
    "    d = [mindate+timedelta(days=d) for d in r]\n",
    "    v = [ c.get(di,0) for di in d]\n",
    "    bar(r,v)\n",
    "    xticks(r,d, rotation=90)\n",
    "    show()"
   ]
  },
  {
   "cell_type": "code",
   "execution_count": 22,
   "metadata": {
    "ExecuteTime": {
     "end_time": "2023-01-13T05:52:05.818453Z",
     "start_time": "2023-01-13T05:52:05.427455Z"
    }
   },
   "outputs": [
    {
     "data": {
      "image/png": "[encoded data removed]",
      "text/plain": [
       "<Figure size 640x480 with 1 Axes>"
      ]
     },
     "metadata": {},
     "output_type": "display_data"
    }
   ],
   "source": [
    "date_histo(regrowth)"
   ]
  },
  {
   "cell_type": "code",
   "execution_count": 52,
   "metadata": {
    "ExecuteTime": {
     "end_time": "2023-01-11T05:33:57.694120Z",
     "start_time": "2023-01-11T05:33:57.690972Z"
    }
   },
   "outputs": [],
   "source": [
    "#plot_growth_dynamic(regrowth)"
   ]
  },
  {
   "cell_type": "code",
   "execution_count": 53,
   "metadata": {
    "ExecuteTime": {
     "end_time": "2023-01-11T05:33:57.704963Z",
     "start_time": "2023-01-11T05:33:57.697019Z"
    }
   },
   "outputs": [],
   "source": [
    "def nb_children_histo(g):\n",
    "    def severity(vid):\n",
    "        return g.property('pruned').get(vid,0)\n",
    "\n",
    "    ancestors = [get_parent(g,vid) if vid in g.property('BurstDate') else vid for vid in get_all_terminal_gus(g) ]\n",
    "    ancestors = set(ancestors)\n",
    "    \n",
    "    values = [[] for i in range(4)]\n",
    "    for vid in ancestors:\n",
    "        values[severity(vid)].append(g.nb_children(vid))\n",
    "    figure(figsize=(18,4))\n",
    "    for order, v in enumerate(values):\n",
    "        if len(v) > 0:\n",
    "            subplot(220+order+1)\n",
    "            hist(v, bins=np.arange(0,max(1,max(v)))-0.5)\n",
    "            print(len(v),(np.mean(v), np.std(v)),(np.mean([vi for vi in v if vi > 0]), np.std([vi for vi in v if vi > 0])),(np.min(v), np.max(v)))\n",
    "    show()\n",
    "    "
   ]
  },
  {
   "cell_type": "code",
   "execution_count": 54,
   "metadata": {
    "ExecuteTime": {
     "end_time": "2023-01-11T05:33:58.137112Z",
     "start_time": "2023-01-11T05:33:57.707481Z"
    }
   },
   "outputs": [
    {
     "name": "stdout",
     "output_type": "stream",
     "text": [
      "1926 (1.3769470404984423, 1.6723169718413071) (2.439742410303588, 1.5369724741417603) (0, 10)\n",
      "117 (3.5641025641025643, 2.5365182927212775) (4.298969072164948, 2.145073225643676) (0, 10)\n",
      "94 (3.148936170212766, 2.709154876499668) (4.2898550724637685, 2.259289674669557) (0, 11)\n",
      "94 (3.404255319148936, 2.663061543764237) (4.266666666666667, 2.282299035816492) (0, 9)\n"
     ]
    },
    {
     "data": {
      "image/png": "[encoded data removed]",
      "text/plain": [
       "<Figure size 1800x400 with 4 Axes>"
      ]
     },
     "metadata": {},
     "output_type": "display_data"
    }
   ],
   "source": [
    "nb_children_histo(regrowth)"
   ]
  },
  {
   "cell_type": "markdown",
   "metadata": {},
   "source": [
    "Les **longueurs d'UCs générées** suivent la loi normale du modèle précédent. A corriger avec données 2017"
   ]
  },
  {
   "cell_type": "markdown",
   "metadata": {},
   "source": [
    "## Gap fraction"
   ]
  },
  {
   "cell_type": "code",
   "execution_count": 23,
   "metadata": {
    "ExecuteTime": {
     "end_time": "2023-01-13T05:52:05.829496Z",
     "start_time": "2023-01-13T05:52:05.820788Z"
    }
   },
   "outputs": [],
   "source": [
    "import gapfraction ; reload(gapfraction)\n",
    "from gapfraction import gapfraction_dynamic, gap_fraction, pgl_gapfraction_dynamic"
   ]
  },
  {
   "cell_type": "code",
   "execution_count": 24,
   "metadata": {
    "ExecuteTime": {
     "end_time": "2023-01-13T05:54:00.340771Z",
     "start_time": "2023-01-13T05:52:05.831865Z"
    }
   },
   "outputs": [
    {
     "name": "stderr",
     "output_type": "stream",
     "text": [
      "/Users/fboudon/Develop/oagit/virtualpruning/notebooks/mtgplot.py:256: FutureWarning: Comparison of Timestamp with datetime.date is deprecated in order to match the standard library behavior. In a future version these will be considered non-comparable. Use 'ts == pd.Timestamp(date)' or 'ts.date() == date' instead.\n",
      "  if burstdate and burstdate > todate: return\n"
     ]
    },
    {
     "name": "stdout",
     "output_type": "stream",
     "text": [
      "[(None, 0.27418468959698156), (datetime.date(2021, 3, 10), 0.27416876945242663), (datetime.date(2021, 3, 12), 0.2737548456939989), (datetime.date(2021, 3, 13), 0.2723697931177215), (datetime.date(2021, 3, 14), 0.2680554339433402), (datetime.date(2021, 3, 15), 0.25890931089654295), (datetime.date(2021, 3, 16), 0.24544086860308692), (datetime.date(2021, 3, 17), 0.2297674862887755), (datetime.date(2021, 3, 18), 0.21342545790315776), (datetime.date(2021, 3, 19), 0.18784974567569074), (datetime.date(2021, 3, 20), 0.17190572090394582), (datetime.date(2021, 3, 21), 0.15560349287971534), (datetime.date(2021, 3, 22), 0.14613100686954236), (datetime.date(2021, 3, 23), 0.14253305420013213), (datetime.date(2021, 3, 24), 0.13775701083365838), (datetime.date(2021, 3, 25), 0.1367301615098665), (datetime.date(2021, 3, 26), 0.13536898915042148), (datetime.date(2021, 3, 27), 0.13535306900586658), (datetime.date(2021, 3, 28), 0.13466054271772787), (datetime.date(2021, 4, 4), 0.13446154091079146), (datetime.date(2021, 4, 5), 0.13442970062168164)]\n"
     ]
    }
   ],
   "source": [
    "gft = pgl_gapfraction_dynamic(regrowth)"
   ]
  },
  {
   "cell_type": "code",
   "execution_count": 25,
   "metadata": {
    "ExecuteTime": {
     "end_time": "2023-01-13T05:54:00.345872Z",
     "start_time": "2023-01-13T05:54:00.343024Z"
    }
   },
   "outputs": [],
   "source": [
    "gft = gft[1:]"
   ]
  },
  {
   "cell_type": "code",
   "execution_count": 26,
   "metadata": {
    "ExecuteTime": {
     "end_time": "2023-01-13T05:54:10.955527Z",
     "start_time": "2023-01-13T05:54:00.348148Z"
    }
   },
   "outputs": [],
   "source": [
    "pruningdate = date(2021,2,24)\n",
    "gf0 = gap_fraction(g)"
   ]
  },
  {
   "cell_type": "code",
   "execution_count": 29,
   "metadata": {
    "ExecuteTime": {
     "end_time": "2023-01-13T05:54:25.006886Z",
     "start_time": "2023-01-13T05:54:24.876534Z"
    }
   },
   "outputs": [
    {
     "data": {
      "image/png": "[encoded data removed]",
      "text/plain": [
       "<Figure size 640x480 with 1 Axes>"
      ]
     },
     "metadata": {},
     "output_type": "display_data"
    }
   ],
   "source": [
    "from matplotlib.pyplot import *\n",
    "plot([pruningdate,pruningdate]+[d for d,g in gft],[gf0,gft[0][1]]+[g for d,g in gft])\n",
    "hlines(gf0,pruningdate,gft[-1][0],color='r')\n",
    "ylim(0,0.5)\n",
    "xticks(rotation = 80)\n",
    "show()"
   ]
  },
  {
   "cell_type": "markdown",
   "metadata": {},
   "source": [
    "# leaf area produced at the tree scale vs. leaf area removed by pruning"
   ]
  },
  {
   "cell_type": "code",
   "execution_count": 99,
   "metadata": {
    "ExecuteTime": {
     "end_time": "2023-01-11T11:30:35.249042Z",
     "start_time": "2023-01-11T11:30:35.245850Z"
    }
   },
   "outputs": [],
   "source": [
    "def leaf_area_produced(mtg,newids):\n",
    "    newids = growth(t3, listidprunedT3, T3)\n",
    "    totalleafarea = sum([individual_leafarea_unpruned() for vid in newids])\n",
    "    growth(t3, listidprunedT3, T3)\n",
    "    return totalleafarea"
   ]
  },
  {
   "cell_type": "markdown",
   "metadata": {},
   "source": [
    "# améliorations possibles du modèle"
   ]
  },
  {
   "cell_type": "code",
   "execution_count": 60,
   "metadata": {
    "ExecuteTime": {
     "end_time": "2023-01-11T05:38:51.089928Z",
     "start_time": "2023-01-11T05:38:51.081017Z"
    }
   },
   "outputs": [],
   "source": [
    "def simulation(mtg, nbcuts, gumortality = True):\n",
    "    from allometry import gu_leaf_area\n",
    "    # characterize before pruning\n",
    "    # nb of terminal units\n",
    "    nbterminalunits = len(get_all_terminal_gus(mtg))\n",
    "\n",
    "    # determine pruning\n",
    "    listidpruned = define_pruning(mtg, nbcuts, None)\n",
    "    #pruningprop = tag_pruning(mtg, listidpruned)\n",
    "\n",
    "    # characterize pruning\n",
    "    # - intensity\n",
    "    intensity = continuous_intensity(g,listidpruned)\n",
    "    ilevel = intensity_level(intensity)\n",
    "    if intensity == T2:\n",
    "        raise ValueError('Intensity', ilevel, intensity)\n",
    "        \n",
    "    #  - nb of terminal units\n",
    "    nbremovedGU = sum([sum([len(get_descendants_gus_from_ancestor(mtg, vid))-1 for vid in pruneds]) for order, pruneds in listidpruned.items()])\n",
    "    \n",
    "    # - surface foliaire retire \n",
    "    removed_leaf_area = sum([sum([gu_leaf_area(get_gu_diameter(mtg, vid)) for vid in pruneds]) for order, pruneds in listidpruned.items()])\n",
    "    \n",
    "    # apply pruning\n",
    "    prunedmtg = apply_pruning(mtg, listidpruned)\n",
    "    \n",
    "    if gumortality:\n",
    "        prunedrepr = mp.representation(prunedmtg, wood = False, leaves=True)\n",
    "        Zeta_min = light_variables_mortality(prunedrepr)\n",
    "    \n",
    "        postpruningmtg, removed = gu_mortalities_post_pruning(prunedmtg, Zeta_min, intensity)\n",
    "        postpruningrepr = mp.representation(postpruningmtg, wood = False, leaves=True)\n",
    "    else:\n",
    "        postpruningmtg = prunedmtg\n",
    "        postpruningrepr = mp.representation(postpruningmtg, wood = False, leaves=True)\n",
    "        \n",
    "    \n",
    "    TrPPFD_mean, TrPPFD_min, Zeta_mean, Zeta_8H = light_variables_regrowth(postpruningrepr)\n",
    "\n",
    "    \n",
    "    # apply growth    \n",
    "    growthmtg, newGUs = growth(postpruningmtg, TrPPFD_mean, TrPPFD_min, Zeta_mean, Zeta_8H, intensity, mortalityenabled=gumortality)\n",
    "\n",
    "\n",
    "    # characterize pruning\n",
    "    # nb of terminal units\n",
    "\n",
    "    allpruned = set(listidpruned.keys())\n",
    "\n",
    "    # characterize growth\n",
    "    nbgeneratedGU = len(newGUs)\n",
    "    generated_leaf_area_pruned = sum([la for vid,la in growthmtg.property('RegeneratedLeafArea').items() if vid in allpruned])\n",
    "    generated_leaf_area_unpruned = sum([la for vid,la in growthmtg.property('RegeneratedLeafArea').items() if not (vid in allpruned)])\n",
    "    \n",
    "    return (nbterminalunits, nbremovedGU, nbgeneratedGU), (removed_leaf_area, generated_leaf_area_pruned, generated_leaf_area_unpruned)\n",
    "    "
   ]
  },
  {
   "cell_type": "code",
   "execution_count": 61,
   "metadata": {
    "ExecuteTime": {
     "end_time": "2023-01-11T05:45:06.572533Z",
     "start_time": "2023-01-11T05:38:51.092094Z"
    }
   },
   "outputs": [
    {
     "name": "stdout",
     "output_type": "stream",
     "text": [
      "Should examine 3228  GUs.\n",
      "Should examine 3164 terminal GUs.\n",
      "Processed 0 pruned terminal GU and 3124 unpruned terminal GU and  40 ignored.\n",
      "(3228, 0, 213) (0, 0, 470.8346948752503)\n"
     ]
    }
   ],
   "source": [
    "units0, la0 = simulation(g, 0)\n",
    "print(units0, la0)"
   ]
  },
  {
   "cell_type": "code",
   "execution_count": 62,
   "metadata": {
    "ExecuteTime": {
     "end_time": "2023-01-11T05:52:00.304554Z",
     "start_time": "2023-01-11T05:45:06.574708Z"
    }
   },
   "outputs": [
    {
     "name": "stdout",
     "output_type": "stream",
     "text": [
      "Should examine 3164  GUs.\n",
      "Should examine 3101 terminal GUs.\n",
      "Processed 35 pruned terminal GU and 3028 unpruned terminal GU and  38 ignored.\n",
      "(3228, 168, 322) (460.3422957888761, 0, 746.7597143782373)\n"
     ]
    }
   ],
   "source": [
    "units20, la20 = simulation(g, 15)\n",
    "print(units20, la20)"
   ]
  },
  {
   "cell_type": "code",
   "execution_count": 63,
   "metadata": {
    "ExecuteTime": {
     "end_time": "2023-01-11T05:57:53.051021Z",
     "start_time": "2023-01-11T05:52:00.306695Z"
    }
   },
   "outputs": [
    {
     "name": "stdout",
     "output_type": "stream",
     "text": [
      "Should examine 2988  GUs.\n",
      "Should examine 2914 terminal GUs.\n",
      "Processed 134 pruned terminal GU and 2738 unpruned terminal GU and  42 ignored.\n",
      "(3228, 664, 752) (1879.7117683569259, 0, 1630.335020955322)\n"
     ]
    }
   ],
   "source": [
    "units60, la60 = simulation(g, 60)\n",
    "print(units60, la60)"
   ]
  },
  {
   "cell_type": "code",
   "execution_count": 64,
   "metadata": {
    "ExecuteTime": {
     "end_time": "2023-01-11T05:57:53.061846Z",
     "start_time": "2023-01-11T05:57:53.058923Z"
    }
   },
   "outputs": [],
   "source": [
    "#units0060, la0060 = pipeline(g, (0,30,76))\n",
    "#print(units0060, la0060)"
   ]
  },
  {
   "cell_type": "code",
   "execution_count": 65,
   "metadata": {
    "ExecuteTime": {
     "end_time": "2023-01-11T05:57:53.073688Z",
     "start_time": "2023-01-11T05:57:53.065345Z"
    }
   },
   "outputs": [
    {
     "name": "stdout",
     "output_type": "stream",
     "text": [
      "0\n",
      "-460.3422957888761\n",
      "-1879.7117683569259\n"
     ]
    }
   ],
   "source": [
    "print(la0[1]-la0[0])\n",
    "print(la20[1]-la20[0])\n",
    "print(la60[1]-la60[0])\n"
   ]
  },
  {
   "cell_type": "code",
   "execution_count": 66,
   "metadata": {
    "ExecuteTime": {
     "end_time": "2023-01-11T05:57:53.102715Z",
     "start_time": "2023-01-11T05:57:53.088167Z"
    }
   },
   "outputs": [],
   "source": [
    "def process_range(mtg, cutrange = (0,20), cuttype = (1,1,1), nbtests = 1):\n",
    "    if type(cutrange) == int:\n",
    "        cutrange = (0, cutrange)\n",
    "    import numpy as np\n",
    "    gla = []\n",
    "    gunits = [] \n",
    "    cuts = []\n",
    "    for c in range(*cutrange):\n",
    "        for i in range(nbtests):\n",
    "            print('process',c,'-',i)\n",
    "            try:\n",
    "                units, la = simulation(mtg, [c*i for i in cuttype])\n",
    "            except ValueError as e:\n",
    "                print(e)\n",
    "                continue\n",
    "            gla.append(la)\n",
    "            gunits.append(units)\n",
    "            cuts.append(c)\n",
    "    gla = np.array(gla)\n",
    "    gunits = np.array(gunits)\n",
    "    return cuts, gla, gunits\n",
    "    "
   ]
  },
  {
   "cell_type": "code",
   "execution_count": 67,
   "metadata": {
    "ExecuteTime": {
     "end_time": "2023-01-11T07:32:15.580258Z",
     "start_time": "2023-01-11T05:57:53.105507Z"
    }
   },
   "outputs": [
    {
     "name": "stdout",
     "output_type": "stream",
     "text": [
      "process 0 - 0\n",
      "Should examine 3228  GUs.\n",
      "Should examine 3174 terminal GUs.\n",
      "Processed 0 pruned terminal GU and 3134 unpruned terminal GU and  40 ignored.\n",
      "process 5 - 0\n",
      "Should examine 3216  GUs.\n",
      "Should examine 3165 terminal GUs.\n",
      "Processed 13 pruned terminal GU and 3112 unpruned terminal GU and  40 ignored.\n",
      "process 10 - 0\n",
      "Should examine 3175  GUs.\n",
      "Should examine 3124 terminal GUs.\n",
      "Processed 23 pruned terminal GU and 3059 unpruned terminal GU and  42 ignored.\n",
      "process 15 - 0\n",
      "Should examine 3182  GUs.\n",
      "Should examine 3128 terminal GUs.\n",
      "Processed 31 pruned terminal GU and 3056 unpruned terminal GU and  41 ignored.\n",
      "process 20 - 0\n",
      "Should examine 3133  GUs.\n",
      "Should examine 3087 terminal GUs.\n",
      "Processed 43 pruned terminal GU and 3003 unpruned terminal GU and  41 ignored.\n",
      "process 25 - 0\n",
      "Should examine 3094  GUs.\n",
      "Should examine 3032 terminal GUs.\n",
      "0.09377509473320292 3.2 nan\n",
      "lam < 0 or lam is NaN\n",
      "process 30 - 0\n",
      "Should examine 3098  GUs.\n",
      "Should examine 3041 terminal GUs.\n",
      "Processed 67 pruned terminal GU and 2933 unpruned terminal GU and  41 ignored.\n",
      "process 35 - 0\n",
      "Should examine 3080  GUs.\n",
      "Should examine 3015 terminal GUs.\n",
      "Processed 73 pruned terminal GU and 2905 unpruned terminal GU and  37 ignored.\n",
      "process 40 - 0\n",
      "Should examine 3050  GUs.\n",
      "Should examine 2970 terminal GUs.\n",
      "Processed 83 pruned terminal GU and 2845 unpruned terminal GU and  42 ignored.\n",
      "process 45 - 0\n",
      "Should examine 3056  GUs.\n",
      "Should examine 2989 terminal GUs.\n",
      "Processed 93 pruned terminal GU and 2857 unpruned terminal GU and  39 ignored.\n",
      "process 50 - 0\n",
      "Should examine 3010  GUs.\n",
      "Should examine 2921 terminal GUs.\n",
      "Processed 115 pruned terminal GU and 2768 unpruned terminal GU and  38 ignored.\n",
      "process 55 - 0\n",
      "Should examine 3002  GUs.\n",
      "Should examine 2919 terminal GUs.\n",
      "Processed 118 pruned terminal GU and 2768 unpruned terminal GU and  33 ignored.\n",
      "process 60 - 0\n",
      "Should examine 2905  GUs.\n",
      "Should examine 2833 terminal GUs.\n"
     ]
    },
    {
     "ename": "KeyError",
     "evalue": "'T2'",
     "output_type": "error",
     "traceback": [
      "\u001b[0;31m---------------------------------------------------------------------------\u001b[0m",
      "\u001b[0;31mKeyError\u001b[0m                                  Traceback (most recent call last)",
      "Input \u001b[0;32mIn [67]\u001b[0m, in \u001b[0;36m<cell line: 1>\u001b[0;34m()\u001b[0m\n\u001b[0;32m----> 1\u001b[0m cuts76, las76, units76 \u001b[38;5;241m=\u001b[39m \u001b[43mprocess_range\u001b[49m\u001b[43m(\u001b[49m\u001b[43mg\u001b[49m\u001b[43m,\u001b[49m\u001b[43m(\u001b[49m\u001b[38;5;241;43m0\u001b[39;49m\u001b[43m,\u001b[49m\u001b[38;5;241;43m180\u001b[39;49m\u001b[43m,\u001b[49m\u001b[38;5;241;43m5\u001b[39;49m\u001b[43m)\u001b[49m\u001b[43m,\u001b[49m\u001b[43m \u001b[49m\u001b[43mnbtests\u001b[49m\u001b[43m \u001b[49m\u001b[38;5;241;43m=\u001b[39;49m\u001b[43m \u001b[49m\u001b[38;5;241;43m1\u001b[39;49m\u001b[43m)\u001b[49m\n",
      "Input \u001b[0;32mIn [66]\u001b[0m, in \u001b[0;36mprocess_range\u001b[0;34m(mtg, cutrange, cuttype, nbtests)\u001b[0m\n\u001b[1;32m     10\u001b[0m \u001b[38;5;28mprint\u001b[39m(\u001b[38;5;124m'\u001b[39m\u001b[38;5;124mprocess\u001b[39m\u001b[38;5;124m'\u001b[39m,c,\u001b[38;5;124m'\u001b[39m\u001b[38;5;124m-\u001b[39m\u001b[38;5;124m'\u001b[39m,i)\n\u001b[1;32m     11\u001b[0m \u001b[38;5;28;01mtry\u001b[39;00m:\n\u001b[0;32m---> 12\u001b[0m     units, la \u001b[38;5;241m=\u001b[39m \u001b[43msimulation\u001b[49m\u001b[43m(\u001b[49m\u001b[43mmtg\u001b[49m\u001b[43m,\u001b[49m\u001b[43m \u001b[49m\u001b[43m[\u001b[49m\u001b[43mc\u001b[49m\u001b[38;5;241;43m*\u001b[39;49m\u001b[43mi\u001b[49m\u001b[43m \u001b[49m\u001b[38;5;28;43;01mfor\u001b[39;49;00m\u001b[43m \u001b[49m\u001b[43mi\u001b[49m\u001b[43m \u001b[49m\u001b[38;5;129;43;01min\u001b[39;49;00m\u001b[43m \u001b[49m\u001b[43mcuttype\u001b[49m\u001b[43m]\u001b[49m\u001b[43m)\u001b[49m\n\u001b[1;32m     13\u001b[0m \u001b[38;5;28;01mexcept\u001b[39;00m \u001b[38;5;167;01mValueError\u001b[39;00m \u001b[38;5;28;01mas\u001b[39;00m e:\n\u001b[1;32m     14\u001b[0m     \u001b[38;5;28mprint\u001b[39m(e)\n",
      "Input \u001b[0;32mIn [60]\u001b[0m, in \u001b[0;36msimulation\u001b[0;34m(mtg, nbcuts, gumortality)\u001b[0m\n\u001b[1;32m     38\u001b[0m TrPPFD_mean, TrPPFD_min, Zeta_mean, Zeta_8H \u001b[38;5;241m=\u001b[39m light_variables_regrowth(postpruningrepr)\n\u001b[1;32m     41\u001b[0m \u001b[38;5;66;03m# apply growth    \u001b[39;00m\n\u001b[0;32m---> 42\u001b[0m growthmtg, newGUs \u001b[38;5;241m=\u001b[39m \u001b[43mgrowth\u001b[49m\u001b[43m(\u001b[49m\u001b[43mpostpruningmtg\u001b[49m\u001b[43m,\u001b[49m\u001b[43m \u001b[49m\u001b[43mTrPPFD_mean\u001b[49m\u001b[43m,\u001b[49m\u001b[43m \u001b[49m\u001b[43mTrPPFD_min\u001b[49m\u001b[43m,\u001b[49m\u001b[43m \u001b[49m\u001b[43mZeta_mean\u001b[49m\u001b[43m,\u001b[49m\u001b[43m \u001b[49m\u001b[43mZeta_8H\u001b[49m\u001b[43m,\u001b[49m\u001b[43m \u001b[49m\u001b[43mintensity\u001b[49m\u001b[43m,\u001b[49m\u001b[43m \u001b[49m\u001b[43mmortalityenabled\u001b[49m\u001b[38;5;241;43m=\u001b[39;49m\u001b[43mgumortality\u001b[49m\u001b[43m)\u001b[49m\n\u001b[1;32m     45\u001b[0m \u001b[38;5;66;03m# characterize pruning\u001b[39;00m\n\u001b[1;32m     46\u001b[0m \u001b[38;5;66;03m# nb of terminal units\u001b[39;00m\n\u001b[1;32m     48\u001b[0m allpruned \u001b[38;5;241m=\u001b[39m \u001b[38;5;28mset\u001b[39m(listidpruned\u001b[38;5;241m.\u001b[39mkeys())\n",
      "File \u001b[0;32m~/Develop/oagit/virtualpruning/notebooks/regrowth_MAJ.py:143\u001b[0m, in \u001b[0;36mgrowth\u001b[0;34m(mtg, TrPPFD_mean, TrPPFD_min, Zeta_mean, Zeta_8H, intensity, pruningdate, maxdiamunpruned, mortalityenabled)\u001b[0m\n\u001b[1;32m    141\u001b[0m \u001b[38;5;28;01mfor\u001b[39;00m vid \u001b[38;5;129;01min\u001b[39;00m terminals:\n\u001b[1;32m    142\u001b[0m     \u001b[38;5;28;01mif\u001b[39;00m vid \u001b[38;5;129;01min\u001b[39;00m pruned:\n\u001b[0;32m--> 143\u001b[0m         lnewids \u001b[38;5;241m=\u001b[39m \u001b[43mgrowth_pruned_gu\u001b[49m\u001b[43m(\u001b[49m\u001b[43mnewmtg\u001b[49m\u001b[43m,\u001b[49m\u001b[43m \u001b[49m\u001b[43mvid\u001b[49m\u001b[43m,\u001b[49m\u001b[43m \u001b[49m\n\u001b[1;32m    144\u001b[0m \u001b[43m                                   \u001b[49m\u001b[43mintensity\u001b[49m\u001b[43m,\u001b[49m\u001b[43m \u001b[49m\n\u001b[1;32m    145\u001b[0m \u001b[43m                                   \u001b[49m\u001b[43mTrPPFD_mean\u001b[49m\u001b[38;5;241;43m.\u001b[39;49m\u001b[43mget\u001b[49m\u001b[43m(\u001b[49m\u001b[43mvid\u001b[49m\u001b[43m,\u001b[49m\u001b[38;5;241;43m0\u001b[39;49m\u001b[43m)\u001b[49m\u001b[43m,\u001b[49m\u001b[43m \u001b[49m\n\u001b[1;32m    146\u001b[0m \u001b[43m                                   \u001b[49m\u001b[43mTrPPFD_min\u001b[49m\u001b[38;5;241;43m.\u001b[39;49m\u001b[43mget\u001b[49m\u001b[43m(\u001b[49m\u001b[43mvid\u001b[49m\u001b[43m,\u001b[49m\u001b[38;5;241;43m0\u001b[39;49m\u001b[43m)\u001b[49m\u001b[43m,\u001b[49m\n\u001b[1;32m    147\u001b[0m \u001b[43m                                   \u001b[49m\u001b[43mZeta_8H\u001b[49m\u001b[38;5;241;43m.\u001b[39;49m\u001b[43mget\u001b[49m\u001b[43m(\u001b[49m\u001b[43mvid\u001b[49m\u001b[43m,\u001b[49m\u001b[38;5;241;43m0\u001b[39;49m\u001b[43m)\u001b[49m\u001b[43m,\u001b[49m\u001b[43m \u001b[49m\n\u001b[1;32m    148\u001b[0m \u001b[43m                                   \u001b[49m\u001b[43mpruningdate\u001b[49m\u001b[43m,\u001b[49m\n\u001b[1;32m    149\u001b[0m \u001b[43m                                   \u001b[49m\u001b[43mmortalityenabled\u001b[49m\u001b[38;5;241;43m=\u001b[39;49m\u001b[43mmortalityenabled\u001b[49m\u001b[43m)\u001b[49m\n\u001b[1;32m    150\u001b[0m         nbpruned \u001b[38;5;241m+\u001b[39m\u001b[38;5;241m=\u001b[39m \u001b[38;5;241m1\u001b[39m\n\u001b[1;32m    151\u001b[0m     \u001b[38;5;28;01melif\u001b[39;00m mg\u001b[38;5;241m.\u001b[39mget_gu_diameter(mtg, vid) \u001b[38;5;241m<\u001b[39m\u001b[38;5;241m=\u001b[39m maxdiamunpruned \u001b[38;5;129;01mand\u001b[39;00m \u001b[38;5;129;01mnot\u001b[39;00m \u001b[38;5;124m'\u001b[39m\u001b[38;5;124mA\u001b[39m\u001b[38;5;124m'\u001b[39m \u001b[38;5;129;01min\u001b[39;00m mtg\u001b[38;5;241m.\u001b[39mproperty(\u001b[38;5;124m'\u001b[39m\u001b[38;5;124mTaille\u001b[39m\u001b[38;5;124m'\u001b[39m)\u001b[38;5;241m.\u001b[39mget(vid,\u001b[38;5;124m'\u001b[39m\u001b[38;5;124m'\u001b[39m):\n",
      "File \u001b[0;32m~/Develop/oagit/virtualpruning/notebooks/regrowth_MAJ.py:101\u001b[0m, in \u001b[0;36mgrowth_pruned_gu\u001b[0;34m(mtg, vid, intensity, TrPPFD_mean, TrPPFD_min, Zeta_8H, pruningdate, mortalityenabled)\u001b[0m\n\u001b[1;32m     99\u001b[0m ilevel \u001b[38;5;241m=\u001b[39m intensity_level(intensity)\n\u001b[1;32m    100\u001b[0m totalleafarea \u001b[38;5;241m=\u001b[39m total_leafarea_pruned(diameter)\n\u001b[0;32m--> 101\u001b[0m individualleafarea \u001b[38;5;241m=\u001b[39m \u001b[43mindividual_leafarea_pruned\u001b[49m\u001b[43m(\u001b[49m\u001b[43milevel\u001b[49m\u001b[43m)\u001b[49m\n\u001b[1;32m    102\u001b[0m burstdate \u001b[38;5;241m=\u001b[39m pruningdate \u001b[38;5;241m+\u001b[39m timedelta(days \u001b[38;5;241m=\u001b[39m burstdelay(intensity))\n\u001b[1;32m    103\u001b[0m \u001b[38;5;28;01mreturn\u001b[39;00m create_daughters(mtg, vid, \u001b[38;5;241m0\u001b[39m, nbdaughter, burstdate, totalleafarea, individualleafarea)\n",
      "File \u001b[0;32m~/Develop/oagit/virtualpruning/notebooks/regrowth_base.py:92\u001b[0m, in \u001b[0;36mindividual_leafarea_pruned\u001b[0;34m(intensity)\u001b[0m\n\u001b[1;32m     89\u001b[0m \u001b[38;5;124;03m\"\"\" Individual leaf area of GU borned from a pruned GU in dm2 \"\"\"\u001b[39;00m\n\u001b[1;32m     90\u001b[0m probas \u001b[38;5;241m=\u001b[39m { T1 : (\u001b[38;5;241m47.1\u001b[39m,\u001b[38;5;241m25.9\u001b[39m), \n\u001b[1;32m     91\u001b[0m            T3 : (\u001b[38;5;241m62.3\u001b[39m,\u001b[38;5;241m21.1\u001b[39m) }\n\u001b[0;32m---> 92\u001b[0m probavalue, sd \u001b[38;5;241m=\u001b[39m \u001b[43mprobas\u001b[49m\u001b[43m[\u001b[49m\u001b[43mintensity\u001b[49m\u001b[43m]\u001b[49m\n\u001b[1;32m     93\u001b[0m minval\u001b[38;5;241m=\u001b[39m\u001b[38;5;241m6\u001b[39m \n\u001b[1;32m     94\u001b[0m maxval\u001b[38;5;241m=\u001b[39m\u001b[38;5;241m150\u001b[39m\n",
      "\u001b[0;31mKeyError\u001b[0m: 'T2'"
     ]
    }
   ],
   "source": [
    "cuts76, las76, units76 = process_range(g,(0,180,5), nbtests = 1)\n"
   ]
  },
  {
   "cell_type": "code",
   "execution_count": null,
   "metadata": {
    "ExecuteTime": {
     "end_time": "2023-01-11T07:32:15.582686Z",
     "start_time": "2023-01-11T07:32:15.582670Z"
    }
   },
   "outputs": [],
   "source": [
    "def plot_cutrange(cuts, las, units):\n",
    "    figure(figsize=(12,6))\n",
    "    #subplot(121)\n",
    "    normalproduction = np.mean(las[np.where(np.isin(cuts,[0]))[0],2])\n",
    "    plot(cuts,las[:,0],'.',label='removed leaf area')\n",
    "    plot(cuts,las[:,1],'.',label='generated leaf area from pruned GU')\n",
    "    plot(cuts,las[:,2],'.',label='generated leaf area from unpruned GU')\n",
    "    plot(cuts,las[:,1]+las[:,2],'.',label='generated leaf area')\n",
    "    plot(cuts,(las[:,1]+las[:,2])-(las[:,0]+normalproduction),'.',label='increase of leaf area (compared to To)')\n",
    "    legend()\n",
    "    show()\n",
    "    figure(figsize=(12,6))\n",
    "    #subplot(122)\n",
    "    plot(cuts,units[:,0],'.',label='nb terminal units')\n",
    "    plot(cuts,units[:,1],'.',label='nb removed GU')\n",
    "    plot(cuts,units[:,2],'.',label='nb generated GU')\n",
    "    legend()\n",
    "    show()\n"
   ]
  },
  {
   "cell_type": "code",
   "execution_count": null,
   "metadata": {
    "ExecuteTime": {
     "end_time": "2023-01-11T07:32:15.584541Z",
     "start_time": "2023-01-11T07:32:15.584522Z"
    }
   },
   "outputs": [],
   "source": [
    "plot_cutrange(cuts76, las76, units76)\n"
   ]
  },
  {
   "cell_type": "code",
   "execution_count": null,
   "metadata": {
    "ExecuteTime": {
     "end_time": "2023-01-11T07:32:15.586060Z",
     "start_time": "2023-01-11T07:32:15.586041Z"
    }
   },
   "outputs": [],
   "source": [
    "\n",
    "cuts, las, units = process_range(g,(0,300,5), cuttype = (1,0,0), nbtests = 1)"
   ]
  },
  {
   "cell_type": "code",
   "execution_count": null,
   "metadata": {
    "ExecuteTime": {
     "end_time": "2023-01-11T07:32:15.587691Z",
     "start_time": "2023-01-11T07:32:15.587675Z"
    }
   },
   "outputs": [],
   "source": [
    "plot_cutrange(cuts, las, units)"
   ]
  },
  {
   "cell_type": "code",
   "execution_count": null,
   "metadata": {
    "ExecuteTime": {
     "end_time": "2023-01-11T07:32:15.589332Z",
     "start_time": "2023-01-11T07:32:15.589316Z"
    }
   },
   "outputs": [],
   "source": [
    "cuts, las, units = process_range(g,(0,300,5), cuttype = (0,1,0), nbtests = 1)"
   ]
  },
  {
   "cell_type": "code",
   "execution_count": null,
   "metadata": {
    "ExecuteTime": {
     "end_time": "2023-01-11T07:32:15.591254Z",
     "start_time": "2023-01-11T07:32:15.591238Z"
    }
   },
   "outputs": [],
   "source": [
    "plot_cutrange(cuts, las, units)"
   ]
  },
  {
   "cell_type": "code",
   "execution_count": null,
   "metadata": {
    "ExecuteTime": {
     "end_time": "2023-01-11T07:32:15.592983Z",
     "start_time": "2023-01-11T07:32:15.592967Z"
    }
   },
   "outputs": [],
   "source": [
    "cuts, las, units = process_range(g,(0,80,2), cuttype = (0,0,1), nbtests = 1)"
   ]
  },
  {
   "cell_type": "code",
   "execution_count": null,
   "metadata": {
    "ExecuteTime": {
     "end_time": "2023-01-11T07:32:15.594556Z",
     "start_time": "2023-01-11T07:32:15.594539Z"
    }
   },
   "outputs": [],
   "source": [
    "plot_cutrange(cuts, las, units)"
   ]
  },
  {
   "cell_type": "code",
   "execution_count": null,
   "metadata": {},
   "outputs": [],
   "source": []
  }
 ],
 "metadata": {
  "kernelspec": {
   "display_name": "Python 3 (ipykernel)",
   "language": "python",
   "name": "python3"
  },
  "language_info": {
   "codemirror_mode": {
    "name": "ipython",
    "version": 3
   },
   "file_extension": ".py",
   "mimetype": "text/x-python",
   "name": "python",
   "nbconvert_exporter": "python",
   "pygments_lexer": "ipython3",
   "version": "3.10.5"
  }
 },
 "nbformat": 4,
 "nbformat_minor": 2
}
