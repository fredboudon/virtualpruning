{
 "cells": [
  {
   "cell_type": "markdown",
   "metadata": {},
   "source": [
    "# Virtual Pruning"
   ]
  },
  {
   "cell_type": "markdown",
   "metadata": {},
   "source": [
    "## Importing the digitized structure"
   ]
  },
  {
   "cell_type": "code",
   "execution_count": 1,
   "metadata": {
    "ExecuteTime": {
     "end_time": "2022-06-03T11:48:55.973881Z",
     "start_time": "2022-06-03T11:48:54.972250Z"
    }
   },
   "outputs": [],
   "source": [
    "from openalea.mtg import *\n",
    "import numpy as np\n",
    "from importlib import reload\n",
    "import mangoG3; reload(mangoG3)\n",
    "from mangoG3 import *\n",
    "\n",
    "g = get_G3_mtg()\n"
   ]
  },
  {
   "cell_type": "code",
   "execution_count": 2,
   "metadata": {
    "ExecuteTime": {
     "end_time": "2022-06-03T11:49:00.276023Z",
     "start_time": "2022-06-03T11:48:59.506618Z"
    }
   },
   "outputs": [],
   "source": [
    "from matplotlib.pyplot import *\n",
    "import mtgplot as mp"
   ]
  },
  {
   "cell_type": "code",
   "execution_count": 3,
   "metadata": {
    "ExecuteTime": {
     "end_time": "2022-06-03T11:49:03.093764Z",
     "start_time": "2022-06-03T11:49:02.176800Z"
    }
   },
   "outputs": [
    {
     "data": {
      "application/vnd.jupyter.widget-view+json": {
       "model_id": "550809197d00449eb94552c8d1a7ea04",
       "version_major": 2,
       "version_minor": 0
      },
      "text/plain": [
       "SceneWidget(scenes=[{'id': 'WOUqllVpQoSR8Zso91hDcJa1C', 'data': b'x\\xda\\xac\\x9d\\txS\\xd5\\xd6\\xf7\\xd3\\x11\\x0cC\\x…"
      ]
     },
     "metadata": {},
     "output_type": "display_data"
    }
   ],
   "source": [
    "sw = mp.plot_tree(g)\n",
    "sw"
   ]
  },
  {
   "cell_type": "markdown",
   "metadata": {},
   "source": [
    "## Pruning procedure\n",
    "\n",
    "To select a pruning point, we start from terminal points, trace back into the structure up to 3 layers. We check if the pruning point is valid by looking the depth of what it carries. If it is in average close to what is intended we select it. Else we select another one.\n",
    "\n",
    "Point d'amélioration : tailler en fait au milieu de la n4."
   ]
  },
  {
   "cell_type": "code",
   "execution_count": 4,
   "metadata": {
    "ExecuteTime": {
     "end_time": "2022-06-03T11:49:03.100012Z",
     "start_time": "2022-06-03T11:49:03.096235Z"
    }
   },
   "outputs": [],
   "source": [
    "import pruning ; reload(pruning)\n",
    "from pruning import *"
   ]
  },
  {
   "cell_type": "markdown",
   "metadata": {},
   "source": [
    "## Caracterizing cut"
   ]
  },
  {
   "cell_type": "markdown",
   "metadata": {},
   "source": [
    "### We calculate the mean number of terminal GUs according to pruning severity"
   ]
  },
  {
   "cell_type": "code",
   "execution_count": null,
   "metadata": {
    "ExecuteTime": {
     "end_time": "2022-06-03T11:29:49.268489Z",
     "start_time": "2022-06-03T11:29:49.264509Z"
    }
   },
   "outputs": [],
   "source": [
    "def nbterminals(mtg, listcutids):\n",
    "    nb_term = [len(get_terminal_gus_from_ancestor(mtg, vid)) for vid in listcutids]\n",
    "    return (round(np.mean(nb_term),2), round(np.std(nb_term),2))"
   ]
  },
  {
   "cell_type": "markdown",
   "metadata": {},
   "source": [
    "### We calculate the number of leaves above the pruning point according to pruning severity"
   ]
  },
  {
   "cell_type": "code",
   "execution_count": null,
   "metadata": {
    "ExecuteTime": {
     "end_time": "2022-06-03T08:35:48.026306Z",
     "start_time": "2022-06-03T08:35:48.022838Z"
    }
   },
   "outputs": [],
   "source": [
    "def nbleaves_prunedGU(mtg, listcutids):\n",
    "    d = [sum([get_gu_nb_leaf(mtg, lvid) for lvid in get_descendants_gus_from_ancestor(mtg, vid) if lvid != vid]) for vid in listcutids]\n",
    "    return (round(np.mean(d)),round(np.std(d)))"
   ]
  },
  {
   "cell_type": "markdown",
   "metadata": {},
   "source": [
    "### calculation of leaf area from diameter"
   ]
  },
  {
   "cell_type": "code",
   "execution_count": null,
   "metadata": {
    "ExecuteTime": {
     "end_time": "2022-06-03T08:35:49.075898Z",
     "start_time": "2022-06-03T08:35:49.071292Z"
    }
   },
   "outputs": [],
   "source": [
    "def leafarea(mtg,listcutids):\n",
    "    leaf_area = [gu_leaf_area(get_gu_diameter(mtg, vid)) for vid in listcutids]\n",
    "    #leaf_area = [gu_leaf_area(get_gu_section(mtg, vid)) for vid in listcutids]\n",
    "    return ((np.mean(leaf_area)),(np.std(leaf_area)))    "
   ]
  },
  {
   "cell_type": "markdown",
   "metadata": {},
   "source": [
    "\n",
    "# Vegetative growth after pruning"
   ]
  },
  {
   "cell_type": "code",
   "execution_count": 11,
   "metadata": {
    "ExecuteTime": {
     "end_time": "2022-06-03T12:26:52.486186Z",
     "start_time": "2022-06-03T12:26:52.476829Z"
    }
   },
   "outputs": [],
   "source": [
    "import regrowth; reload(regrowth)\n",
    "from regrowth import *"
   ]
  },
  {
   "cell_type": "code",
   "execution_count": 12,
   "metadata": {
    "ExecuteTime": {
     "end_time": "2022-06-03T12:26:56.064078Z",
     "start_time": "2022-06-03T12:26:53.782488Z"
    }
   },
   "outputs": [
    {
     "name": "stdout",
     "output_type": "stream",
     "text": [
      "Should examine 2429 terminal GUs.\n",
      "Processed 540 pruned terminal GU and 1858 unpruned terminal GU and  31 ignored.\n",
      "Created 3331 new GUs\n",
      "2017-02-11 2017-02-26\n"
     ]
    },
    {
     "data": {
      "application/vnd.jupyter.widget-view+json": {
       "model_id": "4643af11831c4cd7ba9b4128a7092565",
       "version_major": 2,
       "version_minor": 0
      },
      "text/plain": [
       "SceneWidget(scenes=[{'id': 'WL5TYTD2P0yVc1TbikpmoDqwT', 'data': b'x\\xda\\xac\\x9d\\t|L\\xe7\\xfe\\xff\\'\\x9b0b\\tc\\ti\"…"
      ]
     },
     "metadata": {},
     "output_type": "display_data"
    }
   ],
   "source": [
    "t3 = prune(g, 180)\n",
    "gt3, newids = growth(t3)\n",
    "\n",
    "print('Created', len(newids), 'new GUs')\n",
    "plot_regrowth(gt3)"
   ]
  },
  {
   "cell_type": "code",
   "execution_count": null,
   "metadata": {
    "ExecuteTime": {
     "start_time": "2022-06-02T12:15:23.510Z"
    }
   },
   "outputs": [],
   "source": [
    "def date_histo(g):\n",
    "    from matplotlib.pyplot import hist, show\n",
    "    from collections import Counter\n",
    "    from datetime import timedelta\n",
    "    c = list(Counter(g.property('BurstDate').values()).items())\n",
    "    c.sort(key = lambda v : v[0])\n",
    "    mindate = c[0][0]\n",
    "    maxdate = c[-1][0]\n",
    "    c = dict(c)\n",
    "    r = range(0,(maxdate-mindate).days)\n",
    "    d = [mindate+timedelta(days=d) for d in r]\n",
    "    v = [ c.get(di,0) for di in d]\n",
    "    bar(r,v)\n",
    "    xticks(r,d, rotation=90)\n",
    "    show()"
   ]
  },
  {
   "cell_type": "code",
   "execution_count": null,
   "metadata": {
    "ExecuteTime": {
     "start_time": "2022-06-02T12:15:23.512Z"
    }
   },
   "outputs": [],
   "source": [
    "date_histo(gt3)"
   ]
  },
  {
   "cell_type": "code",
   "execution_count": null,
   "metadata": {
    "ExecuteTime": {
     "start_time": "2022-06-02T12:15:23.515Z"
    }
   },
   "outputs": [],
   "source": [
    "def nb_children_histo(g):\n",
    "    def severity(vid):\n",
    "        return g.property('cuted').get(vid,0)\n",
    "\n",
    "    ancestors = [get_parent(g,vid) if vid in g.property('BurstDate') else vid for vid in get_all_terminal_gus(g) ]\n",
    "    ancestors = set(ancestors)\n",
    "    \n",
    "    values = [[] for i in range(4)]\n",
    "    for vid in ancestors:\n",
    "        values[severity(vid)].append(g.nb_children(vid))\n",
    "    figure(figsize=(18,4))\n",
    "    for order, v in enumerate(values):\n",
    "        if len(v) > 0:\n",
    "            subplot(220+order+1)\n",
    "            hist(v, bins=arange(0,max(1,max(v)))-0.5)\n",
    "            print(len(v),(np.mean(v), np.std(v)),(np.mean([vi for vi in v if vi > 0]), np.std([vi for vi in v if vi > 0])),(np.min(v), np.max(v)))\n",
    "    show()\n",
    "    "
   ]
  },
  {
   "cell_type": "code",
   "execution_count": null,
   "metadata": {
    "ExecuteTime": {
     "start_time": "2022-06-02T12:15:23.517Z"
    }
   },
   "outputs": [],
   "source": [
    "nb_children_histo(gt3)"
   ]
  },
  {
   "cell_type": "markdown",
   "metadata": {},
   "source": [
    "Les **longueurs d'UCs générées** suivent la loi normale du modèle précédent. A corriger avec données 2017"
   ]
  },
  {
   "cell_type": "markdown",
   "metadata": {},
   "source": [
    "# leaf area produced at the tree scale vs. leaf area removed by pruning"
   ]
  },
  {
   "cell_type": "code",
   "execution_count": null,
   "metadata": {
    "ExecuteTime": {
     "start_time": "2022-06-02T12:15:23.527Z"
    }
   },
   "outputs": [],
   "source": [
    "def leaf_area_produced(mtg,newids):\n",
    "    newids = growth(t3, listidprunedT3, T3)\n",
    "    totalleafarea = sum([individual_leafarea_unpruned() for vid in newids])\n",
    "    growth(t3, listidprunedT3, T3)\n",
    "    return totalleafarea"
   ]
  },
  {
   "cell_type": "markdown",
   "metadata": {},
   "source": [
    "# améliorations possibles du modèle"
   ]
  },
  {
   "cell_type": "code",
   "execution_count": null,
   "metadata": {
    "ExecuteTime": {
     "start_time": "2022-06-02T12:15:23.529Z"
    }
   },
   "outputs": [],
   "source": [
    "def simulation(mtg, nbcuts):\n",
    "    # characterize before pruning\n",
    "    # nb of terminal units\n",
    "    nbterminalunits = len(get_all_terminal_gus(mtg))\n",
    "\n",
    "    # determine pruning\n",
    "    listidpruned = define_pruning(mtg, nbcuts)\n",
    "    #pruningprop = tag_pruning(mtg, listidpruned)\n",
    "\n",
    "    # characterize pruning\n",
    "    # - intensity\n",
    "    intensity = intensity_level(continuous_intensity(g,listidpruned))\n",
    "    if intensity == T2:\n",
    "        raise ValueError('Intensity', intensity)\n",
    "        \n",
    "    #  - nb of terminal units\n",
    "    nbremovedGU = sum([sum([len(get_descendants_gus_from_ancestor(mtg, vid))-1 for vid in pruneds]) for order, pruneds in listidpruned.items()])\n",
    "    \n",
    "    # - surface foliaire retire \n",
    "    removed_leaf_area = sum([sum([gu_leaf_area(get_gu_diameter(mtg, vid)) for vid in pruneds]) for order, pruneds in listidpruned.items()])\n",
    "    \n",
    "    # apply pruning\n",
    "    prunedmtg = deepcopy(mtg)\n",
    "    apply_pruning(prunedmtg, listidpruned)\n",
    "\n",
    "    # characterize pruning\n",
    "    # nb of terminal units\n",
    "    \n",
    "    # apply growth    \n",
    "    growthmtg, newGUs = growth(prunedmtg, intensity)\n",
    "\n",
    "    allpruned = pruned\n",
    "\n",
    "    # characterize growth\n",
    "    nbgeneratedGU = len(newGUs)\n",
    "    generated_leaf_area_pruned = sum([la for vid,la in growthmtg.property('RegeneratedLeafArea').items() if vid in allpruned])\n",
    "    generated_leaf_area_unpruned = sum([la for vid,la in growthmtg.property('RegeneratedLeafArea').items() if not (vid in allpruned)])\n",
    "    \n",
    "    return (nbterminalunits, nbremovedGU, nbgeneratedGU), (removed_leaf_area, generated_leaf_area_pruned, generated_leaf_area_unpruned)\n",
    "    "
   ]
  },
  {
   "cell_type": "code",
   "execution_count": null,
   "metadata": {
    "ExecuteTime": {
     "start_time": "2022-06-02T12:15:23.531Z"
    }
   },
   "outputs": [],
   "source": [
    "units0, la0 = pipeline(g, 0)\n",
    "print(units0, la0)"
   ]
  },
  {
   "cell_type": "code",
   "execution_count": null,
   "metadata": {
    "ExecuteTime": {
     "start_time": "2022-06-02T12:15:23.533Z"
    }
   },
   "outputs": [],
   "source": [
    "units20, la20 = pipeline(g, 20)\n",
    "print(units20, la20)"
   ]
  },
  {
   "cell_type": "code",
   "execution_count": null,
   "metadata": {
    "ExecuteTime": {
     "start_time": "2022-06-02T12:15:23.535Z"
    }
   },
   "outputs": [],
   "source": [
    "units60, la60 = pipeline(g, 60)\n",
    "print(units60, la60)"
   ]
  },
  {
   "cell_type": "code",
   "execution_count": null,
   "metadata": {
    "ExecuteTime": {
     "start_time": "2022-06-02T12:15:23.538Z"
    }
   },
   "outputs": [],
   "source": [
    "#units0060, la0060 = pipeline(g, (0,30,76))\n",
    "#print(units0060, la0060)"
   ]
  },
  {
   "cell_type": "code",
   "execution_count": null,
   "metadata": {
    "ExecuteTime": {
     "start_time": "2022-06-02T12:15:23.540Z"
    }
   },
   "outputs": [],
   "source": [
    "print(la0[1]-la0[0])\n",
    "print(la20[1]-la20[0])\n",
    "print(la60[1]-la60[0])\n"
   ]
  },
  {
   "cell_type": "code",
   "execution_count": null,
   "metadata": {
    "ExecuteTime": {
     "start_time": "2022-06-02T12:15:23.542Z"
    }
   },
   "outputs": [],
   "source": [
    "def process_range(mtg, cutrange = (0,20), cuttype = (1,1,1), nbtests = 1):\n",
    "    if type(cutrange) == int:\n",
    "        cutrange = (0, cutrange)\n",
    "    import numpy as np\n",
    "    gla = []\n",
    "    gunits = [] \n",
    "    cuts = []\n",
    "    for c in range(*cutrange):\n",
    "        for i in range(nbtests):\n",
    "            print('process',c,'-',i)\n",
    "            try:\n",
    "                units, la = pipeline(mtg, [c*i for i in cuttype])\n",
    "            except ValueError as e:\n",
    "                print(e)\n",
    "                continue\n",
    "            gla.append(la)\n",
    "            gunits.append(units)\n",
    "            cuts.append(c)\n",
    "    gla = np.array(gla)\n",
    "    gunits = np.array(gunits)\n",
    "    return cuts, gla, gunits\n",
    "    "
   ]
  },
  {
   "cell_type": "code",
   "execution_count": null,
   "metadata": {
    "ExecuteTime": {
     "start_time": "2022-06-02T12:15:23.544Z"
    }
   },
   "outputs": [],
   "source": [
    "cuts76, las76, units76 = process_range(g,(0,76), nbtests = 1)\n"
   ]
  },
  {
   "cell_type": "code",
   "execution_count": null,
   "metadata": {
    "ExecuteTime": {
     "start_time": "2022-06-02T12:15:23.545Z"
    }
   },
   "outputs": [],
   "source": [
    "def plot_cutrange(cuts, las, units):\n",
    "    figure(figsize=(12,6))\n",
    "    #subplot(121)\n",
    "    normalproduction = np.mean(las[where(np.isin(cuts,[0]))[0],2])\n",
    "    plot(cuts,las[:,0],'.',label='removed leaf area')\n",
    "    plot(cuts,las[:,1],'.',label='generated leaf area from pruned GU')\n",
    "    plot(cuts,las[:,2],'.',label='generated leaf area from unpruned GU')\n",
    "    plot(cuts,las[:,1]+las[:,2],'.',label='generated leaf area')\n",
    "    plot(cuts,(las[:,1]+las[:,2])-(las[:,0]+normalproduction),'.',label='increase of leaf area (compared to To)')\n",
    "    legend()\n",
    "    show()\n",
    "    figure(figsize=(12,6))\n",
    "    #subplot(122)\n",
    "    plot(cuts,units[:,0],'.',label='nb terminal units')\n",
    "    plot(cuts,units[:,1],'.',label='nb removed GU')\n",
    "    plot(cuts,units[:,2],'.',label='nb generated GU')\n",
    "    legend()\n",
    "    show()\n"
   ]
  },
  {
   "cell_type": "code",
   "execution_count": null,
   "metadata": {
    "ExecuteTime": {
     "start_time": "2022-06-02T12:15:23.547Z"
    }
   },
   "outputs": [],
   "source": [
    "plot_cutrange(cuts76, las76, units76)\n"
   ]
  },
  {
   "cell_type": "code",
   "execution_count": null,
   "metadata": {
    "ExecuteTime": {
     "start_time": "2022-06-02T12:15:23.549Z"
    }
   },
   "outputs": [],
   "source": [
    "\n",
    "cuts, las, units = process_range(g,(0,300,5), cuttype = (1,0,0), nbtests = 1)"
   ]
  },
  {
   "cell_type": "code",
   "execution_count": null,
   "metadata": {
    "ExecuteTime": {
     "start_time": "2022-06-02T12:15:23.551Z"
    }
   },
   "outputs": [],
   "source": [
    "plot_cutrange(cuts, las, units)"
   ]
  },
  {
   "cell_type": "code",
   "execution_count": null,
   "metadata": {
    "ExecuteTime": {
     "start_time": "2022-06-02T12:15:23.554Z"
    }
   },
   "outputs": [],
   "source": [
    "cuts, las, units = process_range(g,(0,300,5), cuttype = (0,1,0), nbtests = 1)"
   ]
  },
  {
   "cell_type": "code",
   "execution_count": null,
   "metadata": {
    "ExecuteTime": {
     "start_time": "2022-06-02T12:15:23.555Z"
    }
   },
   "outputs": [],
   "source": [
    "plot_cutrange(cuts, las, units)"
   ]
  },
  {
   "cell_type": "code",
   "execution_count": null,
   "metadata": {
    "ExecuteTime": {
     "start_time": "2022-06-02T12:15:23.557Z"
    }
   },
   "outputs": [],
   "source": [
    "cuts, las, units = process_range(g,(0,80,2), cuttype = (0,0,1), nbtests = 1)"
   ]
  },
  {
   "cell_type": "code",
   "execution_count": null,
   "metadata": {
    "ExecuteTime": {
     "start_time": "2022-06-02T12:15:23.559Z"
    }
   },
   "outputs": [],
   "source": [
    "plot_cutrange(cuts, las, units)"
   ]
  },
  {
   "cell_type": "code",
   "execution_count": null,
   "metadata": {},
   "outputs": [],
   "source": []
  }
 ],
 "metadata": {
  "kernelspec": {
   "display_name": "Python 3 (ipykernel)",
   "language": "python",
   "name": "python3"
  },
  "language_info": {
   "codemirror_mode": {
    "name": "ipython",
    "version": 3
   },
   "file_extension": ".py",
   "mimetype": "text/x-python",
   "name": "python",
   "nbconvert_exporter": "python",
   "pygments_lexer": "ipython3",
   "version": "3.9.12"
  }
 },
 "nbformat": 4,
 "nbformat_minor": 2
}
