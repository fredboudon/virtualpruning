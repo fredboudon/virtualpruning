{
 "cells": [
  {
   "cell_type": "markdown",
   "metadata": {},
   "source": [
    "# Virtual Pruning"
   ]
  },
  {
   "cell_type": "markdown",
   "metadata": {},
   "source": [
    "## Importing the digitized structure"
   ]
  },
  {
   "cell_type": "code",
   "execution_count": 1,
   "metadata": {
    "ExecuteTime": {
     "end_time": "2023-01-19T08:24:11.600487Z",
     "start_time": "2023-01-19T08:24:08.645938Z"
    }
   },
   "outputs": [],
   "source": [
    "from openalea.mtg import *\n",
    "import numpy as np\n",
    "from importlib import reload\n",
    "import mangoG3; reload(mangoG3)\n",
    "from mangoG3 import *\n",
    "\n",
    "g = get_G3_mtg()\n",
    "focus = None #11083\n",
    "#g = extend_mtg_with_organs(g)"
   ]
  },
  {
   "cell_type": "code",
   "execution_count": 2,
   "metadata": {
    "ExecuteTime": {
     "end_time": "2023-01-19T08:24:11.605643Z",
     "start_time": "2023-01-19T08:24:11.602812Z"
    }
   },
   "outputs": [],
   "source": [
    "simplification = False\n",
    "\n",
    "if simplification:\n",
    "    import simplif ; reload(simplif)\n",
    "    from simplif import simplify_mtg\n",
    "    sg = simplify_mtg(g,11083)\n",
    "    g = sg"
   ]
  },
  {
   "cell_type": "code",
   "execution_count": 3,
   "metadata": {
    "ExecuteTime": {
     "end_time": "2023-01-19T08:24:12.419784Z",
     "start_time": "2023-01-19T08:24:11.607983Z"
    }
   },
   "outputs": [
    {
     "data": {
      "text/plain": [
       "<module 'mtgplot' from '/Users/fboudon/Develop/oagit/virtualpruning/notebooks/mtgplot.py'>"
      ]
     },
     "execution_count": 3,
     "metadata": {},
     "output_type": "execute_result"
    }
   ],
   "source": [
    "from matplotlib.pyplot import *\n",
    "import mtgplot as mp\n",
    "reload(mp)"
   ]
  },
  {
   "cell_type": "code",
   "execution_count": 4,
   "metadata": {
    "ExecuteTime": {
     "end_time": "2023-01-19T08:24:20.533631Z",
     "start_time": "2023-01-19T08:24:13.962891Z"
    }
   },
   "outputs": [
    {
     "data": {
      "application/vnd.jupyter.widget-view+json": {
       "model_id": "38ecc9fc279c49dabe66070b564123f2",
       "version_major": 2,
       "version_minor": 0
      },
      "text/plain": [
       "SceneWidget(scenes=[{'id': 'HAZaCkhRF5Jc1ydhnwSG7gTin', 'data': b'x\\xda\\xcc\\x9d\\x07|\\xd3\\xd6\\xd7\\xf7\\xc3\\x08#l…"
      ]
     },
     "execution_count": 4,
     "metadata": {},
     "output_type": "execute_result"
    }
   ],
   "source": [
    "#initrepr = mp.representation(g, wood = True, leaves=True, gc=False)\n",
    "#initrepr.save('initialtree.bgeom')\n",
    "sw = mp.plot_tree(g, leaves=True, focus=focus)\n",
    "sw"
   ]
  },
  {
   "cell_type": "markdown",
   "metadata": {},
   "source": [
    "\n",
    "# Pruning"
   ]
  },
  {
   "cell_type": "code",
   "execution_count": 5,
   "metadata": {
    "ExecuteTime": {
     "end_time": "2023-01-19T08:24:20.540605Z",
     "start_time": "2023-01-19T08:24:20.535730Z"
    }
   },
   "outputs": [],
   "source": [
    "import pruning ; reload(pruning)\n",
    "from pruning import *"
   ]
  },
  {
   "cell_type": "code",
   "execution_count": 46,
   "metadata": {
    "ExecuteTime": {
     "end_time": "2023-01-19T10:03:16.600873Z",
     "start_time": "2023-01-19T10:03:16.068410Z"
    }
   },
   "outputs": [],
   "source": [
    "prunedmtg = prune(g, 30)"
   ]
  },
  {
   "cell_type": "code",
   "execution_count": 47,
   "metadata": {
    "ExecuteTime": {
     "end_time": "2023-01-19T10:03:17.563224Z",
     "start_time": "2023-01-19T10:03:17.559935Z"
    }
   },
   "outputs": [
    {
     "name": "stdout",
     "output_type": "stream",
     "text": [
      "0.09646876048999044 T1\n"
     ]
    }
   ],
   "source": [
    "intensity = continuous_intensity_from_pruned(prunedmtg)\n",
    "print(intensity, intensity_level(intensity))"
   ]
  },
  {
   "cell_type": "code",
   "execution_count": null,
   "metadata": {},
   "outputs": [],
   "source": [
    "# estimer nb de point de coupe vs intensité\n",
    "# estimer intensité vs gap fraction\n",
    "# estimer intensité vs surface foliaire retirée (severine ?)"
   ]
  },
  {
   "cell_type": "markdown",
   "metadata": {
    "ExecuteTime": {
     "end_time": "2023-01-10T08:16:03.362387Z",
     "start_time": "2023-01-10T08:16:03.359581Z"
    }
   },
   "source": [
    "# Mortality post pruning"
   ]
  },
  {
   "cell_type": "code",
   "execution_count": 48,
   "metadata": {
    "ExecuteTime": {
     "end_time": "2023-01-19T10:03:20.085920Z",
     "start_time": "2023-01-19T10:03:20.077880Z"
    }
   },
   "outputs": [],
   "source": [
    "import mortality ; reload(mortality)\n",
    "from mortality import gu_mortalities_post_pruning"
   ]
  },
  {
   "cell_type": "code",
   "execution_count": 49,
   "metadata": {
    "ExecuteTime": {
     "end_time": "2023-01-19T10:03:21.391045Z",
     "start_time": "2023-01-19T10:03:20.967200Z"
    }
   },
   "outputs": [
    {
     "name": "stdout",
     "output_type": "stream",
     "text": [
      "Should examine 3095  GUs.\n",
      "200\n"
     ]
    }
   ],
   "source": [
    "postpruningmtg, removed = gu_mortalities_post_pruning(prunedmtg, intensity)\n",
    "print(len(removed))"
   ]
  },
  {
   "cell_type": "code",
   "execution_count": 50,
   "metadata": {
    "ExecuteTime": {
     "end_time": "2023-01-19T10:03:28.383853Z",
     "start_time": "2023-01-19T10:03:22.398883Z"
    }
   },
   "outputs": [
    {
     "data": {
      "application/vnd.jupyter.widget-view+json": {
       "model_id": "c0c961caf763422a96499c2aa197b89b",
       "version_major": 2,
       "version_minor": 0
      },
      "text/plain": [
       "SceneWidget(scenes=[{'id': 'AvQr7b4VNVtlIq9n8Em9QZspf', 'data': b'x\\xda\\xcc\\x9d\\x07|\\x14\\xc5\\xfb\\xffC\\t%t\\x02\\…"
      ]
     },
     "execution_count": 50,
     "metadata": {},
     "output_type": "execute_result"
    }
   ],
   "source": [
    "mp.plot_tree(postpruningmtg, leaves=True, focus=focus) # plot with color for cuts"
   ]
  },
  {
   "cell_type": "markdown",
   "metadata": {},
   "source": [
    "# Light"
   ]
  },
  {
   "cell_type": "code",
   "execution_count": 51,
   "metadata": {
    "ExecuteTime": {
     "end_time": "2023-01-19T10:03:39.263214Z",
     "start_time": "2023-01-19T10:03:39.258945Z"
    }
   },
   "outputs": [],
   "source": [
    "import lightestimation; reload(lightestimation)\n",
    "from lightestimation import *"
   ]
  },
  {
   "cell_type": "code",
   "execution_count": 52,
   "metadata": {
    "ExecuteTime": {
     "end_time": "2023-01-19T10:04:54.476387Z",
     "start_time": "2023-01-19T10:03:39.265211Z"
    }
   },
   "outputs": [],
   "source": [
    "prunedrepr = mp.representation(postpruningmtg, wood = False, leaves=True)\n",
    "Zeta_mean = light_variables(prunedrepr, skydiscretization=16)"
   ]
  },
  {
   "cell_type": "code",
   "execution_count": 13,
   "metadata": {
    "ExecuteTime": {
     "end_time": "2023-01-19T09:33:51.246261Z",
     "start_time": "2023-01-19T09:33:45.454057Z"
    }
   },
   "outputs": [
    {
     "data": {
      "application/vnd.jupyter.widget-view+json": {
       "model_id": "2a458c8b53204fdf9ec5c42828661e08",
       "version_major": 2,
       "version_minor": 0
      },
      "text/plain": [
       "SceneWidget(scenes=[{'id': 'D8pnWjrCAHlCRehFz1Ft38tlP', 'data': b'x\\xda\\xcc\\x9d\\x07|\\x14E\\xfb\\xf8\\xef\\x80\\xd0[…"
      ]
     },
     "execution_count": 13,
     "metadata": {},
     "output_type": "execute_result"
    }
   ],
   "source": [
    "mp.plot_tree(postpruningmtg,colorizer = mp.PropertyGradientColoring(prop=Zeta_mean, minvalue=0, defaultvalue=0), focus=focus, leaves=True)"
   ]
  },
  {
   "cell_type": "code",
   "execution_count": 14,
   "metadata": {
    "ExecuteTime": {
     "end_time": "2023-01-19T09:56:11.992893Z",
     "start_time": "2023-01-19T09:56:11.739985Z"
    }
   },
   "outputs": [
    {
     "data": {
      "text/plain": [
       "<AxesSubplot:>"
      ]
     },
     "execution_count": 14,
     "metadata": {},
     "output_type": "execute_result"
    },
    {
     "data": {
      "image/png": "[encoded data removed]",
      "text/plain": [
       "<Figure size 640x480 with 1 Axes>"
      ]
     },
     "metadata": {},
     "output_type": "display_data"
    }
   ],
   "source": [
    "Zeta_mean.hist(density=True)"
   ]
  },
  {
   "cell_type": "code",
   "execution_count": 54,
   "metadata": {
    "ExecuteTime": {
     "end_time": "2023-01-19T10:04:54.709849Z",
     "start_time": "2023-01-19T10:04:54.701914Z"
    }
   },
   "outputs": [],
   "source": [
    "def myhist(values, bins=10):\n",
    "    import numpy as np\n",
    "    from scipy.interpolate import interp1d\n",
    "    hist, bin_edges = np.histogram(values, density=True,bins=bins)\n",
    "    print(len(hist))\n",
    "    print(len(hist),len(bin_edges))\n",
    "    histx = [bin_edges[0]]+[(bin_edges[i]+bin_edges[i+1])/2 for i in range(len(hist))]+[bin_edges[-1]]\n",
    "    histy = [hist[0]]+list(hist)+[hist[-1]]\n",
    "    cubic_interpolation_model = interp1d(histx, histy, kind = \"cubic\")\n",
    "    X_=np.linspace(min(histx),max(histx), 500)\n",
    "    Y_=cubic_interpolation_model(X_)\n",
    "    fig, ax = subplots()\n",
    "    ax.plot(X_,Y_)\n",
    "    verts = [(histx[0], 0), *zip(X_, Y_), (histx[-1], 0)]\n",
    "    poly = Polygon(verts, facecolor='0.9', edgecolor='0.5')\n",
    "    ax.add_patch(poly)\n",
    "    show()\n",
    "    "
   ]
  },
  {
   "cell_type": "code",
   "execution_count": 53,
   "metadata": {
    "ExecuteTime": {
     "end_time": "2023-01-19T10:04:54.699070Z",
     "start_time": "2023-01-19T10:04:54.478998Z"
    }
   },
   "outputs": [
    {
     "name": "stdout",
     "output_type": "stream",
     "text": [
      "10\n",
      "10 11\n"
     ]
    },
    {
     "data": {
      "image/png": "[encoded data removed]",
      "text/plain": [
       "<Figure size 640x480 with 1 Axes>"
      ]
     },
     "metadata": {},
     "output_type": "display_data"
    }
   ],
   "source": [
    "myhist(Zeta_mean)"
   ]
  },
  {
   "cell_type": "markdown",
   "metadata": {},
   "source": [
    "# Regrowth"
   ]
  },
  {
   "cell_type": "code",
   "execution_count": null,
   "metadata": {
    "ExecuteTime": {
     "end_time": "2023-01-19T07:43:49.873711Z",
     "start_time": "2023-01-19T07:43:49.866825Z"
    }
   },
   "outputs": [],
   "source": [
    "import regrowth_base; reload(regrowth_base)\n",
    "from regrowth_base import plot_growth\n",
    "import regrowth; reload(regrowth)\n",
    "from regrowth import *"
   ]
  },
  {
   "cell_type": "code",
   "execution_count": null,
   "metadata": {
    "ExecuteTime": {
     "end_time": "2023-01-19T07:43:51.973591Z",
     "start_time": "2023-01-19T07:43:51.341066Z"
    }
   },
   "outputs": [],
   "source": [
    "regrowth, newids = growth(postpruningmtg, intensity, Zeta_mean)\n",
    "print('Created', len(newids), 'new GUs from', len(set([get_parent(regrowth,vid) for vid in newids])),'terminals.')\n"
   ]
  },
  {
   "cell_type": "code",
   "execution_count": null,
   "metadata": {
    "ExecuteTime": {
     "end_time": "2023-01-19T07:44:02.602191Z",
     "start_time": "2023-01-19T07:43:53.664361Z"
    }
   },
   "outputs": [],
   "source": [
    "plot_growth(regrowth, leaves=True, gc=True)"
   ]
  },
  {
   "cell_type": "code",
   "execution_count": null,
   "metadata": {
    "ExecuteTime": {
     "end_time": "2023-01-19T07:44:12.317195Z",
     "start_time": "2023-01-19T07:44:12.312298Z"
    }
   },
   "outputs": [],
   "source": [
    "def date_histo(g):\n",
    "    from matplotlib.pyplot import hist, show\n",
    "    from collections import Counter\n",
    "    from datetime import timedelta\n",
    "    c = list(Counter(g.property('BurstDate').values()).items())\n",
    "    c.sort(key = lambda v : v[0])\n",
    "    mindate = c[0][0]\n",
    "    maxdate = c[-1][0]\n",
    "    c = dict(c)\n",
    "    r = range(0,(maxdate-mindate).days)\n",
    "    d = [mindate+timedelta(days=d) for d in r]\n",
    "    v = [ c.get(di,0) for di in d]\n",
    "    bar(r,v)\n",
    "    xticks(r,d, rotation=90)\n",
    "    show()"
   ]
  },
  {
   "cell_type": "code",
   "execution_count": null,
   "metadata": {
    "ExecuteTime": {
     "end_time": "2023-01-19T07:44:13.814340Z",
     "start_time": "2023-01-19T07:44:13.604629Z"
    }
   },
   "outputs": [],
   "source": [
    "date_histo(regrowth)"
   ]
  },
  {
   "cell_type": "code",
   "execution_count": null,
   "metadata": {
    "ExecuteTime": {
     "end_time": "2023-01-11T05:33:57.694120Z",
     "start_time": "2023-01-11T05:33:57.690972Z"
    }
   },
   "outputs": [],
   "source": [
    "#plot_growth_dynamic(regrowth)"
   ]
  },
  {
   "cell_type": "code",
   "execution_count": null,
   "metadata": {
    "ExecuteTime": {
     "end_time": "2023-01-19T07:44:16.696503Z",
     "start_time": "2023-01-19T07:44:16.689765Z"
    }
   },
   "outputs": [],
   "source": [
    "def nb_children_histo(g):\n",
    "    def severity(vid):\n",
    "        return g.property('pruned').get(vid,0)\n",
    "\n",
    "    ancestors = [get_parent(g,vid) if vid in g.property('BurstDate') else vid for vid in get_all_terminal_gus(g) ]\n",
    "    ancestors = set(ancestors)\n",
    "    \n",
    "    values = [[] for i in range(4)]\n",
    "    for vid in ancestors:\n",
    "        values[severity(vid)].append(g.nb_children(vid))\n",
    "    figure(figsize=(18,8))\n",
    "    for order, v in enumerate(values):\n",
    "        if len(v) > 0:\n",
    "            subplot(220+order+1)\n",
    "            hist(v, bins=np.arange(0,max(1,max(v)))-0.5)\n",
    "            print(len(v),(np.mean(v), np.std(v)),(np.mean([vi for vi in v if vi > 0]), np.std([vi for vi in v if vi > 0])),(np.min(v), np.max(v)))\n",
    "    show()\n",
    "    "
   ]
  },
  {
   "cell_type": "code",
   "execution_count": null,
   "metadata": {
    "ExecuteTime": {
     "end_time": "2023-01-19T07:44:18.973753Z",
     "start_time": "2023-01-19T07:44:18.577418Z"
    }
   },
   "outputs": [],
   "source": [
    "nb_children_histo(regrowth)"
   ]
  },
  {
   "cell_type": "markdown",
   "metadata": {},
   "source": [
    "Les **longueurs d'UCs générées** suivent la loi normale du modèle précédent. A corriger avec données 2017"
   ]
  },
  {
   "cell_type": "markdown",
   "metadata": {},
   "source": [
    "## Gap fraction"
   ]
  },
  {
   "cell_type": "code",
   "execution_count": null,
   "metadata": {
    "ExecuteTime": {
     "end_time": "2023-01-19T07:44:25.941304Z",
     "start_time": "2023-01-19T07:44:25.934795Z"
    }
   },
   "outputs": [],
   "source": [
    "import gapfraction ; reload(gapfraction)\n",
    "from gapfraction import gapfraction_dynamic, gap_fraction, pgl_gapfraction_dynamic"
   ]
  },
  {
   "cell_type": "code",
   "execution_count": null,
   "metadata": {
    "ExecuteTime": {
     "end_time": "2023-01-19T07:46:19.544804Z",
     "start_time": "2023-01-19T07:44:30.391987Z"
    }
   },
   "outputs": [],
   "source": [
    "gft = pgl_gapfraction_dynamic(regrowth)"
   ]
  },
  {
   "cell_type": "code",
   "execution_count": null,
   "metadata": {
    "ExecuteTime": {
     "end_time": "2023-01-19T07:46:19.555125Z",
     "start_time": "2023-01-19T07:46:19.547757Z"
    }
   },
   "outputs": [],
   "source": [
    "gft = gft[1:]"
   ]
  },
  {
   "cell_type": "code",
   "execution_count": null,
   "metadata": {
    "ExecuteTime": {
     "end_time": "2023-01-19T07:46:28.281083Z",
     "start_time": "2023-01-19T07:46:19.557378Z"
    }
   },
   "outputs": [],
   "source": [
    "pruningdate = date(2021,2,24)\n",
    "gf0 = gap_fraction(g)"
   ]
  },
  {
   "cell_type": "code",
   "execution_count": null,
   "metadata": {
    "ExecuteTime": {
     "end_time": "2023-01-19T07:51:04.261901Z",
     "start_time": "2023-01-19T07:51:04.129343Z"
    }
   },
   "outputs": [],
   "source": [
    "from matplotlib.pyplot import *\n",
    "plot([pruningdate,pruningdate]+[d for d,g in gft],[gf0,gft[0][1]]+[g for d,g in gft])\n",
    "hlines(gf0,pruningdate,gft[-1][0],color='r')\n",
    "ylim(0,0.5)\n",
    "xticks(rotation = 80)\n",
    "show()"
   ]
  },
  {
   "cell_type": "markdown",
   "metadata": {},
   "source": [
    "# leaf area produced at the tree scale vs. leaf area removed by pruning"
   ]
  },
  {
   "cell_type": "code",
   "execution_count": null,
   "metadata": {
    "ExecuteTime": {
     "end_time": "2023-01-19T07:51:04.267421Z",
     "start_time": "2023-01-19T07:51:04.264272Z"
    }
   },
   "outputs": [],
   "source": [
    "def leaf_area_produced(mtg,newids):\n",
    "    newids = growth(t3, listidprunedT3, T3)\n",
    "    totalleafarea = sum([individual_leafarea_unpruned() for vid in newids])\n",
    "    growth(t3, listidprunedT3, T3)\n",
    "    return totalleafarea"
   ]
  },
  {
   "cell_type": "markdown",
   "metadata": {},
   "source": [
    "# améliorations possibles du modèle"
   ]
  },
  {
   "cell_type": "code",
   "execution_count": null,
   "metadata": {
    "ExecuteTime": {
     "end_time": "2023-01-11T05:38:51.089928Z",
     "start_time": "2023-01-11T05:38:51.081017Z"
    }
   },
   "outputs": [],
   "source": [
    "def simulation(mtg, nbcuts, gumortality = True):\n",
    "    from allometry import gu_leaf_area\n",
    "    # characterize before pruning\n",
    "    # nb of terminal units\n",
    "    nbterminalunits = len(get_all_terminal_gus(mtg))\n",
    "\n",
    "    # determine pruning\n",
    "    listidpruned = define_pruning(mtg, nbcuts, None)\n",
    "    #pruningprop = tag_pruning(mtg, listidpruned)\n",
    "\n",
    "    # characterize pruning\n",
    "    # - intensity\n",
    "    intensity = continuous_intensity(g,listidpruned)\n",
    "    ilevel = intensity_level(intensity)\n",
    "    if intensity == T2:\n",
    "        raise ValueError('Intensity', ilevel, intensity)\n",
    "        \n",
    "    #  - nb of terminal units\n",
    "    nbremovedGU = sum([sum([len(get_descendants_gus_from_ancestor(mtg, vid))-1 for vid in pruneds]) for order, pruneds in listidpruned.items()])\n",
    "    \n",
    "    # - surface foliaire retire \n",
    "    removed_leaf_area = sum([sum([gu_leaf_area(get_gu_diameter(mtg, vid)) for vid in pruneds]) for order, pruneds in listidpruned.items()])\n",
    "    \n",
    "    # apply pruning\n",
    "    prunedmtg = apply_pruning(mtg, listidpruned)\n",
    "    \n",
    "    if gumortality:\n",
    "        prunedrepr = mp.representation(prunedmtg, wood = False, leaves=True)\n",
    "        Zeta_min = light_variables_mortality(prunedrepr)\n",
    "    \n",
    "        postpruningmtg, removed = gu_mortalities_post_pruning(prunedmtg, Zeta_min, intensity)\n",
    "        postpruningrepr = mp.representation(postpruningmtg, wood = False, leaves=True)\n",
    "    else:\n",
    "        postpruningmtg = prunedmtg\n",
    "        postpruningrepr = mp.representation(postpruningmtg, wood = False, leaves=True)\n",
    "        \n",
    "    \n",
    "    TrPPFD_mean, TrPPFD_min, Zeta_mean, Zeta_8H = light_variables_regrowth(postpruningrepr)\n",
    "\n",
    "    \n",
    "    # apply growth    \n",
    "    growthmtg, newGUs = growth(postpruningmtg, TrPPFD_mean, TrPPFD_min, Zeta_mean, Zeta_8H, intensity, mortalityenabled=gumortality)\n",
    "\n",
    "\n",
    "    # characterize pruning\n",
    "    # nb of terminal units\n",
    "\n",
    "    allpruned = set(listidpruned.keys())\n",
    "\n",
    "    # characterize growth\n",
    "    nbgeneratedGU = len(newGUs)\n",
    "    generated_leaf_area_pruned = sum([la for vid,la in growthmtg.property('RegeneratedLeafArea').items() if vid in allpruned])\n",
    "    generated_leaf_area_unpruned = sum([la for vid,la in growthmtg.property('RegeneratedLeafArea').items() if not (vid in allpruned)])\n",
    "    \n",
    "    return (nbterminalunits, nbremovedGU, nbgeneratedGU), (removed_leaf_area, generated_leaf_area_pruned, generated_leaf_area_unpruned)\n",
    "    "
   ]
  },
  {
   "cell_type": "code",
   "execution_count": null,
   "metadata": {
    "ExecuteTime": {
     "end_time": "2023-01-11T05:45:06.572533Z",
     "start_time": "2023-01-11T05:38:51.092094Z"
    }
   },
   "outputs": [],
   "source": [
    "units0, la0 = simulation(g, 0)\n",
    "print(units0, la0)"
   ]
  },
  {
   "cell_type": "code",
   "execution_count": null,
   "metadata": {
    "ExecuteTime": {
     "end_time": "2023-01-11T05:52:00.304554Z",
     "start_time": "2023-01-11T05:45:06.574708Z"
    }
   },
   "outputs": [],
   "source": [
    "units20, la20 = simulation(g, 15)\n",
    "print(units20, la20)"
   ]
  },
  {
   "cell_type": "code",
   "execution_count": null,
   "metadata": {
    "ExecuteTime": {
     "end_time": "2023-01-11T05:57:53.051021Z",
     "start_time": "2023-01-11T05:52:00.306695Z"
    }
   },
   "outputs": [],
   "source": [
    "units60, la60 = simulation(g, 60)\n",
    "print(units60, la60)"
   ]
  },
  {
   "cell_type": "code",
   "execution_count": null,
   "metadata": {
    "ExecuteTime": {
     "end_time": "2023-01-11T05:57:53.061846Z",
     "start_time": "2023-01-11T05:57:53.058923Z"
    }
   },
   "outputs": [],
   "source": [
    "#units0060, la0060 = pipeline(g, (0,30,76))\n",
    "#print(units0060, la0060)"
   ]
  },
  {
   "cell_type": "code",
   "execution_count": null,
   "metadata": {
    "ExecuteTime": {
     "end_time": "2023-01-11T05:57:53.073688Z",
     "start_time": "2023-01-11T05:57:53.065345Z"
    }
   },
   "outputs": [],
   "source": [
    "print(la0[1]-la0[0])\n",
    "print(la20[1]-la20[0])\n",
    "print(la60[1]-la60[0])\n"
   ]
  },
  {
   "cell_type": "code",
   "execution_count": null,
   "metadata": {
    "ExecuteTime": {
     "end_time": "2023-01-11T05:57:53.102715Z",
     "start_time": "2023-01-11T05:57:53.088167Z"
    }
   },
   "outputs": [],
   "source": [
    "def process_range(mtg, cutrange = (0,20), cuttype = (1,1,1), nbtests = 1):\n",
    "    if type(cutrange) == int:\n",
    "        cutrange = (0, cutrange)\n",
    "    import numpy as np\n",
    "    gla = []\n",
    "    gunits = [] \n",
    "    cuts = []\n",
    "    for c in range(*cutrange):\n",
    "        for i in range(nbtests):\n",
    "            print('process',c,'-',i)\n",
    "            try:\n",
    "                units, la = simulation(mtg, [c*i for i in cuttype])\n",
    "            except ValueError as e:\n",
    "                print(e)\n",
    "                continue\n",
    "            gla.append(la)\n",
    "            gunits.append(units)\n",
    "            cuts.append(c)\n",
    "    gla = np.array(gla)\n",
    "    gunits = np.array(gunits)\n",
    "    return cuts, gla, gunits\n",
    "    "
   ]
  },
  {
   "cell_type": "code",
   "execution_count": null,
   "metadata": {
    "ExecuteTime": {
     "end_time": "2023-01-11T07:32:15.580258Z",
     "start_time": "2023-01-11T05:57:53.105507Z"
    }
   },
   "outputs": [],
   "source": [
    "cuts76, las76, units76 = process_range(g,(0,180,5), nbtests = 1)\n"
   ]
  },
  {
   "cell_type": "code",
   "execution_count": null,
   "metadata": {
    "ExecuteTime": {
     "end_time": "2023-01-11T07:32:15.582686Z",
     "start_time": "2023-01-11T07:32:15.582670Z"
    }
   },
   "outputs": [],
   "source": [
    "def plot_cutrange(cuts, las, units):\n",
    "    figure(figsize=(12,6))\n",
    "    #subplot(121)\n",
    "    normalproduction = np.mean(las[np.where(np.isin(cuts,[0]))[0],2])\n",
    "    plot(cuts,las[:,0],'.',label='removed leaf area')\n",
    "    plot(cuts,las[:,1],'.',label='generated leaf area from pruned GU')\n",
    "    plot(cuts,las[:,2],'.',label='generated leaf area from unpruned GU')\n",
    "    plot(cuts,las[:,1]+las[:,2],'.',label='generated leaf area')\n",
    "    plot(cuts,(las[:,1]+las[:,2])-(las[:,0]+normalproduction),'.',label='increase of leaf area (compared to To)')\n",
    "    legend()\n",
    "    show()\n",
    "    figure(figsize=(12,6))\n",
    "    #subplot(122)\n",
    "    plot(cuts,units[:,0],'.',label='nb terminal units')\n",
    "    plot(cuts,units[:,1],'.',label='nb removed GU')\n",
    "    plot(cuts,units[:,2],'.',label='nb generated GU')\n",
    "    legend()\n",
    "    show()\n"
   ]
  },
  {
   "cell_type": "code",
   "execution_count": null,
   "metadata": {
    "ExecuteTime": {
     "end_time": "2023-01-11T07:32:15.584541Z",
     "start_time": "2023-01-11T07:32:15.584522Z"
    }
   },
   "outputs": [],
   "source": [
    "plot_cutrange(cuts76, las76, units76)\n"
   ]
  },
  {
   "cell_type": "code",
   "execution_count": null,
   "metadata": {
    "ExecuteTime": {
     "end_time": "2023-01-11T07:32:15.586060Z",
     "start_time": "2023-01-11T07:32:15.586041Z"
    }
   },
   "outputs": [],
   "source": [
    "\n",
    "cuts, las, units = process_range(g,(0,300,5), cuttype = (1,0,0), nbtests = 1)"
   ]
  },
  {
   "cell_type": "code",
   "execution_count": null,
   "metadata": {
    "ExecuteTime": {
     "end_time": "2023-01-11T07:32:15.587691Z",
     "start_time": "2023-01-11T07:32:15.587675Z"
    }
   },
   "outputs": [],
   "source": [
    "plot_cutrange(cuts, las, units)"
   ]
  },
  {
   "cell_type": "code",
   "execution_count": null,
   "metadata": {
    "ExecuteTime": {
     "end_time": "2023-01-11T07:32:15.589332Z",
     "start_time": "2023-01-11T07:32:15.589316Z"
    }
   },
   "outputs": [],
   "source": [
    "cuts, las, units = process_range(g,(0,300,5), cuttype = (0,1,0), nbtests = 1)"
   ]
  },
  {
   "cell_type": "code",
   "execution_count": null,
   "metadata": {
    "ExecuteTime": {
     "end_time": "2023-01-11T07:32:15.591254Z",
     "start_time": "2023-01-11T07:32:15.591238Z"
    }
   },
   "outputs": [],
   "source": [
    "plot_cutrange(cuts, las, units)"
   ]
  },
  {
   "cell_type": "code",
   "execution_count": null,
   "metadata": {
    "ExecuteTime": {
     "end_time": "2023-01-11T07:32:15.592983Z",
     "start_time": "2023-01-11T07:32:15.592967Z"
    }
   },
   "outputs": [],
   "source": [
    "cuts, las, units = process_range(g,(0,80,2), cuttype = (0,0,1), nbtests = 1)"
   ]
  },
  {
   "cell_type": "code",
   "execution_count": null,
   "metadata": {
    "ExecuteTime": {
     "end_time": "2023-01-11T07:32:15.594556Z",
     "start_time": "2023-01-11T07:32:15.594539Z"
    }
   },
   "outputs": [],
   "source": [
    "plot_cutrange(cuts, las, units)"
   ]
  },
  {
   "cell_type": "code",
   "execution_count": null,
   "metadata": {},
   "outputs": [],
   "source": []
  }
 ],
 "metadata": {
  "kernelspec": {
   "display_name": "Python 3 (ipykernel)",
   "language": "python",
   "name": "python3"
  },
  "language_info": {
   "codemirror_mode": {
    "name": "ipython",
    "version": 3
   },
   "file_extension": ".py",
   "mimetype": "text/x-python",
   "name": "python",
   "nbconvert_exporter": "python",
   "pygments_lexer": "ipython3",
   "version": "3.10.5"
  }
 },
 "nbformat": 4,
 "nbformat_minor": 2
}
