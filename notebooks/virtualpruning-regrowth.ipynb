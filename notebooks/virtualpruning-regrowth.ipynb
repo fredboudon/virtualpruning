{
 "cells": [
  {
   "cell_type": "markdown",
   "metadata": {},
   "source": [
    "# Virtual Pruning"
   ]
  },
  {
   "cell_type": "markdown",
   "metadata": {},
   "source": [
    "## Importing the digitized structure"
   ]
  },
  {
   "cell_type": "code",
   "execution_count": 27,
   "metadata": {
    "ExecuteTime": {
     "end_time": "2022-06-03T11:48:55.973881Z",
     "start_time": "2022-06-03T11:48:54.972250Z"
    }
   },
   "outputs": [],
   "source": [
    "from openalea.mtg import *\n",
    "import numpy as np\n",
    "from importlib import reload\n",
    "import mangoG3; reload(mangoG3)\n",
    "from mangoG3 import *\n",
    "\n",
    "g = get_G3_mtg()\n"
   ]
  },
  {
   "cell_type": "code",
   "execution_count": 28,
   "metadata": {
    "ExecuteTime": {
     "end_time": "2022-06-03T11:49:00.276023Z",
     "start_time": "2022-06-03T11:48:59.506618Z"
    }
   },
   "outputs": [],
   "source": [
    "from matplotlib.pyplot import *\n",
    "import mtgplot as mp"
   ]
  },
  {
   "cell_type": "code",
   "execution_count": 29,
   "metadata": {
    "ExecuteTime": {
     "end_time": "2022-06-03T11:49:03.093764Z",
     "start_time": "2022-06-03T11:49:02.176800Z"
    }
   },
   "outputs": [
    {
     "data": {
      "application/vnd.jupyter.widget-view+json": {
       "model_id": "faab0e77b82b445a91e6f0c3da6223dc",
       "version_major": 2,
       "version_minor": 0
      },
      "text/plain": [
       "SceneWidget(scenes=[{'id': 'UITdwEELktJNW3zXpl0mVbohS', 'data': b'x\\xda\\xa4}\\t|T\\xd5\\xf5\\xff\\xb0\\x04p\\xd8\\x04\\…"
      ]
     },
     "metadata": {},
     "output_type": "display_data"
    }
   ],
   "source": [
    "sw = mp.plot_tree(g)\n",
    "sw"
   ]
  },
  {
   "cell_type": "markdown",
   "metadata": {},
   "source": [
    "## Vegative growth after pruning"
   ]
  },
  {
   "cell_type": "code",
   "execution_count": 30,
   "metadata": {
    "ExecuteTime": {
     "end_time": "2022-06-03T11:49:03.100012Z",
     "start_time": "2022-06-03T11:49:03.096235Z"
    }
   },
   "outputs": [],
   "source": [
    "import pruning ; reload(pruning)\n",
    "from pruning import *"
   ]
  },
  {
   "cell_type": "code",
   "execution_count": 35,
   "metadata": {
    "ExecuteTime": {
     "end_time": "2022-06-03T11:29:49.268489Z",
     "start_time": "2022-06-03T11:29:49.264509Z"
    }
   },
   "outputs": [],
   "source": [
    "pruned = prune(g, 190)"
   ]
  },
  {
   "cell_type": "code",
   "execution_count": 36,
   "metadata": {
    "ExecuteTime": {
     "end_time": "2022-06-03T08:35:48.026306Z",
     "start_time": "2022-06-03T08:35:48.022838Z"
    }
   },
   "outputs": [
    {
     "name": "stdout",
     "output_type": "stream",
     "text": [
      "0.5873106783518035 T3\n"
     ]
    }
   ],
   "source": [
    "intensity = continuous_intensity_from_pruned(pruned)\n",
    "print(intensity, intensity_level(intensity))"
   ]
  },
  {
   "cell_type": "code",
   "execution_count": 37,
   "metadata": {
    "ExecuteTime": {
     "end_time": "2022-06-03T08:35:49.075898Z",
     "start_time": "2022-06-03T08:35:49.071292Z"
    }
   },
   "outputs": [],
   "source": [
    "prunedrepr = mp.representation(pruned, wood = False, leaves=True)"
   ]
  },
  {
   "cell_type": "code",
   "execution_count": 38,
   "metadata": {
    "ExecuteTime": {
     "end_time": "2022-06-03T12:26:52.486186Z",
     "start_time": "2022-06-03T12:26:52.476829Z"
    }
   },
   "outputs": [],
   "source": [
    "import lightestimation; reload(lightestimation)\n",
    "from lightestimation import *"
   ]
  },
  {
   "cell_type": "code",
   "execution_count": 39,
   "metadata": {
    "ExecuteTime": {
     "end_time": "2022-06-03T12:26:56.064078Z",
     "start_time": "2022-06-03T12:26:53.782488Z"
    }
   },
   "outputs": [],
   "source": [
    "TrPPFD_min, Zeta_min, Zeta_12H = light_variables(prunedrepr)"
   ]
  },
  {
   "cell_type": "code",
   "execution_count": 24,
   "metadata": {
    "ExecuteTime": {
     "start_time": "2022-06-02T12:15:23.510Z"
    }
   },
   "outputs": [
    {
     "data": {
      "text/plain": [
       "<AxesSubplot:>"
      ]
     },
     "execution_count": 24,
     "metadata": {},
     "output_type": "execute_result"
    },
    {
     "data": {
      "image/png": "[encoded data removed]",
      "text/plain": [
       "<Figure size 432x288 with 1 Axes>"
      ]
     },
     "metadata": {
      "needs_background": "light"
     },
     "output_type": "display_data"
    }
   ],
   "source": [
    "TrPPFD_min.hist()"
   ]
  },
  {
   "cell_type": "code",
   "execution_count": 34,
   "metadata": {
    "ExecuteTime": {
     "start_time": "2022-06-02T12:15:23.512Z"
    }
   },
   "outputs": [
    {
     "data": {
      "text/plain": [
       "<AxesSubplot:>"
      ]
     },
     "execution_count": 34,
     "metadata": {},
     "output_type": "execute_result"
    },
    {
     "data": {
      "image/png": "[encoded data removed]",
      "text/plain": [
       "<Figure size 432x288 with 1 Axes>"
      ]
     },
     "metadata": {
      "needs_background": "light"
     },
     "output_type": "display_data"
    }
   ],
   "source": [
    "Zeta_min.hist()"
   ]
  },
  {
   "cell_type": "code",
   "execution_count": 36,
   "metadata": {
    "ExecuteTime": {
     "start_time": "2022-06-02T12:15:23.515Z"
    }
   },
   "outputs": [
    {
     "data": {
      "application/vnd.jupyter.widget-view+json": {
       "model_id": "2187a99d0e994769b12bf5b7aebc39a1",
       "version_major": 2,
       "version_minor": 0
      },
      "text/plain": [
       "SceneWidget(scenes=[{'id': '4OPkRNsf02IBe7pySEsUeBybp', 'data': b'x\\xda\\x8c\\x9d\\x07\\\\\\x13I\\xfb\\xc7\\xb1wE\\x05{\\…"
      ]
     },
     "metadata": {},
     "output_type": "display_data"
    }
   ],
   "source": [
    "mp.plot_projection(prunedrepr, Zeta_12H)   "
   ]
  },
  {
   "cell_type": "code",
   "execution_count": 40,
   "metadata": {
    "ExecuteTime": {
     "start_time": "2022-06-02T12:15:23.517Z"
    }
   },
   "outputs": [],
   "source": [
    "import regrowth_base; reload(regrowth_base)\n",
    "from regrowth_base import plot_growth\n",
    "import regrowth_emma; reload(regrowth_emma)\n",
    "from regrowth_emma import *"
   ]
  },
  {
   "cell_type": "code",
   "execution_count": 41,
   "metadata": {
    "ExecuteTime": {
     "start_time": "2022-06-02T12:15:23.527Z"
    }
   },
   "outputs": [
    {
     "name": "stdout",
     "output_type": "stream",
     "text": [
      "Should examine 2434 terminal GUs.\n",
      "Processed 570 pruned terminal GU and 1833 unpruned terminal GU and  31 ignored.\n",
      "Created 6957 new GUs\n"
     ]
    },
    {
     "data": {
      "application/vnd.jupyter.widget-view+json": {
       "model_id": "7fbed25b0f5941fa85dd60c76f2ecf0c",
       "version_major": 2,
       "version_minor": 0
      },
      "text/plain": [
       "SceneWidget(scenes=[{'id': '1ChovVkZz2WURgHddHnsGJWUJ', 'data': b'x\\xda\\xc4\\xbd\\x07|\\xd5\\xc6\\xd2>l\\xba\\xe9\\xbd…"
      ]
     },
     "metadata": {},
     "output_type": "display_data"
    }
   ],
   "source": [
    "regrowth, newids = growth(pruned, TrPPFD_min, Zeta_min, Zeta_12H)\n",
    "\n",
    "print('Created', len(newids), 'new GUs')\n",
    "plot_growth(regrowth, leaves=True, gc=True)"
   ]
  },
  {
   "cell_type": "code",
   "execution_count": 42,
   "metadata": {
    "ExecuteTime": {
     "start_time": "2022-06-02T12:15:23.529Z"
    }
   },
   "outputs": [],
   "source": [
    "def date_histo(g):\n",
    "    from matplotlib.pyplot import hist, show\n",
    "    from collections import Counter\n",
    "    from datetime import timedelta\n",
    "    c = list(Counter(g.property('BurstDate').values()).items())\n",
    "    c.sort(key = lambda v : v[0])\n",
    "    mindate = c[0][0]\n",
    "    maxdate = c[-1][0]\n",
    "    c = dict(c)\n",
    "    r = range(0,(maxdate-mindate).days)\n",
    "    d = [mindate+timedelta(days=d) for d in r]\n",
    "    v = [ c.get(di,0) for di in d]\n",
    "    bar(r,v)\n",
    "    xticks(r,d, rotation=90)\n",
    "    show()"
   ]
  },
  {
   "cell_type": "code",
   "execution_count": 43,
   "metadata": {
    "ExecuteTime": {
     "start_time": "2022-06-02T12:15:23.531Z"
    }
   },
   "outputs": [
    {
     "data": {
      "image/png": "[encoded data removed]",
      "text/plain": [
       "<Figure size 432x288 with 1 Axes>"
      ]
     },
     "metadata": {
      "needs_background": "light"
     },
     "output_type": "display_data"
    }
   ],
   "source": [
    "date_histo(regrowth)"
   ]
  },
  {
   "cell_type": "code",
   "execution_count": 44,
   "metadata": {
    "ExecuteTime": {
     "start_time": "2022-06-02T12:15:23.533Z"
    }
   },
   "outputs": [
    {
     "name": "stdout",
     "output_type": "stream",
     "text": [
      "2021-03-10 --- 2021-04-05\n"
     ]
    },
    {
     "name": "stderr",
     "output_type": "stream",
     "text": [
      "D:\\V_mango\\virtualpruning\\notebooks\\mtgplot.py:255: FutureWarning: Comparison of Timestamp with datetime.date is deprecated in order to match the standard library behavior. In a future version these will be considered non-comparable. Use 'ts == pd.Timestamp(date)' or 'ts.date() == date' instead.\n",
      "  if burstdate and burstdate > todate: return\n"
     ]
    },
    {
     "data": {
      "application/vnd.jupyter.widget-view+json": {
       "model_id": "1aef918832e24719a5d8f6016d76c2a8",
       "version_major": 2,
       "version_minor": 0
      },
      "text/plain": [
       "SceneWidget(scenes=[{'id': 'FinIzlo0v0vX9N7p9NbLb0oT1', 'data': b'x\\xda\\x94\\x9d\\x05`\\x15\\xc7\\xd6\\xc7\\x83\\xbb\\x…"
      ]
     },
     "metadata": {},
     "output_type": "display_data"
    },
    {
     "data": {
      "application/vnd.jupyter.widget-view+json": {
       "model_id": "1b6b41815ff441abaf1e056c067e74c5",
       "version_major": 2,
       "version_minor": 0
      },
      "text/plain": [
       "interactive(children=(IntSlider(value=26, description='x', max=26), Button(description='Run Interact', style=B…"
      ]
     },
     "metadata": {},
     "output_type": "display_data"
    },
    {
     "data": {
      "text/plain": [
       "<function regrowth_base.plot_growth_dynamic.<locals>.plot_dyn(x)>"
      ]
     },
     "execution_count": 44,
     "metadata": {},
     "output_type": "execute_result"
    }
   ],
   "source": [
    "plot_growth_dynamic(regrowth)"
   ]
  },
  {
   "cell_type": "code",
   "execution_count": 17,
   "metadata": {
    "ExecuteTime": {
     "start_time": "2022-06-02T12:15:23.535Z"
    }
   },
   "outputs": [],
   "source": [
    "def nb_children_histo(g):\n",
    "    def severity(vid):\n",
    "        return g.property('cuted').get(vid,0)\n",
    "\n",
    "    ancestors = [get_parent(g,vid) if vid in g.property('BurstDate') else vid for vid in get_all_terminal_gus(g) ]\n",
    "    ancestors = set(ancestors)\n",
    "    \n",
    "    values = [[] for i in range(4)]\n",
    "    for vid in ancestors:\n",
    "        values[severity(vid)].append(g.nb_children(vid))\n",
    "    figure(figsize=(18,4))\n",
    "    for order, v in enumerate(values):\n",
    "        if len(v) > 0:\n",
    "            subplot(220+order+1)\n",
    "            hist(v, bins=np.arange(0,max(1,max(v)))-0.5)\n",
    "            print(len(v),(np.mean(v), np.std(v)),(np.mean([vi for vi in v if vi > 0]), np.std([vi for vi in v if vi > 0])),(np.min(v), np.max(v)))\n",
    "    show()\n",
    "    "
   ]
  },
  {
   "cell_type": "code",
   "execution_count": 18,
   "metadata": {
    "ExecuteTime": {
     "start_time": "2022-06-02T12:15:23.538Z"
    }
   },
   "outputs": [
    {
     "name": "stdout",
     "output_type": "stream",
     "text": [
      "2779 (1.2151853184598778, 1.813479493453885) (2.673792557403009, 1.8265228429135258) (0, 11)\n"
     ]
    },
    {
     "data": {
      "image/png": "[encoded data removed]",
      "text/plain": [
       "<Figure size 1296x288 with 1 Axes>"
      ]
     },
     "metadata": {
      "needs_background": "light"
     },
     "output_type": "display_data"
    }
   ],
   "source": [
    "nb_children_histo(regrowth)"
   ]
  },
  {
   "cell_type": "code",
   "execution_count": 19,
   "metadata": {
    "ExecuteTime": {
     "start_time": "2022-06-02T12:15:23.540Z"
    }
   },
   "outputs": [],
   "source": [
    "import gapfraction ; reload(gapfraction)\n",
    "from gapfraction import gapfraction_dynamic"
   ]
  },
  {
   "cell_type": "code",
   "execution_count": 48,
   "metadata": {
    "ExecuteTime": {
     "start_time": "2022-06-02T12:15:23.542Z"
    }
   },
   "outputs": [],
   "source": [
    "gft = gapfraction_dynamic(regrowth) "
   ]
  },
  {
   "cell_type": "code",
   "execution_count": 49,
   "metadata": {
    "ExecuteTime": {
     "start_time": "2022-06-02T12:15:23.544Z"
    }
   },
   "outputs": [],
   "source": [
    "pruningdate = date(2021,2,24)"
   ]
  },
  {
   "cell_type": "code",
   "execution_count": 50,
   "metadata": {
    "ExecuteTime": {
     "start_time": "2022-06-02T12:15:23.545Z"
    }
   },
   "outputs": [
    {
     "name": "stdout",
     "output_type": "stream",
     "text": [
      "0.08657181959960533\n"
     ]
    }
   ],
   "source": [
    "import gapfraction; reload(gapfraction)\n",
    "from gapfraction import *\n",
    "\n",
    "gf0 = gap_fraction(g, camheight=150)\n",
    "print(gf0)"
   ]
  },
  {
   "cell_type": "code",
   "execution_count": 51,
   "metadata": {
    "ExecuteTime": {
     "start_time": "2022-06-02T12:15:23.547Z"
    }
   },
   "outputs": [
    {
     "data": {
      "image/png": "[encoded data removed]",
      "text/plain": [
       "<Figure size 432x288 with 1 Axes>"
      ]
     },
     "metadata": {
      "needs_background": "light"
     },
     "output_type": "display_data"
    }
   ],
   "source": [
    "from matplotlib.pyplot import *\n",
    "plot([pruningdate,pruningdate]+[d for d,g in gft],[gf0,gft[0][1]]+[g for d,g in gft])\n",
    "hlines(gf0,pruningdate,gft[-1][0],color='r')\n",
    "ylim(0,0.25)\n",
    "xticks(rotation = 80)\n",
    "show()"
   ]
  },
  {
   "cell_type": "code",
   "execution_count": 52,
   "metadata": {},
   "outputs": [],
   "source": [
    "my_array = [pruningdate,pruningdate]+[d for d,g in gft],[gf0,gft[0][1]]+[g for d,g in gft]"
   ]
  },
  {
   "cell_type": "code",
   "execution_count": 53,
   "metadata": {},
   "outputs": [],
   "source": [
    "import csv\n",
    "import pandas as pd \n",
    "\n",
    "df = pd.DataFrame(my_array) \n",
    "\n",
    "df.to_csv('simulation_T3.csv') "
   ]
  },
  {
   "cell_type": "code",
   "execution_count": null,
   "metadata": {},
   "outputs": [],
   "source": [
    "## STOP - Ajouter les relations de séverine"
   ]
  },
  {
   "cell_type": "code",
   "execution_count": 32,
   "metadata": {
    "ExecuteTime": {
     "start_time": "2022-06-02T12:15:23.549Z"
    }
   },
   "outputs": [],
   "source": [
    "# Leaf area produced + leaf area removed at the tree scale\n",
    "def leaf_area_produced(mtg,newids):\n",
    "    newids = growth(t3, listidprunedT3, T3)\n",
    "    totalleafarea = sum([individual_leafarea_unpruned() for vid in newids])\n",
    "    growth(t3, listidprunedT3, T3)\n",
    "    return totalleafarea"
   ]
  },
  {
   "cell_type": "code",
   "execution_count": 42,
   "metadata": {
    "ExecuteTime": {
     "start_time": "2022-06-02T12:15:23.551Z"
    }
   },
   "outputs": [],
   "source": [
    "def simulation(mtg, nbcuts):\n",
    "    from allometry import gu_leaf_area\n",
    "    # characterize before pruning\n",
    "    # nb of terminal units\n",
    "    nbterminalunits = len(get_all_terminal_gus(mtg))\n",
    "\n",
    "    # determine pruning\n",
    "    listidpruned = define_pruning(mtg, nbcuts, None)\n",
    "    #pruningprop = tag_pruning(mtg, listidpruned)\n",
    "\n",
    "    # characterize pruning\n",
    "    # - intensity\n",
    "    intensity = intensity_level(continuous_intensity(g,listidpruned))\n",
    "    #if intensity == T2:\n",
    "    #    raise ValueError('Intensity', intensity)\n",
    "        \n",
    "    #  - nb of terminal units\n",
    "    nbremovedGU = sum([sum([len(get_descendants_gus_from_ancestor(mtg, vid))-1 for vid in pruneds]) for order, pruneds in listidpruned.items()])\n",
    "    \n",
    "    # - surface foliaire retire \n",
    "    removed_leaf_area = sum([sum([gu_leaf_area(get_gu_diameter(mtg, vid)) for vid in pruneds]) for order, pruneds in listidpruned.items()])\n",
    "    \n",
    "    # apply pruning\n",
    "    prunedmtg = apply_pruning(mtg, listidpruned)\n",
    "    \n",
    "    prunedrepr = mp.representation(pruned, wood = False, leaves=True)\n",
    "    TrPPFD_min, Zeta_min, Zeta_12H = light_variables(prunedrepr)\n",
    "\n",
    "    # characterize pruning\n",
    "    # nb of terminal units\n",
    "    \n",
    "    # apply growth    \n",
    "    growthmtg, newGUs = growth(prunedmtg, TrPPFD_min, Zeta_min, Zeta_12H)\n",
    "\n",
    "    allpruned = pruned\n",
    "\n",
    "    # characterize growth\n",
    "    nbgeneratedGU = len(newGUs)\n",
    "    generated_leaf_area_pruned = sum([la for vid,la in growthmtg.property('RegeneratedLeafArea').items() if vid in allpruned])\n",
    "    generated_leaf_area_unpruned = sum([la for vid,la in growthmtg.property('RegeneratedLeafArea').items() if not (vid in allpruned)])\n",
    "    \n",
    "    return (nbterminalunits, nbremovedGU, nbgeneratedGU), (removed_leaf_area, generated_leaf_area_pruned, generated_leaf_area_unpruned)\n",
    "    "
   ]
  },
  {
   "cell_type": "code",
   "execution_count": 43,
   "metadata": {
    "ExecuteTime": {
     "start_time": "2022-06-02T12:15:23.554Z"
    }
   },
   "outputs": [
    {
     "name": "stdout",
     "output_type": "stream",
     "text": [
      "Should examine 3228 terminal GUs.\n",
      "Processed 0 pruned terminal GU and 3187 unpruned terminal GU and  41 ignored.\n",
      "(3228, 0, 813) (0, 2298.893514908979, 28.722221652452262)\n"
     ]
    }
   ],
   "source": [
    "units0, la0 = simulation(g, 0)\n",
    "print(units0, la0)"
   ]
  },
  {
   "cell_type": "code",
   "execution_count": 44,
   "metadata": {
    "ExecuteTime": {
     "start_time": "2022-06-02T12:15:23.555Z"
    }
   },
   "outputs": [
    {
     "name": "stdout",
     "output_type": "stream",
     "text": [
      "Should examine 3132 terminal GUs.\n",
      "Processed 60 pruned terminal GU and 3031 unpruned terminal GU and  41 ignored.\n",
      "(3228, 251, 1151) (658.9394325172887, 2971.8808430798376, 47.34423363147957)\n"
     ]
    }
   ],
   "source": [
    "units20, la20 = simulation(g, 20)\n",
    "print(units20, la20)"
   ]
  },
  {
   "cell_type": "code",
   "execution_count": 45,
   "metadata": {
    "ExecuteTime": {
     "start_time": "2022-06-02T12:15:23.557Z"
    }
   },
   "outputs": [
    {
     "name": "stdout",
     "output_type": "stream",
     "text": [
      "Should examine 2945 terminal GUs.\n",
      "Processed 180 pruned terminal GU and 2728 unpruned terminal GU and  37 ignored.\n",
      "(3228, 715, 1891) (1971.6391470866624, 4709.198169813974, 120.65501127908472)\n"
     ]
    }
   ],
   "source": [
    "units60, la60 = simulation(g, 60)\n",
    "print(units60, la60)"
   ]
  },
  {
   "cell_type": "code",
   "execution_count": 46,
   "metadata": {
    "ExecuteTime": {
     "start_time": "2022-06-02T12:15:23.559Z"
    }
   },
   "outputs": [
    {
     "name": "stdout",
     "output_type": "stream",
     "text": [
      "2298.893514908979\n",
      "2312.941410562549\n",
      "2737.559022727312\n"
     ]
    }
   ],
   "source": [
    "print(la0[1]-la0[0])\n",
    "print(la20[1]-la20[0])\n",
    "print(la60[1]-la60[0])"
   ]
  },
  {
   "cell_type": "code",
   "execution_count": 47,
   "metadata": {},
   "outputs": [],
   "source": [
    "def process_range(mtg, cutrange = (0,20), cuttype = (1,1,1), nbtests = 1):\n",
    "    if type(cutrange) == int:\n",
    "        cutrange = (0, cutrange)\n",
    "    import numpy as np\n",
    "    gla = []\n",
    "    gunits = [] \n",
    "    cuts = []\n",
    "    for c in range(*cutrange):\n",
    "        for i in range(nbtests):\n",
    "            print('process',c,'-',i)\n",
    "            try:\n",
    "                units, la = simulation(mtg, [c*i for i in cuttype])\n",
    "            except ValueError as e:\n",
    "                print(e)\n",
    "                continue\n",
    "            gla.append(la)\n",
    "            gunits.append(units)\n",
    "            cuts.append(c)\n",
    "    gla = np.array(gla)\n",
    "    gunits = np.array(gunits)\n",
    "    return cuts, gla, gunits\n",
    "    "
   ]
  },
  {
   "cell_type": "code",
   "execution_count": 48,
   "metadata": {},
   "outputs": [
    {
     "name": "stdout",
     "output_type": "stream",
     "text": [
      "process 0 - 0\n",
      "Should examine 3228 terminal GUs.\n",
      "Processed 0 pruned terminal GU and 3187 unpruned terminal GU and  41 ignored.\n",
      "process 5 - 0\n",
      "Should examine 3213 terminal GUs.\n",
      "Processed 15 pruned terminal GU and 3157 unpruned terminal GU and  41 ignored.\n",
      "process 10 - 0\n",
      "Should examine 3183 terminal GUs.\n",
      "Processed 30 pruned terminal GU and 3112 unpruned terminal GU and  41 ignored.\n",
      "process 15 - 0\n",
      "Should examine 3173 terminal GUs.\n",
      "Processed 45 pruned terminal GU and 3088 unpruned terminal GU and  40 ignored.\n",
      "process 20 - 0\n",
      "Should examine 3127 terminal GUs.\n",
      "Processed 60 pruned terminal GU and 3026 unpruned terminal GU and  41 ignored.\n",
      "process 25 - 0\n",
      "Should examine 3111 terminal GUs.\n",
      "Processed 75 pruned terminal GU and 2998 unpruned terminal GU and  38 ignored.\n",
      "process 30 - 0\n",
      "Should examine 3096 terminal GUs.\n",
      "Processed 90 pruned terminal GU and 2968 unpruned terminal GU and  38 ignored.\n",
      "process 35 - 0\n",
      "Should examine 3073 terminal GUs.\n",
      "Processed 105 pruned terminal GU and 2930 unpruned terminal GU and  38 ignored.\n",
      "process 40 - 0\n",
      "Should examine 3037 terminal GUs.\n",
      "Processed 120 pruned terminal GU and 2877 unpruned terminal GU and  40 ignored.\n",
      "process 45 - 0\n",
      "Should examine 3027 terminal GUs.\n",
      "Processed 135 pruned terminal GU and 2851 unpruned terminal GU and  41 ignored.\n",
      "process 50 - 0\n",
      "Should examine 3034 terminal GUs.\n",
      "Processed 150 pruned terminal GU and 2846 unpruned terminal GU and  38 ignored.\n",
      "process 55 - 0\n",
      "Should examine 2989 terminal GUs.\n",
      "Processed 165 pruned terminal GU and 2784 unpruned terminal GU and  40 ignored.\n",
      "process 60 - 0\n",
      "Should examine 2935 terminal GUs.\n",
      "Processed 180 pruned terminal GU and 2717 unpruned terminal GU and  38 ignored.\n",
      "process 65 - 0\n",
      "Should examine 2941 terminal GUs.\n",
      "Processed 195 pruned terminal GU and 2711 unpruned terminal GU and  35 ignored.\n",
      "process 70 - 0\n",
      "Should examine 2928 terminal GUs.\n",
      "Processed 210 pruned terminal GU and 2680 unpruned terminal GU and  38 ignored.\n",
      "process 75 - 0\n",
      "Should examine 2908 terminal GUs.\n",
      "Processed 225 pruned terminal GU and 2644 unpruned terminal GU and  39 ignored.\n",
      "process 80 - 0\n",
      "Should examine 2837 terminal GUs.\n",
      "Processed 240 pruned terminal GU and 2558 unpruned terminal GU and  39 ignored.\n",
      "process 85 - 0\n",
      "Should examine 2868 terminal GUs.\n",
      "Processed 255 pruned terminal GU and 2577 unpruned terminal GU and  36 ignored.\n",
      "process 90 - 0\n",
      "Should examine 2869 terminal GUs.\n",
      "Processed 270 pruned terminal GU and 2561 unpruned terminal GU and  38 ignored.\n",
      "process 95 - 0\n",
      "Should examine 2808 terminal GUs.\n",
      "Processed 285 pruned terminal GU and 2488 unpruned terminal GU and  35 ignored.\n",
      "process 100 - 0\n",
      "Should examine 2803 terminal GUs.\n",
      "Processed 300 pruned terminal GU and 2468 unpruned terminal GU and  35 ignored.\n",
      "process 105 - 0\n",
      "Should examine 2800 terminal GUs.\n",
      "Processed 315 pruned terminal GU and 2447 unpruned terminal GU and  38 ignored.\n",
      "process 110 - 0\n",
      "Should examine 2739 terminal GUs.\n",
      "p < 0, p > 1 or p is NaN\n",
      "process 115 - 0\n",
      "Should examine 2755 terminal GUs.\n",
      "Processed 345 pruned terminal GU and 2377 unpruned terminal GU and  33 ignored.\n",
      "process 120 - 0\n",
      "Should examine 2691 terminal GUs.\n",
      "Processed 360 pruned terminal GU and 2295 unpruned terminal GU and  36 ignored.\n",
      "process 125 - 0\n",
      "Should examine 2701 terminal GUs.\n",
      "Processed 375 pruned terminal GU and 2294 unpruned terminal GU and  32 ignored.\n",
      "process 130 - 0\n",
      "Should examine 2663 terminal GUs.\n",
      "too many values to unpack (expected 2)\n",
      "process 135 - 0\n",
      "Should examine 2613 terminal GUs.\n",
      "too many values to unpack (expected 2)\n",
      "process 140 - 0\n",
      "Should examine 2586 terminal GUs.\n",
      "too many values to unpack (expected 2)\n",
      "process 145 - 0\n",
      "Should examine 2574 terminal GUs.\n",
      "too many values to unpack (expected 2)\n",
      "process 150 - 0\n",
      "Should examine 2558 terminal GUs.\n",
      "too many values to unpack (expected 2)\n",
      "process 155 - 0\n",
      "Should examine 2600 terminal GUs.\n",
      "too many values to unpack (expected 2)\n",
      "process 160 - 0\n",
      "Should examine 2541 terminal GUs.\n",
      "too many values to unpack (expected 2)\n",
      "process 165 - 0\n",
      "Should examine 2508 terminal GUs.\n",
      "too many values to unpack (expected 2)\n",
      "process 170 - 0\n",
      "Should examine 2457 terminal GUs.\n",
      "too many values to unpack (expected 2)\n",
      "process 175 - 0\n",
      "Should examine 2488 terminal GUs.\n",
      "too many values to unpack (expected 2)\n"
     ]
    }
   ],
   "source": [
    "cuts76, las76, units76 = process_range(g,(0,180,5), nbtests = 1)"
   ]
  },
  {
   "cell_type": "code",
   "execution_count": 49,
   "metadata": {},
   "outputs": [],
   "source": [
    "def plot_cutrange(cuts, las, units):\n",
    "    figure(figsize=(12,6))\n",
    "    #subplot(121)\n",
    "    normalproduction = np.mean(las[np.where(np.isin(cuts,[0]))[0],2])\n",
    "    plot(cuts,las[:,0],'.',label='removed leaf area')\n",
    "    plot(cuts,las[:,1],'.',label='generated leaf area from pruned GU')\n",
    "    plot(cuts,las[:,2],'.',label='generated leaf area from unpruned GU')\n",
    "    plot(cuts,las[:,1]+las[:,2],'.',label='generated leaf area')\n",
    "    plot(cuts,(las[:,1]+las[:,2])-(las[:,0]+normalproduction),'.',label='increase of leaf area (compared to To)')\n",
    "    legend()\n",
    "    show()\n",
    "    figure(figsize=(12,6))\n",
    "    #subplot(122)\n",
    "    plot(cuts,units[:,0],'.',label='nb terminal units')\n",
    "    plot(cuts,units[:,1],'.',label='nb removed GU')\n",
    "    plot(cuts,units[:,2],'.',label='nb generated GU')\n",
    "    legend()\n",
    "    show()"
   ]
  },
  {
   "cell_type": "code",
   "execution_count": 50,
   "metadata": {},
   "outputs": [
    {
     "data": {
      "image/png": "[encoded data removed]",
      "text/plain": [
       "<Figure size 864x432 with 1 Axes>"
      ]
     },
     "metadata": {
      "needs_background": "light"
     },
     "output_type": "display_data"
    },
    {
     "data": {
      "image/png": "[encoded data removed]",
      "text/plain": [
       "<Figure size 864x432 with 1 Axes>"
      ]
     },
     "metadata": {
      "needs_background": "light"
     },
     "output_type": "display_data"
    }
   ],
   "source": [
    "plot_cutrange(cuts76, las76, units76)"
   ]
  },
  {
   "cell_type": "code",
   "execution_count": 48,
   "metadata": {
    "collapsed": true
   },
   "outputs": [
    {
     "name": "stdout",
     "output_type": "stream",
     "text": [
      "process 0 - 0\n",
      "Should examine 3228 terminal GUs.\n",
      "Processed 0 pruned terminal GU and 3187 unpruned terminal GU and  41 ignored.\n",
      "process 5 - 0\n",
      "Should examine 3228 terminal GUs.\n",
      "Processed 5 pruned terminal GU and 3182 unpruned terminal GU and  41 ignored.\n",
      "process 10 - 0\n",
      "Should examine 3213 terminal GUs.\n",
      "Processed 10 pruned terminal GU and 3162 unpruned terminal GU and  41 ignored.\n",
      "process 15 - 0\n",
      "Should examine 3223 terminal GUs.\n",
      "Processed 15 pruned terminal GU and 3167 unpruned terminal GU and  41 ignored.\n",
      "process 20 - 0\n",
      "Should examine 3221 terminal GUs.\n",
      "Processed 20 pruned terminal GU and 3160 unpruned terminal GU and  41 ignored.\n",
      "process 25 - 0\n",
      "Should examine 3214 terminal GUs.\n",
      "Processed 25 pruned terminal GU and 3148 unpruned terminal GU and  41 ignored.\n",
      "process 30 - 0\n",
      "Should examine 3218 terminal GUs.\n",
      "Processed 30 pruned terminal GU and 3148 unpruned terminal GU and  40 ignored.\n",
      "process 35 - 0\n",
      "Should examine 3217 terminal GUs.\n",
      "Processed 35 pruned terminal GU and 3141 unpruned terminal GU and  41 ignored.\n",
      "process 40 - 0\n",
      "Should examine 3216 terminal GUs.\n",
      "p < 0, p > 1 or p is NaN\n",
      "process 45 - 0\n",
      "Should examine 3213 terminal GUs.\n",
      "Processed 45 pruned terminal GU and 3127 unpruned terminal GU and  41 ignored.\n",
      "process 50 - 0\n",
      "Should examine 3193 terminal GUs.\n",
      "Processed 50 pruned terminal GU and 3103 unpruned terminal GU and  40 ignored.\n",
      "process 55 - 0\n",
      "Should examine 3221 terminal GUs.\n",
      "Processed 55 pruned terminal GU and 3126 unpruned terminal GU and  40 ignored.\n",
      "process 60 - 0\n",
      "Should examine 3199 terminal GUs.\n",
      "Processed 60 pruned terminal GU and 3099 unpruned terminal GU and  40 ignored.\n",
      "process 65 - 0\n",
      "Should examine 3190 terminal GUs.\n",
      "Processed 65 pruned terminal GU and 3087 unpruned terminal GU and  38 ignored.\n",
      "process 70 - 0\n",
      "Should examine 3192 terminal GUs.\n",
      "Processed 70 pruned terminal GU and 3081 unpruned terminal GU and  41 ignored.\n",
      "process 75 - 0\n",
      "Should examine 3204 terminal GUs.\n",
      "Processed 75 pruned terminal GU and 3088 unpruned terminal GU and  41 ignored.\n",
      "process 80 - 0\n",
      "Should examine 3204 terminal GUs.\n",
      "Processed 80 pruned terminal GU and 3083 unpruned terminal GU and  41 ignored.\n",
      "process 85 - 0\n",
      "Should examine 3191 terminal GUs.\n",
      "Processed 85 pruned terminal GU and 3067 unpruned terminal GU and  39 ignored.\n",
      "process 90 - 0\n",
      "Should examine 3194 terminal GUs.\n",
      "Processed 90 pruned terminal GU and 3065 unpruned terminal GU and  39 ignored.\n",
      "process 95 - 0\n",
      "Should examine 3192 terminal GUs.\n",
      "p < 0, p > 1 or p is NaN\n",
      "process 100 - 0\n",
      "Should examine 3196 terminal GUs.\n",
      "Processed 100 pruned terminal GU and 3056 unpruned terminal GU and  40 ignored.\n",
      "process 105 - 0\n",
      "Should examine 3184 terminal GUs.\n",
      "p < 0, p > 1 or p is NaN\n",
      "process 110 - 0\n",
      "Should examine 3171 terminal GUs.\n",
      "Processed 110 pruned terminal GU and 3022 unpruned terminal GU and  39 ignored.\n",
      "process 115 - 0\n",
      "Should examine 3185 terminal GUs.\n",
      "Processed 115 pruned terminal GU and 3029 unpruned terminal GU and  41 ignored.\n",
      "process 120 - 0\n",
      "Should examine 3181 terminal GUs.\n",
      "Processed 120 pruned terminal GU and 3021 unpruned terminal GU and  40 ignored.\n",
      "process 125 - 0\n",
      "Should examine 3190 terminal GUs.\n",
      "Processed 125 pruned terminal GU and 3025 unpruned terminal GU and  40 ignored.\n",
      "process 130 - 0\n",
      "Should examine 3172 terminal GUs.\n",
      "Processed 130 pruned terminal GU and 3003 unpruned terminal GU and  39 ignored.\n",
      "process 135 - 0\n",
      "Should examine 3168 terminal GUs.\n",
      "Processed 135 pruned terminal GU and 2993 unpruned terminal GU and  40 ignored.\n",
      "process 140 - 0\n",
      "Should examine 3146 terminal GUs.\n",
      "Processed 140 pruned terminal GU and 2966 unpruned terminal GU and  40 ignored.\n",
      "process 145 - 0\n",
      "Should examine 3175 terminal GUs.\n",
      "Processed 145 pruned terminal GU and 2989 unpruned terminal GU and  41 ignored.\n",
      "process 150 - 0\n",
      "Should examine 3153 terminal GUs.\n",
      "Processed 150 pruned terminal GU and 2964 unpruned terminal GU and  39 ignored.\n",
      "process 155 - 0\n",
      "Should examine 3176 terminal GUs.\n",
      "Processed 155 pruned terminal GU and 2980 unpruned terminal GU and  41 ignored.\n",
      "process 160 - 0\n",
      "Should examine 3160 terminal GUs.\n",
      "Processed 160 pruned terminal GU and 2961 unpruned terminal GU and  39 ignored.\n",
      "process 165 - 0\n",
      "Should examine 3152 terminal GUs.\n",
      "Processed 165 pruned terminal GU and 2948 unpruned terminal GU and  39 ignored.\n",
      "process 170 - 0\n",
      "Should examine 3161 terminal GUs.\n",
      "Processed 170 pruned terminal GU and 2954 unpruned terminal GU and  37 ignored.\n",
      "process 175 - 0\n",
      "Should examine 3158 terminal GUs.\n",
      "Processed 175 pruned terminal GU and 2943 unpruned terminal GU and  40 ignored.\n",
      "process 180 - 0\n",
      "Should examine 3157 terminal GUs.\n",
      "Processed 180 pruned terminal GU and 2936 unpruned terminal GU and  41 ignored.\n",
      "process 185 - 0\n",
      "Should examine 3145 terminal GUs.\n",
      "p < 0, p > 1 or p is NaN\n",
      "process 190 - 0\n",
      "Should examine 3148 terminal GUs.\n",
      "Processed 190 pruned terminal GU and 2921 unpruned terminal GU and  37 ignored.\n",
      "process 195 - 0\n",
      "Should examine 3155 terminal GUs.\n",
      "Processed 195 pruned terminal GU and 2921 unpruned terminal GU and  39 ignored.\n",
      "process 200 - 0\n",
      "Should examine 3170 terminal GUs.\n",
      "Processed 200 pruned terminal GU and 2931 unpruned terminal GU and  39 ignored.\n",
      "process 205 - 0\n",
      "Should examine 3136 terminal GUs.\n",
      "p < 0, p > 1 or p is NaN\n",
      "process 210 - 0\n",
      "Should examine 3142 terminal GUs.\n",
      "Processed 210 pruned terminal GU and 2894 unpruned terminal GU and  38 ignored.\n",
      "process 215 - 0\n",
      "Should examine 3148 terminal GUs.\n",
      "Processed 215 pruned terminal GU and 2892 unpruned terminal GU and  41 ignored.\n",
      "process 220 - 0\n",
      "Should examine 3130 terminal GUs.\n",
      "p < 0, p > 1 or p is NaN\n",
      "process 225 - 0\n",
      "Should examine 3136 terminal GUs.\n",
      "Processed 225 pruned terminal GU and 2873 unpruned terminal GU and  38 ignored.\n",
      "process 230 - 0\n",
      "Should examine 3104 terminal GUs.\n",
      "Processed 230 pruned terminal GU and 2837 unpruned terminal GU and  37 ignored.\n",
      "process 235 - 0\n",
      "Should examine 3150 terminal GUs.\n",
      "Processed 235 pruned terminal GU and 2874 unpruned terminal GU and  41 ignored.\n",
      "process 240 - 0\n",
      "Should examine 3113 terminal GUs.\n",
      "Processed 240 pruned terminal GU and 2835 unpruned terminal GU and  38 ignored.\n",
      "process 245 - 0\n",
      "Should examine 3108 terminal GUs.\n",
      "Processed 245 pruned terminal GU and 2826 unpruned terminal GU and  37 ignored.\n",
      "process 250 - 0\n",
      "Should examine 3125 terminal GUs.\n",
      "Processed 250 pruned terminal GU and 2836 unpruned terminal GU and  39 ignored.\n",
      "process 255 - 0\n",
      "Should examine 3135 terminal GUs.\n",
      "p < 0, p > 1 or p is NaN\n",
      "process 260 - 0\n",
      "Should examine 3123 terminal GUs.\n",
      "Processed 260 pruned terminal GU and 2824 unpruned terminal GU and  39 ignored.\n",
      "process 265 - 0\n",
      "Should examine 3121 terminal GUs.\n",
      "Processed 265 pruned terminal GU and 2817 unpruned terminal GU and  39 ignored.\n",
      "process 270 - 0\n",
      "Should examine 3110 terminal GUs.\n",
      "Processed 270 pruned terminal GU and 2803 unpruned terminal GU and  37 ignored.\n",
      "process 275 - 0\n",
      "Should examine 3105 terminal GUs.\n",
      "Processed 275 pruned terminal GU and 2794 unpruned terminal GU and  36 ignored.\n",
      "process 280 - 0\n",
      "Should examine 3121 terminal GUs.\n",
      "Processed 280 pruned terminal GU and 2802 unpruned terminal GU and  39 ignored.\n",
      "process 285 - 0\n",
      "Should examine 3103 terminal GUs.\n",
      "Processed 285 pruned terminal GU and 2781 unpruned terminal GU and  37 ignored.\n",
      "process 290 - 0\n",
      "Should examine 3091 terminal GUs.\n",
      "Processed 290 pruned terminal GU and 2762 unpruned terminal GU and  39 ignored.\n",
      "process 295 - 0\n",
      "Should examine 3093 terminal GUs.\n",
      "Processed 295 pruned terminal GU and 2760 unpruned terminal GU and  38 ignored.\n"
     ]
    }
   ],
   "source": [
    "cuts, las, units = process_range(g,(0,300,5), cuttype = (1,0,0), nbtests = 1)"
   ]
  },
  {
   "cell_type": "code",
   "execution_count": 50,
   "metadata": {},
   "outputs": [
    {
     "data": {
      "image/png": "[encoded data removed]",
      "text/plain": [
       "<Figure size 864x432 with 1 Axes>"
      ]
     },
     "metadata": {
      "needs_background": "light"
     },
     "output_type": "display_data"
    },
    {
     "data": {
      "image/png": "[encoded data removed]",
      "text/plain": [
       "<Figure size 864x432 with 1 Axes>"
      ]
     },
     "metadata": {
      "needs_background": "light"
     },
     "output_type": "display_data"
    }
   ],
   "source": [
    "plot_cutrange(cuts, las, units)"
   ]
  },
  {
   "cell_type": "code",
   "execution_count": null,
   "metadata": {},
   "outputs": [],
   "source": [
    "cuts, las, units = process_range(g,(0,300,5), cuttype = (0,1,0), nbtests = 1)"
   ]
  },
  {
   "cell_type": "code",
   "execution_count": null,
   "metadata": {},
   "outputs": [],
   "source": [
    "plot_cutrange(cuts, las, units)"
   ]
  },
  {
   "cell_type": "code",
   "execution_count": null,
   "metadata": {},
   "outputs": [],
   "source": [
    "cuts, las, units = process_range(g,(0,80,2), cuttype = (0,0,1), nbtests = 1)"
   ]
  },
  {
   "cell_type": "code",
   "execution_count": null,
   "metadata": {},
   "outputs": [],
   "source": [
    "plot_cutrange(cuts, las, units)"
   ]
  }
 ],
 "metadata": {
  "kernelspec": {
   "display_name": "Python 3 (ipykernel)",
   "language": "python",
   "name": "python3"
  },
  "language_info": {
   "codemirror_mode": {
    "name": "ipython",
    "version": 3
   },
   "file_extension": ".py",
   "mimetype": "text/x-python",
   "name": "python",
   "nbconvert_exporter": "python",
   "pygments_lexer": "ipython3",
   "version": "3.9.12"
  }
 },
 "nbformat": 4,
 "nbformat_minor": 2
}
