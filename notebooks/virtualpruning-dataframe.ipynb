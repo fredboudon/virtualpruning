{
 "cells": [
  {
   "cell_type": "markdown",
   "metadata": {},
   "source": [
    "# Virtual Pruning"
   ]
  },
  {
   "cell_type": "markdown",
   "metadata": {},
   "source": [
    "## Importing the digitized structure"
   ]
  },
  {
   "cell_type": "code",
   "execution_count": 31,
   "metadata": {
    "ExecuteTime": {
     "end_time": "2022-09-15T08:52:58.309365Z",
     "start_time": "2022-09-15T08:52:57.789134Z"
    }
   },
   "outputs": [],
   "source": [
    "from openalea.mtg import *\n",
    "import numpy as np\n",
    "from importlib import reload\n",
    "import mangoG3; reload(mangoG3)\n",
    "from mangoG3 import *\n",
    "\n",
    "g = get_G3_mtg()\n",
    "#g = extend_mtg_with_organs(g)"
   ]
  },
  {
   "cell_type": "code",
   "execution_count": 32,
   "metadata": {
    "ExecuteTime": {
     "end_time": "2022-09-15T08:53:00.098227Z",
     "start_time": "2022-09-15T08:52:59.175014Z"
    }
   },
   "outputs": [],
   "source": [
    "from matplotlib.pyplot import *\n",
    "import mtgplot as mp"
   ]
  },
  {
   "cell_type": "code",
   "execution_count": null,
   "metadata": {
    "ExecuteTime": {
     "end_time": "2022-09-14T14:30:24.385376Z",
     "start_time": "2022-09-14T14:30:20.468899Z"
    }
   },
   "outputs": [],
   "source": [
    "sw = mp.plot_tree(g, leaves=True)\n",
    "sw"
   ]
  },
  {
   "cell_type": "code",
   "execution_count": 33,
   "metadata": {
    "ExecuteTime": {
     "end_time": "2022-09-15T08:53:01.865781Z",
     "start_time": "2022-09-15T08:53:01.846458Z"
    }
   },
   "outputs": [],
   "source": [
    "import exportinfo; reload(exportinfo)\n",
    "from exportinfo import *"
   ]
  },
  {
   "cell_type": "code",
   "execution_count": 34,
   "metadata": {
    "ExecuteTime": {
     "end_time": "2022-09-15T08:53:14.103957Z",
     "start_time": "2022-09-15T08:53:03.110519Z"
    }
   },
   "outputs": [
    {
     "data": {
      "text/plain": [
       "<openalea.mtg.mtg.MTG at 0x116b7d550>"
      ]
     },
     "execution_count": 34,
     "metadata": {},
     "output_type": "execute_result"
    }
   ],
   "source": [
    "extend_mtg_with_characteristic(g)"
   ]
  },
  {
   "cell_type": "code",
   "execution_count": 162,
   "metadata": {
    "ExecuteTime": {
     "end_time": "2022-09-15T10:53:20.066777Z",
     "start_time": "2022-09-15T10:53:20.059588Z"
    }
   },
   "outputs": [],
   "source": [
    "import lightestimation; reload(lightestimation)\n",
    "from lightestimation import *"
   ]
  },
  {
   "cell_type": "code",
   "execution_count": 163,
   "metadata": {
    "ExecuteTime": {
     "end_time": "2022-09-15T10:53:50.600797Z",
     "start_time": "2022-09-15T10:53:21.064866Z"
    }
   },
   "outputs": [],
   "source": [
    "TrPPFD, Zeta = daily_light_variables(g)\n"
   ]
  },
  {
   "cell_type": "code",
   "execution_count": 169,
   "metadata": {
    "ExecuteTime": {
     "end_time": "2022-09-15T10:56:24.197719Z",
     "start_time": "2022-09-15T10:56:23.811352Z"
    }
   },
   "outputs": [],
   "source": [
    "extend_mtg_with_light(g,TrPPFD, Zeta)"
   ]
  },
  {
   "cell_type": "code",
   "execution_count": 170,
   "metadata": {
    "ExecuteTime": {
     "end_time": "2022-09-15T10:56:25.288219Z",
     "start_time": "2022-09-15T10:56:24.995821Z"
    }
   },
   "outputs": [],
   "source": [
    "pd = export_as_dataframe(g)"
   ]
  },
  {
   "cell_type": "code",
   "execution_count": 171,
   "metadata": {
    "ExecuteTime": {
     "end_time": "2022-09-15T10:56:31.192752Z",
     "start_time": "2022-09-15T10:56:31.162700Z"
    }
   },
   "outputs": [
    {
     "data": {
      "text/html": [
       "<div>\n",
       "<style scoped>\n",
       "    .dataframe tbody tr th:only-of-type {\n",
       "        vertical-align: middle;\n",
       "    }\n",
       "\n",
       "    .dataframe tbody tr th {\n",
       "        vertical-align: top;\n",
       "    }\n",
       "\n",
       "    .dataframe thead th {\n",
       "        text-align: right;\n",
       "    }\n",
       "</style>\n",
       "<table border=\"1\" class=\"dataframe\">\n",
       "  <thead>\n",
       "    <tr style=\"text-align: right;\">\n",
       "      <th></th>\n",
       "      <th>label</th>\n",
       "      <th>index</th>\n",
       "      <th>Diameter</th>\n",
       "      <th>NbLeaf</th>\n",
       "      <th>UCMortes</th>\n",
       "      <th>UnitType</th>\n",
       "      <th>Taille</th>\n",
       "      <th>Id</th>\n",
       "      <th>Remarques</th>\n",
       "      <th>TopoLeafDepth</th>\n",
       "      <th>...</th>\n",
       "      <th>parent</th>\n",
       "      <th>TopPosX</th>\n",
       "      <th>TopPosY</th>\n",
       "      <th>TopPosZ</th>\n",
       "      <th>MidPosX</th>\n",
       "      <th>MidPosY</th>\n",
       "      <th>MidPosZ</th>\n",
       "      <th>BotPosX</th>\n",
       "      <th>BotPosY</th>\n",
       "      <th>BotPosZ</th>\n",
       "    </tr>\n",
       "  </thead>\n",
       "  <tbody>\n",
       "    <tr>\n",
       "      <th>4</th>\n",
       "      <td>S2</td>\n",
       "      <td>2</td>\n",
       "      <td>26.30</td>\n",
       "      <td>0.0</td>\n",
       "      <td>NaN</td>\n",
       "      <td>B</td>\n",
       "      <td>NaN</td>\n",
       "      <td>NaN</td>\n",
       "      <td>NaN</td>\n",
       "      <td>6</td>\n",
       "      <td>...</td>\n",
       "      <td>NaN</td>\n",
       "      <td>27.740</td>\n",
       "      <td>21.66</td>\n",
       "      <td>30.800</td>\n",
       "      <td>29.0450</td>\n",
       "      <td>23.6300</td>\n",
       "      <td>14.42000</td>\n",
       "      <td>30.350</td>\n",
       "      <td>25.600</td>\n",
       "      <td>-1.9600</td>\n",
       "    </tr>\n",
       "    <tr>\n",
       "      <th>5</th>\n",
       "      <td>S3</td>\n",
       "      <td>3</td>\n",
       "      <td>26.30</td>\n",
       "      <td>NaN</td>\n",
       "      <td>NaN</td>\n",
       "      <td>B</td>\n",
       "      <td>NaN</td>\n",
       "      <td>NaN</td>\n",
       "      <td>NaN</td>\n",
       "      <td>5</td>\n",
       "      <td>...</td>\n",
       "      <td>4.0</td>\n",
       "      <td>28.750</td>\n",
       "      <td>24.45</td>\n",
       "      <td>46.630</td>\n",
       "      <td>28.2450</td>\n",
       "      <td>23.0550</td>\n",
       "      <td>38.71500</td>\n",
       "      <td>27.740</td>\n",
       "      <td>21.660</td>\n",
       "      <td>30.8000</td>\n",
       "    </tr>\n",
       "    <tr>\n",
       "      <th>8</th>\n",
       "      <td>S2</td>\n",
       "      <td>2</td>\n",
       "      <td>10.50</td>\n",
       "      <td>NaN</td>\n",
       "      <td>NaN</td>\n",
       "      <td>B</td>\n",
       "      <td>NaN</td>\n",
       "      <td>NaN</td>\n",
       "      <td>NaN</td>\n",
       "      <td>7</td>\n",
       "      <td>...</td>\n",
       "      <td>5.0</td>\n",
       "      <td>55.570</td>\n",
       "      <td>14.17</td>\n",
       "      <td>65.770</td>\n",
       "      <td>45.1250</td>\n",
       "      <td>19.4400</td>\n",
       "      <td>56.27500</td>\n",
       "      <td>34.680</td>\n",
       "      <td>24.710</td>\n",
       "      <td>46.7800</td>\n",
       "    </tr>\n",
       "    <tr>\n",
       "      <th>9</th>\n",
       "      <td>S3</td>\n",
       "      <td>3</td>\n",
       "      <td>9.55</td>\n",
       "      <td>NaN</td>\n",
       "      <td>NaN</td>\n",
       "      <td>B</td>\n",
       "      <td>NaN</td>\n",
       "      <td>NaN</td>\n",
       "      <td>NaN</td>\n",
       "      <td>6</td>\n",
       "      <td>...</td>\n",
       "      <td>8.0</td>\n",
       "      <td>73.530</td>\n",
       "      <td>-12.28</td>\n",
       "      <td>83.870</td>\n",
       "      <td>64.5500</td>\n",
       "      <td>0.9450</td>\n",
       "      <td>74.82000</td>\n",
       "      <td>55.570</td>\n",
       "      <td>14.170</td>\n",
       "      <td>65.7700</td>\n",
       "    </tr>\n",
       "    <tr>\n",
       "      <th>10</th>\n",
       "      <td>S4</td>\n",
       "      <td>4</td>\n",
       "      <td>9.55</td>\n",
       "      <td>NaN</td>\n",
       "      <td>NaN</td>\n",
       "      <td>B</td>\n",
       "      <td>NaN</td>\n",
       "      <td>NaN</td>\n",
       "      <td>NaN</td>\n",
       "      <td>5</td>\n",
       "      <td>...</td>\n",
       "      <td>9.0</td>\n",
       "      <td>103.510</td>\n",
       "      <td>-44.16</td>\n",
       "      <td>114.060</td>\n",
       "      <td>88.5200</td>\n",
       "      <td>-28.2200</td>\n",
       "      <td>98.96500</td>\n",
       "      <td>73.530</td>\n",
       "      <td>-12.280</td>\n",
       "      <td>83.8700</td>\n",
       "    </tr>\n",
       "    <tr>\n",
       "      <th>...</th>\n",
       "      <td>...</td>\n",
       "      <td>...</td>\n",
       "      <td>...</td>\n",
       "      <td>...</td>\n",
       "      <td>...</td>\n",
       "      <td>...</td>\n",
       "      <td>...</td>\n",
       "      <td>...</td>\n",
       "      <td>...</td>\n",
       "      <td>...</td>\n",
       "      <td>...</td>\n",
       "      <td>...</td>\n",
       "      <td>...</td>\n",
       "      <td>...</td>\n",
       "      <td>...</td>\n",
       "      <td>...</td>\n",
       "      <td>...</td>\n",
       "      <td>...</td>\n",
       "      <td>...</td>\n",
       "      <td>...</td>\n",
       "      <td>...</td>\n",
       "    </tr>\n",
       "    <tr>\n",
       "      <th>16731</th>\n",
       "      <td>S8</td>\n",
       "      <td>8</td>\n",
       "      <td>0.75</td>\n",
       "      <td>15.0</td>\n",
       "      <td>NaN</td>\n",
       "      <td>U</td>\n",
       "      <td>NaN</td>\n",
       "      <td>NaN</td>\n",
       "      <td>NaN</td>\n",
       "      <td>1</td>\n",
       "      <td>...</td>\n",
       "      <td>16718.0</td>\n",
       "      <td>159.490</td>\n",
       "      <td>-106.13</td>\n",
       "      <td>278.570</td>\n",
       "      <td>152.3575</td>\n",
       "      <td>-102.6025</td>\n",
       "      <td>275.21125</td>\n",
       "      <td>145.225</td>\n",
       "      <td>-99.075</td>\n",
       "      <td>271.8525</td>\n",
       "    </tr>\n",
       "    <tr>\n",
       "      <th>16734</th>\n",
       "      <td>S2</td>\n",
       "      <td>2</td>\n",
       "      <td>0.25</td>\n",
       "      <td>0.0</td>\n",
       "      <td>NaN</td>\n",
       "      <td>U</td>\n",
       "      <td>NaN</td>\n",
       "      <td>NaN</td>\n",
       "      <td>NaN</td>\n",
       "      <td>0</td>\n",
       "      <td>...</td>\n",
       "      <td>16731.0</td>\n",
       "      <td>157.020</td>\n",
       "      <td>-97.83</td>\n",
       "      <td>283.650</td>\n",
       "      <td>156.5200</td>\n",
       "      <td>-97.7600</td>\n",
       "      <td>282.57500</td>\n",
       "      <td>156.020</td>\n",
       "      <td>-97.690</td>\n",
       "      <td>281.5000</td>\n",
       "    </tr>\n",
       "    <tr>\n",
       "      <th>16735</th>\n",
       "      <td>S9</td>\n",
       "      <td>9</td>\n",
       "      <td>0.75</td>\n",
       "      <td>NaN</td>\n",
       "      <td>NaN</td>\n",
       "      <td>U</td>\n",
       "      <td>NaN</td>\n",
       "      <td>NaN</td>\n",
       "      <td>NaN</td>\n",
       "      <td>1</td>\n",
       "      <td>...</td>\n",
       "      <td>16731.0</td>\n",
       "      <td>156.745</td>\n",
       "      <td>-99.04</td>\n",
       "      <td>282.225</td>\n",
       "      <td>158.1175</td>\n",
       "      <td>-102.5850</td>\n",
       "      <td>280.39750</td>\n",
       "      <td>159.490</td>\n",
       "      <td>-106.130</td>\n",
       "      <td>278.5700</td>\n",
       "    </tr>\n",
       "    <tr>\n",
       "      <th>16738</th>\n",
       "      <td>S2</td>\n",
       "      <td>2</td>\n",
       "      <td>0.20</td>\n",
       "      <td>0.0</td>\n",
       "      <td>NaN</td>\n",
       "      <td>U</td>\n",
       "      <td>NaN</td>\n",
       "      <td>NaN</td>\n",
       "      <td>NaN</td>\n",
       "      <td>0</td>\n",
       "      <td>...</td>\n",
       "      <td>16735.0</td>\n",
       "      <td>156.200</td>\n",
       "      <td>-100.04</td>\n",
       "      <td>283.270</td>\n",
       "      <td>155.8050</td>\n",
       "      <td>-98.8700</td>\n",
       "      <td>282.03000</td>\n",
       "      <td>155.410</td>\n",
       "      <td>-97.700</td>\n",
       "      <td>280.7900</td>\n",
       "    </tr>\n",
       "    <tr>\n",
       "      <th>16741</th>\n",
       "      <td>S2</td>\n",
       "      <td>2</td>\n",
       "      <td>0.22</td>\n",
       "      <td>0.0</td>\n",
       "      <td>NaN</td>\n",
       "      <td>U</td>\n",
       "      <td>NaN</td>\n",
       "      <td>NaN</td>\n",
       "      <td>NaN</td>\n",
       "      <td>0</td>\n",
       "      <td>...</td>\n",
       "      <td>16735.0</td>\n",
       "      <td>158.120</td>\n",
       "      <td>-99.78</td>\n",
       "      <td>284.060</td>\n",
       "      <td>157.8100</td>\n",
       "      <td>-99.6850</td>\n",
       "      <td>282.96500</td>\n",
       "      <td>157.500</td>\n",
       "      <td>-99.590</td>\n",
       "      <td>281.8700</td>\n",
       "    </tr>\n",
       "  </tbody>\n",
       "</table>\n",
       "<p>7727 rows × 53 columns</p>\n",
       "</div>"
      ],
      "text/plain": [
       "      label  index  Diameter  NbLeaf  UCMortes UnitType Taille   Id Remarques  \\\n",
       "4        S2      2     26.30     0.0       NaN        B    NaN  NaN       NaN   \n",
       "5        S3      3     26.30     NaN       NaN        B    NaN  NaN       NaN   \n",
       "8        S2      2     10.50     NaN       NaN        B    NaN  NaN       NaN   \n",
       "9        S3      3      9.55     NaN       NaN        B    NaN  NaN       NaN   \n",
       "10       S4      4      9.55     NaN       NaN        B    NaN  NaN       NaN   \n",
       "...     ...    ...       ...     ...       ...      ...    ...  ...       ...   \n",
       "16731    S8      8      0.75    15.0       NaN        U    NaN  NaN       NaN   \n",
       "16734    S2      2      0.25     0.0       NaN        U    NaN  NaN       NaN   \n",
       "16735    S9      9      0.75     NaN       NaN        U    NaN  NaN       NaN   \n",
       "16738    S2      2      0.20     0.0       NaN        U    NaN  NaN       NaN   \n",
       "16741    S2      2      0.22     0.0       NaN        U    NaN  NaN       NaN   \n",
       "\n",
       "       TopoLeafDepth  ...   parent  TopPosX  TopPosY  TopPosZ   MidPosX  \\\n",
       "4                  6  ...      NaN   27.740    21.66   30.800   29.0450   \n",
       "5                  5  ...      4.0   28.750    24.45   46.630   28.2450   \n",
       "8                  7  ...      5.0   55.570    14.17   65.770   45.1250   \n",
       "9                  6  ...      8.0   73.530   -12.28   83.870   64.5500   \n",
       "10                 5  ...      9.0  103.510   -44.16  114.060   88.5200   \n",
       "...              ...  ...      ...      ...      ...      ...       ...   \n",
       "16731              1  ...  16718.0  159.490  -106.13  278.570  152.3575   \n",
       "16734              0  ...  16731.0  157.020   -97.83  283.650  156.5200   \n",
       "16735              1  ...  16731.0  156.745   -99.04  282.225  158.1175   \n",
       "16738              0  ...  16735.0  156.200  -100.04  283.270  155.8050   \n",
       "16741              0  ...  16735.0  158.120   -99.78  284.060  157.8100   \n",
       "\n",
       "        MidPosY    MidPosZ  BotPosX  BotPosY   BotPosZ  \n",
       "4       23.6300   14.42000   30.350   25.600   -1.9600  \n",
       "5       23.0550   38.71500   27.740   21.660   30.8000  \n",
       "8       19.4400   56.27500   34.680   24.710   46.7800  \n",
       "9        0.9450   74.82000   55.570   14.170   65.7700  \n",
       "10     -28.2200   98.96500   73.530  -12.280   83.8700  \n",
       "...         ...        ...      ...      ...       ...  \n",
       "16731 -102.6025  275.21125  145.225  -99.075  271.8525  \n",
       "16734  -97.7600  282.57500  156.020  -97.690  281.5000  \n",
       "16735 -102.5850  280.39750  159.490 -106.130  278.5700  \n",
       "16738  -98.8700  282.03000  155.410  -97.700  280.7900  \n",
       "16741  -99.6850  282.96500  157.500  -99.590  281.8700  \n",
       "\n",
       "[7727 rows x 53 columns]"
      ]
     },
     "execution_count": 171,
     "metadata": {},
     "output_type": "execute_result"
    }
   ],
   "source": [
    "pd"
   ]
  },
  {
   "cell_type": "code",
   "execution_count": 172,
   "metadata": {
    "ExecuteTime": {
     "end_time": "2022-09-15T10:56:37.913078Z",
     "start_time": "2022-09-15T10:56:37.671356Z"
    }
   },
   "outputs": [],
   "source": [
    "pd.to_csv('initialG3.csv')"
   ]
  },
  {
   "cell_type": "code",
   "execution_count": 166,
   "metadata": {
    "ExecuteTime": {
     "end_time": "2022-09-15T10:54:37.843515Z",
     "start_time": "2022-09-15T10:54:37.717130Z"
    }
   },
   "outputs": [
    {
     "data": {
      "text/plain": [
       "<AxesSubplot:>"
      ]
     },
     "execution_count": 166,
     "metadata": {},
     "output_type": "execute_result"
    },
    {
     "data": {
      "image/png": "[encoded data removed]",
      "text/plain": [
       "<Figure size 432x288 with 1 Axes>"
      ]
     },
     "metadata": {
      "needs_background": "light"
     },
     "output_type": "display_data"
    }
   ],
   "source": [
    "TrPPFD.min(axis=1).hist()"
   ]
  },
  {
   "cell_type": "code",
   "execution_count": 167,
   "metadata": {
    "ExecuteTime": {
     "end_time": "2022-09-15T10:55:48.796942Z",
     "start_time": "2022-09-15T10:55:48.681400Z"
    }
   },
   "outputs": [
    {
     "data": {
      "text/plain": [
       "<AxesSubplot:>"
      ]
     },
     "execution_count": 167,
     "metadata": {},
     "output_type": "execute_result"
    },
    {
     "data": {
      "image/png": "[encoded data removed]",
      "text/plain": [
       "<Figure size 432x288 with 1 Axes>"
      ]
     },
     "metadata": {
      "needs_background": "light"
     },
     "output_type": "display_data"
    }
   ],
   "source": [
    "TrPPFD.max(axis=1).hist()"
   ]
  },
  {
   "cell_type": "code",
   "execution_count": 168,
   "metadata": {
    "ExecuteTime": {
     "end_time": "2022-09-15T10:55:57.097007Z",
     "start_time": "2022-09-15T10:55:56.977537Z"
    }
   },
   "outputs": [
    {
     "data": {
      "text/plain": [
       "<AxesSubplot:>"
      ]
     },
     "execution_count": 168,
     "metadata": {},
     "output_type": "execute_result"
    },
    {
     "data": {
      "image/png": "[encoded data removed]",
      "text/plain": [
       "<Figure size 432x288 with 1 Axes>"
      ]
     },
     "metadata": {
      "needs_background": "light"
     },
     "output_type": "display_data"
    }
   ],
   "source": [
    "TrPPFD.mean(axis=1).hist()"
   ]
  }
 ],
 "metadata": {
  "kernelspec": {
   "display_name": "Python 3 (ipykernel)",
   "language": "python",
   "name": "python3"
  },
  "language_info": {
   "codemirror_mode": {
    "name": "ipython",
    "version": 3
   },
   "file_extension": ".py",
   "mimetype": "text/x-python",
   "name": "python",
   "nbconvert_exporter": "python",
   "pygments_lexer": "ipython3",
   "version": "3.9.12"
  }
 },
 "nbformat": 4,
 "nbformat_minor": 2
}
